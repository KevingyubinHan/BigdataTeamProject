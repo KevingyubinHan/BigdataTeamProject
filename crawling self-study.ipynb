{
 "cells": [
  {
   "cell_type": "code",
   "execution_count": 1,
   "metadata": {},
   "outputs": [],
   "source": [
    "#준비\n",
    "import urllib.request\n",
    "from bs4 import BeautifulSoup"
   ]
  },
  {
   "cell_type": "code",
   "execution_count": 2,
   "metadata": {},
   "outputs": [],
   "source": [
    "url=\"https://movie.naver.com/movie/running/current.nhn#\"\n",
    "html=urllib.request.urlopen(url)\n",
    "bs_obj=BeautifulSoup(html.read(), 'html.parser')"
   ]
  },
  {
   "cell_type": "code",
   "execution_count": 4,
   "metadata": {},
   "outputs": [],
   "source": [
    "ul=bs_obj.find(\"ul\",{\"class\":\"lst_detail_t1\"})\n",
    "li=ul.findAll(\"li\")"
   ]
  },
  {
   "cell_type": "code",
   "execution_count": 6,
   "metadata": {},
   "outputs": [
    {
     "name": "stdout",
     "output_type": "stream",
     "text": [
      "제목: 기생충 장르: 드라마 관람가: 15세 관람가\n",
      "제목: 알라딘 장르: 모험 관람가: 전체 관람가\n",
      "제목: 맨 인 블랙: 인터내셔널 장르: 액션 관람가: 12세 관람가\n",
      "제목: 엑스맨: 다크 피닉스 장르: 액션 관람가: 12세 관람가\n",
      "제목: 이웃집 토토로 장르: 애니메이션 관람가: 전체 관람가\n",
      "제목: 천로역정: 천국을 찾아서 장르: 애니메이션 관람가: 전체 관람가\n",
      "제목: 어벤져스: 엔드게임 장르: 액션 관람가: 12세 관람가\n",
      "제목: 업사이드 장르: 코미디 관람가: 12세 관람가\n",
      "제목: 로켓맨 장르: 드라마 관람가: 15세 관람가\n",
      "제목: 0.0MHz 장르: 공포 관람가: 15세 관람가\n",
      "제목: 교회오빠 장르: 다큐멘터리 관람가: 전체 관람가\n",
      "제목: 악인전 장르: 범죄 관람가: 청소년 관람불가\n",
      "제목: 세상을 바꾼 변호인 장르: 드라마 관람가: 12세 관람가\n",
      "제목: 극장판 오소마츠 6쌍둥이 장르: 애니메이션 관람가: 15세 관람가\n",
      "제목: 파리의 딜릴리 장르: 애니메이션 관람가: 전체 관람가\n",
      "제목: 고질라: 킹 오브 몬스터 장르: 액션 관람가: 12세 관람가\n",
      "제목: 닥치고 피아노! 장르: 다큐멘터리 관람가: 15세 관람가\n",
      "제목: 엘리펀트킹 덤보 장르: 애니메이션 관람가: 전체 관람가\n",
      "제목: 국경의 왕 장르: 드라마 관람가: 15세 관람가\n",
      "제목: 빅샤크2: 해저2만리 장르: 애니메이션 관람가: 전체 관람가\n",
      "제목: 글로리아 벨 장르: 드라마 관람가: 15세 관람가\n",
      "제목: 노리개: 그녀의 눈물 장르: 드라마 관람가: 15세 관람가\n",
      "제목: 그녀 장르: 드라마 관람가: 15세 관람가\n",
      "제목: 김군 장르: 다큐멘터리 관람가: 12세 관람가\n",
      "제목: 하나레이 베이 장르: 드라마 관람가: 15세 관람가\n",
      "제목: 아녜스가 말하는 바르다 장르: 다큐멘터리 관람가: 12세 관람가\n",
      "제목: 체 게바라: 1부 아르헨티나 장르: 드라마 관람가: 15세 관람가\n",
      "제목: 킹 오브 프리즘 -샤이니 세븐 스타즈- Ⅳ 루이x신x언노운 장르: 애니메이션 관람가: 15세 관람가\n",
      "제목: 서스페리아 장르: 공포 관람가: 청소년 관람불가\n",
      "제목: 안도 타다오 장르: 다큐멘터리 관람가: 전체 관람가\n",
      "제목: 평일 오후 3시의 연인 장르: 드라마 관람가: 15세 관람가\n",
      "제목: 체 게바라: 2부 게릴라 장르: 드라마 관람가: 15세 관람가\n",
      "제목: 보희와 녹양 장르: 드라마 관람가: 12세 관람가\n",
      "제목: 폴라로이드 장르: 공포 관람가: 15세 관람가\n",
      "제목: 뽀로로 극장판 보물섬 대모험 장르: 애니메이션 관람가: 전체 관람가\n",
      "제목: 로제타 장르: 드라마 관람가: 15세 관람가\n",
      "제목: 배심원들 장르: 드라마 관람가: 12세 관람가\n",
      "제목: 고양이 여행 리포트 장르: 드라마 관람가: 전체 관람가\n",
      "제목: 논-픽션 장르: 드라마 관람가: 15세 관람가\n",
      "제목: 걸캅스 장르: 코미디 관람가: 15세 관람가\n",
      "제목: 사랑은 비를 타고 장르: 뮤지컬 관람가: 전체 관람가\n",
      "제목: 아무르 장르: 드라마 관람가: 15세 관람가\n",
      "제목: 바르다가 사랑한 얼굴들 장르: 다큐멘터리 관람가: 전체 관람가\n",
      "제목: 호텔 뭄바이 장르: 범죄 관람가: 15세 관람가\n",
      "제목: 라라랜드 장르: 드라마 관람가: 12세 관람가\n",
      "제목: 우리 지금 만나 장르: 드라마 관람가: 12세 관람가\n",
      "제목: 아픈 만큼 사랑한다 장르: 다큐멘터리 관람가: 전체 관람가\n",
      "제목: 옹알스 장르: 코미디 관람가: 전체 관람가\n",
      "제목: 미스 스티븐스 장르: 드라마 관람가: 12세 관람가\n",
      "제목: 서스페리아 1977 장르: 공포 관람가: 청소년 관람불가\n",
      "제목: 뿔을 가진 소년 장르: 드라마 관람가: 15세 관람가\n",
      "제목: 콜 미 바이 유어 네임 장르: 드라마 관람가: 청소년 관람불가\n",
      "제목: 시민 노무현 장르: 다큐멘터리 관람가: 12세 관람가\n",
      "제목: 오두막 장르: 드라마 관람가: 12세 관람가\n",
      "제목: 나의 특별한 형제 장르: 드라마 관람가: 12세 관람가\n",
      "제목: 블랙 47 장르: 드라마 관람가: 15세 관람가\n",
      "제목: 굿바이 마이 러브NK: 붉은 청춘 장르: 다큐멘터리 관람가: 12세 관람가\n",
      "제목: 돈키호테를 죽인 사나이 장르: 모험 관람가: 12세 관람가\n"
     ]
    },
    {
     "ename": "AttributeError",
     "evalue": "'NoneType' object has no attribute 'text'",
     "output_type": "error",
     "traceback": [
      "\u001b[1;31m---------------------------------------------------------------------------\u001b[0m",
      "\u001b[1;31mAttributeError\u001b[0m                            Traceback (most recent call last)",
      "\u001b[1;32m<ipython-input-6-1b19db07b3af>\u001b[0m in \u001b[0;36m<module>\u001b[1;34m\u001b[0m\n\u001b[0;32m      2\u001b[0m     \u001b[0mtitle\u001b[0m\u001b[1;33m=\u001b[0m\u001b[0mlis\u001b[0m\u001b[1;33m.\u001b[0m\u001b[0mselect_one\u001b[0m\u001b[1;33m(\u001b[0m\u001b[1;34m\"dt.tit > a\"\u001b[0m\u001b[1;33m)\u001b[0m\u001b[1;33m.\u001b[0m\u001b[0mtext\u001b[0m\u001b[1;33m\u001b[0m\u001b[1;33m\u001b[0m\u001b[0m\n\u001b[0;32m      3\u001b[0m     \u001b[0mjenre\u001b[0m\u001b[1;33m=\u001b[0m\u001b[0mlis\u001b[0m\u001b[1;33m.\u001b[0m\u001b[0mselect_one\u001b[0m\u001b[1;33m(\u001b[0m\u001b[1;34m\"span.link_txt > a\"\u001b[0m\u001b[1;33m)\u001b[0m\u001b[1;33m.\u001b[0m\u001b[0mtext\u001b[0m\u001b[1;33m\u001b[0m\u001b[1;33m\u001b[0m\u001b[0m\n\u001b[1;32m----> 4\u001b[1;33m     \u001b[0mrating\u001b[0m\u001b[1;33m=\u001b[0m\u001b[0mlis\u001b[0m\u001b[1;33m.\u001b[0m\u001b[0mselect_one\u001b[0m\u001b[1;33m(\u001b[0m\u001b[1;34m\"dt.tit > span\"\u001b[0m\u001b[1;33m)\u001b[0m\u001b[1;33m.\u001b[0m\u001b[0mtext\u001b[0m\u001b[1;33m\u001b[0m\u001b[1;33m\u001b[0m\u001b[0m\n\u001b[0m\u001b[0;32m      5\u001b[0m     \u001b[0mprint\u001b[0m\u001b[1;33m(\u001b[0m\u001b[1;34m\"제목:\"\u001b[0m\u001b[1;33m,\u001b[0m\u001b[0mtitle\u001b[0m\u001b[1;33m,\u001b[0m\u001b[1;34m\"장르:\"\u001b[0m\u001b[1;33m,\u001b[0m\u001b[0mjenre\u001b[0m\u001b[1;33m,\u001b[0m\u001b[1;34m\"관람가:\"\u001b[0m\u001b[1;33m,\u001b[0m\u001b[0mrating\u001b[0m\u001b[1;33m)\u001b[0m\u001b[1;33m\u001b[0m\u001b[1;33m\u001b[0m\u001b[0m\n",
      "\u001b[1;31mAttributeError\u001b[0m: 'NoneType' object has no attribute 'text'"
     ]
    }
   ],
   "source": [
    "for lis in li:\n",
    "    title=lis.select_one(\"dt.tit > a\").text\n",
    "    jenre=lis.select_one(\"span.link_txt > a\").text\n",
    "    rating=lis.select_one(\"dt.tit > span\").text\n",
    "    print(\"제목:\",title,\"장르:\",jenre,\"관람가:\",rating)"
   ]
  },
  {
   "cell_type": "code",
   "execution_count": 11,
   "metadata": {},
   "outputs": [],
   "source": [
    "#함수\n",
    "def crawling(url):\n",
    "    html=urllib.request.urlopen(url)\n",
    "    soup=BeautifulSoup(html,'lxml',from_encoding='utf-8')\n",
    "    for lis in li:\n",
    "        title=lis.select_one(\"dt.tit > a\").text\n",
    "        return title"
   ]
  },
  {
   "cell_type": "code",
   "execution_count": 12,
   "metadata": {},
   "outputs": [],
   "source": [
    "#내보내기\n",
    "movie_chart='movie_chart.txt'\n",
    "\n",
    "def main():\n",
    "    open_file=open(movie_chart,'w')\n",
    "    text=crawling(url)\n",
    "    open_file.write(text)\n",
    "    open_file.close\n",
    "if __name__=='__main__':\n",
    "    main()"
   ]
  },
  {
   "cell_type": "code",
   "execution_count": null,
   "metadata": {},
   "outputs": [],
   "source": []
  },
  {
   "cell_type": "code",
   "execution_count": null,
   "metadata": {},
   "outputs": [],
   "source": []
  },
  {
   "cell_type": "code",
   "execution_count": null,
   "metadata": {},
   "outputs": [],
   "source": []
  },
  {
   "cell_type": "code",
   "execution_count": null,
   "metadata": {},
   "outputs": [],
   "source": []
  }
 ],
 "metadata": {
  "kernelspec": {
   "display_name": "Python 3",
   "language": "python",
   "name": "python3"
  },
  "language_info": {
   "codemirror_mode": {
    "name": "ipython",
    "version": 3
   },
   "file_extension": ".py",
   "mimetype": "text/x-python",
   "name": "python",
   "nbconvert_exporter": "python",
   "pygments_lexer": "ipython3",
   "version": "3.7.1"
  }
 },
 "nbformat": 4,
 "nbformat_minor": 2
}
