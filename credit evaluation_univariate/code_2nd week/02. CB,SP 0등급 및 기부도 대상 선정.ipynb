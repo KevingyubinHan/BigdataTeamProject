{
 "cells": [
  {
   "cell_type": "code",
   "execution_count": 2,
   "metadata": {},
   "outputs": [],
   "source": [
    "import pandas as pd\n",
    "import numpy as np\n",
    "import os\n",
    "import warnings\n",
    "warnings.filterwarnings('ignore')\n",
    "from datetime import datetime"
   ]
  },
  {
   "cell_type": "markdown",
   "metadata": {},
   "source": [
    "# <font color='orange'>01. load data"
   ]
  },
  {
   "cell_type": "code",
   "execution_count": 3,
   "metadata": {},
   "outputs": [],
   "source": [
    "rootpath = r'C:\\Users\\w10\\Desktop\\신용평가모형 세미나\\2주차\\데이터\\temp'"
   ]
  },
  {
   "cell_type": "code",
   "execution_count": 4,
   "metadata": {},
   "outputs": [
    {
     "data": {
      "text/plain": [
       "['temp1_inner_total_df.csv', 'temp2_inner_total_df.csv', 'total_df.pkl']"
      ]
     },
     "execution_count": 4,
     "metadata": {},
     "output_type": "execute_result"
    }
   ],
   "source": [
    "os.listdir(rootpath)"
   ]
  },
  {
   "cell_type": "code",
   "execution_count": 5,
   "metadata": {},
   "outputs": [],
   "source": [
    "total_df = pd.read_pickle(os.path.join(rootpath, 'total_df.pkl'), )"
   ]
  },
  {
   "cell_type": "code",
   "execution_count": 6,
   "metadata": {},
   "outputs": [],
   "source": [
    "inner_total_df = pd.read_csv(os.path.join(rootpath, 'temp1_inner_total_df.csv'))"
   ]
  },
  {
   "cell_type": "code",
   "execution_count": 7,
   "metadata": {},
   "outputs": [
    {
     "data": {
      "text/html": [
       "<div>\n",
       "<style scoped>\n",
       "    .dataframe tbody tr th:only-of-type {\n",
       "        vertical-align: middle;\n",
       "    }\n",
       "\n",
       "    .dataframe tbody tr th {\n",
       "        vertical-align: top;\n",
       "    }\n",
       "\n",
       "    .dataframe thead th {\n",
       "        text-align: right;\n",
       "    }\n",
       "</style>\n",
       "<table border=\"1\" class=\"dataframe\">\n",
       "  <thead>\n",
       "    <tr style=\"text-align: right;\">\n",
       "      <th></th>\n",
       "      <th>no</th>\n",
       "      <th>신청월</th>\n",
       "      <th>직군그룹</th>\n",
       "      <th>근속기간1</th>\n",
       "      <th>웰컴_소득구간</th>\n",
       "      <th>심사원장_소득구간</th>\n",
       "      <th>EXECUTE_FG</th>\n",
       "      <th>DESTRUCT_FG</th>\n",
       "      <th>Y_2017_FG</th>\n",
       "      <th>Y_2018_FG</th>\n",
       "      <th>Y_2019_FG</th>\n",
       "      <th>DUP_FG_1</th>\n",
       "      <th>DUP_FG_2</th>\n",
       "      <th>FINAL_DUP_FG</th>\n",
       "    </tr>\n",
       "  </thead>\n",
       "  <tbody>\n",
       "    <tr>\n",
       "      <th>0</th>\n",
       "      <td>1</td>\n",
       "      <td>201612</td>\n",
       "      <td>NaN</td>\n",
       "      <td>5.0</td>\n",
       "      <td>5.0</td>\n",
       "      <td>0.0</td>\n",
       "      <td>0</td>\n",
       "      <td>1</td>\n",
       "      <td>1</td>\n",
       "      <td>0</td>\n",
       "      <td>0</td>\n",
       "      <td>0</td>\n",
       "      <td>0</td>\n",
       "      <td>0</td>\n",
       "    </tr>\n",
       "    <tr>\n",
       "      <th>1</th>\n",
       "      <td>2</td>\n",
       "      <td>201612</td>\n",
       "      <td>D</td>\n",
       "      <td>5.0</td>\n",
       "      <td>2.0</td>\n",
       "      <td>0.0</td>\n",
       "      <td>0</td>\n",
       "      <td>1</td>\n",
       "      <td>1</td>\n",
       "      <td>0</td>\n",
       "      <td>0</td>\n",
       "      <td>0</td>\n",
       "      <td>0</td>\n",
       "      <td>0</td>\n",
       "    </tr>\n",
       "  </tbody>\n",
       "</table>\n",
       "</div>"
      ],
      "text/plain": [
       "   no     신청월 직군그룹  근속기간1  웰컴_소득구간  심사원장_소득구간  EXECUTE_FG  DESTRUCT_FG  \\\n",
       "0   1  201612  NaN    5.0      5.0        0.0           0            1   \n",
       "1   2  201612    D    5.0      2.0        0.0           0            1   \n",
       "\n",
       "   Y_2017_FG  Y_2018_FG  Y_2019_FG  DUP_FG_1  DUP_FG_2  FINAL_DUP_FG  \n",
       "0          1          0          0         0         0             0  \n",
       "1          1          0          0         0         0             0  "
      ]
     },
     "execution_count": 7,
     "metadata": {},
     "output_type": "execute_result"
    }
   ],
   "source": [
    "inner_total_df.head(2)"
   ]
  },
  {
   "cell_type": "markdown",
   "metadata": {},
   "source": [
    "# <font color='orange'>02. CB, SP 0등급 대상 선정"
   ]
  },
  {
   "cell_type": "code",
   "execution_count": 8,
   "metadata": {},
   "outputs": [
    {
     "name": "stdout",
     "output_type": "stream",
     "text": [
      "CB등급별 건수\n",
      "0         64\n",
      "1       2045\n",
      "2       4378\n",
      "3       6415\n",
      "4      19867\n",
      "5      47846\n",
      "6     132259\n",
      "7     110913\n",
      "8      63397\n",
      "9      24028\n",
      "10      7767\n",
      "Name: Grd_RK0400_000, dtype: int64\n",
      "SP등급별 건수\n",
      "0         63\n",
      "1       9663\n",
      "2      41160\n",
      "3      59542\n",
      "4      86323\n",
      "5     111644\n",
      "6      52820\n",
      "7      26160\n",
      "8      14518\n",
      "9      11887\n",
      "10      5199\n",
      "Name: Grd_RK0400_700, dtype: int64\n"
     ]
    }
   ],
   "source": [
    "# 등급별 현황파악\n",
    "print('CB등급별 건수')\n",
    "print(total_df['Grd_RK0400_000'].value_counts().sort_index(),)\n",
    "print('SP등급별 건수')\n",
    "print(total_df['Grd_RK0400_700'].value_counts().sort_index())"
   ]
  },
  {
   "cell_type": "code",
   "execution_count": 9,
   "metadata": {},
   "outputs": [],
   "source": [
    "# CB, SP 0등급 적중 함수 생성\n",
    "def grade_zero(cb, sp):\n",
    "    result = 0\n",
    "    if cb==0 or sp==0:\n",
    "        result = 1\n",
    "        \n",
    "    return result"
   ]
  },
  {
   "cell_type": "code",
   "execution_count": 10,
   "metadata": {},
   "outputs": [],
   "source": [
    "# input columns list 생성\n",
    "input_cols = ['Grd_RK0400_000', 'Grd_RK0400_700']"
   ]
  },
  {
   "cell_type": "code",
   "execution_count": 11,
   "metadata": {},
   "outputs": [],
   "source": [
    "# CB, SP 0등급 항목 생성\n",
    "total_df['GRADE_ZERO_FG'] = total_df[input_cols].apply(lambda x: grade_zero(x['Grd_RK0400_000'], x['Grd_RK0400_700']), axis = 1)"
   ]
  },
  {
   "cell_type": "code",
   "execution_count": 12,
   "metadata": {},
   "outputs": [
    {
     "data": {
      "text/plain": [
       "64"
      ]
     },
     "execution_count": 12,
     "metadata": {},
     "output_type": "execute_result"
    }
   ],
   "source": [
    "total_df['GRADE_ZERO_FG'].sum()"
   ]
  },
  {
   "cell_type": "code",
   "execution_count": 13,
   "metadata": {},
   "outputs": [],
   "source": [
    "# 내부항목 dataframe 적용\n",
    "inner_total_df['GRADE_ZERO_FG'] = total_df['GRADE_ZERO_FG']"
   ]
  },
  {
   "cell_type": "code",
   "execution_count": 14,
   "metadata": {
    "scrolled": true
   },
   "outputs": [
    {
     "data": {
      "text/plain": [
       "64"
      ]
     },
     "execution_count": 14,
     "metadata": {},
     "output_type": "execute_result"
    }
   ],
   "source": [
    "inner_total_df['GRADE_ZERO_FG'].sum()"
   ]
  },
  {
   "cell_type": "markdown",
   "metadata": {},
   "source": [
    "# <font color='orange'>03. 기부도 대상 선정"
   ]
  },
  {
   "cell_type": "code",
   "execution_count": 15,
   "metadata": {
    "jupyter": {
     "source_hidden": true
    }
   },
   "outputs": [],
   "source": [
    "# def _pre_bad(BS0000145, BS0000172, BS0000169,\n",
    "#             BS0000171, B12000200, B22000200,\n",
    "#             PS0000296_1, P27000100):\n",
    "    \n",
    "#     BS0000145_FG = 0\n",
    "#     BS0000172_FG = 0 \n",
    "#     BS0000169_FG = 0\n",
    "#     BS0000171_FG = 0\n",
    "#     B12000200_FG = 0\n",
    "#     B22000200_FG = 0\n",
    "#     PS0000296_1_FG = 0\n",
    "#     P27000100_FG = 0\n",
    "    \n",
    "#     if BS0000145 > 0:\n",
    "#         BS0000145_FG = 1\n",
    "        \n",
    "#     if BS0000172 > 0:\n",
    "#         BS0000172_FG = 1\n",
    "        \n",
    "#     if BS0000169 > 0:\n",
    "#         BS0000169_FG = 1\n",
    "        \n",
    "#     if BS0000171 > 0:\n",
    "#         BS0000171_FG = 1\n",
    "        \n",
    "#     if B12000200 > 0:\n",
    "#         B12000200_FG = 1\n",
    "        \n",
    "#     if B22000200 > 0:\n",
    "#         B22000200_FG = 1\n",
    "        \n",
    "#     if PS0000296_1 > 0:\n",
    "#         PS0000296_1_FG = 1\n",
    "        \n",
    "#     if P27000100 > 0:\n",
    "#         P27000100_FG = 1\n",
    "        \n",
    "#     return BS0000145_FG,BS0000172_FG, BS0000169_FG,BS0000171_FG,B12000200_FG,B22000200_FG,PS0000296_1_FG,P27000100_FG,\n",
    "    \n",
    "    \n",
    "# total_df[result_cols] = total_df[need_cols].apply(lambda x: _pre_bad(x['BS0000145'],\n",
    "#                                                                     x['BS0000172'],\n",
    "#                                                                     x['BS0000169'],\n",
    "#                                                                     x['BS0000171'],\n",
    "#                                                                     x['B12000200'],\n",
    "#                                                                     x['B22000200'],\n",
    "#                                                                     x['PS0000296_1'],\n",
    "#                                                                     x['P27000100'],), axis = 1, result_type = 'expand')"
   ]
  },
  {
   "cell_type": "code",
   "execution_count": 16,
   "metadata": {},
   "outputs": [],
   "source": [
    "def pre_bad(col):\n",
    "    result = 0\n",
    "    if col>0:\n",
    "        result=1\n",
    "        \n",
    "    return result"
   ]
  },
  {
   "cell_type": "code",
   "execution_count": 17,
   "metadata": {},
   "outputs": [],
   "source": [
    "# output 항목명\n",
    "result_cols = [ 'PRE_BAD_FG_1',\n",
    "               'PRE_BAD_FG_2',\n",
    "               'PRE_BAD_FG_3',\n",
    "               'PRE_BAD_FG_4',\n",
    "               'PRE_BAD_FG_5',\n",
    "               'PRE_BAD_FG_6',\n",
    "               'PRE_BAD_FG_7',\n",
    "               'PRE_BAD_FG_8',]"
   ]
  },
  {
   "cell_type": "code",
   "execution_count": 18,
   "metadata": {},
   "outputs": [],
   "source": [
    "# input 항목명\n",
    "need_cols = [ 'BS0000145',\n",
    "            'BS0000172', \n",
    "            'BS0000169',\n",
    "            'BS0000171',\n",
    "            'B12000200',\n",
    "            'B22000200',\n",
    "            'PS0000296_1',\n",
    "            'P27000100',]"
   ]
  },
  {
   "cell_type": "code",
   "execution_count": 19,
   "metadata": {},
   "outputs": [],
   "source": [
    "for in_col, out_col in zip(need_cols, result_cols):\n",
    "    total_df[out_col] = total_df[in_col].apply(lambda x: pre_bad(x))"
   ]
  },
  {
   "cell_type": "code",
   "execution_count": 20,
   "metadata": {},
   "outputs": [
    {
     "data": {
      "text/plain": [
       "PRE_BAD_FG_1     6350\n",
       "PRE_BAD_FG_2     1479\n",
       "PRE_BAD_FG_3     3040\n",
       "PRE_BAD_FG_4     1834\n",
       "PRE_BAD_FG_5    30888\n",
       "PRE_BAD_FG_6     8025\n",
       "PRE_BAD_FG_7     9231\n",
       "PRE_BAD_FG_8    39734\n",
       "dtype: int64"
      ]
     },
     "execution_count": 20,
     "metadata": {},
     "output_type": "execute_result"
    }
   ],
   "source": [
    "total_df[result_cols].sum()"
   ]
  },
  {
   "cell_type": "code",
   "execution_count": 21,
   "metadata": {},
   "outputs": [],
   "source": [
    "inner_total_df[result_cols] = total_df[result_cols]"
   ]
  },
  {
   "cell_type": "markdown",
   "metadata": {},
   "source": [
    "### 최종 기부도 대상 항목 생성"
   ]
  },
  {
   "cell_type": "code",
   "execution_count": 22,
   "metadata": {
    "jupyter": {
     "source_hidden": true
    }
   },
   "outputs": [],
   "source": [
    "# def _total_pre_bad(BS0000145_FG,BS0000172_FG, BS0000169_FG,BS0000171_FG,B12000200_FG,\n",
    "#                    B22000200_FG,PS0000296_1_FG,P27000100_FG,):\n",
    "#     total_pre_bad = 0\n",
    "#     if (BS0000145_FG > 0 or BS0000172_FG > 0 or  BS0000169_FG > 0 or BS0000171_FG > 0 or B12000200_FG > 0 or\n",
    "#                    B22000200_FG > 0 or PS0000296_1_FG > 0 or P27000100_FG > 0):\n",
    "#         total_pre_bad = 1\n",
    "        \n",
    "#     return total_pre_bad\n",
    "\n",
    "# total_df['TOTAL_PRE_BAD_FG'] = total_df[need_cols].apply(lambda x: _total_pre_bad(x['PRE_BAD_FG_1'],\n",
    "#                                                                     x['PRE_BAD_FG_2'],\n",
    "#                                                                     x['PRE_BAD_FG_3'],\n",
    "#                                                                     x['PRE_BAD_FG_4'],\n",
    "#                                                                     x['PRE_BAD_FG_5'],\n",
    "#                                                                     x['PRE_BAD_FG_6'],\n",
    "#                                                                     x['PRE_BAD_FG_7'],\n",
    "#                                                                     x['PRE_BAD_FG_8'],), axis = 1,)"
   ]
  },
  {
   "cell_type": "code",
   "execution_count": 23,
   "metadata": {},
   "outputs": [],
   "source": [
    "need_cols = [ 'PRE_BAD_FG_1',\n",
    "               'PRE_BAD_FG_2',\n",
    "               'PRE_BAD_FG_3',\n",
    "               'PRE_BAD_FG_4',\n",
    "               'PRE_BAD_FG_5',\n",
    "               'PRE_BAD_FG_6',\n",
    "               'PRE_BAD_FG_7',\n",
    "               'PRE_BAD_FG_8',]"
   ]
  },
  {
   "cell_type": "code",
   "execution_count": 24,
   "metadata": {},
   "outputs": [],
   "source": [
    "# 위에서 생성한 기부도 요건들을 or조건 적용\n",
    "total_df['TOTAL_PRE_BAD_FG'] = total_df[need_cols].sum(axis=1)\n",
    "total_df['TOTAL_PRE_BAD_FG'] = total_df['TOTAL_PRE_BAD_FG'].apply(lambda x: 1 if x>0 else 0)"
   ]
  },
  {
   "cell_type": "code",
   "execution_count": 25,
   "metadata": {},
   "outputs": [],
   "source": [
    "inner_total_df['TOTAL_PRE_BAD_FG'] = total_df['TOTAL_PRE_BAD_FG']"
   ]
  },
  {
   "cell_type": "code",
   "execution_count": 26,
   "metadata": {
    "scrolled": true
   },
   "outputs": [
    {
     "data": {
      "text/html": [
       "<div>\n",
       "<style scoped>\n",
       "    .dataframe tbody tr th:only-of-type {\n",
       "        vertical-align: middle;\n",
       "    }\n",
       "\n",
       "    .dataframe tbody tr th {\n",
       "        vertical-align: top;\n",
       "    }\n",
       "\n",
       "    .dataframe thead th {\n",
       "        text-align: right;\n",
       "    }\n",
       "</style>\n",
       "<table border=\"1\" class=\"dataframe\">\n",
       "  <thead>\n",
       "    <tr style=\"text-align: right;\">\n",
       "      <th></th>\n",
       "      <th>no</th>\n",
       "      <th>신청월</th>\n",
       "      <th>직군그룹</th>\n",
       "      <th>근속기간1</th>\n",
       "      <th>웰컴_소득구간</th>\n",
       "      <th>심사원장_소득구간</th>\n",
       "      <th>EXECUTE_FG</th>\n",
       "      <th>DESTRUCT_FG</th>\n",
       "      <th>Y_2017_FG</th>\n",
       "      <th>Y_2018_FG</th>\n",
       "      <th>...</th>\n",
       "      <th>GRADE_ZERO_FG</th>\n",
       "      <th>PRE_BAD_FG_1</th>\n",
       "      <th>PRE_BAD_FG_2</th>\n",
       "      <th>PRE_BAD_FG_3</th>\n",
       "      <th>PRE_BAD_FG_4</th>\n",
       "      <th>PRE_BAD_FG_5</th>\n",
       "      <th>PRE_BAD_FG_6</th>\n",
       "      <th>PRE_BAD_FG_7</th>\n",
       "      <th>PRE_BAD_FG_8</th>\n",
       "      <th>TOTAL_PRE_BAD_FG</th>\n",
       "    </tr>\n",
       "  </thead>\n",
       "  <tbody>\n",
       "    <tr>\n",
       "      <th>0</th>\n",
       "      <td>1</td>\n",
       "      <td>201612</td>\n",
       "      <td>NaN</td>\n",
       "      <td>5.0</td>\n",
       "      <td>5.0</td>\n",
       "      <td>0.0</td>\n",
       "      <td>0</td>\n",
       "      <td>1</td>\n",
       "      <td>1</td>\n",
       "      <td>0</td>\n",
       "      <td>...</td>\n",
       "      <td>0</td>\n",
       "      <td>0</td>\n",
       "      <td>0</td>\n",
       "      <td>0</td>\n",
       "      <td>0</td>\n",
       "      <td>0</td>\n",
       "      <td>0</td>\n",
       "      <td>0</td>\n",
       "      <td>0</td>\n",
       "      <td>0</td>\n",
       "    </tr>\n",
       "    <tr>\n",
       "      <th>1</th>\n",
       "      <td>2</td>\n",
       "      <td>201612</td>\n",
       "      <td>D</td>\n",
       "      <td>5.0</td>\n",
       "      <td>2.0</td>\n",
       "      <td>0.0</td>\n",
       "      <td>0</td>\n",
       "      <td>1</td>\n",
       "      <td>1</td>\n",
       "      <td>0</td>\n",
       "      <td>...</td>\n",
       "      <td>0</td>\n",
       "      <td>0</td>\n",
       "      <td>0</td>\n",
       "      <td>0</td>\n",
       "      <td>0</td>\n",
       "      <td>0</td>\n",
       "      <td>0</td>\n",
       "      <td>0</td>\n",
       "      <td>0</td>\n",
       "      <td>0</td>\n",
       "    </tr>\n",
       "  </tbody>\n",
       "</table>\n",
       "<p>2 rows × 24 columns</p>\n",
       "</div>"
      ],
      "text/plain": [
       "   no     신청월 직군그룹  근속기간1  웰컴_소득구간  심사원장_소득구간  EXECUTE_FG  DESTRUCT_FG  \\\n",
       "0   1  201612  NaN    5.0      5.0        0.0           0            1   \n",
       "1   2  201612    D    5.0      2.0        0.0           0            1   \n",
       "\n",
       "   Y_2017_FG  Y_2018_FG  ...  GRADE_ZERO_FG  PRE_BAD_FG_1  PRE_BAD_FG_2  \\\n",
       "0          1          0  ...              0             0             0   \n",
       "1          1          0  ...              0             0             0   \n",
       "\n",
       "   PRE_BAD_FG_3  PRE_BAD_FG_4  PRE_BAD_FG_5  PRE_BAD_FG_6  PRE_BAD_FG_7  \\\n",
       "0             0             0             0             0             0   \n",
       "1             0             0             0             0             0   \n",
       "\n",
       "   PRE_BAD_FG_8  TOTAL_PRE_BAD_FG  \n",
       "0             0                 0  \n",
       "1             0                 0  \n",
       "\n",
       "[2 rows x 24 columns]"
      ]
     },
     "execution_count": 26,
     "metadata": {},
     "output_type": "execute_result"
    }
   ],
   "source": [
    "inner_total_df.head(2)"
   ]
  },
  {
   "cell_type": "markdown",
   "metadata": {},
   "source": [
    "# <font color='orange'>04. 저장"
   ]
  },
  {
   "cell_type": "code",
   "execution_count": 27,
   "metadata": {},
   "outputs": [],
   "source": [
    "save_path = r'C:\\Users\\w10\\Desktop\\신용평가모형 세미나\\2주차\\데이터\\temp'"
   ]
  },
  {
   "cell_type": "code",
   "execution_count": 28,
   "metadata": {},
   "outputs": [],
   "source": [
    "inner_total_df.to_csv(os.path.join(save_path, 'temp2_inner_total_df.csv'), index = False)"
   ]
  },
  {
   "cell_type": "code",
   "execution_count": null,
   "metadata": {},
   "outputs": [],
   "source": []
  },
  {
   "cell_type": "code",
   "execution_count": null,
   "metadata": {},
   "outputs": [],
   "source": []
  }
 ],
 "metadata": {
  "kernelspec": {
   "display_name": "Python 3",
   "language": "python",
   "name": "python3"
  },
  "language_info": {
   "codemirror_mode": {
    "name": "ipython",
    "version": 3
   },
   "file_extension": ".py",
   "mimetype": "text/x-python",
   "name": "python",
   "nbconvert_exporter": "python",
   "pygments_lexer": "ipython3",
   "version": "3.7.4"
  }
 },
 "nbformat": 4,
 "nbformat_minor": 4
}
