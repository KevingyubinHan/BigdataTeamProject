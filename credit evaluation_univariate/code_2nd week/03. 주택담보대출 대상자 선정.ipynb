{
 "cells": [
  {
   "cell_type": "code",
   "execution_count": 2,
   "metadata": {},
   "outputs": [],
   "source": [
    "import pandas as pd\n",
    "import numpy as np\n",
    "import os\n",
    "import warnings\n",
    "warnings.filterwarnings('ignore')\n",
    "from datetime import datetime"
   ]
  },
  {
   "cell_type": "markdown",
   "metadata": {},
   "source": [
    "# <font color='orange'>01. load data"
   ]
  },
  {
   "cell_type": "code",
   "execution_count": 3,
   "metadata": {},
   "outputs": [],
   "source": [
    "rootpath = r'C:\\Users\\w10\\Desktop\\신용평가모형 세미나\\2주차\\데이터\\temp'"
   ]
  },
  {
   "cell_type": "code",
   "execution_count": 4,
   "metadata": {},
   "outputs": [
    {
     "data": {
      "text/plain": [
       "['temp1_inner_total_df.csv', 'temp2_inner_total_df.csv', 'total_df.pkl']"
      ]
     },
     "execution_count": 4,
     "metadata": {},
     "output_type": "execute_result"
    }
   ],
   "source": [
    "os.listdir(rootpath)"
   ]
  },
  {
   "cell_type": "code",
   "execution_count": 5,
   "metadata": {},
   "outputs": [],
   "source": [
    "total_df = pd.read_pickle(os.path.join(rootpath, 'total_df.pkl'), )"
   ]
  },
  {
   "cell_type": "code",
   "execution_count": 6,
   "metadata": {},
   "outputs": [],
   "source": [
    "inner_total_df = pd.read_csv(os.path.join(rootpath, 'temp2_inner_total_df.csv'), )"
   ]
  },
  {
   "cell_type": "code",
   "execution_count": 7,
   "metadata": {},
   "outputs": [
    {
     "data": {
      "text/html": [
       "<div>\n",
       "<style scoped>\n",
       "    .dataframe tbody tr th:only-of-type {\n",
       "        vertical-align: middle;\n",
       "    }\n",
       "\n",
       "    .dataframe tbody tr th {\n",
       "        vertical-align: top;\n",
       "    }\n",
       "\n",
       "    .dataframe thead th {\n",
       "        text-align: right;\n",
       "    }\n",
       "</style>\n",
       "<table border=\"1\" class=\"dataframe\">\n",
       "  <thead>\n",
       "    <tr style=\"text-align: right;\">\n",
       "      <th></th>\n",
       "      <th>no</th>\n",
       "      <th>신청월</th>\n",
       "      <th>직군그룹</th>\n",
       "      <th>근속기간1</th>\n",
       "      <th>웰컴_소득구간</th>\n",
       "      <th>심사원장_소득구간</th>\n",
       "      <th>AS0000136</th>\n",
       "      <th>AS0000137</th>\n",
       "      <th>AS0000138</th>\n",
       "      <th>AS0000139</th>\n",
       "      <th>...</th>\n",
       "      <th>P2O000500_1_s6</th>\n",
       "      <th>LA0000001_1_s9</th>\n",
       "      <th>LA0000020_1_s9</th>\n",
       "      <th>LA0000227_1_s9</th>\n",
       "      <th>P2E000500_1_s9</th>\n",
       "      <th>LA0000001_1_s12</th>\n",
       "      <th>LA0000020_1_s12</th>\n",
       "      <th>LA0000204_1_s12</th>\n",
       "      <th>LA0000227_1_s12</th>\n",
       "      <th>P2O000500_1_s12</th>\n",
       "    </tr>\n",
       "  </thead>\n",
       "  <tbody>\n",
       "    <tr>\n",
       "      <th>0</th>\n",
       "      <td>1</td>\n",
       "      <td>201612</td>\n",
       "      <td>NaN</td>\n",
       "      <td>5.0</td>\n",
       "      <td>5.0</td>\n",
       "      <td>0.0</td>\n",
       "      <td>26</td>\n",
       "      <td>-1</td>\n",
       "      <td>1</td>\n",
       "      <td>0</td>\n",
       "      <td>...</td>\n",
       "      <td>0.0</td>\n",
       "      <td>0.15</td>\n",
       "      <td>0.15</td>\n",
       "      <td>345.45</td>\n",
       "      <td>0.0</td>\n",
       "      <td>0.09</td>\n",
       "      <td>0.09</td>\n",
       "      <td>214.29</td>\n",
       "      <td>214.29</td>\n",
       "      <td>0.0</td>\n",
       "    </tr>\n",
       "    <tr>\n",
       "      <th>1</th>\n",
       "      <td>2</td>\n",
       "      <td>201612</td>\n",
       "      <td>D</td>\n",
       "      <td>5.0</td>\n",
       "      <td>2.0</td>\n",
       "      <td>0.0</td>\n",
       "      <td>-1</td>\n",
       "      <td>32</td>\n",
       "      <td>1</td>\n",
       "      <td>0</td>\n",
       "      <td>...</td>\n",
       "      <td>0.0</td>\n",
       "      <td>0.00</td>\n",
       "      <td>0.00</td>\n",
       "      <td>0.00</td>\n",
       "      <td>0.0</td>\n",
       "      <td>0.00</td>\n",
       "      <td>0.00</td>\n",
       "      <td>0.00</td>\n",
       "      <td>0.00</td>\n",
       "      <td>0.0</td>\n",
       "    </tr>\n",
       "  </tbody>\n",
       "</table>\n",
       "<p>2 rows × 1928 columns</p>\n",
       "</div>"
      ],
      "text/plain": [
       "   no     신청월 직군그룹  근속기간1  웰컴_소득구간  심사원장_소득구간  AS0000136  AS0000137  \\\n",
       "0   1  201612  NaN    5.0      5.0        0.0         26         -1   \n",
       "1   2  201612    D    5.0      2.0        0.0         -1         32   \n",
       "\n",
       "   AS0000138  AS0000139  ...  P2O000500_1_s6  LA0000001_1_s9  LA0000020_1_s9  \\\n",
       "0          1          0  ...             0.0            0.15            0.15   \n",
       "1          1          0  ...             0.0            0.00            0.00   \n",
       "\n",
       "   LA0000227_1_s9  P2E000500_1_s9  LA0000001_1_s12  LA0000020_1_s12  \\\n",
       "0          345.45             0.0             0.09             0.09   \n",
       "1            0.00             0.0             0.00             0.00   \n",
       "\n",
       "   LA0000204_1_s12  LA0000227_1_s12  P2O000500_1_s12  \n",
       "0           214.29           214.29              0.0  \n",
       "1             0.00             0.00              0.0  \n",
       "\n",
       "[2 rows x 1928 columns]"
      ]
     },
     "execution_count": 7,
     "metadata": {},
     "output_type": "execute_result"
    }
   ],
   "source": [
    "total_df.head(2)"
   ]
  },
  {
   "cell_type": "code",
   "execution_count": 8,
   "metadata": {},
   "outputs": [
    {
     "data": {
      "text/html": [
       "<div>\n",
       "<style scoped>\n",
       "    .dataframe tbody tr th:only-of-type {\n",
       "        vertical-align: middle;\n",
       "    }\n",
       "\n",
       "    .dataframe tbody tr th {\n",
       "        vertical-align: top;\n",
       "    }\n",
       "\n",
       "    .dataframe thead th {\n",
       "        text-align: right;\n",
       "    }\n",
       "</style>\n",
       "<table border=\"1\" class=\"dataframe\">\n",
       "  <thead>\n",
       "    <tr style=\"text-align: right;\">\n",
       "      <th></th>\n",
       "      <th>no</th>\n",
       "      <th>신청월</th>\n",
       "      <th>직군그룹</th>\n",
       "      <th>근속기간1</th>\n",
       "      <th>웰컴_소득구간</th>\n",
       "      <th>심사원장_소득구간</th>\n",
       "      <th>EXECUTE_FG</th>\n",
       "      <th>DESTRUCT_FG</th>\n",
       "      <th>Y_2017_FG</th>\n",
       "      <th>Y_2018_FG</th>\n",
       "      <th>...</th>\n",
       "      <th>GRADE_ZERO_FG</th>\n",
       "      <th>PRE_BAD_FG_1</th>\n",
       "      <th>PRE_BAD_FG_2</th>\n",
       "      <th>PRE_BAD_FG_3</th>\n",
       "      <th>PRE_BAD_FG_4</th>\n",
       "      <th>PRE_BAD_FG_5</th>\n",
       "      <th>PRE_BAD_FG_6</th>\n",
       "      <th>PRE_BAD_FG_7</th>\n",
       "      <th>PRE_BAD_FG_8</th>\n",
       "      <th>TOTAL_PRE_BAD_FG</th>\n",
       "    </tr>\n",
       "  </thead>\n",
       "  <tbody>\n",
       "    <tr>\n",
       "      <th>0</th>\n",
       "      <td>1</td>\n",
       "      <td>201612</td>\n",
       "      <td>NaN</td>\n",
       "      <td>5.0</td>\n",
       "      <td>5.0</td>\n",
       "      <td>0.0</td>\n",
       "      <td>0</td>\n",
       "      <td>1</td>\n",
       "      <td>1</td>\n",
       "      <td>0</td>\n",
       "      <td>...</td>\n",
       "      <td>0</td>\n",
       "      <td>0</td>\n",
       "      <td>0</td>\n",
       "      <td>0</td>\n",
       "      <td>0</td>\n",
       "      <td>0</td>\n",
       "      <td>0</td>\n",
       "      <td>0</td>\n",
       "      <td>0</td>\n",
       "      <td>0</td>\n",
       "    </tr>\n",
       "    <tr>\n",
       "      <th>1</th>\n",
       "      <td>2</td>\n",
       "      <td>201612</td>\n",
       "      <td>D</td>\n",
       "      <td>5.0</td>\n",
       "      <td>2.0</td>\n",
       "      <td>0.0</td>\n",
       "      <td>0</td>\n",
       "      <td>1</td>\n",
       "      <td>1</td>\n",
       "      <td>0</td>\n",
       "      <td>...</td>\n",
       "      <td>0</td>\n",
       "      <td>0</td>\n",
       "      <td>0</td>\n",
       "      <td>0</td>\n",
       "      <td>0</td>\n",
       "      <td>0</td>\n",
       "      <td>0</td>\n",
       "      <td>0</td>\n",
       "      <td>0</td>\n",
       "      <td>0</td>\n",
       "    </tr>\n",
       "  </tbody>\n",
       "</table>\n",
       "<p>2 rows × 24 columns</p>\n",
       "</div>"
      ],
      "text/plain": [
       "   no     신청월 직군그룹  근속기간1  웰컴_소득구간  심사원장_소득구간  EXECUTE_FG  DESTRUCT_FG  \\\n",
       "0   1  201612  NaN    5.0      5.0        0.0           0            1   \n",
       "1   2  201612    D    5.0      2.0        0.0           0            1   \n",
       "\n",
       "   Y_2017_FG  Y_2018_FG  ...  GRADE_ZERO_FG  PRE_BAD_FG_1  PRE_BAD_FG_2  \\\n",
       "0          1          0  ...              0             0             0   \n",
       "1          1          0  ...              0             0             0   \n",
       "\n",
       "   PRE_BAD_FG_3  PRE_BAD_FG_4  PRE_BAD_FG_5  PRE_BAD_FG_6  PRE_BAD_FG_7  \\\n",
       "0             0             0             0             0             0   \n",
       "1             0             0             0             0             0   \n",
       "\n",
       "   PRE_BAD_FG_8  TOTAL_PRE_BAD_FG  \n",
       "0             0                 0  \n",
       "1             0                 0  \n",
       "\n",
       "[2 rows x 24 columns]"
      ]
     },
     "execution_count": 8,
     "metadata": {},
     "output_type": "execute_result"
    }
   ],
   "source": [
    "inner_total_df.head(2)"
   ]
  },
  {
   "cell_type": "markdown",
   "metadata": {},
   "source": [
    "# <font color='orange'>02. 주택담보대출 대상자 선정 "
   ]
  },
  {
   "cell_type": "markdown",
   "metadata": {},
   "source": [
    "```\n",
    "전체\n",
    "    LA0000126 : 미해제주택담보대출총기관수 > 0\n",
    "    L23001001 : 미상환 주택담보 대출총건수 > 0\n",
    "    A5WC0000008500 : 미상환주택담보대출총건수중개심사거절용 == 1\n",
    "    A5WC0000008400 : 미상환주택담보대출총건수인터넷등심사거절용 == 1\n",
    "\n",
    "    \n",
    "업권별\n",
    "    LA0001016 : 미해제 은행업계 주택담보대출 총 건수 > 0\n",
    "    LA0005008 : 보험업계 주택담보대출 총 건수 > 0\n",
    "    LA0006011 : 미해제 카드업계 주택담보대출 총 건수 > 0\n",
    "    LA0007201 : 미해제 리스렌탈업계 주택담보대출(역모기지론포함) 총 잔액 > 0\n",
    "    LA0008008 : 미해제 저축은행업계 주택담보대출 총 건수 > 0\n",
    "    LA0012005 : 조합업계(농협및수협단위조합) 주택담보대출 총 건수 > 0\n",
    "    LA0012208 : 미해제 신용협동조합업계 주택담보대출(역모기지론포함) 총 잔액 > 0\n",
    "    LA0014008 : 미해제 캐피탈업계 주택담보대출 총 건수 > 0\n",
    "    LA0029203 : 미해제 새마을금고업계 주택담보대출(역모기지론포함) 총 잔액 > 0\n",
    "    LA0099252 : 미해제 기타업계 주택담보대출(역모기지론포함) 총 잔액 > 0\n",
    "    LU0021006_1 : 전은연_계좌별_저축은행업권_미상환_주택담보대출_총건수_대부업_저축은행_인터넷전문은행_정보_공유용__소비자금융CB > 0\n",
    "    LU0024013_1 : 전은연 계좌별 대부업권 미상환 주택담보대출 총 건수(대부업 저축은행 인터넷전문은행 정보 공유용) > 0\n",
    "    LU0025004_1 : 신정원 계좌별 P2P연계대부업권 미상환 주택담보대출 총건수(대부업 저축은행 인터넷전문은행 정보 공유용) > 0\n",
    "``````"
   ]
  },
  {
   "cell_type": "code",
   "execution_count": 9,
   "metadata": {},
   "outputs": [],
   "source": [
    "# input cols\n",
    "house_cols = ['LA0000126', 'L23001001','A5WC0000008500', 'A5WC0000008400',\n",
    "             'LA0001016', 'LA0005008', 'LA0006011', 'LA0007201', 'LA0008008', 'LA0012005', 'LA0012208',\n",
    "             'LA0014008', 'LA0029203', 'LA0099252',\n",
    "             'LU0021006_1', 'LU0024013_1', 'LU0025004_1', ]"
   ]
  },
  {
   "cell_type": "code",
   "execution_count": 10,
   "metadata": {},
   "outputs": [],
   "source": [
    "# output cols\n",
    "house_cols_name = ['TOTAL_HOUSE_FG_1','TOTAL_HOUSE_FG_2','TOTAL_HOUSE_FG_3','TOTAL_HOUSE_FG_4',\n",
    "                  'BANK_HOUSE_FG', 'INS_HOUSE_FG', 'CARD_HOUSE_FG', 'LEASE_HOUSE_FG',\n",
    "                  'SB_HOUSE_FG', 'COOP_HOUSE_FG', 'CREDUNION_HOUSE_FG', 'CAP_HOUSE_FG',\n",
    "                  'MG_HOUSE_FG', 'ETC_HOUSE_FG', \n",
    "                  'ACC_SB_HOUSE_FG', 'ACC_ML_HOUSE_FG', 'ACC_P2P_HOUSE_FG']"
   ]
  },
  {
   "cell_type": "code",
   "execution_count": 11,
   "metadata": {},
   "outputs": [
    {
     "data": {
      "text/plain": [
       "17"
      ]
     },
     "execution_count": 11,
     "metadata": {},
     "output_type": "execute_result"
    }
   ],
   "source": [
    "len(house_cols)"
   ]
  },
  {
   "cell_type": "code",
   "execution_count": 12,
   "metadata": {},
   "outputs": [],
   "source": [
    "for house_col, col_name in zip(house_cols, house_cols_name):\n",
    "    total_df[col_name] = total_df[house_col].apply(lambda x : 1 if x > 0 else 0)\n"
   ]
  },
  {
   "cell_type": "code",
   "execution_count": 13,
   "metadata": {},
   "outputs": [
    {
     "data": {
      "text/plain": [
       "TOTAL_HOUSE_FG_3    418979\n",
       "TOTAL_HOUSE_FG_4    418979\n",
       "dtype: int64"
      ]
     },
     "execution_count": 13,
     "metadata": {},
     "output_type": "execute_result"
    }
   ],
   "source": [
    "total_df[['TOTAL_HOUSE_FG_3','TOTAL_HOUSE_FG_4']].sum()"
   ]
  },
  {
   "cell_type": "markdown",
   "metadata": {},
   "source": [
    "* 추가 고려 사항\n",
    "  * A5WC0000008500, A5WC0000008400 변수\n",
    "    * 0을 가지는 레코드 없음\n",
    "    * 구간값으로 형성되있는 것을 확인\n",
    "      * 1이면 주담대 보유\n",
    "      * 2이면 주담대 보유 x"
   ]
  },
  {
   "cell_type": "code",
   "execution_count": 14,
   "metadata": {
    "jupyter": {
     "source_hidden": true
    }
   },
   "outputs": [],
   "source": [
    "# def _welc_house_col_fg(A5WC0000008500, A5WC0000008400):\n",
    "#     total_house_seg_3 = 0\n",
    "#     total_house_seg_4 = 0\n",
    "    \n",
    "#     if A5WC0000008500 == 1:\n",
    "#         total_house_seg_3 = 1\n",
    "        \n",
    "#     if A5WC0000008400 == 1:\n",
    "#         total_house_seg_4 = 1\n",
    "        \n",
    "#     return total_house_seg_3, total_house_seg_4\n",
    "\n",
    "# total_df[result_cols] = total_df[need_cols].apply(lambda x : _welc_house_col_fg(x['A5WC0000008500'], x['A5WC0000008400']),\n",
    "#                                                   axis = 1, result_type = 'expand')\n"
   ]
  },
  {
   "cell_type": "code",
   "execution_count": 15,
   "metadata": {},
   "outputs": [],
   "source": [
    "def welc_house_fg(welc_house_col):\n",
    "    result = 0\n",
    "    if welc_house_col==1:\n",
    "        result=1\n",
    "        \n",
    "    return result"
   ]
  },
  {
   "cell_type": "code",
   "execution_count": 16,
   "metadata": {},
   "outputs": [],
   "source": [
    "result_cols = ['TOTAL_HOUSE_FG_3','TOTAL_HOUSE_FG_4',]\n",
    "need_cols = ['A5WC0000008500', 'A5WC0000008400']"
   ]
  },
  {
   "cell_type": "code",
   "execution_count": 17,
   "metadata": {},
   "outputs": [],
   "source": [
    "for in_col, out_col in zip(need_cols, result_cols):\n",
    "    total_df[out_col] = total_df[in_col].apply(lambda x: welc_house_fg(x))"
   ]
  },
  {
   "cell_type": "code",
   "execution_count": 18,
   "metadata": {},
   "outputs": [],
   "source": [
    "inner_total_df[house_cols_name] = total_df[house_cols_name]"
   ]
  },
  {
   "cell_type": "markdown",
   "metadata": {},
   "source": [
    "### 최종 주택담보대출 보유 항목 생성"
   ]
  },
  {
   "cell_type": "code",
   "execution_count": 19,
   "metadata": {
    "jupyter": {
     "source_hidden": true
    }
   },
   "outputs": [],
   "source": [
    "# def _get_total_house_seg(TOTAL_HOUSE_SEG_1, TOTAL_HOUSE_SEG_2,\n",
    "#                         TOTAL_HOUSE_SEG_3, TOTAL_HOUSE_SEG_4\n",
    "#                         ):\n",
    "#     total_house_seg = 0\n",
    "#     if (TOTAL_HOUSE_SEG_1 > 0 or TOTAL_HOUSE_SEG_2 > 0 \n",
    "#        or TOTAL_HOUSE_SEG_3 > 0 or TOTAL_HOUSE_SEG_4 > 0\n",
    "#        ):\n",
    "#         total_house_seg = 1\n",
    "        \n",
    "#     return total_house_seg\n",
    "\n",
    "# total_df['TOTAL_HOUSE_FG'] = total_df[need_cols].apply(lambda x: _get_total_house_seg(x['TOTAL_HOUSE_FG_1'], \n",
    "#                                                                                        x['TOTAL_HOUSE_FG_2'],\n",
    "#                                                                                        x['TOTAL_HOUSE_FG_3'], \n",
    "#                                                                                        x['TOTAL_HOUSE_FG_4'],\n",
    "#                                                                                       ), axis = 1)"
   ]
  },
  {
   "cell_type": "code",
   "execution_count": 20,
   "metadata": {},
   "outputs": [],
   "source": [
    "need_cols = ['TOTAL_HOUSE_FG_1', 'TOTAL_HOUSE_FG_2',\n",
    "             'TOTAL_HOUSE_FG_3', 'TOTAL_HOUSE_FG_4']"
   ]
  },
  {
   "cell_type": "code",
   "execution_count": 21,
   "metadata": {},
   "outputs": [],
   "source": [
    "total_df['TOTAL_HOUSE_FG'] = total_df[need_cols].sum(axis=1)\n",
    "total_df['TOTAL_HOUSE_FG'] = total_df['TOTAL_HOUSE_FG'].apply(lambda x: 1 if x>0 else 0)"
   ]
  },
  {
   "cell_type": "code",
   "execution_count": 22,
   "metadata": {},
   "outputs": [],
   "source": [
    "inner_total_df['TOTAL_HOUSE_FG'] = total_df['TOTAL_HOUSE_FG']"
   ]
  },
  {
   "cell_type": "markdown",
   "metadata": {},
   "source": [
    "# <font color='orange'>03. 저장"
   ]
  },
  {
   "cell_type": "code",
   "execution_count": 23,
   "metadata": {},
   "outputs": [],
   "source": [
    "save_path = r'C:\\Users\\w10\\Desktop\\신용평가모형 세미나\\2주차\\데이터\\temp'"
   ]
  },
  {
   "cell_type": "code",
   "execution_count": 24,
   "metadata": {
    "scrolled": true
   },
   "outputs": [],
   "source": [
    "inner_total_df.to_csv(os.path.join(save_path, 'temp3_inner_total_df.csv'), index = False)"
   ]
  },
  {
   "cell_type": "code",
   "execution_count": null,
   "metadata": {},
   "outputs": [],
   "source": []
  },
  {
   "cell_type": "code",
   "execution_count": null,
   "metadata": {},
   "outputs": [],
   "source": []
  }
 ],
 "metadata": {
  "kernelspec": {
   "display_name": "Python 3",
   "language": "python",
   "name": "python3"
  },
  "language_info": {
   "codemirror_mode": {
    "name": "ipython",
    "version": 3
   },
   "file_extension": ".py",
   "mimetype": "text/x-python",
   "name": "python",
   "nbconvert_exporter": "python",
   "pygments_lexer": "ipython3",
   "version": "3.7.4"
  }
 },
 "nbformat": 4,
 "nbformat_minor": 4
}
