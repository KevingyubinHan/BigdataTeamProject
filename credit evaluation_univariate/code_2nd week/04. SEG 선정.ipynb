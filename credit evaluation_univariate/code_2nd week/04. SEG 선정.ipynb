{
 "cells": [
  {
   "cell_type": "code",
   "execution_count": 128,
   "metadata": {},
   "outputs": [],
   "source": [
    "import pandas as pd\n",
    "import numpy as np\n",
    "import os\n",
    "import warnings\n",
    "warnings.filterwarnings('ignore')\n",
    "from datetime import datetime"
   ]
  },
  {
   "cell_type": "markdown",
   "metadata": {},
   "source": [
    "# <font color='orange'>01. load data "
   ]
  },
  {
   "cell_type": "code",
   "execution_count": 129,
   "metadata": {},
   "outputs": [],
   "source": [
    "rootpath = r'C:\\Users\\w10\\Desktop\\신용평가모형 세미나\\2주차\\데이터\\temp'"
   ]
  },
  {
   "cell_type": "code",
   "execution_count": 130,
   "metadata": {},
   "outputs": [
    {
     "data": {
      "text/plain": [
       "['temp1_inner_total_df.csv',\n",
       " 'temp2_inner_total_df.csv',\n",
       " 'temp3_inner_total_df.csv',\n",
       " 'total_df.pkl']"
      ]
     },
     "execution_count": 130,
     "metadata": {},
     "output_type": "execute_result"
    }
   ],
   "source": [
    "os.listdir(rootpath)"
   ]
  },
  {
   "cell_type": "code",
   "execution_count": 131,
   "metadata": {},
   "outputs": [],
   "source": [
    "total_df = pd.read_pickle(os.path.join(rootpath, 'total_df.pkl'), )"
   ]
  },
  {
   "cell_type": "code",
   "execution_count": 132,
   "metadata": {},
   "outputs": [],
   "source": [
    "inner_total_df = pd.read_csv(os.path.join(rootpath, 'temp3_inner_total_df.csv'), )"
   ]
  },
  {
   "cell_type": "code",
   "execution_count": 133,
   "metadata": {},
   "outputs": [
    {
     "data": {
      "text/html": [
       "<div>\n",
       "<style scoped>\n",
       "    .dataframe tbody tr th:only-of-type {\n",
       "        vertical-align: middle;\n",
       "    }\n",
       "\n",
       "    .dataframe tbody tr th {\n",
       "        vertical-align: top;\n",
       "    }\n",
       "\n",
       "    .dataframe thead th {\n",
       "        text-align: right;\n",
       "    }\n",
       "</style>\n",
       "<table border=\"1\" class=\"dataframe\">\n",
       "  <thead>\n",
       "    <tr style=\"text-align: right;\">\n",
       "      <th></th>\n",
       "      <th>no</th>\n",
       "      <th>신청월</th>\n",
       "      <th>직군그룹</th>\n",
       "      <th>근속기간1</th>\n",
       "      <th>웰컴_소득구간</th>\n",
       "      <th>심사원장_소득구간</th>\n",
       "      <th>AS0000136</th>\n",
       "      <th>AS0000137</th>\n",
       "      <th>AS0000138</th>\n",
       "      <th>AS0000139</th>\n",
       "      <th>...</th>\n",
       "      <th>P2O000500_1_s6</th>\n",
       "      <th>LA0000001_1_s9</th>\n",
       "      <th>LA0000020_1_s9</th>\n",
       "      <th>LA0000227_1_s9</th>\n",
       "      <th>P2E000500_1_s9</th>\n",
       "      <th>LA0000001_1_s12</th>\n",
       "      <th>LA0000020_1_s12</th>\n",
       "      <th>LA0000204_1_s12</th>\n",
       "      <th>LA0000227_1_s12</th>\n",
       "      <th>P2O000500_1_s12</th>\n",
       "    </tr>\n",
       "  </thead>\n",
       "  <tbody>\n",
       "    <tr>\n",
       "      <th>0</th>\n",
       "      <td>1</td>\n",
       "      <td>201612</td>\n",
       "      <td>NaN</td>\n",
       "      <td>5.0</td>\n",
       "      <td>5.0</td>\n",
       "      <td>0.0</td>\n",
       "      <td>26</td>\n",
       "      <td>-1</td>\n",
       "      <td>1</td>\n",
       "      <td>0</td>\n",
       "      <td>...</td>\n",
       "      <td>0.0</td>\n",
       "      <td>0.15</td>\n",
       "      <td>0.15</td>\n",
       "      <td>345.45</td>\n",
       "      <td>0.0</td>\n",
       "      <td>0.09</td>\n",
       "      <td>0.09</td>\n",
       "      <td>214.29</td>\n",
       "      <td>214.29</td>\n",
       "      <td>0.0</td>\n",
       "    </tr>\n",
       "    <tr>\n",
       "      <th>1</th>\n",
       "      <td>2</td>\n",
       "      <td>201612</td>\n",
       "      <td>D</td>\n",
       "      <td>5.0</td>\n",
       "      <td>2.0</td>\n",
       "      <td>0.0</td>\n",
       "      <td>-1</td>\n",
       "      <td>32</td>\n",
       "      <td>1</td>\n",
       "      <td>0</td>\n",
       "      <td>...</td>\n",
       "      <td>0.0</td>\n",
       "      <td>0.00</td>\n",
       "      <td>0.00</td>\n",
       "      <td>0.00</td>\n",
       "      <td>0.0</td>\n",
       "      <td>0.00</td>\n",
       "      <td>0.00</td>\n",
       "      <td>0.00</td>\n",
       "      <td>0.00</td>\n",
       "      <td>0.0</td>\n",
       "    </tr>\n",
       "  </tbody>\n",
       "</table>\n",
       "<p>2 rows × 1928 columns</p>\n",
       "</div>"
      ],
      "text/plain": [
       "   no     신청월 직군그룹  근속기간1  웰컴_소득구간  심사원장_소득구간  AS0000136  AS0000137  \\\n",
       "0   1  201612  NaN    5.0      5.0        0.0         26         -1   \n",
       "1   2  201612    D    5.0      2.0        0.0         -1         32   \n",
       "\n",
       "   AS0000138  AS0000139  ...  P2O000500_1_s6  LA0000001_1_s9  LA0000020_1_s9  \\\n",
       "0          1          0  ...             0.0            0.15            0.15   \n",
       "1          1          0  ...             0.0            0.00            0.00   \n",
       "\n",
       "   LA0000227_1_s9  P2E000500_1_s9  LA0000001_1_s12  LA0000020_1_s12  \\\n",
       "0          345.45             0.0             0.09             0.09   \n",
       "1            0.00             0.0             0.00             0.00   \n",
       "\n",
       "   LA0000204_1_s12  LA0000227_1_s12  P2O000500_1_s12  \n",
       "0           214.29           214.29              0.0  \n",
       "1             0.00             0.00              0.0  \n",
       "\n",
       "[2 rows x 1928 columns]"
      ]
     },
     "execution_count": 133,
     "metadata": {},
     "output_type": "execute_result"
    }
   ],
   "source": [
    "total_df.head(2)"
   ]
  },
  {
   "cell_type": "code",
   "execution_count": 134,
   "metadata": {},
   "outputs": [
    {
     "data": {
      "text/html": [
       "<div>\n",
       "<style scoped>\n",
       "    .dataframe tbody tr th:only-of-type {\n",
       "        vertical-align: middle;\n",
       "    }\n",
       "\n",
       "    .dataframe tbody tr th {\n",
       "        vertical-align: top;\n",
       "    }\n",
       "\n",
       "    .dataframe thead th {\n",
       "        text-align: right;\n",
       "    }\n",
       "</style>\n",
       "<table border=\"1\" class=\"dataframe\">\n",
       "  <thead>\n",
       "    <tr style=\"text-align: right;\">\n",
       "      <th></th>\n",
       "      <th>no</th>\n",
       "      <th>신청월</th>\n",
       "      <th>직군그룹</th>\n",
       "      <th>근속기간1</th>\n",
       "      <th>웰컴_소득구간</th>\n",
       "      <th>심사원장_소득구간</th>\n",
       "      <th>EXECUTE_FG</th>\n",
       "      <th>DESTRUCT_FG</th>\n",
       "      <th>Y_2017_FG</th>\n",
       "      <th>Y_2018_FG</th>\n",
       "      <th>...</th>\n",
       "      <th>SB_HOUSE_FG</th>\n",
       "      <th>COOP_HOUSE_FG</th>\n",
       "      <th>CREDUNION_HOUSE_FG</th>\n",
       "      <th>CAP_HOUSE_FG</th>\n",
       "      <th>MG_HOUSE_FG</th>\n",
       "      <th>ETC_HOUSE_FG</th>\n",
       "      <th>ACC_SB_HOUSE_FG</th>\n",
       "      <th>ACC_ML_HOUSE_FG</th>\n",
       "      <th>ACC_P2P_HOUSE_FG</th>\n",
       "      <th>TOTAL_HOUSE_FG</th>\n",
       "    </tr>\n",
       "  </thead>\n",
       "  <tbody>\n",
       "    <tr>\n",
       "      <th>0</th>\n",
       "      <td>1</td>\n",
       "      <td>201612</td>\n",
       "      <td>NaN</td>\n",
       "      <td>5.0</td>\n",
       "      <td>5.0</td>\n",
       "      <td>0.0</td>\n",
       "      <td>0</td>\n",
       "      <td>1</td>\n",
       "      <td>1</td>\n",
       "      <td>0</td>\n",
       "      <td>...</td>\n",
       "      <td>0</td>\n",
       "      <td>0</td>\n",
       "      <td>0</td>\n",
       "      <td>0</td>\n",
       "      <td>0</td>\n",
       "      <td>0</td>\n",
       "      <td>0</td>\n",
       "      <td>0</td>\n",
       "      <td>0</td>\n",
       "      <td>0</td>\n",
       "    </tr>\n",
       "    <tr>\n",
       "      <th>1</th>\n",
       "      <td>2</td>\n",
       "      <td>201612</td>\n",
       "      <td>D</td>\n",
       "      <td>5.0</td>\n",
       "      <td>2.0</td>\n",
       "      <td>0.0</td>\n",
       "      <td>0</td>\n",
       "      <td>1</td>\n",
       "      <td>1</td>\n",
       "      <td>0</td>\n",
       "      <td>...</td>\n",
       "      <td>0</td>\n",
       "      <td>0</td>\n",
       "      <td>0</td>\n",
       "      <td>0</td>\n",
       "      <td>0</td>\n",
       "      <td>0</td>\n",
       "      <td>0</td>\n",
       "      <td>0</td>\n",
       "      <td>0</td>\n",
       "      <td>0</td>\n",
       "    </tr>\n",
       "  </tbody>\n",
       "</table>\n",
       "<p>2 rows × 42 columns</p>\n",
       "</div>"
      ],
      "text/plain": [
       "   no     신청월 직군그룹  근속기간1  웰컴_소득구간  심사원장_소득구간  EXECUTE_FG  DESTRUCT_FG  \\\n",
       "0   1  201612  NaN    5.0      5.0        0.0           0            1   \n",
       "1   2  201612    D    5.0      2.0        0.0           0            1   \n",
       "\n",
       "   Y_2017_FG  Y_2018_FG  ...  SB_HOUSE_FG  COOP_HOUSE_FG  CREDUNION_HOUSE_FG  \\\n",
       "0          1          0  ...            0              0                   0   \n",
       "1          1          0  ...            0              0                   0   \n",
       "\n",
       "   CAP_HOUSE_FG  MG_HOUSE_FG  ETC_HOUSE_FG  ACC_SB_HOUSE_FG  ACC_ML_HOUSE_FG  \\\n",
       "0             0            0             0                0                0   \n",
       "1             0            0             0                0                0   \n",
       "\n",
       "   ACC_P2P_HOUSE_FG  TOTAL_HOUSE_FG  \n",
       "0                 0               0  \n",
       "1                 0               0  \n",
       "\n",
       "[2 rows x 42 columns]"
      ]
     },
     "execution_count": 134,
     "metadata": {},
     "output_type": "execute_result"
    }
   ],
   "source": [
    "inner_total_df.head(2)"
   ]
  },
  {
   "cell_type": "markdown",
   "metadata": {},
   "source": [
    "# <font color='orange'>02. 연소득 컬럼 생성"
   ]
  },
  {
   "cell_type": "markdown",
   "metadata": {},
   "source": [
    "* A5WC0000008000 웰컴크레디라인대부최종연소득\n",
    "* A5WC0000000200 웰컴크레디라인대부최종연소득\n",
    "* IE0300007 NICE최종연소득금액_IE0305_000__금융CB\n",
    "\n",
    " \n",
    "\n",
    "    IF A5WC0000008000 > 0 THEN INCOME = A5WC0000008000 ;\n",
    "    ELSE IF A5WC0000000200 > 0 THEN INCOME = A5WC0000000200 ;\n",
    "    ELSE IF IE0300007 > 0 THEN INCOME = IE0300007*10 ;\n",
    "    ELSE INCOME = 0 ;\n",
    "\n",
    "\n",
    "\n",
    "* 연소득 컬럼 명명\n",
    "  * INCOME(천원단위)"
   ]
  },
  {
   "cell_type": "code",
   "execution_count": 135,
   "metadata": {},
   "outputs": [],
   "source": [
    "def _get_year_income(A5WC0000008000, A5WC0000000200, IE0300007):\n",
    "    year_income = 0\n",
    "    if A5WC0000008000 > 0:\n",
    "        # 천원단위\n",
    "        year_income = A5WC0000008000 ;\n",
    "    elif A5WC0000000200 > 0:\n",
    "        # 천원단위\n",
    "        year_income = A5WC0000000200 ;\n",
    "    elif IE0300007 > 0:\n",
    "        # 만원단위여서 * 10\n",
    "        year_income = IE0300007*10 ;\n",
    "    else:\n",
    "        year_income = 0 ;\n",
    "        \n",
    "    return year_income"
   ]
  },
  {
   "cell_type": "code",
   "execution_count": 136,
   "metadata": {},
   "outputs": [],
   "source": [
    "need_cols = ['A5WC0000008000', 'A5WC0000000200', 'IE0300007']"
   ]
  },
  {
   "cell_type": "code",
   "execution_count": 137,
   "metadata": {
    "scrolled": true
   },
   "outputs": [
    {
     "data": {
      "text/html": [
       "<div>\n",
       "<style scoped>\n",
       "    .dataframe tbody tr th:only-of-type {\n",
       "        vertical-align: middle;\n",
       "    }\n",
       "\n",
       "    .dataframe tbody tr th {\n",
       "        vertical-align: top;\n",
       "    }\n",
       "\n",
       "    .dataframe thead th {\n",
       "        text-align: right;\n",
       "    }\n",
       "</style>\n",
       "<table border=\"1\" class=\"dataframe\">\n",
       "  <thead>\n",
       "    <tr style=\"text-align: right;\">\n",
       "      <th></th>\n",
       "      <th>A5WC0000008000</th>\n",
       "      <th>A5WC0000000200</th>\n",
       "      <th>IE0300007</th>\n",
       "    </tr>\n",
       "  </thead>\n",
       "  <tbody>\n",
       "    <tr>\n",
       "      <th>0</th>\n",
       "      <td>30000</td>\n",
       "      <td>30000</td>\n",
       "      <td>3000</td>\n",
       "    </tr>\n",
       "    <tr>\n",
       "      <th>1</th>\n",
       "      <td>19000</td>\n",
       "      <td>19000</td>\n",
       "      <td>1900</td>\n",
       "    </tr>\n",
       "    <tr>\n",
       "      <th>2</th>\n",
       "      <td>24000</td>\n",
       "      <td>24000</td>\n",
       "      <td>2400</td>\n",
       "    </tr>\n",
       "    <tr>\n",
       "      <th>3</th>\n",
       "      <td>36000</td>\n",
       "      <td>36000</td>\n",
       "      <td>3600</td>\n",
       "    </tr>\n",
       "    <tr>\n",
       "      <th>4</th>\n",
       "      <td>33000</td>\n",
       "      <td>33000</td>\n",
       "      <td>3300</td>\n",
       "    </tr>\n",
       "  </tbody>\n",
       "</table>\n",
       "</div>"
      ],
      "text/plain": [
       "   A5WC0000008000  A5WC0000000200  IE0300007\n",
       "0           30000           30000       3000\n",
       "1           19000           19000       1900\n",
       "2           24000           24000       2400\n",
       "3           36000           36000       3600\n",
       "4           33000           33000       3300"
      ]
     },
     "execution_count": 137,
     "metadata": {},
     "output_type": "execute_result"
    }
   ],
   "source": [
    "total_df[need_cols].head()"
   ]
  },
  {
   "cell_type": "code",
   "execution_count": 138,
   "metadata": {},
   "outputs": [],
   "source": [
    "total_df['INCOME'] = total_df[need_cols].apply(lambda x: _get_year_income(x['A5WC0000008000'],\n",
    "                                                                          x['A5WC0000000200'],\n",
    "                                                                          x['IE0300007']), axis = 1)"
   ]
  },
  {
   "cell_type": "code",
   "execution_count": 139,
   "metadata": {},
   "outputs": [],
   "source": [
    "inner_total_df['INCOME'] = total_df['INCOME']"
   ]
  },
  {
   "cell_type": "markdown",
   "metadata": {},
   "source": [
    "# <font color='orange'>03. 연소득 컬럼 구간 interval 컬럼 생성"
   ]
  },
  {
   "cell_type": "markdown",
   "metadata": {},
   "source": [
    "```\n",
    "SEG 1\n",
    "    0~12000미만 = 1\n",
    "    12000~16000미만 = 2　 　 \n",
    "    16000~20000미만 = 3　 \n",
    "    20000~24000미만 = 4 　 　 \n",
    "　 　 　 　 　 　 \n",
    "SEG 2 \n",
    "    24000~27000미만 = 5\n",
    "    27000~30000미만 = 6\n",
    "    30000~33000미만 = 7 　 \n",
    "    33000~35000미만 = 8\n",
    "　 　 　 　 \n",
    "SEG 3 \n",
    "    35000~40000미만 = 9\n",
    "    40000~45000미만 = 10\n",
    "    45000~50000미만 = 11\n",
    "    50000~55000미만 = 12\n",
    "    55000~60000미만 = 13\n",
    "    60000이상 = 14\n",
    "```\n",
    "\n",
    "* 연소득 구간화 컬럼 명명\n",
    "  * INCOME_INTERVAL"
   ]
  },
  {
   "cell_type": "markdown",
   "metadata": {},
   "source": [
    "### 방법1. pandas cut 사용"
   ]
  },
  {
   "cell_type": "code",
   "execution_count": 140,
   "metadata": {},
   "outputs": [],
   "source": [
    "income_edge_list= [0,12000,16000,20000,24000,\n",
    "                   27000,30000,33000,35000,\n",
    "                  40000,45000,50000,55000,60000,np.inf]"
   ]
  },
  {
   "cell_type": "code",
   "execution_count": 141,
   "metadata": {},
   "outputs": [],
   "source": [
    "# 구간값 생성\n",
    "## 구간 경계값 : 최소-이상, 최대-미만\n",
    "income_interval = pd.cut(total_df['INCOME'], bins = income_edge_list, right=False, )"
   ]
  },
  {
   "cell_type": "code",
   "execution_count": 142,
   "metadata": {},
   "outputs": [
    {
     "data": {
      "text/plain": [
       "0         [30000.0, 33000.0)\n",
       "1         [16000.0, 20000.0)\n",
       "2         [24000.0, 27000.0)\n",
       "3         [35000.0, 40000.0)\n",
       "4         [33000.0, 35000.0)\n",
       "                 ...        \n",
       "418974    [35000.0, 40000.0)\n",
       "418975    [27000.0, 30000.0)\n",
       "418976    [24000.0, 27000.0)\n",
       "418977    [12000.0, 16000.0)\n",
       "418978    [27000.0, 30000.0)\n",
       "Name: INCOME, Length: 418979, dtype: category\n",
       "Categories (14, interval[float64]): [[0.0, 12000.0) < [12000.0, 16000.0) < [16000.0, 20000.0) < [20000.0, 24000.0) ... [45000.0, 50000.0) < [50000.0, 55000.0) < [55000.0, 60000.0) < [60000.0, inf)]"
      ]
     },
     "execution_count": 142,
     "metadata": {},
     "output_type": "execute_result"
    }
   ],
   "source": [
    "income_interval"
   ]
  },
  {
   "cell_type": "code",
   "execution_count": 143,
   "metadata": {},
   "outputs": [],
   "source": [
    "# unique한 구간값 \n",
    "income_interval_categories = income_interval.cat.categories.values\n",
    "\n",
    "# 각 대상건의 구간값 코드화\n",
    "income_interval_codes = income_interval.cat.codes.values\n",
    "# 각 구간값 1부터 시작하도록 +1\n",
    "income_interval_codes = income_interval_codes + 1"
   ]
  },
  {
   "cell_type": "code",
   "execution_count": 144,
   "metadata": {},
   "outputs": [],
   "source": [
    "total_df['INCOME_INTERVAL'] = income_interval_codes"
   ]
  },
  {
   "cell_type": "code",
   "execution_count": 145,
   "metadata": {},
   "outputs": [],
   "source": [
    "inner_total_df['INCOME_INTERVAL'] = total_df['INCOME_INTERVAL']"
   ]
  },
  {
   "cell_type": "markdown",
   "metadata": {},
   "source": [
    "### 방법2. 함수 정의"
   ]
  },
  {
   "cell_type": "code",
   "execution_count": 146,
   "metadata": {},
   "outputs": [],
   "source": [
    "def _get_year_income_interval(year_income):\n",
    "    year_income_interval = 0\n",
    "    # SEG 1 \n",
    "    if 0 <= year_income < 12000:\n",
    "        year_income_interval = 1\n",
    "    elif 12000 <= year_income < 16000:\n",
    "        year_income_interval = 2\n",
    "    elif 16000 <= year_income < 20000:\n",
    "        year_income_interval = 3\n",
    "    elif 20000 <= year_income < 24000:\n",
    "        year_income_interval = 4\n",
    "        \n",
    "    # SEG 2\n",
    "    elif 24000 <= year_income < 27000:\n",
    "        year_income_interval = 5\n",
    "    elif 27000 <= year_income < 30000:\n",
    "        year_income_interval = 6\n",
    "    elif 30000 <= year_income < 33000:\n",
    "        year_income_interval = 7\n",
    "    elif 33000 <= year_income < 35000:\n",
    "        year_income_interval = 8\n",
    "    \n",
    "    # SEG 3\n",
    "    elif 35000 <= year_income < 40000:\n",
    "        year_income_interval = 9\n",
    "    elif 40000 <= year_income < 45000:\n",
    "        year_income_interval = 10\n",
    "    elif 45000 <= year_income < 50000:\n",
    "        year_income_interval = 11\n",
    "    elif 50000 <= year_income < 55000:\n",
    "        year_income_interval = 12\n",
    "    elif 55000 <= year_income < 60000:\n",
    "        year_income_interval = 13\n",
    "    else:\n",
    "        year_income_interval = 14\n",
    "        \n",
    "    return year_income_interval"
   ]
  },
  {
   "cell_type": "code",
   "execution_count": 147,
   "metadata": {},
   "outputs": [],
   "source": [
    "total_df['INCOME_INTERVAL'] = total_df['INCOME'].apply(lambda x: _get_year_income_interval(x))"
   ]
  },
  {
   "cell_type": "code",
   "execution_count": 148,
   "metadata": {},
   "outputs": [],
   "source": [
    "inner_total_df['INCOME_INTERVAL'] = total_df['INCOME_INTERVAL']"
   ]
  },
  {
   "cell_type": "markdown",
   "metadata": {},
   "source": [
    "# <font color='orange'>04. UDIR 구간화 컬럼 생성"
   ]
  },
  {
   "cell_type": "markdown",
   "metadata": {},
   "source": [
    "* A5RCLSRL013400 웰컴용UDIR \n",
    "\n",
    "```\n",
    "    0~50미만 = 1\n",
    "    50~100미만 = 2\n",
    "    100~150미만 = 3\n",
    "    150~200미만 = 4\n",
    "    200~250미만 = 5\n",
    "    250~300이하 = 6\n",
    "    300초과 = 7\n",
    "```\n",
    "\n",
    "\n",
    "* UDIR 구간화 컬럼 명명\n",
    "  * UDIR_INTERVAL"
   ]
  },
  {
   "cell_type": "code",
   "execution_count": 149,
   "metadata": {},
   "outputs": [],
   "source": [
    "def _get_udir_interval(A5RCLSRL013400):\n",
    "    udir_interval = 0\n",
    "    \n",
    "    if 0 <= A5RCLSRL013400 < 50:\n",
    "        udir_interval = 1\n",
    "    elif 50 <= A5RCLSRL013400 < 100:\n",
    "        udir_interval = 2\n",
    "    elif 100 <= A5RCLSRL013400 < 150:\n",
    "        udir_interval = 3\n",
    "    elif 150 <= A5RCLSRL013400 < 200:\n",
    "        udir_interval = 4\n",
    "    elif 200 <= A5RCLSRL013400 < 250:\n",
    "        udir_interval = 5\n",
    "    elif 250 <= A5RCLSRL013400 <= 300:\n",
    "        udir_interval = 6\n",
    "    elif 300 < A5RCLSRL013400:\n",
    "        udir_interval = 7\n",
    "        \n",
    "    return udir_interval"
   ]
  },
  {
   "cell_type": "code",
   "execution_count": 150,
   "metadata": {},
   "outputs": [],
   "source": [
    "total_df['UDIR_INTERVAL'] = total_df['A5RCLSRL013400'].apply(lambda x: _get_udir_interval(x))"
   ]
  },
  {
   "cell_type": "code",
   "execution_count": 151,
   "metadata": {},
   "outputs": [],
   "source": [
    "inner_total_df['UDIR'] = total_df['A5RCLSRL013400']\n",
    "inner_total_df['UDIR_INTERVAL'] = total_df['UDIR_INTERVAL']"
   ]
  },
  {
   "cell_type": "markdown",
   "metadata": {},
   "source": [
    "# <font color='orange'>05. SEG 생성"
   ]
  },
  {
   "cell_type": "code",
   "execution_count": 152,
   "metadata": {},
   "outputs": [],
   "source": [
    "def _get_seg(year_income_interval, udir_interval):\n",
    "    seg = 0\n",
    "    if (year_income_interval in [1,2,3,4]) and (udir_interval in [1,2,3,4]):\n",
    "        seg = 1\n",
    "    elif (year_income_interval in [5,6,7,8]) and (udir_interval in [1,2,3,4,5]): \n",
    "        seg = 2\n",
    "    elif (year_income_interval in [9,10,11,12,13,14]) and (udir_interval in [1,2,3,4,5,6]):\n",
    "        seg = 3\n",
    "        \n",
    "    return seg"
   ]
  },
  {
   "cell_type": "code",
   "execution_count": 153,
   "metadata": {},
   "outputs": [],
   "source": [
    "need_cols = ['INCOME_INTERVAL','UDIR_INTERVAL']"
   ]
  },
  {
   "cell_type": "code",
   "execution_count": 154,
   "metadata": {},
   "outputs": [],
   "source": [
    "total_df['SEG'] = total_df[need_cols].apply(lambda x: _get_seg(x['INCOME_INTERVAL'],\n",
    "                                                  x['UDIR_INTERVAL']), axis = 1)"
   ]
  },
  {
   "cell_type": "code",
   "execution_count": 155,
   "metadata": {},
   "outputs": [],
   "source": [
    "inner_total_df['SEG'] = total_df['SEG']"
   ]
  },
  {
   "cell_type": "markdown",
   "metadata": {},
   "source": [
    "# <font color='orange'>06. SEG 재구성"
   ]
  },
  {
   "cell_type": "markdown",
   "metadata": {},
   "source": [
    "* seg1, 2 -> seg1\n",
    "* seg3 -> 2"
   ]
  },
  {
   "cell_type": "code",
   "execution_count": 156,
   "metadata": {},
   "outputs": [],
   "source": [
    "def _get_final_seg(seg):\n",
    "    final_seg = 0\n",
    "    \n",
    "    if seg == 1 or seg == 2:\n",
    "        final_seg = 1\n",
    "    elif seg == 3:\n",
    "        final_seg = 2\n",
    "    return final_seg"
   ]
  },
  {
   "cell_type": "code",
   "execution_count": 157,
   "metadata": {},
   "outputs": [],
   "source": [
    "total_df['FINAL_SEG'] = total_df['SEG'].apply(lambda x: _get_final_seg(x))"
   ]
  },
  {
   "cell_type": "code",
   "execution_count": 158,
   "metadata": {},
   "outputs": [],
   "source": [
    "inner_total_df['FINAL_SEG']=total_df['FINAL_SEG'] "
   ]
  },
  {
   "cell_type": "markdown",
   "metadata": {},
   "source": [
    "# <font color='orange'>07. 저장"
   ]
  },
  {
   "cell_type": "code",
   "execution_count": 159,
   "metadata": {},
   "outputs": [],
   "source": [
    "save_path = r'C:\\Users\\w10\\Desktop\\신용평가모형 세미나\\2주차\\데이터\\temp'"
   ]
  },
  {
   "cell_type": "code",
   "execution_count": 160,
   "metadata": {},
   "outputs": [],
   "source": [
    "inner_total_df.to_csv(os.path.join(save_path, 'temp4_inner_total_df.csv'), index = False)"
   ]
  },
  {
   "cell_type": "code",
   "execution_count": null,
   "metadata": {},
   "outputs": [],
   "source": []
  },
  {
   "cell_type": "code",
   "execution_count": null,
   "metadata": {},
   "outputs": [],
   "source": []
  }
 ],
 "metadata": {
  "kernelspec": {
   "display_name": "Python 3",
   "language": "python",
   "name": "python3"
  },
  "language_info": {
   "codemirror_mode": {
    "name": "ipython",
    "version": 3
   },
   "file_extension": ".py",
   "mimetype": "text/x-python",
   "name": "python",
   "nbconvert_exporter": "python",
   "pygments_lexer": "ipython3",
   "version": "3.7.4"
  }
 },
 "nbformat": 4,
 "nbformat_minor": 4
}
