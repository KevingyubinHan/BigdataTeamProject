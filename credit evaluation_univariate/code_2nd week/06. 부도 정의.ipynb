{
 "cells": [
  {
   "cell_type": "code",
   "execution_count": 1,
   "metadata": {},
   "outputs": [],
   "source": [
    "import pandas as pd\n",
    "import numpy as np\n",
    "import os\n",
    "import warnings\n",
    "warnings.filterwarnings('ignore')\n",
    "from datetime import datetime"
   ]
  },
  {
   "cell_type": "markdown",
   "metadata": {},
   "source": [
    "# <font color='orange'>01. load data"
   ]
  },
  {
   "cell_type": "code",
   "execution_count": 2,
   "metadata": {},
   "outputs": [],
   "source": [
    "rootpath = r'C:\\Users\\w10\\Desktop\\신용평가모형 세미나\\2주차\\데이터\\temp'"
   ]
  },
  {
   "cell_type": "code",
   "execution_count": 3,
   "metadata": {},
   "outputs": [
    {
     "data": {
      "text/plain": [
       "['temp1_inner_total_df.csv',\n",
       " 'temp2_inner_total_df.csv',\n",
       " 'temp3_inner_total_df.csv',\n",
       " 'temp4_inner_total_df.csv',\n",
       " 'temp5_inner_total_df.csv',\n",
       " 'total_df.pkl']"
      ]
     },
     "execution_count": 3,
     "metadata": {},
     "output_type": "execute_result"
    }
   ],
   "source": [
    "os.listdir(rootpath)"
   ]
  },
  {
   "cell_type": "code",
   "execution_count": 4,
   "metadata": {},
   "outputs": [],
   "source": [
    "total_df = pd.read_pickle(os.path.join(rootpath, 'total_df.pkl'), )"
   ]
  },
  {
   "cell_type": "code",
   "execution_count": 5,
   "metadata": {},
   "outputs": [],
   "source": [
    "inner_total_df = pd.read_csv(os.path.join(rootpath, 'temp5_inner_total_df.csv'), )"
   ]
  },
  {
   "cell_type": "code",
   "execution_count": 6,
   "metadata": {},
   "outputs": [
    {
     "data": {
      "text/html": [
       "<div>\n",
       "<style scoped>\n",
       "    .dataframe tbody tr th:only-of-type {\n",
       "        vertical-align: middle;\n",
       "    }\n",
       "\n",
       "    .dataframe tbody tr th {\n",
       "        vertical-align: top;\n",
       "    }\n",
       "\n",
       "    .dataframe thead th {\n",
       "        text-align: right;\n",
       "    }\n",
       "</style>\n",
       "<table border=\"1\" class=\"dataframe\">\n",
       "  <thead>\n",
       "    <tr style=\"text-align: right;\">\n",
       "      <th></th>\n",
       "      <th>no</th>\n",
       "      <th>신청월</th>\n",
       "      <th>직군그룹</th>\n",
       "      <th>근속기간1</th>\n",
       "      <th>웰컴_소득구간</th>\n",
       "      <th>심사원장_소득구간</th>\n",
       "      <th>AS0000136</th>\n",
       "      <th>AS0000137</th>\n",
       "      <th>AS0000138</th>\n",
       "      <th>AS0000139</th>\n",
       "      <th>...</th>\n",
       "      <th>P2O000500_1_s6</th>\n",
       "      <th>LA0000001_1_s9</th>\n",
       "      <th>LA0000020_1_s9</th>\n",
       "      <th>LA0000227_1_s9</th>\n",
       "      <th>P2E000500_1_s9</th>\n",
       "      <th>LA0000001_1_s12</th>\n",
       "      <th>LA0000020_1_s12</th>\n",
       "      <th>LA0000204_1_s12</th>\n",
       "      <th>LA0000227_1_s12</th>\n",
       "      <th>P2O000500_1_s12</th>\n",
       "    </tr>\n",
       "  </thead>\n",
       "  <tbody>\n",
       "    <tr>\n",
       "      <th>0</th>\n",
       "      <td>1</td>\n",
       "      <td>201612</td>\n",
       "      <td>NaN</td>\n",
       "      <td>5.0</td>\n",
       "      <td>5.0</td>\n",
       "      <td>0.0</td>\n",
       "      <td>26</td>\n",
       "      <td>-1</td>\n",
       "      <td>1</td>\n",
       "      <td>0</td>\n",
       "      <td>...</td>\n",
       "      <td>0.0</td>\n",
       "      <td>0.15</td>\n",
       "      <td>0.15</td>\n",
       "      <td>345.45</td>\n",
       "      <td>0.0</td>\n",
       "      <td>0.09</td>\n",
       "      <td>0.09</td>\n",
       "      <td>214.29</td>\n",
       "      <td>214.29</td>\n",
       "      <td>0.0</td>\n",
       "    </tr>\n",
       "    <tr>\n",
       "      <th>1</th>\n",
       "      <td>2</td>\n",
       "      <td>201612</td>\n",
       "      <td>D</td>\n",
       "      <td>5.0</td>\n",
       "      <td>2.0</td>\n",
       "      <td>0.0</td>\n",
       "      <td>-1</td>\n",
       "      <td>32</td>\n",
       "      <td>1</td>\n",
       "      <td>0</td>\n",
       "      <td>...</td>\n",
       "      <td>0.0</td>\n",
       "      <td>0.00</td>\n",
       "      <td>0.00</td>\n",
       "      <td>0.00</td>\n",
       "      <td>0.0</td>\n",
       "      <td>0.00</td>\n",
       "      <td>0.00</td>\n",
       "      <td>0.00</td>\n",
       "      <td>0.00</td>\n",
       "      <td>0.0</td>\n",
       "    </tr>\n",
       "  </tbody>\n",
       "</table>\n",
       "<p>2 rows × 1928 columns</p>\n",
       "</div>"
      ],
      "text/plain": [
       "   no     신청월 직군그룹  근속기간1  웰컴_소득구간  심사원장_소득구간  AS0000136  AS0000137  \\\n",
       "0   1  201612  NaN    5.0      5.0        0.0         26         -1   \n",
       "1   2  201612    D    5.0      2.0        0.0         -1         32   \n",
       "\n",
       "   AS0000138  AS0000139  ...  P2O000500_1_s6  LA0000001_1_s9  LA0000020_1_s9  \\\n",
       "0          1          0  ...             0.0            0.15            0.15   \n",
       "1          1          0  ...             0.0            0.00            0.00   \n",
       "\n",
       "   LA0000227_1_s9  P2E000500_1_s9  LA0000001_1_s12  LA0000020_1_s12  \\\n",
       "0          345.45             0.0             0.09             0.09   \n",
       "1            0.00             0.0             0.00             0.00   \n",
       "\n",
       "   LA0000204_1_s12  LA0000227_1_s12  P2O000500_1_s12  \n",
       "0           214.29           214.29              0.0  \n",
       "1             0.00             0.00              0.0  \n",
       "\n",
       "[2 rows x 1928 columns]"
      ]
     },
     "execution_count": 6,
     "metadata": {},
     "output_type": "execute_result"
    }
   ],
   "source": [
    "total_df.head(2)"
   ]
  },
  {
   "cell_type": "code",
   "execution_count": 7,
   "metadata": {},
   "outputs": [
    {
     "data": {
      "text/html": [
       "<div>\n",
       "<style scoped>\n",
       "    .dataframe tbody tr th:only-of-type {\n",
       "        vertical-align: middle;\n",
       "    }\n",
       "\n",
       "    .dataframe tbody tr th {\n",
       "        vertical-align: top;\n",
       "    }\n",
       "\n",
       "    .dataframe thead th {\n",
       "        text-align: right;\n",
       "    }\n",
       "</style>\n",
       "<table border=\"1\" class=\"dataframe\">\n",
       "  <thead>\n",
       "    <tr style=\"text-align: right;\">\n",
       "      <th></th>\n",
       "      <th>no</th>\n",
       "      <th>신청월</th>\n",
       "      <th>직군그룹</th>\n",
       "      <th>근속기간1</th>\n",
       "      <th>웰컴_소득구간</th>\n",
       "      <th>심사원장_소득구간</th>\n",
       "      <th>EXECUTE_FG</th>\n",
       "      <th>DESTRUCT_FG</th>\n",
       "      <th>Y_2017_FG</th>\n",
       "      <th>Y_2018_FG</th>\n",
       "      <th>...</th>\n",
       "      <th>INCOME</th>\n",
       "      <th>INCOME_INTERVAL</th>\n",
       "      <th>UDIR</th>\n",
       "      <th>UDIR_INTERVAL</th>\n",
       "      <th>SEG</th>\n",
       "      <th>FINAL_SEG</th>\n",
       "      <th>CAP_34</th>\n",
       "      <th>THE_DEAD</th>\n",
       "      <th>NOT_DEV_DATE_FG</th>\n",
       "      <th>DEV_TARGET_FG</th>\n",
       "    </tr>\n",
       "  </thead>\n",
       "  <tbody>\n",
       "    <tr>\n",
       "      <th>0</th>\n",
       "      <td>1</td>\n",
       "      <td>201612</td>\n",
       "      <td>NaN</td>\n",
       "      <td>5.0</td>\n",
       "      <td>5.0</td>\n",
       "      <td>0.0</td>\n",
       "      <td>0</td>\n",
       "      <td>1</td>\n",
       "      <td>1</td>\n",
       "      <td>0</td>\n",
       "      <td>...</td>\n",
       "      <td>30000</td>\n",
       "      <td>7</td>\n",
       "      <td>65.92</td>\n",
       "      <td>2</td>\n",
       "      <td>2</td>\n",
       "      <td>1</td>\n",
       "      <td>0</td>\n",
       "      <td>0</td>\n",
       "      <td>0</td>\n",
       "      <td>1</td>\n",
       "    </tr>\n",
       "    <tr>\n",
       "      <th>1</th>\n",
       "      <td>2</td>\n",
       "      <td>201612</td>\n",
       "      <td>D</td>\n",
       "      <td>5.0</td>\n",
       "      <td>2.0</td>\n",
       "      <td>0.0</td>\n",
       "      <td>0</td>\n",
       "      <td>1</td>\n",
       "      <td>1</td>\n",
       "      <td>0</td>\n",
       "      <td>...</td>\n",
       "      <td>19000</td>\n",
       "      <td>3</td>\n",
       "      <td>68.25</td>\n",
       "      <td>2</td>\n",
       "      <td>1</td>\n",
       "      <td>1</td>\n",
       "      <td>0</td>\n",
       "      <td>0</td>\n",
       "      <td>0</td>\n",
       "      <td>1</td>\n",
       "    </tr>\n",
       "  </tbody>\n",
       "</table>\n",
       "<p>2 rows × 52 columns</p>\n",
       "</div>"
      ],
      "text/plain": [
       "   no     신청월 직군그룹  근속기간1  웰컴_소득구간  심사원장_소득구간  EXECUTE_FG  DESTRUCT_FG  \\\n",
       "0   1  201612  NaN    5.0      5.0        0.0           0            1   \n",
       "1   2  201612    D    5.0      2.0        0.0           0            1   \n",
       "\n",
       "   Y_2017_FG  Y_2018_FG  ...  INCOME  INCOME_INTERVAL   UDIR  UDIR_INTERVAL  \\\n",
       "0          1          0  ...   30000                7  65.92              2   \n",
       "1          1          0  ...   19000                3  68.25              2   \n",
       "\n",
       "   SEG  FINAL_SEG  CAP_34  THE_DEAD  NOT_DEV_DATE_FG  DEV_TARGET_FG  \n",
       "0    2          1       0         0                0              1  \n",
       "1    1          1       0         0                0              1  \n",
       "\n",
       "[2 rows x 52 columns]"
      ]
     },
     "execution_count": 7,
     "metadata": {},
     "output_type": "execute_result"
    }
   ],
   "source": [
    "inner_total_df.head(2)"
   ]
  },
  {
   "cell_type": "markdown",
   "metadata": {},
   "source": [
    "# <font color='orange'>02. 현행 VER7 부도 정의 준용"
   ]
  },
  {
   "cell_type": "markdown",
   "metadata": {},
   "source": [
    "### 채무불이행/공공정보등록"
   ]
  },
  {
   "cell_type": "code",
   "execution_count": 9,
   "metadata": {},
   "outputs": [],
   "source": [
    "def _get_bad_common(TPERF0003, TPERF0005):\n",
    "    bad_common = 0\n",
    "    \n",
    "    if TPERF0003 > 0 or TPERF0005 > 0:\n",
    "        bad_common = 1\n",
    "    else:\n",
    "        bad_common = 0\n",
    "        \n",
    "    return bad_common\n"
   ]
  },
  {
   "cell_type": "code",
   "execution_count": 10,
   "metadata": {},
   "outputs": [],
   "source": [
    "bad_need_cols = ['TPERF0003', 'TPERF0005',]"
   ]
  },
  {
   "cell_type": "code",
   "execution_count": 11,
   "metadata": {},
   "outputs": [],
   "source": [
    "total_df['BAD_공공'] = total_df[bad_need_cols].apply(lambda x: _get_bad_common(x['TPERF0003'], x['TPERF0005'],), axis = 1)"
   ]
  },
  {
   "cell_type": "code",
   "execution_count": 12,
   "metadata": {},
   "outputs": [],
   "source": [
    "inner_total_df['BAD_공공'] = total_df['BAD_공공']"
   ]
  },
  {
   "cell_type": "markdown",
   "metadata": {},
   "source": [
    "### 금융연체 1년 60일 이상"
   ]
  },
  {
   "cell_type": "code",
   "execution_count": 13,
   "metadata": {},
   "outputs": [],
   "source": [
    "def _get_bad_finan(TPERF0013, DQ_BANK_12, DQ_LEASE_12, DQ_CARD_12,\n",
    "                  DQ_CAPITAL_12, DQ_SB_12,):\n",
    "    bad_finan = 0\n",
    "    \n",
    "    if (TPERF0013 >= 60 or  DQ_BANK_12 >= 60 or  DQ_LEASE_12 >= 60 or  \n",
    "        DQ_CARD_12 >= 30 or DQ_CAPITAL_12 >= 30 or  DQ_SB_12 >= 30):\n",
    "        bad_finan = 1\n",
    "    else:\n",
    "        bad_finan = 0\n",
    "        \n",
    "    return bad_finan"
   ]
  },
  {
   "cell_type": "code",
   "execution_count": 14,
   "metadata": {},
   "outputs": [],
   "source": [
    "bad_need_cols = ['TPERF0013', 'DQ_BANK_12', 'DQ_LEASE_12', 'DQ_CARD_12',\n",
    "                  'DQ_CAPITAL_12', 'DQ_SB_12']"
   ]
  },
  {
   "cell_type": "code",
   "execution_count": 15,
   "metadata": {},
   "outputs": [],
   "source": [
    "total_df['BAD_금융_12'] = total_df[bad_need_cols].apply(lambda x: _get_bad_finan(x['TPERF0013'],\n",
    "                                                                                   x['DQ_BANK_12'],\n",
    "                                                                                    x['DQ_LEASE_12'],\n",
    "                                                                                    x['DQ_CARD_12'],\n",
    "                                                                                    x['DQ_CAPITAL_12'],\n",
    "                                                                                    x['DQ_SB_12'],\n",
    "                                                                                   ), axis = 1)"
   ]
  },
  {
   "cell_type": "code",
   "execution_count": 16,
   "metadata": {},
   "outputs": [],
   "source": [
    "inner_total_df['BAD_금융_12'] = total_df['BAD_금융_12']"
   ]
  },
  {
   "cell_type": "markdown",
   "metadata": {},
   "source": [
    "#### 업권별 금융연체 1년내 60/30일 이상"
   ]
  },
  {
   "cell_type": "code",
   "execution_count": 17,
   "metadata": {},
   "outputs": [],
   "source": [
    "def _get_bad_busi(TPERF0013, DQ_BANK_12, DQ_LEASE_12, DQ_CARD_12,\n",
    "                  DQ_CAPITAL_12, DQ_SB_12):\n",
    "    bad_short = 0\n",
    "    bad_bank = 0\n",
    "    bad_lease = 0\n",
    "    bad_card = 0\n",
    "    bad_capital = 0\n",
    "    bad_sb = 0\n",
    "    \n",
    "    if TPERF0013 >= 60:\n",
    "        bad_short = 1\n",
    "\n",
    "    if DQ_BANK_12 >= 60:\n",
    "        bad_bank = 1\n",
    " \n",
    "    if DQ_LEASE_12 >= 60:\n",
    "        bad_card = 1\n",
    "\n",
    "    if DQ_CARD_12 >= 30:\n",
    "        bad_lease = 1\n",
    "   \n",
    "    if DQ_CAPITAL_12 >= 30:\n",
    "        bad_capital = 1\n",
    "  \n",
    "    if DQ_SB_12 >= 30:\n",
    "        bad_sb = 1\n",
    "    \n",
    "    return bad_short, bad_bank, bad_lease, bad_card, bad_capital, bad_sb\n",
    "        "
   ]
  },
  {
   "cell_type": "code",
   "execution_count": 18,
   "metadata": {},
   "outputs": [],
   "source": [
    "bad_need_cols = ['TPERF0013', 'DQ_BANK_12', 'DQ_LEASE_12', 'DQ_CARD_12',\n",
    "                  'DQ_CAPITAL_12', 'DQ_SB_12']"
   ]
  },
  {
   "cell_type": "code",
   "execution_count": 19,
   "metadata": {},
   "outputs": [],
   "source": [
    "result_cols = ['BAD_금융_단기_12','BAD_금융_은행_12','BAD_금융_리스_12',\n",
    "              'BAD_금융_카드_12','BAD_금융_캐피탈_12','BAD_금융_저축은행_12',]"
   ]
  },
  {
   "cell_type": "code",
   "execution_count": 20,
   "metadata": {},
   "outputs": [],
   "source": [
    "total_df[result_cols] = total_df[bad_need_cols].apply(lambda x: _get_bad_busi(x['TPERF0013'],\n",
    "                                                                           x['DQ_BANK_12'],\n",
    "                                                                            x['DQ_LEASE_12'],\n",
    "                                                                            x['DQ_CARD_12'],\n",
    "                                                                            x['DQ_CAPITAL_12'],\n",
    "                                                                            x['DQ_SB_12'],\n",
    "                                                                           ), axis = 1, result_type = 'expand')"
   ]
  },
  {
   "cell_type": "code",
   "execution_count": 21,
   "metadata": {},
   "outputs": [],
   "source": [
    "inner_total_df[result_cols] = total_df[result_cols]"
   ]
  },
  {
   "cell_type": "markdown",
   "metadata": {},
   "source": [
    "### 대부연체 1년내 30일 이상"
   ]
  },
  {
   "cell_type": "code",
   "execution_count": 22,
   "metadata": {},
   "outputs": [],
   "source": [
    "def _get_bad_ml(DQ_DB_12):\n",
    "    bad_ml = 0\n",
    "    \n",
    "    if DQ_DB_12 >= 30:\n",
    "        bad_ml = 1\n",
    "        \n",
    "    return bad_ml"
   ]
  },
  {
   "cell_type": "code",
   "execution_count": 23,
   "metadata": {},
   "outputs": [],
   "source": [
    "total_df['BAD_대부_12'] = total_df['DQ_DB_12'].apply(lambda x: _get_bad_ml(x))"
   ]
  },
  {
   "cell_type": "code",
   "execution_count": 24,
   "metadata": {},
   "outputs": [],
   "source": [
    "inner_total_df['BAD_대부_12'] = total_df['BAD_대부_12']"
   ]
  },
  {
   "cell_type": "markdown",
   "metadata": {},
   "source": [
    "### 금융연체 6개월내 10일 초과"
   ]
  },
  {
   "cell_type": "code",
   "execution_count": 25,
   "metadata": {},
   "outputs": [],
   "source": [
    "def _get_bad_finan(DQ_CARD_6, \n",
    "                  DQ_CAPITAL_6, DQ_SB_6,):\n",
    "    bad_finan = 0\n",
    "    \n",
    "    if (DQ_CARD_6 > 10 or \n",
    "        DQ_CAPITAL_6 > 10 or  DQ_SB_6 > 10):\n",
    "        bad_finan = 1\n",
    "    else:\n",
    "        bad_finan = 0\n",
    "        \n",
    "    return bad_finan"
   ]
  },
  {
   "cell_type": "code",
   "execution_count": 26,
   "metadata": {},
   "outputs": [],
   "source": [
    "bad_need_cols = ['DQ_CARD_6',\n",
    "                  'DQ_CAPITAL_6', 'DQ_SB_6']"
   ]
  },
  {
   "cell_type": "code",
   "execution_count": 27,
   "metadata": {},
   "outputs": [],
   "source": [
    "total_df['BAD_금융_6'] = total_df[bad_need_cols].apply(lambda x: _get_bad_finan(\n",
    "                                                                    x['DQ_CARD_6'],\n",
    "                                                                    x['DQ_CAPITAL_6'],\n",
    "                                                                    x['DQ_SB_6'],\n",
    "                                                                   ), axis = 1)"
   ]
  },
  {
   "cell_type": "code",
   "execution_count": 28,
   "metadata": {},
   "outputs": [],
   "source": [
    "inner_total_df['BAD_금융_6'] = total_df['BAD_금융_6']"
   ]
  },
  {
   "cell_type": "markdown",
   "metadata": {},
   "source": [
    "#### 업권별 금융연체 6개월내 10일 초과"
   ]
  },
  {
   "cell_type": "code",
   "execution_count": 29,
   "metadata": {},
   "outputs": [],
   "source": [
    "def _get_bad_busi(DQ_CARD_6, \n",
    "                  DQ_CAPITAL_6, DQ_SB_6):\n",
    "    bad_card = 0\n",
    "    bad_capital = 0\n",
    "    bad_sb = 0\n",
    "    \n",
    "\n",
    " \n",
    "    if DQ_CARD_6 > 10:\n",
    "        bad_card = 1\n",
    "\n",
    "   \n",
    "    if DQ_CAPITAL_6 > 10:\n",
    "        bad_capital = 1\n",
    "  \n",
    "    if DQ_SB_6 > 10:\n",
    "        bad_sb = 1\n",
    "    \n",
    "    return bad_card,  bad_capital, bad_sb\n",
    "        "
   ]
  },
  {
   "cell_type": "code",
   "execution_count": 30,
   "metadata": {},
   "outputs": [],
   "source": [
    "bad_need_cols = [ 'DQ_CARD_6',\n",
    "                  'DQ_CAPITAL_6', 'DQ_SB_6']"
   ]
  },
  {
   "cell_type": "code",
   "execution_count": 31,
   "metadata": {},
   "outputs": [],
   "source": [
    "result_cols = ['BAD_금융_카드_6',\n",
    "            'BAD_금융_캐피탈_6','BAD_금융_저축은행_6',]"
   ]
  },
  {
   "cell_type": "code",
   "execution_count": 32,
   "metadata": {},
   "outputs": [],
   "source": [
    "total_df[result_cols] = total_df[bad_need_cols].apply(lambda x: _get_bad_busi(\n",
    "                                                                                x['DQ_CARD_6'],\n",
    "                                                                                x['DQ_CAPITAL_6'],\n",
    "                                                                                x['DQ_SB_6'],\n",
    "                                                                               ), axis = 1, result_type = 'expand')"
   ]
  },
  {
   "cell_type": "code",
   "execution_count": 33,
   "metadata": {},
   "outputs": [],
   "source": [
    "inner_total_df[result_cols] = total_df[result_cols]"
   ]
  },
  {
   "cell_type": "markdown",
   "metadata": {},
   "source": [
    "### 대부연체 6개월내 10일 초과"
   ]
  },
  {
   "cell_type": "code",
   "execution_count": 34,
   "metadata": {},
   "outputs": [],
   "source": [
    "def _get_bad_ml(DQ_DB_6):\n",
    "    bad_ml = 0\n",
    "    \n",
    "    if DQ_DB_6 > 10:\n",
    "        bad_ml = 1\n",
    "        \n",
    "    return bad_ml"
   ]
  },
  {
   "cell_type": "code",
   "execution_count": 35,
   "metadata": {},
   "outputs": [],
   "source": [
    "total_df['BAD_대부_6'] = total_df['DQ_DB_6'].apply(lambda x: _get_bad_ml(x))"
   ]
  },
  {
   "cell_type": "code",
   "execution_count": 36,
   "metadata": {},
   "outputs": [],
   "source": [
    "inner_total_df['BAD_대부_6'] = total_df['BAD_대부_6'] "
   ]
  },
  {
   "cell_type": "markdown",
   "metadata": {},
   "source": [
    "### 최종 BAD"
   ]
  },
  {
   "cell_type": "code",
   "execution_count": 37,
   "metadata": {},
   "outputs": [],
   "source": [
    "def _get_bad(bad_common, bad_finan_12,bad_ml_12,\n",
    "             bad_finan_6, bad_ml_6):\n",
    "    bad = 0\n",
    "    \n",
    "    if (bad_common > 0 or bad_finan_12 > 0 or bad_ml_12 > 0 or\n",
    "       bad_finan_6 > 0 or bad_ml_6 > 0) :\n",
    "        bad = 1\n",
    "    \n",
    "    return bad"
   ]
  },
  {
   "cell_type": "code",
   "execution_count": 38,
   "metadata": {},
   "outputs": [],
   "source": [
    "bad_need_cols = ['BAD_공공', 'BAD_금융_12', 'BAD_대부_12',\n",
    "                 'BAD_금융_6','BAD_대부_6',]"
   ]
  },
  {
   "cell_type": "code",
   "execution_count": 39,
   "metadata": {},
   "outputs": [],
   "source": [
    "total_df['BAD'] = total_df[bad_need_cols].apply(lambda x: _get_bad(x['BAD_공공'],\n",
    "                                                                   x['BAD_금융_12'],\n",
    "                                                                   x['BAD_대부_12'],\n",
    "                                                                   x['BAD_금융_6'],\n",
    "                                                                   x['BAD_대부_6']), axis = 1)"
   ]
  },
  {
   "cell_type": "code",
   "execution_count": 40,
   "metadata": {},
   "outputs": [],
   "source": [
    "inner_total_df['BAD'] = total_df['BAD']"
   ]
  },
  {
   "cell_type": "code",
   "execution_count": 41,
   "metadata": {},
   "outputs": [
    {
     "data": {
      "text/html": [
       "<div>\n",
       "<style scoped>\n",
       "    .dataframe tbody tr th:only-of-type {\n",
       "        vertical-align: middle;\n",
       "    }\n",
       "\n",
       "    .dataframe tbody tr th {\n",
       "        vertical-align: top;\n",
       "    }\n",
       "\n",
       "    .dataframe thead th {\n",
       "        text-align: right;\n",
       "    }\n",
       "</style>\n",
       "<table border=\"1\" class=\"dataframe\">\n",
       "  <thead>\n",
       "    <tr style=\"text-align: right;\">\n",
       "      <th></th>\n",
       "      <th>no</th>\n",
       "      <th>신청월</th>\n",
       "      <th>직군그룹</th>\n",
       "      <th>근속기간1</th>\n",
       "      <th>웰컴_소득구간</th>\n",
       "      <th>심사원장_소득구간</th>\n",
       "      <th>EXECUTE_FG</th>\n",
       "      <th>DESTRUCT_FG</th>\n",
       "      <th>Y_2017_FG</th>\n",
       "      <th>Y_2018_FG</th>\n",
       "      <th>...</th>\n",
       "      <th>BAD_금융_카드_12</th>\n",
       "      <th>BAD_금융_캐피탈_12</th>\n",
       "      <th>BAD_금융_저축은행_12</th>\n",
       "      <th>BAD_대부_12</th>\n",
       "      <th>BAD_금융_6</th>\n",
       "      <th>BAD_금융_카드_6</th>\n",
       "      <th>BAD_금융_캐피탈_6</th>\n",
       "      <th>BAD_금융_저축은행_6</th>\n",
       "      <th>BAD_대부_6</th>\n",
       "      <th>BAD</th>\n",
       "    </tr>\n",
       "  </thead>\n",
       "  <tbody>\n",
       "    <tr>\n",
       "      <th>0</th>\n",
       "      <td>1</td>\n",
       "      <td>201612</td>\n",
       "      <td>NaN</td>\n",
       "      <td>5.0</td>\n",
       "      <td>5.0</td>\n",
       "      <td>0.0</td>\n",
       "      <td>0</td>\n",
       "      <td>1</td>\n",
       "      <td>1</td>\n",
       "      <td>0</td>\n",
       "      <td>...</td>\n",
       "      <td>0</td>\n",
       "      <td>0</td>\n",
       "      <td>0</td>\n",
       "      <td>0</td>\n",
       "      <td>0</td>\n",
       "      <td>0</td>\n",
       "      <td>0</td>\n",
       "      <td>0</td>\n",
       "      <td>0</td>\n",
       "      <td>0</td>\n",
       "    </tr>\n",
       "    <tr>\n",
       "      <th>1</th>\n",
       "      <td>2</td>\n",
       "      <td>201612</td>\n",
       "      <td>D</td>\n",
       "      <td>5.0</td>\n",
       "      <td>2.0</td>\n",
       "      <td>0.0</td>\n",
       "      <td>0</td>\n",
       "      <td>1</td>\n",
       "      <td>1</td>\n",
       "      <td>0</td>\n",
       "      <td>...</td>\n",
       "      <td>0</td>\n",
       "      <td>0</td>\n",
       "      <td>0</td>\n",
       "      <td>0</td>\n",
       "      <td>0</td>\n",
       "      <td>0</td>\n",
       "      <td>0</td>\n",
       "      <td>0</td>\n",
       "      <td>0</td>\n",
       "      <td>0</td>\n",
       "    </tr>\n",
       "  </tbody>\n",
       "</table>\n",
       "<p>2 rows × 67 columns</p>\n",
       "</div>"
      ],
      "text/plain": [
       "   no     신청월 직군그룹  근속기간1  웰컴_소득구간  심사원장_소득구간  EXECUTE_FG  DESTRUCT_FG  \\\n",
       "0   1  201612  NaN    5.0      5.0        0.0           0            1   \n",
       "1   2  201612    D    5.0      2.0        0.0           0            1   \n",
       "\n",
       "   Y_2017_FG  Y_2018_FG  ...  BAD_금융_카드_12  BAD_금융_캐피탈_12  BAD_금융_저축은행_12  \\\n",
       "0          1          0  ...             0              0               0   \n",
       "1          1          0  ...             0              0               0   \n",
       "\n",
       "   BAD_대부_12  BAD_금융_6  BAD_금융_카드_6  BAD_금융_캐피탈_6  BAD_금융_저축은행_6  BAD_대부_6  \\\n",
       "0          0         0            0             0              0         0   \n",
       "1          0         0            0             0              0         0   \n",
       "\n",
       "   BAD  \n",
       "0    0  \n",
       "1    0  \n",
       "\n",
       "[2 rows x 67 columns]"
      ]
     },
     "execution_count": 41,
     "metadata": {},
     "output_type": "execute_result"
    }
   ],
   "source": [
    "inner_total_df.head(2)"
   ]
  },
  {
   "cell_type": "markdown",
   "metadata": {},
   "source": [
    "# <font color='orange'> 03. 저장"
   ]
  },
  {
   "cell_type": "code",
   "execution_count": 42,
   "metadata": {},
   "outputs": [],
   "source": [
    "inner_total_df.to_csv(os.path.join(rootpath, 'final_inner_total_df.csv'), index = False)"
   ]
  },
  {
   "cell_type": "code",
   "execution_count": null,
   "metadata": {},
   "outputs": [],
   "source": []
  }
 ],
 "metadata": {
  "kernelspec": {
   "display_name": "Python 3",
   "language": "python",
   "name": "python3"
  },
  "language_info": {
   "codemirror_mode": {
    "name": "ipython",
    "version": 3
   },
   "file_extension": ".py",
   "mimetype": "text/x-python",
   "name": "python",
   "nbconvert_exporter": "python",
   "pygments_lexer": "ipython3",
   "version": "3.7.4"
  }
 },
 "nbformat": 4,
 "nbformat_minor": 4
}
