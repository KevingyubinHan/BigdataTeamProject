{
 "cells": [
  {
   "cell_type": "code",
   "execution_count": 18,
   "metadata": {},
   "outputs": [],
   "source": [
    "import pandas as pd\n",
    "import numpy as np\n",
    "import os\n",
    "import warnings\n",
    "warnings.filterwarnings('ignore')\n",
    "from datetime import datetime"
   ]
  },
  {
   "cell_type": "markdown",
   "metadata": {},
   "source": [
    "# <font color='orange'>01. load data"
   ]
  },
  {
   "cell_type": "code",
   "execution_count": 19,
   "metadata": {},
   "outputs": [],
   "source": [
    "rootpath = r'C:\\Users\\w10\\Desktop\\신용평가모형 세미나\\2주차\\데이터\\temp'"
   ]
  },
  {
   "cell_type": "code",
   "execution_count": 20,
   "metadata": {},
   "outputs": [
    {
     "data": {
      "text/plain": [
       "['final_inner_total_df.csv',\n",
       " 'temp1_inner_total_df.csv',\n",
       " 'temp2_inner_total_df.csv',\n",
       " 'temp3_inner_total_df.csv',\n",
       " 'temp4_inner_total_df.csv',\n",
       " 'temp5_inner_total_df.csv',\n",
       " 'total_df.pkl']"
      ]
     },
     "execution_count": 20,
     "metadata": {},
     "output_type": "execute_result"
    }
   ],
   "source": [
    "os.listdir(rootpath)"
   ]
  },
  {
   "cell_type": "code",
   "execution_count": 21,
   "metadata": {},
   "outputs": [],
   "source": [
    "total_df = pd.read_pickle(os.path.join(rootpath, 'total_df.pkl'), )"
   ]
  },
  {
   "cell_type": "code",
   "execution_count": 22,
   "metadata": {},
   "outputs": [],
   "source": [
    "inner_total_df = pd.read_csv(os.path.join(rootpath, 'final_inner_total_df.csv'), )"
   ]
  },
  {
   "cell_type": "code",
   "execution_count": 23,
   "metadata": {},
   "outputs": [
    {
     "data": {
      "text/html": [
       "<div>\n",
       "<style scoped>\n",
       "    .dataframe tbody tr th:only-of-type {\n",
       "        vertical-align: middle;\n",
       "    }\n",
       "\n",
       "    .dataframe tbody tr th {\n",
       "        vertical-align: top;\n",
       "    }\n",
       "\n",
       "    .dataframe thead th {\n",
       "        text-align: right;\n",
       "    }\n",
       "</style>\n",
       "<table border=\"1\" class=\"dataframe\">\n",
       "  <thead>\n",
       "    <tr style=\"text-align: right;\">\n",
       "      <th></th>\n",
       "      <th>no</th>\n",
       "      <th>신청월</th>\n",
       "      <th>직군그룹</th>\n",
       "      <th>근속기간1</th>\n",
       "      <th>웰컴_소득구간</th>\n",
       "      <th>심사원장_소득구간</th>\n",
       "      <th>AS0000136</th>\n",
       "      <th>AS0000137</th>\n",
       "      <th>AS0000138</th>\n",
       "      <th>AS0000139</th>\n",
       "      <th>...</th>\n",
       "      <th>P2O000500_1_s6</th>\n",
       "      <th>LA0000001_1_s9</th>\n",
       "      <th>LA0000020_1_s9</th>\n",
       "      <th>LA0000227_1_s9</th>\n",
       "      <th>P2E000500_1_s9</th>\n",
       "      <th>LA0000001_1_s12</th>\n",
       "      <th>LA0000020_1_s12</th>\n",
       "      <th>LA0000204_1_s12</th>\n",
       "      <th>LA0000227_1_s12</th>\n",
       "      <th>P2O000500_1_s12</th>\n",
       "    </tr>\n",
       "  </thead>\n",
       "  <tbody>\n",
       "    <tr>\n",
       "      <th>0</th>\n",
       "      <td>1</td>\n",
       "      <td>201612</td>\n",
       "      <td>NaN</td>\n",
       "      <td>5.0</td>\n",
       "      <td>5.0</td>\n",
       "      <td>0.0</td>\n",
       "      <td>26</td>\n",
       "      <td>-1</td>\n",
       "      <td>1</td>\n",
       "      <td>0</td>\n",
       "      <td>...</td>\n",
       "      <td>0.0</td>\n",
       "      <td>0.15</td>\n",
       "      <td>0.15</td>\n",
       "      <td>345.45</td>\n",
       "      <td>0.0</td>\n",
       "      <td>0.09</td>\n",
       "      <td>0.09</td>\n",
       "      <td>214.29</td>\n",
       "      <td>214.29</td>\n",
       "      <td>0.0</td>\n",
       "    </tr>\n",
       "    <tr>\n",
       "      <th>1</th>\n",
       "      <td>2</td>\n",
       "      <td>201612</td>\n",
       "      <td>D</td>\n",
       "      <td>5.0</td>\n",
       "      <td>2.0</td>\n",
       "      <td>0.0</td>\n",
       "      <td>-1</td>\n",
       "      <td>32</td>\n",
       "      <td>1</td>\n",
       "      <td>0</td>\n",
       "      <td>...</td>\n",
       "      <td>0.0</td>\n",
       "      <td>0.00</td>\n",
       "      <td>0.00</td>\n",
       "      <td>0.00</td>\n",
       "      <td>0.0</td>\n",
       "      <td>0.00</td>\n",
       "      <td>0.00</td>\n",
       "      <td>0.00</td>\n",
       "      <td>0.00</td>\n",
       "      <td>0.0</td>\n",
       "    </tr>\n",
       "  </tbody>\n",
       "</table>\n",
       "<p>2 rows × 1928 columns</p>\n",
       "</div>"
      ],
      "text/plain": [
       "   no     신청월 직군그룹  근속기간1  웰컴_소득구간  심사원장_소득구간  AS0000136  AS0000137  \\\n",
       "0   1  201612  NaN    5.0      5.0        0.0         26         -1   \n",
       "1   2  201612    D    5.0      2.0        0.0         -1         32   \n",
       "\n",
       "   AS0000138  AS0000139  ...  P2O000500_1_s6  LA0000001_1_s9  LA0000020_1_s9  \\\n",
       "0          1          0  ...             0.0            0.15            0.15   \n",
       "1          1          0  ...             0.0            0.00            0.00   \n",
       "\n",
       "   LA0000227_1_s9  P2E000500_1_s9  LA0000001_1_s12  LA0000020_1_s12  \\\n",
       "0          345.45             0.0             0.09             0.09   \n",
       "1            0.00             0.0             0.00             0.00   \n",
       "\n",
       "   LA0000204_1_s12  LA0000227_1_s12  P2O000500_1_s12  \n",
       "0           214.29           214.29              0.0  \n",
       "1             0.00             0.00              0.0  \n",
       "\n",
       "[2 rows x 1928 columns]"
      ]
     },
     "execution_count": 23,
     "metadata": {},
     "output_type": "execute_result"
    }
   ],
   "source": [
    "total_df.head(2)"
   ]
  },
  {
   "cell_type": "code",
   "execution_count": 24,
   "metadata": {},
   "outputs": [
    {
     "data": {
      "text/html": [
       "<div>\n",
       "<style scoped>\n",
       "    .dataframe tbody tr th:only-of-type {\n",
       "        vertical-align: middle;\n",
       "    }\n",
       "\n",
       "    .dataframe tbody tr th {\n",
       "        vertical-align: top;\n",
       "    }\n",
       "\n",
       "    .dataframe thead th {\n",
       "        text-align: right;\n",
       "    }\n",
       "</style>\n",
       "<table border=\"1\" class=\"dataframe\">\n",
       "  <thead>\n",
       "    <tr style=\"text-align: right;\">\n",
       "      <th></th>\n",
       "      <th>no</th>\n",
       "      <th>신청월</th>\n",
       "      <th>직군그룹</th>\n",
       "      <th>근속기간1</th>\n",
       "      <th>웰컴_소득구간</th>\n",
       "      <th>심사원장_소득구간</th>\n",
       "      <th>EXECUTE_FG</th>\n",
       "      <th>DESTRUCT_FG</th>\n",
       "      <th>Y_2017_FG</th>\n",
       "      <th>Y_2018_FG</th>\n",
       "      <th>...</th>\n",
       "      <th>BAD_금융_카드_12</th>\n",
       "      <th>BAD_금융_캐피탈_12</th>\n",
       "      <th>BAD_금융_저축은행_12</th>\n",
       "      <th>BAD_대부_12</th>\n",
       "      <th>BAD_금융_6</th>\n",
       "      <th>BAD_금융_카드_6</th>\n",
       "      <th>BAD_금융_캐피탈_6</th>\n",
       "      <th>BAD_금융_저축은행_6</th>\n",
       "      <th>BAD_대부_6</th>\n",
       "      <th>BAD</th>\n",
       "    </tr>\n",
       "  </thead>\n",
       "  <tbody>\n",
       "    <tr>\n",
       "      <th>0</th>\n",
       "      <td>1</td>\n",
       "      <td>201612</td>\n",
       "      <td>NaN</td>\n",
       "      <td>5.0</td>\n",
       "      <td>5.0</td>\n",
       "      <td>0.0</td>\n",
       "      <td>0</td>\n",
       "      <td>1</td>\n",
       "      <td>1</td>\n",
       "      <td>0</td>\n",
       "      <td>...</td>\n",
       "      <td>0</td>\n",
       "      <td>0</td>\n",
       "      <td>0</td>\n",
       "      <td>0</td>\n",
       "      <td>0</td>\n",
       "      <td>0</td>\n",
       "      <td>0</td>\n",
       "      <td>0</td>\n",
       "      <td>0</td>\n",
       "      <td>0</td>\n",
       "    </tr>\n",
       "    <tr>\n",
       "      <th>1</th>\n",
       "      <td>2</td>\n",
       "      <td>201612</td>\n",
       "      <td>D</td>\n",
       "      <td>5.0</td>\n",
       "      <td>2.0</td>\n",
       "      <td>0.0</td>\n",
       "      <td>0</td>\n",
       "      <td>1</td>\n",
       "      <td>1</td>\n",
       "      <td>0</td>\n",
       "      <td>...</td>\n",
       "      <td>0</td>\n",
       "      <td>0</td>\n",
       "      <td>0</td>\n",
       "      <td>0</td>\n",
       "      <td>0</td>\n",
       "      <td>0</td>\n",
       "      <td>0</td>\n",
       "      <td>0</td>\n",
       "      <td>0</td>\n",
       "      <td>0</td>\n",
       "    </tr>\n",
       "  </tbody>\n",
       "</table>\n",
       "<p>2 rows × 67 columns</p>\n",
       "</div>"
      ],
      "text/plain": [
       "   no     신청월 직군그룹  근속기간1  웰컴_소득구간  심사원장_소득구간  EXECUTE_FG  DESTRUCT_FG  \\\n",
       "0   1  201612  NaN    5.0      5.0        0.0           0            1   \n",
       "1   2  201612    D    5.0      2.0        0.0           0            1   \n",
       "\n",
       "   Y_2017_FG  Y_2018_FG  ...  BAD_금융_카드_12  BAD_금융_캐피탈_12  BAD_금융_저축은행_12  \\\n",
       "0          1          0  ...             0              0               0   \n",
       "1          1          0  ...             0              0               0   \n",
       "\n",
       "   BAD_대부_12  BAD_금융_6  BAD_금융_카드_6  BAD_금융_캐피탈_6  BAD_금융_저축은행_6  BAD_대부_6  \\\n",
       "0          0         0            0             0              0         0   \n",
       "1          0         0            0             0              0         0   \n",
       "\n",
       "   BAD  \n",
       "0    0  \n",
       "1    0  \n",
       "\n",
       "[2 rows x 67 columns]"
      ]
     },
     "execution_count": 24,
     "metadata": {},
     "output_type": "execute_result"
    }
   ],
   "source": [
    "inner_total_df.head(2)"
   ]
  },
  {
   "cell_type": "markdown",
   "metadata": {},
   "source": [
    "# <font color='orange'>02. 개발/검증데이터 나누기"
   ]
  },
  {
   "cell_type": "code",
   "execution_count": 37,
   "metadata": {},
   "outputs": [
    {
     "name": "stdout",
     "output_type": "stream",
     "text": [
      "대상자 내부항목 데이터 크기 :  (378654, 67)\n"
     ]
    }
   ],
   "source": [
    "# 개발+검증 대상자 CB항목 데이터 생성\n",
    "dev_inner_df = inner_total_df[(inner_total_df['FINAL_DUP_FG']==0)&(inner_total_df['GRADE_ZERO_FG']==0)]\n",
    "print('대상자 내부항목 데이터 크기 : ', dev_inner_df.shape)"
   ]
  },
  {
   "cell_type": "code",
   "execution_count": 38,
   "metadata": {},
   "outputs": [
    {
     "name": "stdout",
     "output_type": "stream",
     "text": [
      "대상자 CB항목 데이터 크기 :  (378654, 1928)\n"
     ]
    }
   ],
   "source": [
    "# 대상자 no list 생성\n",
    "dev_no_list = dev_inner_df['no'].tolist()\n",
    "# 대상자 CB 데이터 생성\n",
    "dev_cb_df = total_df[total_df['no'].isin(dev_no_list)]\n",
    "print('대상자 CB항목 데이터 크기 : ', dev_cb_df.shape)"
   ]
  },
  {
   "cell_type": "code",
   "execution_count": 39,
   "metadata": {},
   "outputs": [],
   "source": [
    "# 내부항목 모형개발, 검증 데이터 나누기\n",
    "model_dev_inner_df = dev_inner_df[dev_inner_df['신청월']<201811]\n",
    "model_valid_inner_df = dev_inner_df[(dev_inner_df['신청월'].isin([201908, 201909, 201910]))]"
   ]
  },
  {
   "cell_type": "code",
   "execution_count": 40,
   "metadata": {},
   "outputs": [],
   "source": [
    "# CB항목 모형개발, 검증 데이터 나누기\n",
    "model_dev_cb_df = dev_cb_df[dev_cb_df['신청월']<201811]\n",
    "model_valid_cb_df = dev_cb_df[(dev_cb_df['신청월'].isin([201908, 201909, 201910]))]"
   ]
  },
  {
   "cell_type": "code",
   "execution_count": 41,
   "metadata": {},
   "outputs": [
    {
     "name": "stdout",
     "output_type": "stream",
     "text": [
      "내부항목\n",
      "모형개발 데이터 크기 :  (240016, 67)\n",
      "모형검증 데이터 크기 :  (40942, 67)\n",
      "==============================\n",
      "CB항목\n",
      "모형개발 데이터 크기 :  (240016, 1928)\n",
      "모형검증 데이터 크기 :  (40942, 1928)\n"
     ]
    }
   ],
   "source": [
    "print('내부항목')\n",
    "print('모형개발 데이터 크기 : ', model_dev_inner_df.shape)\n",
    "print('모형검증 데이터 크기 : ', model_valid_inner_df.shape)\n",
    "print('='*30)\n",
    "print('CB항목')\n",
    "print('모형개발 데이터 크기 : ', model_dev_cb_df.shape)\n",
    "print('모형검증 데이터 크기 : ', model_valid_cb_df.shape)"
   ]
  },
  {
   "cell_type": "code",
   "execution_count": 42,
   "metadata": {},
   "outputs": [
    {
     "data": {
      "text/plain": [
       "(418979, 67)"
      ]
     },
     "execution_count": 42,
     "metadata": {},
     "output_type": "execute_result"
    }
   ],
   "source": [
    "inner_total_df.shape"
   ]
  },
  {
   "cell_type": "markdown",
   "metadata": {},
   "source": [
    "# <font color='orange'>03. 저장"
   ]
  },
  {
   "cell_type": "code",
   "execution_count": 46,
   "metadata": {},
   "outputs": [],
   "source": [
    "save_path = r'C:\\Users\\w10\\Desktop\\신용평가모형 세미나\\2주차\\데이터\\dev_data'"
   ]
  },
  {
   "cell_type": "code",
   "execution_count": 47,
   "metadata": {},
   "outputs": [],
   "source": [
    "model_dev_inner_df.to_csv(os.path.join(save_path, 'model_dev_inner_df.csv'), index = False)\n",
    "model_valid_inner_df.to_csv(os.path.join(save_path, 'model_valid_inner_df.csv'), index = False)"
   ]
  },
  {
   "cell_type": "code",
   "execution_count": 48,
   "metadata": {},
   "outputs": [],
   "source": [
    "model_dev_cb_df.to_csv(os.path.join(save_path, 'model_dev_cb_df.csv'), index = False)\n",
    "model_valid_cb_df.to_csv(os.path.join(save_path, 'model_valid_cb_df.csv'), index = False)"
   ]
  },
  {
   "cell_type": "code",
   "execution_count": null,
   "metadata": {},
   "outputs": [],
   "source": []
  }
 ],
 "metadata": {
  "kernelspec": {
   "display_name": "Python 3",
   "language": "python",
   "name": "python3"
  },
  "language_info": {
   "codemirror_mode": {
    "name": "ipython",
    "version": 3
   },
   "file_extension": ".py",
   "mimetype": "text/x-python",
   "name": "python",
   "nbconvert_exporter": "python",
   "pygments_lexer": "ipython3",
   "version": "3.7.4"
  }
 },
 "nbformat": 4,
 "nbformat_minor": 4
}
