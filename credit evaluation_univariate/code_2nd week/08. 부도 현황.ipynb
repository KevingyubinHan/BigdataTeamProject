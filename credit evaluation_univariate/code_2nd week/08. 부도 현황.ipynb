{
 "cells": [
  {
   "cell_type": "code",
   "execution_count": 5,
   "metadata": {},
   "outputs": [],
   "source": [
    "import pandas as pd\n",
    "import numpy as np\n",
    "import os\n",
    "import glob\n",
    "from datetime import datetime\n",
    "import warnings\n",
    "warnings.filterwarnings('ignore')"
   ]
  },
  {
   "cell_type": "markdown",
   "metadata": {},
   "source": [
    "# <font color='orange'>01. load data"
   ]
  },
  {
   "cell_type": "code",
   "execution_count": 6,
   "metadata": {},
   "outputs": [],
   "source": [
    "data_rootpath = r'C:\\Users\\w10\\Desktop\\신용평가모형 세미나\\2주차\\데이터\\dev_data'"
   ]
  },
  {
   "cell_type": "code",
   "execution_count": 12,
   "metadata": {},
   "outputs": [
    {
     "data": {
      "text/plain": [
       "['model_dev_cb_df.csv',\n",
       " 'model_dev_inner_df.csv',\n",
       " 'model_valid_cb_df.csv',\n",
       " 'model_valid_inner_df.csv']"
      ]
     },
     "execution_count": 12,
     "metadata": {},
     "output_type": "execute_result"
    }
   ],
   "source": [
    "os.listdir(data_rootpath)"
   ]
  },
  {
   "cell_type": "code",
   "execution_count": 13,
   "metadata": {},
   "outputs": [],
   "source": [
    "dev_inner_df = pd.read_csv(os.path.join(data_rootpath, 'model_dev_inner_df.csv'))\n",
    "valid_inner_df = pd.read_csv(os.path.join(data_rootpath, 'model_valid_inner_df.csv'))"
   ]
  },
  {
   "cell_type": "code",
   "execution_count": 14,
   "metadata": {},
   "outputs": [],
   "source": [
    "# dictionary에 담기\n",
    "df_dict = dict()\n",
    "\n",
    "df_dict['dev_inner'] = dev_inner_df\n",
    "df_dict['valid_inner'] = valid_inner_df"
   ]
  },
  {
   "cell_type": "code",
   "execution_count": 15,
   "metadata": {},
   "outputs": [
    {
     "name": "stdout",
     "output_type": "stream",
     "text": [
      "dev_inner (240016, 67)\n",
      "valid_inner (40942, 67)\n"
     ]
    }
   ],
   "source": [
    "for key, df in df_dict.items():\n",
    "    print(key, df.shape)"
   ]
  },
  {
   "cell_type": "code",
   "execution_count": 17,
   "metadata": {},
   "outputs": [
    {
     "data": {
      "text/html": [
       "<div>\n",
       "<style scoped>\n",
       "    .dataframe tbody tr th:only-of-type {\n",
       "        vertical-align: middle;\n",
       "    }\n",
       "\n",
       "    .dataframe tbody tr th {\n",
       "        vertical-align: top;\n",
       "    }\n",
       "\n",
       "    .dataframe thead th {\n",
       "        text-align: right;\n",
       "    }\n",
       "</style>\n",
       "<table border=\"1\" class=\"dataframe\">\n",
       "  <thead>\n",
       "    <tr style=\"text-align: right;\">\n",
       "      <th></th>\n",
       "      <th>no</th>\n",
       "      <th>신청월</th>\n",
       "      <th>직군그룹</th>\n",
       "      <th>근속기간1</th>\n",
       "      <th>웰컴_소득구간</th>\n",
       "      <th>심사원장_소득구간</th>\n",
       "      <th>EXECUTE_FG</th>\n",
       "      <th>DESTRUCT_FG</th>\n",
       "      <th>Y_2017_FG</th>\n",
       "      <th>Y_2018_FG</th>\n",
       "      <th>...</th>\n",
       "      <th>BAD_금융_카드_12</th>\n",
       "      <th>BAD_금융_캐피탈_12</th>\n",
       "      <th>BAD_금융_저축은행_12</th>\n",
       "      <th>BAD_대부_12</th>\n",
       "      <th>BAD_금융_6</th>\n",
       "      <th>BAD_금융_카드_6</th>\n",
       "      <th>BAD_금융_캐피탈_6</th>\n",
       "      <th>BAD_금융_저축은행_6</th>\n",
       "      <th>BAD_대부_6</th>\n",
       "      <th>BAD</th>\n",
       "    </tr>\n",
       "  </thead>\n",
       "  <tbody>\n",
       "    <tr>\n",
       "      <th>0</th>\n",
       "      <td>1</td>\n",
       "      <td>201612</td>\n",
       "      <td>NaN</td>\n",
       "      <td>5.0</td>\n",
       "      <td>5.0</td>\n",
       "      <td>0.0</td>\n",
       "      <td>0</td>\n",
       "      <td>1</td>\n",
       "      <td>1</td>\n",
       "      <td>0</td>\n",
       "      <td>...</td>\n",
       "      <td>0</td>\n",
       "      <td>0</td>\n",
       "      <td>0</td>\n",
       "      <td>0</td>\n",
       "      <td>0</td>\n",
       "      <td>0</td>\n",
       "      <td>0</td>\n",
       "      <td>0</td>\n",
       "      <td>0</td>\n",
       "      <td>0</td>\n",
       "    </tr>\n",
       "    <tr>\n",
       "      <th>1</th>\n",
       "      <td>2</td>\n",
       "      <td>201612</td>\n",
       "      <td>D</td>\n",
       "      <td>5.0</td>\n",
       "      <td>2.0</td>\n",
       "      <td>0.0</td>\n",
       "      <td>0</td>\n",
       "      <td>1</td>\n",
       "      <td>1</td>\n",
       "      <td>0</td>\n",
       "      <td>...</td>\n",
       "      <td>0</td>\n",
       "      <td>0</td>\n",
       "      <td>0</td>\n",
       "      <td>0</td>\n",
       "      <td>0</td>\n",
       "      <td>0</td>\n",
       "      <td>0</td>\n",
       "      <td>0</td>\n",
       "      <td>0</td>\n",
       "      <td>0</td>\n",
       "    </tr>\n",
       "  </tbody>\n",
       "</table>\n",
       "<p>2 rows × 67 columns</p>\n",
       "</div>"
      ],
      "text/plain": [
       "   no     신청월 직군그룹  근속기간1  웰컴_소득구간  심사원장_소득구간  EXECUTE_FG  DESTRUCT_FG  \\\n",
       "0   1  201612  NaN    5.0      5.0        0.0           0            1   \n",
       "1   2  201612    D    5.0      2.0        0.0           0            1   \n",
       "\n",
       "   Y_2017_FG  Y_2018_FG  ...  BAD_금융_카드_12  BAD_금융_캐피탈_12  BAD_금융_저축은행_12  \\\n",
       "0          1          0  ...             0              0               0   \n",
       "1          1          0  ...             0              0               0   \n",
       "\n",
       "   BAD_대부_12  BAD_금융_6  BAD_금융_카드_6  BAD_금융_캐피탈_6  BAD_금융_저축은행_6  BAD_대부_6  \\\n",
       "0          0         0            0             0              0         0   \n",
       "1          0         0            0             0              0         0   \n",
       "\n",
       "   BAD  \n",
       "0    0  \n",
       "1    0  \n",
       "\n",
       "[2 rows x 67 columns]"
      ]
     },
     "execution_count": 17,
     "metadata": {},
     "output_type": "execute_result"
    }
   ],
   "source": [
    "df_dict['dev_inner'].head(2)"
   ]
  },
  {
   "cell_type": "markdown",
   "metadata": {},
   "source": [
    "# <font color='orange'>02. 요건별 BAD 현황파악"
   ]
  },
  {
   "cell_type": "code",
   "execution_count": 62,
   "metadata": {},
   "outputs": [
    {
     "data": {
      "text/plain": [
       "0    0.553109\n",
       "1    0.446891\n",
       "Name: BAD, dtype: float64"
      ]
     },
     "execution_count": 62,
     "metadata": {},
     "output_type": "execute_result"
    }
   ],
   "source": [
    "# 모형개발데이터 불량률 \n",
    "df_dict['dev_inner'][\"BAD\"].value_counts(normalize = True)"
   ]
  },
  {
   "cell_type": "code",
   "execution_count": 36,
   "metadata": {},
   "outputs": [],
   "source": [
    "# 불량 관련 항목 생성\n",
    "## ^BAD는 문자열의 맨처음과 일치\n",
    "bad_cols = df_dict['dev_inner'].columns[df_dict['dev_inner'].columns.str.contains('^BAD')]"
   ]
  },
  {
   "cell_type": "code",
   "execution_count": 37,
   "metadata": {},
   "outputs": [
    {
     "data": {
      "text/plain": [
       "Index(['BAD_공공', 'BAD_금융_12', 'BAD_금융_단기_12', 'BAD_금융_은행_12', 'BAD_금융_리스_12',\n",
       "       'BAD_금융_카드_12', 'BAD_금융_캐피탈_12', 'BAD_금융_저축은행_12', 'BAD_대부_12',\n",
       "       'BAD_금융_6', 'BAD_금융_카드_6', 'BAD_금융_캐피탈_6', 'BAD_금융_저축은행_6', 'BAD_대부_6',\n",
       "       'BAD'],\n",
       "      dtype='object')"
      ]
     },
     "execution_count": 37,
     "metadata": {},
     "output_type": "execute_result"
    }
   ],
   "source": [
    "bad_cols"
   ]
  },
  {
   "cell_type": "code",
   "execution_count": 38,
   "metadata": {},
   "outputs": [
    {
     "name": "stdout",
     "output_type": "stream",
     "text": [
      "====== dev_inner ======\n",
      "====== valid_inner ======\n"
     ]
    }
   ],
   "source": [
    "bad_dict = dict()\n",
    "\n",
    "for key, df in df_dict.items():\n",
    "    print('======',key,'======')\n",
    "    this = pd.DataFrame()\n",
    "    for col in bad_cols:\n",
    "        value = df[col].value_counts().sort_index(ascending = False).values\n",
    "        value = pd.DataFrame(value).transpose()\n",
    "        this = this.append(value, )\n",
    "        \n",
    "        \n",
    "    this.index = bad_cols\n",
    "    this.columns = ['불량자','우량자']\n",
    "    bad_dict[key] = this    \n",
    "        \n",
    "    "
   ]
  },
  {
   "cell_type": "code",
   "execution_count": 48,
   "metadata": {},
   "outputs": [
    {
     "data": {
      "text/html": [
       "<div>\n",
       "<style scoped>\n",
       "    .dataframe tbody tr th:only-of-type {\n",
       "        vertical-align: middle;\n",
       "    }\n",
       "\n",
       "    .dataframe tbody tr th {\n",
       "        vertical-align: top;\n",
       "    }\n",
       "\n",
       "    .dataframe thead th {\n",
       "        text-align: right;\n",
       "    }\n",
       "</style>\n",
       "<table border=\"1\" class=\"dataframe\">\n",
       "  <thead>\n",
       "    <tr style=\"text-align: right;\">\n",
       "      <th></th>\n",
       "      <th>불량자</th>\n",
       "      <th>우량자</th>\n",
       "    </tr>\n",
       "  </thead>\n",
       "  <tbody>\n",
       "    <tr>\n",
       "      <th>BAD_공공</th>\n",
       "      <td>572</td>\n",
       "      <td>40370</td>\n",
       "    </tr>\n",
       "    <tr>\n",
       "      <th>BAD_금융_12</th>\n",
       "      <td>3803</td>\n",
       "      <td>37139</td>\n",
       "    </tr>\n",
       "    <tr>\n",
       "      <th>BAD_금융_단기_12</th>\n",
       "      <td>3439</td>\n",
       "      <td>37503</td>\n",
       "    </tr>\n",
       "    <tr>\n",
       "      <th>BAD_금융_은행_12</th>\n",
       "      <td>236</td>\n",
       "      <td>40706</td>\n",
       "    </tr>\n",
       "    <tr>\n",
       "      <th>BAD_금융_리스_12</th>\n",
       "      <td>1462</td>\n",
       "      <td>39480</td>\n",
       "    </tr>\n",
       "    <tr>\n",
       "      <th>BAD_금융_카드_12</th>\n",
       "      <td>12</td>\n",
       "      <td>40930</td>\n",
       "    </tr>\n",
       "    <tr>\n",
       "      <th>BAD_금융_캐피탈_12</th>\n",
       "      <td>357</td>\n",
       "      <td>40585</td>\n",
       "    </tr>\n",
       "    <tr>\n",
       "      <th>BAD_금융_저축은행_12</th>\n",
       "      <td>735</td>\n",
       "      <td>40207</td>\n",
       "    </tr>\n",
       "    <tr>\n",
       "      <th>BAD_대부_12</th>\n",
       "      <td>375</td>\n",
       "      <td>40567</td>\n",
       "    </tr>\n",
       "    <tr>\n",
       "      <th>BAD_금융_6</th>\n",
       "      <td>5161</td>\n",
       "      <td>35781</td>\n",
       "    </tr>\n",
       "    <tr>\n",
       "      <th>BAD_금융_카드_6</th>\n",
       "      <td>3716</td>\n",
       "      <td>37226</td>\n",
       "    </tr>\n",
       "    <tr>\n",
       "      <th>BAD_금융_캐피탈_6</th>\n",
       "      <td>1184</td>\n",
       "      <td>39758</td>\n",
       "    </tr>\n",
       "    <tr>\n",
       "      <th>BAD_금융_저축은행_6</th>\n",
       "      <td>1973</td>\n",
       "      <td>38969</td>\n",
       "    </tr>\n",
       "    <tr>\n",
       "      <th>BAD_대부_6</th>\n",
       "      <td>876</td>\n",
       "      <td>40066</td>\n",
       "    </tr>\n",
       "    <tr>\n",
       "      <th>BAD</th>\n",
       "      <td>6253</td>\n",
       "      <td>34689</td>\n",
       "    </tr>\n",
       "  </tbody>\n",
       "</table>\n",
       "</div>"
      ],
      "text/plain": [
       "                 불량자    우량자\n",
       "BAD_공공           572  40370\n",
       "BAD_금융_12       3803  37139\n",
       "BAD_금융_단기_12    3439  37503\n",
       "BAD_금융_은행_12     236  40706\n",
       "BAD_금융_리스_12    1462  39480\n",
       "BAD_금융_카드_12      12  40930\n",
       "BAD_금융_캐피탈_12    357  40585\n",
       "BAD_금융_저축은행_12   735  40207\n",
       "BAD_대부_12        375  40567\n",
       "BAD_금융_6        5161  35781\n",
       "BAD_금융_카드_6     3716  37226\n",
       "BAD_금융_캐피탈_6    1184  39758\n",
       "BAD_금융_저축은행_6   1973  38969\n",
       "BAD_대부_6         876  40066\n",
       "BAD             6253  34689"
      ]
     },
     "execution_count": 48,
     "metadata": {},
     "output_type": "execute_result"
    }
   ],
   "source": [
    "bad_dict['valid_inner']"
   ]
  },
  {
   "cell_type": "code",
   "execution_count": 50,
   "metadata": {},
   "outputs": [],
   "source": [
    "# 한 엑셀파일에 여러 sheet로 저장\n",
    "\n",
    "\n",
    "save_path = os.path.join(r'C:\\Users\\w10\\Desktop\\신용평가모형 세미나\\2주차\\데이터\\부도현황', '요건별_부도현황_결과.xlsx')\n",
    "\n",
    "with pd.ExcelWriter(save_path) as writer:\n",
    "    for key, result in bad_dict.items():\n",
    "        result.to_excel(writer, sheet_name = key, )"
   ]
  },
  {
   "cell_type": "markdown",
   "metadata": {},
   "source": [
    "# <font color='orange'>03. 요건별 누적 BAD 현황"
   ]
  },
  {
   "cell_type": "code",
   "execution_count": 52,
   "metadata": {},
   "outputs": [],
   "source": [
    "bad_cols = df_dict['dev_inner'].columns[df_dict['dev_inner'].columns.str.contains('^BAD')]"
   ]
  },
  {
   "cell_type": "code",
   "execution_count": 53,
   "metadata": {},
   "outputs": [
    {
     "data": {
      "text/plain": [
       "Index(['BAD_공공', 'BAD_금융_12', 'BAD_금융_단기_12', 'BAD_금융_은행_12', 'BAD_금융_리스_12',\n",
       "       'BAD_금융_카드_12', 'BAD_금융_캐피탈_12', 'BAD_금융_저축은행_12', 'BAD_대부_12',\n",
       "       'BAD_금융_6', 'BAD_금융_카드_6', 'BAD_금융_캐피탈_6', 'BAD_금융_저축은행_6', 'BAD_대부_6',\n",
       "       'BAD'],\n",
       "      dtype='object')"
      ]
     },
     "execution_count": 53,
     "metadata": {},
     "output_type": "execute_result"
    }
   ],
   "source": [
    "bad_cols"
   ]
  },
  {
   "cell_type": "code",
   "execution_count": 54,
   "metadata": {},
   "outputs": [
    {
     "data": {
      "text/plain": [
       "Index(['BAD_공공', 'BAD_금융_단기_12', 'BAD_금융_은행_12', 'BAD_금융_리스_12',\n",
       "       'BAD_금융_카드_12', 'BAD_금융_캐피탈_12', 'BAD_금융_저축은행_12', 'BAD_대부_12',\n",
       "       'BAD_금융_카드_6', 'BAD_금융_캐피탈_6', 'BAD_금융_저축은행_6', 'BAD_대부_6'],\n",
       "      dtype='object')"
      ]
     },
     "execution_count": 54,
     "metadata": {},
     "output_type": "execute_result"
    }
   ],
   "source": [
    "# 누적 현황시 구분별 최종 BAD 항목 제외\n",
    "bad_cols = bad_cols.drop(['BAD_금융_12','BAD_금융_6','BAD'], )\n",
    "bad_cols"
   ]
  },
  {
   "cell_type": "code",
   "execution_count": 55,
   "metadata": {},
   "outputs": [],
   "source": [
    "# 누적을 위한 순서 배치\n",
    "## 하위업권에서 상위업권으로\n",
    "tmp_cols = ['BAD_공공',\n",
    "            'BAD_금융_단기_12',\n",
    "            'BAD_금융_저축은행_12', \n",
    "            'BAD_금융_캐피탈_12',\n",
    "            'BAD_금융_카드_12',\n",
    "            'BAD_금융_리스_12', \n",
    "            'BAD_금융_은행_12',\n",
    "            'BAD_대부_12',\n",
    "            'BAD_금융_카드_6', \n",
    "            'BAD_금융_캐피탈_6',\n",
    "            'BAD_금융_저축은행_6',\n",
    "            'BAD_대부_6'\n",
    "            \n",
    "           ]"
   ]
  },
  {
   "cell_type": "code",
   "execution_count": 57,
   "metadata": {},
   "outputs": [],
   "source": [
    "cum_bad_dict = dict()\n",
    "for key, df in df_dict.items():\n",
    "    cum_bad = pd.DataFrame()\n",
    "    total_cnt = df.shape[0]\n",
    "    for num, col in enumerate(tmp_cols):\n",
    "        bad_cnt = df[df[col] == 1].shape[0]\n",
    "        not_bad_cnt = total_cnt - bad_cnt\n",
    "        value = pd.DataFrame({'대상자' : bad_cnt,\n",
    "                             '비대상자' : not_bad_cnt},index = [col])\n",
    "        cum_bad = cum_bad.append(value, )\n",
    "            \n",
    "        remove_idx = df[df[col] == 1]['no'].values\n",
    "        df = df[df['no'].isin(remove_idx) == False]\n",
    "    \n",
    "#     cum_bad.columns = ['대상자',]\n",
    "    cum_bad_dict[key] = cum_bad\n",
    "    \n",
    "        "
   ]
  },
  {
   "cell_type": "code",
   "execution_count": 58,
   "metadata": {},
   "outputs": [
    {
     "data": {
      "text/html": [
       "<div>\n",
       "<style scoped>\n",
       "    .dataframe tbody tr th:only-of-type {\n",
       "        vertical-align: middle;\n",
       "    }\n",
       "\n",
       "    .dataframe tbody tr th {\n",
       "        vertical-align: top;\n",
       "    }\n",
       "\n",
       "    .dataframe thead th {\n",
       "        text-align: right;\n",
       "    }\n",
       "</style>\n",
       "<table border=\"1\" class=\"dataframe\">\n",
       "  <thead>\n",
       "    <tr style=\"text-align: right;\">\n",
       "      <th></th>\n",
       "      <th>대상자</th>\n",
       "      <th>비대상자</th>\n",
       "    </tr>\n",
       "  </thead>\n",
       "  <tbody>\n",
       "    <tr>\n",
       "      <th>BAD_공공</th>\n",
       "      <td>61086</td>\n",
       "      <td>178930</td>\n",
       "    </tr>\n",
       "    <tr>\n",
       "      <th>BAD_금융_단기_12</th>\n",
       "      <td>15206</td>\n",
       "      <td>224810</td>\n",
       "    </tr>\n",
       "    <tr>\n",
       "      <th>BAD_금융_저축은행_12</th>\n",
       "      <td>3996</td>\n",
       "      <td>236020</td>\n",
       "    </tr>\n",
       "    <tr>\n",
       "      <th>BAD_금융_캐피탈_12</th>\n",
       "      <td>1964</td>\n",
       "      <td>238052</td>\n",
       "    </tr>\n",
       "    <tr>\n",
       "      <th>BAD_금융_카드_12</th>\n",
       "      <td>0</td>\n",
       "      <td>240016</td>\n",
       "    </tr>\n",
       "    <tr>\n",
       "      <th>BAD_금융_리스_12</th>\n",
       "      <td>7208</td>\n",
       "      <td>232808</td>\n",
       "    </tr>\n",
       "    <tr>\n",
       "      <th>BAD_금융_은행_12</th>\n",
       "      <td>10</td>\n",
       "      <td>240006</td>\n",
       "    </tr>\n",
       "    <tr>\n",
       "      <th>BAD_대부_12</th>\n",
       "      <td>1928</td>\n",
       "      <td>238088</td>\n",
       "    </tr>\n",
       "    <tr>\n",
       "      <th>BAD_금융_카드_6</th>\n",
       "      <td>10040</td>\n",
       "      <td>229976</td>\n",
       "    </tr>\n",
       "    <tr>\n",
       "      <th>BAD_금융_캐피탈_6</th>\n",
       "      <td>1637</td>\n",
       "      <td>238379</td>\n",
       "    </tr>\n",
       "    <tr>\n",
       "      <th>BAD_금융_저축은행_6</th>\n",
       "      <td>3001</td>\n",
       "      <td>237015</td>\n",
       "    </tr>\n",
       "    <tr>\n",
       "      <th>BAD_대부_6</th>\n",
       "      <td>1185</td>\n",
       "      <td>238831</td>\n",
       "    </tr>\n",
       "  </tbody>\n",
       "</table>\n",
       "</div>"
      ],
      "text/plain": [
       "                  대상자    비대상자\n",
       "BAD_공공          61086  178930\n",
       "BAD_금융_단기_12    15206  224810\n",
       "BAD_금융_저축은행_12   3996  236020\n",
       "BAD_금융_캐피탈_12    1964  238052\n",
       "BAD_금융_카드_12        0  240016\n",
       "BAD_금융_리스_12     7208  232808\n",
       "BAD_금융_은행_12       10  240006\n",
       "BAD_대부_12        1928  238088\n",
       "BAD_금융_카드_6     10040  229976\n",
       "BAD_금융_캐피탈_6     1637  238379\n",
       "BAD_금융_저축은행_6    3001  237015\n",
       "BAD_대부_6         1185  238831"
      ]
     },
     "execution_count": 58,
     "metadata": {},
     "output_type": "execute_result"
    }
   ],
   "source": [
    "cum_bad_dict['dev_inner']"
   ]
  },
  {
   "cell_type": "code",
   "execution_count": 60,
   "metadata": {},
   "outputs": [],
   "source": [
    "# 한 엑셀파일에 여러 sheet로 저장\n",
    "\n",
    "\n",
    "save_path = os.path.join(r'C:\\Users\\w10\\Desktop\\신용평가모형 세미나\\2주차\\데이터\\부도현황', '요건별_누적_부도현황_결과.xlsx')\n",
    "\n",
    "with pd.ExcelWriter(save_path) as writer:\n",
    "    for key, result in cum_bad_dict.items():\n",
    "        result.to_excel(writer, sheet_name = key, )"
   ]
  },
  {
   "cell_type": "code",
   "execution_count": null,
   "metadata": {},
   "outputs": [],
   "source": []
  }
 ],
 "metadata": {
  "kernelspec": {
   "display_name": "Python 3",
   "language": "python",
   "name": "python3"
  },
  "language_info": {
   "codemirror_mode": {
    "name": "ipython",
    "version": 3
   },
   "file_extension": ".py",
   "mimetype": "text/x-python",
   "name": "python",
   "nbconvert_exporter": "python",
   "pygments_lexer": "ipython3",
   "version": "3.7.4"
  }
 },
 "nbformat": 4,
 "nbformat_minor": 4
}
