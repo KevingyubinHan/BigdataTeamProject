{
 "cells": [
  {
   "cell_type": "code",
   "execution_count": 1,
   "metadata": {},
   "outputs": [],
   "source": [
    "import pandas as pd\n",
    "import numpy as np\n",
    "import os\n",
    "import glob\n",
    "from datetime import datetime\n",
    "import warnings\n",
    "warnings.filterwarnings('ignore')"
   ]
  },
  {
   "cell_type": "markdown",
   "metadata": {},
   "source": [
    "# <font color='orange'>01. load data"
   ]
  },
  {
   "cell_type": "code",
   "execution_count": 2,
   "metadata": {},
   "outputs": [],
   "source": [
    "data_rootpath = r'C:\\Users\\w10\\Desktop\\신용평가모형 세미나\\2주차\\데이터\\dev_data'"
   ]
  },
  {
   "cell_type": "code",
   "execution_count": 3,
   "metadata": {},
   "outputs": [
    {
     "data": {
      "text/plain": [
       "['model_dev_cb_df.csv',\n",
       " 'model_dev_inner_df.csv',\n",
       " 'model_valid_cb_df.csv',\n",
       " 'model_valid_inner_df.csv']"
      ]
     },
     "execution_count": 3,
     "metadata": {},
     "output_type": "execute_result"
    }
   ],
   "source": [
    "os.listdir(data_rootpath)"
   ]
  },
  {
   "cell_type": "code",
   "execution_count": 4,
   "metadata": {},
   "outputs": [],
   "source": [
    "dev_inner_df = pd.read_csv(os.path.join(data_rootpath, 'model_dev_inner_df.csv'))\n",
    "valid_inner_df = pd.read_csv(os.path.join(data_rootpath, 'model_valid_inner_df.csv'))"
   ]
  },
  {
   "cell_type": "code",
   "execution_count": 5,
   "metadata": {},
   "outputs": [],
   "source": [
    "# dictionary에 담기\n",
    "df_dict = dict()\n",
    "\n",
    "df_dict['dev_inner'] = dev_inner_df\n",
    "df_dict['valid_inner'] = valid_inner_df"
   ]
  },
  {
   "cell_type": "code",
   "execution_count": 6,
   "metadata": {},
   "outputs": [
    {
     "name": "stdout",
     "output_type": "stream",
     "text": [
      "dev_inner (240016, 67)\n",
      "valid_inner (40942, 67)\n"
     ]
    }
   ],
   "source": [
    "for key, df in df_dict.items():\n",
    "    print(key, df.shape)"
   ]
  },
  {
   "cell_type": "code",
   "execution_count": 7,
   "metadata": {},
   "outputs": [
    {
     "data": {
      "text/html": [
       "<div>\n",
       "<style scoped>\n",
       "    .dataframe tbody tr th:only-of-type {\n",
       "        vertical-align: middle;\n",
       "    }\n",
       "\n",
       "    .dataframe tbody tr th {\n",
       "        vertical-align: top;\n",
       "    }\n",
       "\n",
       "    .dataframe thead th {\n",
       "        text-align: right;\n",
       "    }\n",
       "</style>\n",
       "<table border=\"1\" class=\"dataframe\">\n",
       "  <thead>\n",
       "    <tr style=\"text-align: right;\">\n",
       "      <th></th>\n",
       "      <th>no</th>\n",
       "      <th>신청월</th>\n",
       "      <th>직군그룹</th>\n",
       "      <th>근속기간1</th>\n",
       "      <th>웰컴_소득구간</th>\n",
       "      <th>심사원장_소득구간</th>\n",
       "      <th>EXECUTE_FG</th>\n",
       "      <th>DESTRUCT_FG</th>\n",
       "      <th>Y_2017_FG</th>\n",
       "      <th>Y_2018_FG</th>\n",
       "      <th>...</th>\n",
       "      <th>BAD_금융_카드_12</th>\n",
       "      <th>BAD_금융_캐피탈_12</th>\n",
       "      <th>BAD_금융_저축은행_12</th>\n",
       "      <th>BAD_대부_12</th>\n",
       "      <th>BAD_금융_6</th>\n",
       "      <th>BAD_금융_카드_6</th>\n",
       "      <th>BAD_금융_캐피탈_6</th>\n",
       "      <th>BAD_금융_저축은행_6</th>\n",
       "      <th>BAD_대부_6</th>\n",
       "      <th>BAD</th>\n",
       "    </tr>\n",
       "  </thead>\n",
       "  <tbody>\n",
       "    <tr>\n",
       "      <th>0</th>\n",
       "      <td>1</td>\n",
       "      <td>201612</td>\n",
       "      <td>NaN</td>\n",
       "      <td>5.0</td>\n",
       "      <td>5.0</td>\n",
       "      <td>0.0</td>\n",
       "      <td>0</td>\n",
       "      <td>1</td>\n",
       "      <td>1</td>\n",
       "      <td>0</td>\n",
       "      <td>...</td>\n",
       "      <td>0</td>\n",
       "      <td>0</td>\n",
       "      <td>0</td>\n",
       "      <td>0</td>\n",
       "      <td>0</td>\n",
       "      <td>0</td>\n",
       "      <td>0</td>\n",
       "      <td>0</td>\n",
       "      <td>0</td>\n",
       "      <td>0</td>\n",
       "    </tr>\n",
       "    <tr>\n",
       "      <th>1</th>\n",
       "      <td>2</td>\n",
       "      <td>201612</td>\n",
       "      <td>D</td>\n",
       "      <td>5.0</td>\n",
       "      <td>2.0</td>\n",
       "      <td>0.0</td>\n",
       "      <td>0</td>\n",
       "      <td>1</td>\n",
       "      <td>1</td>\n",
       "      <td>0</td>\n",
       "      <td>...</td>\n",
       "      <td>0</td>\n",
       "      <td>0</td>\n",
       "      <td>0</td>\n",
       "      <td>0</td>\n",
       "      <td>0</td>\n",
       "      <td>0</td>\n",
       "      <td>0</td>\n",
       "      <td>0</td>\n",
       "      <td>0</td>\n",
       "      <td>0</td>\n",
       "    </tr>\n",
       "  </tbody>\n",
       "</table>\n",
       "<p>2 rows × 67 columns</p>\n",
       "</div>"
      ],
      "text/plain": [
       "   no     신청월 직군그룹  근속기간1  웰컴_소득구간  심사원장_소득구간  EXECUTE_FG  DESTRUCT_FG  \\\n",
       "0   1  201612  NaN    5.0      5.0        0.0           0            1   \n",
       "1   2  201612    D    5.0      2.0        0.0           0            1   \n",
       "\n",
       "   Y_2017_FG  Y_2018_FG  ...  BAD_금융_카드_12  BAD_금융_캐피탈_12  BAD_금융_저축은행_12  \\\n",
       "0          1          0  ...             0              0               0   \n",
       "1          1          0  ...             0              0               0   \n",
       "\n",
       "   BAD_대부_12  BAD_금융_6  BAD_금융_카드_6  BAD_금융_캐피탈_6  BAD_금융_저축은행_6  BAD_대부_6  \\\n",
       "0          0         0            0             0              0         0   \n",
       "1          0         0            0             0              0         0   \n",
       "\n",
       "   BAD  \n",
       "0    0  \n",
       "1    0  \n",
       "\n",
       "[2 rows x 67 columns]"
      ]
     },
     "execution_count": 7,
     "metadata": {},
     "output_type": "execute_result"
    }
   ],
   "source": [
    "df_dict['dev_inner'].head(2)"
   ]
  },
  {
   "cell_type": "code",
   "execution_count": 13,
   "metadata": {},
   "outputs": [],
   "source": [
    "# 모형검증데이터 월별 나누기\n",
    "df_dict['valid_inner_1908'] = valid_inner_df[valid_inner_df['신청월']==201908]\n",
    "df_dict['valid_inner_1909'] = valid_inner_df[valid_inner_df['신청월']==201909]\n",
    "df_dict['valid_inner_1910'] = valid_inner_df[valid_inner_df['신청월']==201910]"
   ]
  },
  {
   "cell_type": "markdown",
   "metadata": {},
   "source": [
    "# <font color='orange'>02. 기부도 개별 요건별 현황"
   ]
  },
  {
   "cell_type": "code",
   "execution_count": 14,
   "metadata": {},
   "outputs": [],
   "source": [
    "pre_bad_cols = df_dict['dev_inner'].columns[df_dict['dev_inner'].columns.str.contains('PRE_BAD')]"
   ]
  },
  {
   "cell_type": "code",
   "execution_count": 15,
   "metadata": {},
   "outputs": [
    {
     "data": {
      "text/plain": [
       "Index(['PRE_BAD_FG_1', 'PRE_BAD_FG_2', 'PRE_BAD_FG_3', 'PRE_BAD_FG_4',\n",
       "       'PRE_BAD_FG_5', 'PRE_BAD_FG_6', 'PRE_BAD_FG_7', 'PRE_BAD_FG_8',\n",
       "       'TOTAL_PRE_BAD_FG'],\n",
       "      dtype='object')"
      ]
     },
     "execution_count": 15,
     "metadata": {},
     "output_type": "execute_result"
    }
   ],
   "source": [
    "pre_bad_cols"
   ]
  },
  {
   "cell_type": "code",
   "execution_count": 16,
   "metadata": {},
   "outputs": [],
   "source": [
    "# 전체 건수\n",
    "pre_bad_dict = dict()\n",
    "\n",
    "for key, df in df_dict.items():\n",
    "    this = pd.DataFrame()\n",
    "    for col in pre_bad_cols:\n",
    "        value = df[col].sum(axis = 0)\n",
    "        # BS 원안\n",
    "        bad_1 = df[df[col] == 1]['BAD'].sum(axis = 0)\n",
    "        this = this.append(pd.DataFrame({'cnt' : value, \n",
    "                                         'bad_cnt' : bad_1,\n",
    "                                        }, index = [0]),\n",
    "                           ignore_index = True)\n",
    "        \n",
    "        \n",
    "    this.index = pre_bad_cols\n",
    "    pre_bad_dict[key] = this"
   ]
  },
  {
   "cell_type": "code",
   "execution_count": 17,
   "metadata": {},
   "outputs": [
    {
     "data": {
      "text/html": [
       "<div>\n",
       "<style scoped>\n",
       "    .dataframe tbody tr th:only-of-type {\n",
       "        vertical-align: middle;\n",
       "    }\n",
       "\n",
       "    .dataframe tbody tr th {\n",
       "        vertical-align: top;\n",
       "    }\n",
       "\n",
       "    .dataframe thead th {\n",
       "        text-align: right;\n",
       "    }\n",
       "</style>\n",
       "<table border=\"1\" class=\"dataframe\">\n",
       "  <thead>\n",
       "    <tr style=\"text-align: right;\">\n",
       "      <th></th>\n",
       "      <th>cnt</th>\n",
       "      <th>bad_cnt</th>\n",
       "    </tr>\n",
       "  </thead>\n",
       "  <tbody>\n",
       "    <tr>\n",
       "      <th>PRE_BAD_FG_1</th>\n",
       "      <td>3651</td>\n",
       "      <td>1093</td>\n",
       "    </tr>\n",
       "    <tr>\n",
       "      <th>PRE_BAD_FG_2</th>\n",
       "      <td>987</td>\n",
       "      <td>222</td>\n",
       "    </tr>\n",
       "    <tr>\n",
       "      <th>PRE_BAD_FG_3</th>\n",
       "      <td>1465</td>\n",
       "      <td>477</td>\n",
       "    </tr>\n",
       "    <tr>\n",
       "      <th>PRE_BAD_FG_4</th>\n",
       "      <td>1202</td>\n",
       "      <td>394</td>\n",
       "    </tr>\n",
       "    <tr>\n",
       "      <th>PRE_BAD_FG_5</th>\n",
       "      <td>20070</td>\n",
       "      <td>9704</td>\n",
       "    </tr>\n",
       "    <tr>\n",
       "      <th>PRE_BAD_FG_6</th>\n",
       "      <td>5570</td>\n",
       "      <td>2738</td>\n",
       "    </tr>\n",
       "    <tr>\n",
       "      <th>PRE_BAD_FG_7</th>\n",
       "      <td>6140</td>\n",
       "      <td>4337</td>\n",
       "    </tr>\n",
       "    <tr>\n",
       "      <th>PRE_BAD_FG_8</th>\n",
       "      <td>24692</td>\n",
       "      <td>18751</td>\n",
       "    </tr>\n",
       "    <tr>\n",
       "      <th>TOTAL_PRE_BAD_FG</th>\n",
       "      <td>41297</td>\n",
       "      <td>26110</td>\n",
       "    </tr>\n",
       "  </tbody>\n",
       "</table>\n",
       "</div>"
      ],
      "text/plain": [
       "                    cnt  bad_cnt\n",
       "PRE_BAD_FG_1       3651     1093\n",
       "PRE_BAD_FG_2        987      222\n",
       "PRE_BAD_FG_3       1465      477\n",
       "PRE_BAD_FG_4       1202      394\n",
       "PRE_BAD_FG_5      20070     9704\n",
       "PRE_BAD_FG_6       5570     2738\n",
       "PRE_BAD_FG_7       6140     4337\n",
       "PRE_BAD_FG_8      24692    18751\n",
       "TOTAL_PRE_BAD_FG  41297    26110"
      ]
     },
     "execution_count": 17,
     "metadata": {},
     "output_type": "execute_result"
    }
   ],
   "source": [
    "pre_bad_dict['dev_inner']"
   ]
  },
  {
   "cell_type": "markdown",
   "metadata": {},
   "source": [
    "### 저장"
   ]
  },
  {
   "cell_type": "code",
   "execution_count": 18,
   "metadata": {},
   "outputs": [],
   "source": [
    "# 한 엑셀파일에 여러 sheet로 저장\n",
    "\n",
    "\n",
    "save_path = os.path.join(r'C:\\Users\\w10\\Desktop\\신용평가모형 세미나\\2주차\\데이터\\기부도현황', '요건별_기부도현황_결과.xlsx')\n",
    "with pd.ExcelWriter(save_path) as writer:\n",
    "    for key, result in pre_bad_dict.items():\n",
    "        result.to_excel(writer, sheet_name = key, )"
   ]
  },
  {
   "cell_type": "code",
   "execution_count": null,
   "metadata": {},
   "outputs": [],
   "source": []
  },
  {
   "cell_type": "markdown",
   "metadata": {},
   "source": [
    "# <font color='orange'>03. 기부도 누적 요건별 현황"
   ]
  },
  {
   "cell_type": "code",
   "execution_count": 19,
   "metadata": {},
   "outputs": [],
   "source": [
    "pre_bad_cols = df_dict['dev_inner'].columns[df_dict['dev_inner'].columns.str.contains('PRE_BAD')]"
   ]
  },
  {
   "cell_type": "code",
   "execution_count": 21,
   "metadata": {},
   "outputs": [
    {
     "data": {
      "text/plain": [
       "Index(['PRE_BAD_FG_1', 'PRE_BAD_FG_2', 'PRE_BAD_FG_3', 'PRE_BAD_FG_4',\n",
       "       'PRE_BAD_FG_5', 'PRE_BAD_FG_6', 'PRE_BAD_FG_7', 'PRE_BAD_FG_8'],\n",
       "      dtype='object')"
      ]
     },
     "execution_count": 21,
     "metadata": {},
     "output_type": "execute_result"
    }
   ],
   "source": [
    "pre_bad_cols = pre_bad_cols.drop(['TOTAL_PRE_BAD_FG'])\n",
    "pre_bad_cols"
   ]
  },
  {
   "cell_type": "code",
   "execution_count": 23,
   "metadata": {},
   "outputs": [],
   "source": [
    "cum_pre_bad_dict = dict()\n",
    "for key, df in df_dict.items():\n",
    "    tmp_df = pd.DataFrame()\n",
    "    \n",
    "    for num, col in enumerate(pre_bad_cols):\n",
    "        cnt = df[df[col] == 1].shape[0]\n",
    "        bad_1 = df[df[col] == 1]['BAD'].sum(axis = 0)\n",
    "        value = pd.DataFrame({'cnt' : cnt,\n",
    "                              'bad_cnt' : bad_1,\n",
    "                             },index = [col])\n",
    "        tmp_df = tmp_df.append(value, )\n",
    "            \n",
    "        remove_idx = df[df[col] == 1]['no'].values\n",
    "        df = df[df['no'].isin(remove_idx) == False]\n",
    "    \n",
    "#     tmp_df.columns = ['대상자',]\n",
    "    cum_pre_bad_dict[key] = tmp_df\n",
    "    \n",
    "        "
   ]
  },
  {
   "cell_type": "code",
   "execution_count": 24,
   "metadata": {},
   "outputs": [
    {
     "data": {
      "text/html": [
       "<div>\n",
       "<style scoped>\n",
       "    .dataframe tbody tr th:only-of-type {\n",
       "        vertical-align: middle;\n",
       "    }\n",
       "\n",
       "    .dataframe tbody tr th {\n",
       "        vertical-align: top;\n",
       "    }\n",
       "\n",
       "    .dataframe thead th {\n",
       "        text-align: right;\n",
       "    }\n",
       "</style>\n",
       "<table border=\"1\" class=\"dataframe\">\n",
       "  <thead>\n",
       "    <tr style=\"text-align: right;\">\n",
       "      <th></th>\n",
       "      <th>cnt</th>\n",
       "      <th>bad_cnt</th>\n",
       "    </tr>\n",
       "  </thead>\n",
       "  <tbody>\n",
       "    <tr>\n",
       "      <th>PRE_BAD_FG_1</th>\n",
       "      <td>3651</td>\n",
       "      <td>1093</td>\n",
       "    </tr>\n",
       "    <tr>\n",
       "      <th>PRE_BAD_FG_2</th>\n",
       "      <td>0</td>\n",
       "      <td>0</td>\n",
       "    </tr>\n",
       "    <tr>\n",
       "      <th>PRE_BAD_FG_3</th>\n",
       "      <td>0</td>\n",
       "      <td>0</td>\n",
       "    </tr>\n",
       "    <tr>\n",
       "      <th>PRE_BAD_FG_4</th>\n",
       "      <td>0</td>\n",
       "      <td>0</td>\n",
       "    </tr>\n",
       "    <tr>\n",
       "      <th>PRE_BAD_FG_5</th>\n",
       "      <td>16419</td>\n",
       "      <td>8611</td>\n",
       "    </tr>\n",
       "    <tr>\n",
       "      <th>PRE_BAD_FG_6</th>\n",
       "      <td>2386</td>\n",
       "      <td>1135</td>\n",
       "    </tr>\n",
       "    <tr>\n",
       "      <th>PRE_BAD_FG_7</th>\n",
       "      <td>2205</td>\n",
       "      <td>1919</td>\n",
       "    </tr>\n",
       "    <tr>\n",
       "      <th>PRE_BAD_FG_8</th>\n",
       "      <td>16636</td>\n",
       "      <td>13352</td>\n",
       "    </tr>\n",
       "  </tbody>\n",
       "</table>\n",
       "</div>"
      ],
      "text/plain": [
       "                cnt  bad_cnt\n",
       "PRE_BAD_FG_1   3651     1093\n",
       "PRE_BAD_FG_2      0        0\n",
       "PRE_BAD_FG_3      0        0\n",
       "PRE_BAD_FG_4      0        0\n",
       "PRE_BAD_FG_5  16419     8611\n",
       "PRE_BAD_FG_6   2386     1135\n",
       "PRE_BAD_FG_7   2205     1919\n",
       "PRE_BAD_FG_8  16636    13352"
      ]
     },
     "execution_count": 24,
     "metadata": {},
     "output_type": "execute_result"
    }
   ],
   "source": [
    "cum_pre_bad_dict['dev_inner']"
   ]
  },
  {
   "cell_type": "markdown",
   "metadata": {},
   "source": [
    "### 저장"
   ]
  },
  {
   "cell_type": "code",
   "execution_count": 25,
   "metadata": {},
   "outputs": [],
   "source": [
    "# 한 엑셀파일에 여러 sheet로 저장\n",
    "\n",
    "\n",
    "save_path = os.path.join(r'C:\\Users\\w10\\Desktop\\신용평가모형 세미나\\2주차\\데이터\\기부도현황', '요건별_누적_기부도현황_결과.xlsx')\n",
    "with pd.ExcelWriter(save_path) as writer:\n",
    "    for key, result in cum_pre_bad_dict.items():\n",
    "        result.to_excel(writer, sheet_name = key, )"
   ]
  },
  {
   "cell_type": "code",
   "execution_count": 26,
   "metadata": {},
   "outputs": [
    {
     "name": "stdout",
     "output_type": "stream",
     "text": [
      "dev_inner\n",
      "240016\n",
      "107261\n",
      "valid_inner\n",
      "40942\n",
      "6253\n",
      "valid_inner_1908\n",
      "15037\n",
      "3189\n",
      "valid_inner_1909\n",
      "13613\n",
      "2044\n",
      "valid_inner_1910\n",
      "12292\n",
      "1020\n"
     ]
    }
   ],
   "source": [
    "for key, df in df_dict.items():\n",
    "    print(key)\n",
    "    print(df.shape[0])\n",
    "    print(df['BAD'].sum())"
   ]
  },
  {
   "cell_type": "code",
   "execution_count": null,
   "metadata": {},
   "outputs": [],
   "source": []
  }
 ],
 "metadata": {
  "kernelspec": {
   "display_name": "Python 3",
   "language": "python",
   "name": "python3"
  },
  "language_info": {
   "codemirror_mode": {
    "name": "ipython",
    "version": 3
   },
   "file_extension": ".py",
   "mimetype": "text/x-python",
   "name": "python",
   "nbconvert_exporter": "python",
   "pygments_lexer": "ipython3",
   "version": "3.7.4"
  }
 },
 "nbformat": 4,
 "nbformat_minor": 4
}
