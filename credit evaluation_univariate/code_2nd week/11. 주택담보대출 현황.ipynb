{
 "cells": [
  {
   "cell_type": "code",
   "execution_count": 1,
   "metadata": {},
   "outputs": [],
   "source": [
    "import pandas as pd\n",
    "import numpy as np\n",
    "import os\n",
    "import glob\n",
    "from datetime import datetime\n",
    "import warnings\n",
    "warnings.filterwarnings('ignore')"
   ]
  },
  {
   "cell_type": "markdown",
   "metadata": {},
   "source": [
    "# <font color='orange'>01. load data"
   ]
  },
  {
   "cell_type": "code",
   "execution_count": 2,
   "metadata": {},
   "outputs": [],
   "source": [
    "data_rootpath = r'C:\\Users\\w10\\Desktop\\신용평가모형 세미나\\2주차\\데이터\\dev_data'"
   ]
  },
  {
   "cell_type": "code",
   "execution_count": 3,
   "metadata": {},
   "outputs": [
    {
     "data": {
      "text/plain": [
       "['model_dev_cb_df.csv',\n",
       " 'model_dev_inner_df.csv',\n",
       " 'model_valid_cb_df.csv',\n",
       " 'model_valid_inner_df.csv']"
      ]
     },
     "execution_count": 3,
     "metadata": {},
     "output_type": "execute_result"
    }
   ],
   "source": [
    "os.listdir(data_rootpath)"
   ]
  },
  {
   "cell_type": "code",
   "execution_count": 4,
   "metadata": {},
   "outputs": [],
   "source": [
    "dev_inner_df = pd.read_csv(os.path.join(data_rootpath, 'model_dev_inner_df.csv'))\n",
    "valid_inner_df = pd.read_csv(os.path.join(data_rootpath, 'model_valid_inner_df.csv'))"
   ]
  },
  {
   "cell_type": "code",
   "execution_count": 5,
   "metadata": {},
   "outputs": [],
   "source": [
    "# dictionary에 담기\n",
    "df_dict = dict()\n",
    "\n",
    "df_dict['dev_inner'] = dev_inner_df\n",
    "df_dict['valid_inner'] = valid_inner_df"
   ]
  },
  {
   "cell_type": "code",
   "execution_count": 6,
   "metadata": {},
   "outputs": [
    {
     "name": "stdout",
     "output_type": "stream",
     "text": [
      "dev_inner (240016, 67)\n",
      "valid_inner (40942, 67)\n"
     ]
    }
   ],
   "source": [
    "for key, df in df_dict.items():\n",
    "    print(key, df.shape)"
   ]
  },
  {
   "cell_type": "code",
   "execution_count": 7,
   "metadata": {},
   "outputs": [
    {
     "data": {
      "text/html": [
       "<div>\n",
       "<style scoped>\n",
       "    .dataframe tbody tr th:only-of-type {\n",
       "        vertical-align: middle;\n",
       "    }\n",
       "\n",
       "    .dataframe tbody tr th {\n",
       "        vertical-align: top;\n",
       "    }\n",
       "\n",
       "    .dataframe thead th {\n",
       "        text-align: right;\n",
       "    }\n",
       "</style>\n",
       "<table border=\"1\" class=\"dataframe\">\n",
       "  <thead>\n",
       "    <tr style=\"text-align: right;\">\n",
       "      <th></th>\n",
       "      <th>no</th>\n",
       "      <th>신청월</th>\n",
       "      <th>직군그룹</th>\n",
       "      <th>근속기간1</th>\n",
       "      <th>웰컴_소득구간</th>\n",
       "      <th>심사원장_소득구간</th>\n",
       "      <th>EXECUTE_FG</th>\n",
       "      <th>DESTRUCT_FG</th>\n",
       "      <th>Y_2017_FG</th>\n",
       "      <th>Y_2018_FG</th>\n",
       "      <th>...</th>\n",
       "      <th>BAD_금융_카드_12</th>\n",
       "      <th>BAD_금융_캐피탈_12</th>\n",
       "      <th>BAD_금융_저축은행_12</th>\n",
       "      <th>BAD_대부_12</th>\n",
       "      <th>BAD_금융_6</th>\n",
       "      <th>BAD_금융_카드_6</th>\n",
       "      <th>BAD_금융_캐피탈_6</th>\n",
       "      <th>BAD_금융_저축은행_6</th>\n",
       "      <th>BAD_대부_6</th>\n",
       "      <th>BAD</th>\n",
       "    </tr>\n",
       "  </thead>\n",
       "  <tbody>\n",
       "    <tr>\n",
       "      <th>0</th>\n",
       "      <td>1</td>\n",
       "      <td>201612</td>\n",
       "      <td>NaN</td>\n",
       "      <td>5.0</td>\n",
       "      <td>5.0</td>\n",
       "      <td>0.0</td>\n",
       "      <td>0</td>\n",
       "      <td>1</td>\n",
       "      <td>1</td>\n",
       "      <td>0</td>\n",
       "      <td>...</td>\n",
       "      <td>0</td>\n",
       "      <td>0</td>\n",
       "      <td>0</td>\n",
       "      <td>0</td>\n",
       "      <td>0</td>\n",
       "      <td>0</td>\n",
       "      <td>0</td>\n",
       "      <td>0</td>\n",
       "      <td>0</td>\n",
       "      <td>0</td>\n",
       "    </tr>\n",
       "    <tr>\n",
       "      <th>1</th>\n",
       "      <td>2</td>\n",
       "      <td>201612</td>\n",
       "      <td>D</td>\n",
       "      <td>5.0</td>\n",
       "      <td>2.0</td>\n",
       "      <td>0.0</td>\n",
       "      <td>0</td>\n",
       "      <td>1</td>\n",
       "      <td>1</td>\n",
       "      <td>0</td>\n",
       "      <td>...</td>\n",
       "      <td>0</td>\n",
       "      <td>0</td>\n",
       "      <td>0</td>\n",
       "      <td>0</td>\n",
       "      <td>0</td>\n",
       "      <td>0</td>\n",
       "      <td>0</td>\n",
       "      <td>0</td>\n",
       "      <td>0</td>\n",
       "      <td>0</td>\n",
       "    </tr>\n",
       "  </tbody>\n",
       "</table>\n",
       "<p>2 rows × 67 columns</p>\n",
       "</div>"
      ],
      "text/plain": [
       "   no     신청월 직군그룹  근속기간1  웰컴_소득구간  심사원장_소득구간  EXECUTE_FG  DESTRUCT_FG  \\\n",
       "0   1  201612  NaN    5.0      5.0        0.0           0            1   \n",
       "1   2  201612    D    5.0      2.0        0.0           0            1   \n",
       "\n",
       "   Y_2017_FG  Y_2018_FG  ...  BAD_금융_카드_12  BAD_금융_캐피탈_12  BAD_금융_저축은행_12  \\\n",
       "0          1          0  ...             0              0               0   \n",
       "1          1          0  ...             0              0               0   \n",
       "\n",
       "   BAD_대부_12  BAD_금융_6  BAD_금융_카드_6  BAD_금융_캐피탈_6  BAD_금융_저축은행_6  BAD_대부_6  \\\n",
       "0          0         0            0             0              0         0   \n",
       "1          0         0            0             0              0         0   \n",
       "\n",
       "   BAD  \n",
       "0    0  \n",
       "1    0  \n",
       "\n",
       "[2 rows x 67 columns]"
      ]
     },
     "execution_count": 7,
     "metadata": {},
     "output_type": "execute_result"
    }
   ],
   "source": [
    "df_dict['dev_inner'].head(2)"
   ]
  },
  {
   "cell_type": "code",
   "execution_count": 8,
   "metadata": {},
   "outputs": [],
   "source": [
    "# 모형검증데이터 월별 나누기\n",
    "df_dict['valid_inner_1908'] = valid_inner_df[valid_inner_df['신청월']==201908]\n",
    "df_dict['valid_inner_1909'] = valid_inner_df[valid_inner_df['신청월']==201909]\n",
    "df_dict['valid_inner_1910'] = valid_inner_df[valid_inner_df['신청월']==201910]"
   ]
  },
  {
   "cell_type": "code",
   "execution_count": 18,
   "metadata": {},
   "outputs": [],
   "source": [
    "dev_cb_df = pd.read_csv(os.path.join(data_rootpath, 'model_dev_cb_df.csv'))"
   ]
  },
  {
   "cell_type": "code",
   "execution_count": 19,
   "metadata": {},
   "outputs": [],
   "source": [
    "valid_cb_df = pd.read_csv(os.path.join(data_rootpath, 'model_valid_cb_df.csv'))"
   ]
  },
  {
   "cell_type": "code",
   "execution_count": 20,
   "metadata": {},
   "outputs": [],
   "source": [
    "cb_dict = dict()\n",
    "\n",
    "cb_dict['dev_inner'] = dev_cb_df\n",
    "cb_dict['valid_inner'] = valid_cb_df"
   ]
  },
  {
   "cell_type": "code",
   "execution_count": 21,
   "metadata": {},
   "outputs": [],
   "source": [
    "# 모형검증데이터 월별 나누기\n",
    "cb_dict['valid_cb_1908'] = valid_cb_df[valid_cb_df['신청월']==201908]\n",
    "cb_dict['valid_cb_1909'] = valid_cb_df[valid_cb_df['신청월']==201909]\n",
    "cb_dict['valid_cb_1910'] = valid_cb_df[valid_cb_df['신청월']==201910]"
   ]
  },
  {
   "cell_type": "markdown",
   "metadata": {},
   "source": [
    "# <font color='orange'>02. 주택담보대출 요건별 현황파악"
   ]
  },
  {
   "cell_type": "code",
   "execution_count": 9,
   "metadata": {},
   "outputs": [],
   "source": [
    "house_cols = df_dict['dev_inner'].columns[df_dict['dev_inner'].columns.str.contains('HOUSE')]"
   ]
  },
  {
   "cell_type": "code",
   "execution_count": 10,
   "metadata": {},
   "outputs": [
    {
     "data": {
      "text/plain": [
       "Index(['TOTAL_HOUSE_FG_1', 'TOTAL_HOUSE_FG_2', 'TOTAL_HOUSE_FG_3',\n",
       "       'TOTAL_HOUSE_FG_4', 'BANK_HOUSE_FG', 'INS_HOUSE_FG', 'CARD_HOUSE_FG',\n",
       "       'LEASE_HOUSE_FG', 'SB_HOUSE_FG', 'COOP_HOUSE_FG', 'CREDUNION_HOUSE_FG',\n",
       "       'CAP_HOUSE_FG', 'MG_HOUSE_FG', 'ETC_HOUSE_FG', 'ACC_SB_HOUSE_FG',\n",
       "       'ACC_ML_HOUSE_FG', 'ACC_P2P_HOUSE_FG', 'TOTAL_HOUSE_FG'],\n",
       "      dtype='object')"
      ]
     },
     "execution_count": 10,
     "metadata": {},
     "output_type": "execute_result"
    }
   ],
   "source": [
    "house_cols"
   ]
  },
  {
   "cell_type": "code",
   "execution_count": 11,
   "metadata": {},
   "outputs": [],
   "source": [
    "# 전체 건수\n",
    "house_dict = dict()\n",
    "\n",
    "for key, df in df_dict.items():\n",
    "    this = pd.DataFrame()\n",
    "    df = df[df['TOTAL_PRE_BAD_FG'] == 0]\n",
    "    for col in house_cols:\n",
    "        value = df[col].sum(axis = 0)\n",
    "        bad = df[df[col] == 1]['BAD'].sum(axis = 0)\n",
    "        \n",
    "        this = this.append(pd.DataFrame({'cnt' : value, \n",
    "                                         'bad_cnt' : bad}, index = [0]),\n",
    "                           ignore_index = True)\n",
    "        \n",
    "        \n",
    "    this.index = house_cols\n",
    "    house_dict[key] = this"
   ]
  },
  {
   "cell_type": "code",
   "execution_count": 13,
   "metadata": {},
   "outputs": [
    {
     "data": {
      "text/html": [
       "<div>\n",
       "<style scoped>\n",
       "    .dataframe tbody tr th:only-of-type {\n",
       "        vertical-align: middle;\n",
       "    }\n",
       "\n",
       "    .dataframe tbody tr th {\n",
       "        vertical-align: top;\n",
       "    }\n",
       "\n",
       "    .dataframe thead th {\n",
       "        text-align: right;\n",
       "    }\n",
       "</style>\n",
       "<table border=\"1\" class=\"dataframe\">\n",
       "  <thead>\n",
       "    <tr style=\"text-align: right;\">\n",
       "      <th></th>\n",
       "      <th>cnt</th>\n",
       "      <th>bad_cnt</th>\n",
       "    </tr>\n",
       "  </thead>\n",
       "  <tbody>\n",
       "    <tr>\n",
       "      <th>TOTAL_HOUSE_FG_1</th>\n",
       "      <td>11104</td>\n",
       "      <td>4121</td>\n",
       "    </tr>\n",
       "    <tr>\n",
       "      <th>TOTAL_HOUSE_FG_2</th>\n",
       "      <td>12909</td>\n",
       "      <td>4688</td>\n",
       "    </tr>\n",
       "    <tr>\n",
       "      <th>TOTAL_HOUSE_FG_3</th>\n",
       "      <td>12909</td>\n",
       "      <td>4688</td>\n",
       "    </tr>\n",
       "    <tr>\n",
       "      <th>TOTAL_HOUSE_FG_4</th>\n",
       "      <td>12909</td>\n",
       "      <td>4688</td>\n",
       "    </tr>\n",
       "    <tr>\n",
       "      <th>BANK_HOUSE_FG</th>\n",
       "      <td>6427</td>\n",
       "      <td>2210</td>\n",
       "    </tr>\n",
       "    <tr>\n",
       "      <th>INS_HOUSE_FG</th>\n",
       "      <td>1166</td>\n",
       "      <td>464</td>\n",
       "    </tr>\n",
       "    <tr>\n",
       "      <th>CARD_HOUSE_FG</th>\n",
       "      <td>0</td>\n",
       "      <td>0</td>\n",
       "    </tr>\n",
       "    <tr>\n",
       "      <th>LEASE_HOUSE_FG</th>\n",
       "      <td>0</td>\n",
       "      <td>0</td>\n",
       "    </tr>\n",
       "    <tr>\n",
       "      <th>SB_HOUSE_FG</th>\n",
       "      <td>168</td>\n",
       "      <td>108</td>\n",
       "    </tr>\n",
       "    <tr>\n",
       "      <th>COOP_HOUSE_FG</th>\n",
       "      <td>1639</td>\n",
       "      <td>598</td>\n",
       "    </tr>\n",
       "    <tr>\n",
       "      <th>CREDUNION_HOUSE_FG</th>\n",
       "      <td>859</td>\n",
       "      <td>326</td>\n",
       "    </tr>\n",
       "    <tr>\n",
       "      <th>CAP_HOUSE_FG</th>\n",
       "      <td>982</td>\n",
       "      <td>427</td>\n",
       "    </tr>\n",
       "    <tr>\n",
       "      <th>MG_HOUSE_FG</th>\n",
       "      <td>1410</td>\n",
       "      <td>557</td>\n",
       "    </tr>\n",
       "    <tr>\n",
       "      <th>ETC_HOUSE_FG</th>\n",
       "      <td>420</td>\n",
       "      <td>137</td>\n",
       "    </tr>\n",
       "    <tr>\n",
       "      <th>ACC_SB_HOUSE_FG</th>\n",
       "      <td>436</td>\n",
       "      <td>211</td>\n",
       "    </tr>\n",
       "    <tr>\n",
       "      <th>ACC_ML_HOUSE_FG</th>\n",
       "      <td>544</td>\n",
       "      <td>273</td>\n",
       "    </tr>\n",
       "    <tr>\n",
       "      <th>ACC_P2P_HOUSE_FG</th>\n",
       "      <td>5</td>\n",
       "      <td>3</td>\n",
       "    </tr>\n",
       "    <tr>\n",
       "      <th>TOTAL_HOUSE_FG</th>\n",
       "      <td>14356</td>\n",
       "      <td>5295</td>\n",
       "    </tr>\n",
       "  </tbody>\n",
       "</table>\n",
       "</div>"
      ],
      "text/plain": [
       "                      cnt  bad_cnt\n",
       "TOTAL_HOUSE_FG_1    11104     4121\n",
       "TOTAL_HOUSE_FG_2    12909     4688\n",
       "TOTAL_HOUSE_FG_3    12909     4688\n",
       "TOTAL_HOUSE_FG_4    12909     4688\n",
       "BANK_HOUSE_FG        6427     2210\n",
       "INS_HOUSE_FG         1166      464\n",
       "CARD_HOUSE_FG           0        0\n",
       "LEASE_HOUSE_FG          0        0\n",
       "SB_HOUSE_FG           168      108\n",
       "COOP_HOUSE_FG        1639      598\n",
       "CREDUNION_HOUSE_FG    859      326\n",
       "CAP_HOUSE_FG          982      427\n",
       "MG_HOUSE_FG          1410      557\n",
       "ETC_HOUSE_FG          420      137\n",
       "ACC_SB_HOUSE_FG       436      211\n",
       "ACC_ML_HOUSE_FG       544      273\n",
       "ACC_P2P_HOUSE_FG        5        3\n",
       "TOTAL_HOUSE_FG      14356     5295"
      ]
     },
     "execution_count": 13,
     "metadata": {},
     "output_type": "execute_result"
    }
   ],
   "source": [
    "house_dict['dev_inner']"
   ]
  },
  {
   "cell_type": "code",
   "execution_count": 15,
   "metadata": {},
   "outputs": [],
   "source": [
    "# 한 엑셀파일에 여러 sheet로 저장\n",
    "\n",
    "\n",
    "save_path = os.path.join(r'C:\\Users\\w10\\Desktop\\신용평가모형 세미나\\2주차\\데이터\\주택담보대출현황', '요건별_주택담보대출현황_결과.xlsx')\n",
    "with pd.ExcelWriter(save_path) as writer:\n",
    "    for key, result in house_dict.items():\n",
    "        result.to_excel(writer, sheet_name = key, )"
   ]
  },
  {
   "cell_type": "markdown",
   "metadata": {},
   "source": [
    "# <font color='orange'>03. 주담대 보유 건수 현황"
   ]
  },
  {
   "cell_type": "markdown",
   "metadata": {},
   "source": [
    "* 기부도 대상 제외"
   ]
  },
  {
   "cell_type": "code",
   "execution_count": 16,
   "metadata": {},
   "outputs": [],
   "source": [
    "# BAD값이 0 or 1로 설정 필요\n",
    "def _grouping_grade(data, grade_var, bad_var):\n",
    "    grp = data.groupby(by = [grade_var], as_index = False).agg(\n",
    "    {\n",
    "        bad_var : ('count','sum')\n",
    "    })\n",
    "    grp.columns = [grade_var, 'TOTAL_CNT', 'BAD_CNT']\n",
    "    grp['DISTRIBUTION'] = grp['TOTAL_CNT'] / data.shape[0]\n",
    "    grp['BAD_RATIO'] = grp['BAD_CNT'] / grp['TOTAL_CNT']\n",
    "    return grp\n",
    "    "
   ]
  },
  {
   "cell_type": "code",
   "execution_count": 23,
   "metadata": {},
   "outputs": [],
   "source": [
    "house_cnt_dict = dict()\n",
    "for key, inner, cb in zip(df_dict.keys(), df_dict.values(), cb_dict.values()):\n",
    "    inner = inner[inner['TOTAL_PRE_BAD_FG'] == 0]\n",
    "    inner = inner[inner['TOTAL_HOUSE_FG'] == 1]\n",
    "    \n",
    "    need_no_list = inner['no'].tolist()\n",
    "    \n",
    "    cb_df = cb[cb['no'].isin(need_no_list)]\n",
    "    cb_df['BAD'] = inner['BAD']\n",
    "    grp = _grouping_grade(cb_df, 'L23001001','BAD',)\n",
    "    \n",
    "    house_cnt_dict[key] = grp"
   ]
  },
  {
   "cell_type": "code",
   "execution_count": 24,
   "metadata": {},
   "outputs": [
    {
     "data": {
      "text/html": [
       "<div>\n",
       "<style scoped>\n",
       "    .dataframe tbody tr th:only-of-type {\n",
       "        vertical-align: middle;\n",
       "    }\n",
       "\n",
       "    .dataframe tbody tr th {\n",
       "        vertical-align: top;\n",
       "    }\n",
       "\n",
       "    .dataframe thead th {\n",
       "        text-align: right;\n",
       "    }\n",
       "</style>\n",
       "<table border=\"1\" class=\"dataframe\">\n",
       "  <thead>\n",
       "    <tr style=\"text-align: right;\">\n",
       "      <th></th>\n",
       "      <th>L23001001</th>\n",
       "      <th>TOTAL_CNT</th>\n",
       "      <th>BAD_CNT</th>\n",
       "      <th>DISTRIBUTION</th>\n",
       "      <th>BAD_RATIO</th>\n",
       "    </tr>\n",
       "  </thead>\n",
       "  <tbody>\n",
       "    <tr>\n",
       "      <th>0</th>\n",
       "      <td>0</td>\n",
       "      <td>1447</td>\n",
       "      <td>607</td>\n",
       "      <td>0.100794</td>\n",
       "      <td>0.419489</td>\n",
       "    </tr>\n",
       "    <tr>\n",
       "      <th>1</th>\n",
       "      <td>1</td>\n",
       "      <td>12241</td>\n",
       "      <td>4472</td>\n",
       "      <td>0.852675</td>\n",
       "      <td>0.365330</td>\n",
       "    </tr>\n",
       "    <tr>\n",
       "      <th>2</th>\n",
       "      <td>2</td>\n",
       "      <td>615</td>\n",
       "      <td>197</td>\n",
       "      <td>0.042839</td>\n",
       "      <td>0.320325</td>\n",
       "    </tr>\n",
       "    <tr>\n",
       "      <th>3</th>\n",
       "      <td>3</td>\n",
       "      <td>47</td>\n",
       "      <td>19</td>\n",
       "      <td>0.003274</td>\n",
       "      <td>0.404255</td>\n",
       "    </tr>\n",
       "    <tr>\n",
       "      <th>4</th>\n",
       "      <td>4</td>\n",
       "      <td>6</td>\n",
       "      <td>0</td>\n",
       "      <td>0.000418</td>\n",
       "      <td>0.000000</td>\n",
       "    </tr>\n",
       "  </tbody>\n",
       "</table>\n",
       "</div>"
      ],
      "text/plain": [
       "   L23001001  TOTAL_CNT  BAD_CNT  DISTRIBUTION  BAD_RATIO\n",
       "0          0       1447      607      0.100794   0.419489\n",
       "1          1      12241     4472      0.852675   0.365330\n",
       "2          2        615      197      0.042839   0.320325\n",
       "3          3         47       19      0.003274   0.404255\n",
       "4          4          6        0      0.000418   0.000000"
      ]
     },
     "execution_count": 24,
     "metadata": {},
     "output_type": "execute_result"
    }
   ],
   "source": [
    "house_cnt_dict['dev_inner']"
   ]
  },
  {
   "cell_type": "code",
   "execution_count": 25,
   "metadata": {},
   "outputs": [],
   "source": [
    "# 한 엑셀파일에 여러 sheet로 저장\n",
    "\n",
    "\n",
    "save_path = os.path.join(r'C:\\Users\\w10\\Desktop\\신용평가모형 세미나\\2주차\\데이터\\주택담보대출현황', '주택담보대출_보유건수현황_결과.xlsx')\n",
    "with pd.ExcelWriter(save_path) as writer:\n",
    "    for key, result in house_cnt_dict.items():\n",
    "        result.to_excel(writer, sheet_name = key, )"
   ]
  },
  {
   "cell_type": "markdown",
   "metadata": {},
   "source": [
    "# <font color='orange'> 04. 주담대 업권별 건수 현황"
   ]
  },
  {
   "cell_type": "code",
   "execution_count": 26,
   "metadata": {},
   "outputs": [],
   "source": [
    "def _pivot_grade(data, grade_var, bad_var, column_var):\n",
    "    '''\n",
    "    grade_var = index로 갈 변수\n",
    "    bad_var = 계산할 변수 \n",
    "    column_var = column으로 갈 변수\n",
    "    '''\n",
    "    piv = data.pivot_table(index = grade_var, columns = column_var, values = [bad_var],\n",
    "                          aggfunc = ['count','sum'],\n",
    "                           fill_value = 0,\n",
    "                          margins = True,\n",
    "                          margins_name = 'ALL'\n",
    "                          )\n",
    "    # 컬럼 정렬\n",
    "    piv.sort_index( axis = 1, inplace = True, level = column_var)\n",
    "    # 컬럼명 변경\n",
    "    piv.columns = ['TOTAL_CNT_' + column_var + '_' + str(col3) if col1 == 'count' else 'BAD_CNT_' + column_var + '_' + str(col3) for (col1, col2, col3) in piv.columns.tolist()]\n",
    "    # reset index\n",
    "    piv.reset_index(inplace = True, )\n",
    "    \n",
    "    return piv"
   ]
  },
  {
   "cell_type": "code",
   "execution_count": 27,
   "metadata": {},
   "outputs": [],
   "source": [
    "house_cols = ['LA0001016', 'LA0005008', 'LA0006011', 'LA0007201', 'LA0008008',\n",
    "              'LA0012005', 'LA0012208',\n",
    "             'LA0014008', 'LA0029203', 'LA0099252',\n",
    "             'LU0021006_1', 'LU0024013_1', 'LU0025004_1', ]"
   ]
  },
  {
   "cell_type": "code",
   "execution_count": 28,
   "metadata": {},
   "outputs": [],
   "source": [
    "busi_cols = ['은행','보험','카드','리스렌탈','저축은행','조합업계',\n",
    "            '신협','캐피탈','새마을금고','기타','계좌별_저축은행', '대부업','P2P연계대부업']"
   ]
  },
  {
   "cell_type": "code",
   "execution_count": 33,
   "metadata": {},
   "outputs": [],
   "source": [
    "house_busi_dict = dict()\n",
    "\n",
    "for key, inner, cb in zip(df_dict.keys(), df_dict.values(), cb_dict.values()):\n",
    "    inner = inner[inner['TOTAL_PRE_BAD_FG'] == 0]\n",
    "    inner = inner[inner['TOTAL_HOUSE_FG'] == 1]\n",
    "    \n",
    "    need_no_list = inner['no'].tolist()\n",
    "    \n",
    "    cb_df = cb[cb['no'].isin(need_no_list)]\n",
    "    cb_df['BAD'] = inner['BAD']\n",
    "    \n",
    "    for col, name in zip(house_cols, busi_cols):\n",
    "        grp = _grouping_grade(cb_df, col, 'BAD')\n",
    "        # 4이상은 합쳐서\n",
    "        vv = grp[grp[col] >= 4].sum()\n",
    "        vv = pd.DataFrame(vv).transpose()\n",
    "        grp = grp[grp[col] < 4]\n",
    "        grp = grp.append(vv, ignore_index = True)\n",
    "        \n",
    "        house_busi_dict[key + '_' + name] = grp"
   ]
  },
  {
   "cell_type": "code",
   "execution_count": 34,
   "metadata": {},
   "outputs": [
    {
     "data": {
      "text/html": [
       "<div>\n",
       "<style scoped>\n",
       "    .dataframe tbody tr th:only-of-type {\n",
       "        vertical-align: middle;\n",
       "    }\n",
       "\n",
       "    .dataframe tbody tr th {\n",
       "        vertical-align: top;\n",
       "    }\n",
       "\n",
       "    .dataframe thead th {\n",
       "        text-align: right;\n",
       "    }\n",
       "</style>\n",
       "<table border=\"1\" class=\"dataframe\">\n",
       "  <thead>\n",
       "    <tr style=\"text-align: right;\">\n",
       "      <th></th>\n",
       "      <th>LA0001016</th>\n",
       "      <th>TOTAL_CNT</th>\n",
       "      <th>BAD_CNT</th>\n",
       "      <th>DISTRIBUTION</th>\n",
       "      <th>BAD_RATIO</th>\n",
       "    </tr>\n",
       "  </thead>\n",
       "  <tbody>\n",
       "    <tr>\n",
       "      <th>0</th>\n",
       "      <td>0.0</td>\n",
       "      <td>7929.0</td>\n",
       "      <td>3085.0</td>\n",
       "      <td>0.552313</td>\n",
       "      <td>0.389078</td>\n",
       "    </tr>\n",
       "    <tr>\n",
       "      <th>1</th>\n",
       "      <td>1.0</td>\n",
       "      <td>5206.0</td>\n",
       "      <td>1769.0</td>\n",
       "      <td>0.362636</td>\n",
       "      <td>0.339800</td>\n",
       "    </tr>\n",
       "    <tr>\n",
       "      <th>2</th>\n",
       "      <td>2.0</td>\n",
       "      <td>828.0</td>\n",
       "      <td>318.0</td>\n",
       "      <td>0.057676</td>\n",
       "      <td>0.384058</td>\n",
       "    </tr>\n",
       "    <tr>\n",
       "      <th>3</th>\n",
       "      <td>3.0</td>\n",
       "      <td>215.0</td>\n",
       "      <td>69.0</td>\n",
       "      <td>0.014976</td>\n",
       "      <td>0.320930</td>\n",
       "    </tr>\n",
       "    <tr>\n",
       "      <th>4</th>\n",
       "      <td>52.0</td>\n",
       "      <td>178.0</td>\n",
       "      <td>54.0</td>\n",
       "      <td>0.012399</td>\n",
       "      <td>2.305454</td>\n",
       "    </tr>\n",
       "  </tbody>\n",
       "</table>\n",
       "</div>"
      ],
      "text/plain": [
       "   LA0001016  TOTAL_CNT  BAD_CNT  DISTRIBUTION  BAD_RATIO\n",
       "0        0.0     7929.0   3085.0      0.552313   0.389078\n",
       "1        1.0     5206.0   1769.0      0.362636   0.339800\n",
       "2        2.0      828.0    318.0      0.057676   0.384058\n",
       "3        3.0      215.0     69.0      0.014976   0.320930\n",
       "4       52.0      178.0     54.0      0.012399   2.305454"
      ]
     },
     "execution_count": 34,
     "metadata": {},
     "output_type": "execute_result"
    }
   ],
   "source": [
    "house_busi_dict['dev_inner_은행']"
   ]
  },
  {
   "cell_type": "code",
   "execution_count": 35,
   "metadata": {
    "scrolled": true
   },
   "outputs": [],
   "source": [
    "# 한 엑셀파일에 여러 sheet로 저장\n",
    "\n",
    "save_path = os.path.join(r'C:\\Users\\w10\\Desktop\\신용평가모형 세미나\\2주차\\데이터\\주택담보대출현황', '요건별_업권별_주택담보대출현황_결과.xlsx')\n",
    "with pd.ExcelWriter(save_path) as writer:\n",
    "    for key, result in house_busi_dict.items():\n",
    "        result.to_excel(writer, sheet_name = key, )"
   ]
  },
  {
   "cell_type": "code",
   "execution_count": 36,
   "metadata": {},
   "outputs": [
    {
     "name": "stdout",
     "output_type": "stream",
     "text": [
      "dev_inner (198719, 67)\n",
      "valid_inner (35879, 67)\n",
      "valid_inner_1908 (13068, 67)\n",
      "valid_inner_1909 (11984, 67)\n",
      "valid_inner_1910 (10827, 67)\n"
     ]
    }
   ],
   "source": [
    "for key, df in df_dict.items():\n",
    "    a = df[df['TOTAL_PRE_BAD_FG']==0]\n",
    "    print(key, a.shape)"
   ]
  },
  {
   "cell_type": "code",
   "execution_count": null,
   "metadata": {},
   "outputs": [],
   "source": []
  }
 ],
 "metadata": {
  "kernelspec": {
   "display_name": "Python 3",
   "language": "python",
   "name": "python3"
  },
  "language_info": {
   "codemirror_mode": {
    "name": "ipython",
    "version": 3
   },
   "file_extension": ".py",
   "mimetype": "text/x-python",
   "name": "python",
   "nbconvert_exporter": "python",
   "pygments_lexer": "ipython3",
   "version": "3.7.4"
  }
 },
 "nbformat": 4,
 "nbformat_minor": 4
}
