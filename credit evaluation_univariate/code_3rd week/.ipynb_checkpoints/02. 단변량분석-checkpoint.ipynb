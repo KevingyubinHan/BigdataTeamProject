{
 "cells": [
  {
   "cell_type": "markdown",
   "metadata": {},
   "source": [
    "# <font color = 'orange'>import packages"
   ]
  },
  {
   "cell_type": "code",
   "execution_count": 1,
   "metadata": {},
   "outputs": [],
   "source": [
    "import pandas as pd\n",
    "import numpy as np\n",
    "import os\n",
    "import sys\n",
    "from datetime import datetime\n",
    "import warnings\n",
    "warnings.filterwarnings('ignore')"
   ]
  },
  {
   "cell_type": "code",
   "execution_count": 2,
   "metadata": {},
   "outputs": [],
   "source": [
    "start_time = datetime.now()"
   ]
  },
  {
   "cell_type": "markdown",
   "metadata": {},
   "source": [
    "# <font color = 'orange'> load data"
   ]
  },
  {
   "cell_type": "markdown",
   "metadata": {},
   "source": [
    "## load CB data"
   ]
  },
  {
   "cell_type": "code",
   "execution_count": 3,
   "metadata": {},
   "outputs": [],
   "source": [
    "preprocessing_start = datetime.now()"
   ]
  },
  {
   "cell_type": "code",
   "execution_count": 4,
   "metadata": {},
   "outputs": [],
   "source": [
    "# set path\n",
    "data_rootpath = r'C:\\Users\\w10\\Desktop\\웰컴\\AS\\8주차(데이터추가추출부터)\\dev_data\\seg1'"
   ]
  },
  {
   "cell_type": "code",
   "execution_count": 5,
   "metadata": {},
   "outputs": [
    {
     "data": {
      "text/plain": [
       "['test_df.csv',\n",
       " 'total_df.csv',\n",
       " 'train_df.csv',\n",
       " 'valid_df.csv',\n",
       " 'val_2019_df.csv',\n",
       " '필터링후']"
      ]
     },
     "execution_count": 5,
     "metadata": {},
     "output_type": "execute_result"
    }
   ],
   "source": [
    "os.listdir(data_rootpath)"
   ]
  },
  {
   "cell_type": "code",
   "execution_count": 6,
   "metadata": {},
   "outputs": [],
   "source": [
    "# load cb dat\n",
    "trn_path = os.path.join(data_rootpath, 'train_df.csv')\n",
    "val_path = os.path.join(data_rootpath, 'valid_df.csv')\n",
    "tst_path = os.path.join(data_rootpath, 'test_df.csv')\n",
    "model_valid_path = os.path.join(data_rootpath, 'val_2019_df.csv')\n",
    "\n",
    "CB_trn = pd.read_csv(trn_path, )\n",
    "CB_val = pd.read_csv(val_path, )\n",
    "CB_tst = pd.read_csv(tst_path,)\n",
    "CB_model_valid = pd.read_csv(model_valid_path, )"
   ]
  },
  {
   "cell_type": "code",
   "execution_count": 7,
   "metadata": {},
   "outputs": [
    {
     "name": "stdout",
     "output_type": "stream",
     "text": [
      "CB train set dim :  (73533, 1937)\n",
      "CB valid set dim :  (24728, 1937)\n",
      "CB test set dim :  (24547, 1937)\n",
      "CB model validation set dim :  (19936, 1937)\n"
     ]
    }
   ],
   "source": [
    "# check each dataset dimension\n",
    "print('CB train set dim : ', CB_trn.shape)\n",
    "print('CB valid set dim : ', CB_val.shape)\n",
    "print('CB test set dim : ', CB_tst.shape)\n",
    "print('CB model validation set dim : ', CB_model_valid.shape)"
   ]
  },
  {
   "cell_type": "code",
   "execution_count": 8,
   "metadata": {},
   "outputs": [
    {
     "data": {
      "text/html": [
       "<div>\n",
       "<style scoped>\n",
       "    .dataframe tbody tr th:only-of-type {\n",
       "        vertical-align: middle;\n",
       "    }\n",
       "\n",
       "    .dataframe tbody tr th {\n",
       "        vertical-align: top;\n",
       "    }\n",
       "\n",
       "    .dataframe thead th {\n",
       "        text-align: right;\n",
       "    }\n",
       "</style>\n",
       "<table border=\"1\" class=\"dataframe\">\n",
       "  <thead>\n",
       "    <tr style=\"text-align: right;\">\n",
       "      <th></th>\n",
       "      <th>no</th>\n",
       "      <th>신청월</th>\n",
       "      <th>직군그룹</th>\n",
       "      <th>근속기간1</th>\n",
       "      <th>웰컴_소득구간</th>\n",
       "      <th>심사원장_소득구간</th>\n",
       "      <th>BAD</th>\n",
       "      <th>INCOME</th>\n",
       "      <th>UDIR</th>\n",
       "      <th>SEG</th>\n",
       "      <th>...</th>\n",
       "      <th>LA0000001_1_s9</th>\n",
       "      <th>LA0000020_1_s9</th>\n",
       "      <th>LA0000227_1_s9</th>\n",
       "      <th>P2E000500_1_s9</th>\n",
       "      <th>LA0000001_1_s12</th>\n",
       "      <th>LA0000020_1_s12</th>\n",
       "      <th>LA0000204_1_s12</th>\n",
       "      <th>LA0000227_1_s12</th>\n",
       "      <th>P2O000500_1_s12</th>\n",
       "      <th>AGE</th>\n",
       "    </tr>\n",
       "  </thead>\n",
       "  <tbody>\n",
       "    <tr>\n",
       "      <th>0</th>\n",
       "      <td>1</td>\n",
       "      <td>201612</td>\n",
       "      <td>F</td>\n",
       "      <td>5.0</td>\n",
       "      <td>2.0</td>\n",
       "      <td>2.0</td>\n",
       "      <td>1</td>\n",
       "      <td>16000</td>\n",
       "      <td>73.94</td>\n",
       "      <td>1</td>\n",
       "      <td>...</td>\n",
       "      <td>0.22</td>\n",
       "      <td>0.22</td>\n",
       "      <td>1362.45</td>\n",
       "      <td>0.0</td>\n",
       "      <td>0.14</td>\n",
       "      <td>0.14</td>\n",
       "      <td>870.91</td>\n",
       "      <td>870.91</td>\n",
       "      <td>0.0</td>\n",
       "      <td>2</td>\n",
       "    </tr>\n",
       "    <tr>\n",
       "      <th>1</th>\n",
       "      <td>3</td>\n",
       "      <td>201612</td>\n",
       "      <td>NaN</td>\n",
       "      <td>5.0</td>\n",
       "      <td>3.0</td>\n",
       "      <td>0.0</td>\n",
       "      <td>1</td>\n",
       "      <td>30000</td>\n",
       "      <td>120.45</td>\n",
       "      <td>1</td>\n",
       "      <td>...</td>\n",
       "      <td>0.00</td>\n",
       "      <td>0.00</td>\n",
       "      <td>-55.53</td>\n",
       "      <td>0.0</td>\n",
       "      <td>0.00</td>\n",
       "      <td>0.00</td>\n",
       "      <td>414.60</td>\n",
       "      <td>414.60</td>\n",
       "      <td>0.0</td>\n",
       "      <td>4</td>\n",
       "    </tr>\n",
       "    <tr>\n",
       "      <th>2</th>\n",
       "      <td>6</td>\n",
       "      <td>201612</td>\n",
       "      <td>NaN</td>\n",
       "      <td>5.0</td>\n",
       "      <td>5.0</td>\n",
       "      <td>5.0</td>\n",
       "      <td>0</td>\n",
       "      <td>15000</td>\n",
       "      <td>61.33</td>\n",
       "      <td>1</td>\n",
       "      <td>...</td>\n",
       "      <td>0.05</td>\n",
       "      <td>0.05</td>\n",
       "      <td>163.64</td>\n",
       "      <td>0.0</td>\n",
       "      <td>0.03</td>\n",
       "      <td>0.03</td>\n",
       "      <td>98.90</td>\n",
       "      <td>98.90</td>\n",
       "      <td>0.0</td>\n",
       "      <td>2</td>\n",
       "    </tr>\n",
       "    <tr>\n",
       "      <th>3</th>\n",
       "      <td>9</td>\n",
       "      <td>201612</td>\n",
       "      <td>D</td>\n",
       "      <td>5.0</td>\n",
       "      <td>2.0</td>\n",
       "      <td>0.0</td>\n",
       "      <td>0</td>\n",
       "      <td>18000</td>\n",
       "      <td>109.44</td>\n",
       "      <td>1</td>\n",
       "      <td>...</td>\n",
       "      <td>0.11</td>\n",
       "      <td>0.11</td>\n",
       "      <td>309.49</td>\n",
       "      <td>0.0</td>\n",
       "      <td>0.07</td>\n",
       "      <td>0.07</td>\n",
       "      <td>187.05</td>\n",
       "      <td>187.05</td>\n",
       "      <td>0.0</td>\n",
       "      <td>5</td>\n",
       "    </tr>\n",
       "    <tr>\n",
       "      <th>4</th>\n",
       "      <td>12</td>\n",
       "      <td>201612</td>\n",
       "      <td>F</td>\n",
       "      <td>5.0</td>\n",
       "      <td>3.0</td>\n",
       "      <td>0.0</td>\n",
       "      <td>1</td>\n",
       "      <td>30000</td>\n",
       "      <td>0.00</td>\n",
       "      <td>1</td>\n",
       "      <td>...</td>\n",
       "      <td>0.00</td>\n",
       "      <td>0.00</td>\n",
       "      <td>0.00</td>\n",
       "      <td>0.0</td>\n",
       "      <td>0.00</td>\n",
       "      <td>0.00</td>\n",
       "      <td>0.00</td>\n",
       "      <td>0.00</td>\n",
       "      <td>0.0</td>\n",
       "      <td>2</td>\n",
       "    </tr>\n",
       "  </tbody>\n",
       "</table>\n",
       "<p>5 rows × 1937 columns</p>\n",
       "</div>"
      ],
      "text/plain": [
       "   no     신청월 직군그룹  근속기간1  웰컴_소득구간  심사원장_소득구간  BAD  INCOME    UDIR  SEG  ...  \\\n",
       "0   1  201612    F    5.0      2.0        2.0    1   16000   73.94    1  ...   \n",
       "1   3  201612  NaN    5.0      3.0        0.0    1   30000  120.45    1  ...   \n",
       "2   6  201612  NaN    5.0      5.0        5.0    0   15000   61.33    1  ...   \n",
       "3   9  201612    D    5.0      2.0        0.0    0   18000  109.44    1  ...   \n",
       "4  12  201612    F    5.0      3.0        0.0    1   30000    0.00    1  ...   \n",
       "\n",
       "   LA0000001_1_s9  LA0000020_1_s9  LA0000227_1_s9  P2E000500_1_s9  \\\n",
       "0            0.22            0.22         1362.45             0.0   \n",
       "1            0.00            0.00          -55.53             0.0   \n",
       "2            0.05            0.05          163.64             0.0   \n",
       "3            0.11            0.11          309.49             0.0   \n",
       "4            0.00            0.00            0.00             0.0   \n",
       "\n",
       "   LA0000001_1_s12  LA0000020_1_s12  LA0000204_1_s12  LA0000227_1_s12  \\\n",
       "0             0.14             0.14           870.91           870.91   \n",
       "1             0.00             0.00           414.60           414.60   \n",
       "2             0.03             0.03            98.90            98.90   \n",
       "3             0.07             0.07           187.05           187.05   \n",
       "4             0.00             0.00             0.00             0.00   \n",
       "\n",
       "   P2O000500_1_s12  AGE  \n",
       "0              0.0    2  \n",
       "1              0.0    4  \n",
       "2              0.0    2  \n",
       "3              0.0    5  \n",
       "4              0.0    2  \n",
       "\n",
       "[5 rows x 1937 columns]"
      ]
     },
     "execution_count": 8,
     "metadata": {},
     "output_type": "execute_result"
    }
   ],
   "source": [
    "CB_trn.head()"
   ]
  },
  {
   "cell_type": "code",
   "execution_count": 9,
   "metadata": {},
   "outputs": [],
   "source": [
    "# index 설정\n",
    "def set_index_and_sort(df, index_col):\n",
    "    df.set_index(index_col, inplace=True, drop=True, verify_integrity=True)\n",
    "    df.sort_index(inplace=True)\n",
    "    return df"
   ]
  },
  {
   "cell_type": "code",
   "execution_count": 10,
   "metadata": {},
   "outputs": [],
   "source": [
    "CB_trn = set_index_and_sort(CB_trn, 'no')\n",
    "CB_val = set_index_and_sort(CB_val,'no')\n",
    "CB_tst = set_index_and_sort(CB_tst,'no')\n",
    "CB_model_valid = set_index_and_sort(CB_model_valid, 'no')"
   ]
  },
  {
   "cell_type": "code",
   "execution_count": 11,
   "metadata": {
    "scrolled": true
   },
   "outputs": [
    {
     "data": {
      "text/html": [
       "<div>\n",
       "<style scoped>\n",
       "    .dataframe tbody tr th:only-of-type {\n",
       "        vertical-align: middle;\n",
       "    }\n",
       "\n",
       "    .dataframe tbody tr th {\n",
       "        vertical-align: top;\n",
       "    }\n",
       "\n",
       "    .dataframe thead th {\n",
       "        text-align: right;\n",
       "    }\n",
       "</style>\n",
       "<table border=\"1\" class=\"dataframe\">\n",
       "  <thead>\n",
       "    <tr style=\"text-align: right;\">\n",
       "      <th></th>\n",
       "      <th>신청월</th>\n",
       "      <th>직군그룹</th>\n",
       "      <th>근속기간1</th>\n",
       "      <th>웰컴_소득구간</th>\n",
       "      <th>심사원장_소득구간</th>\n",
       "      <th>BAD</th>\n",
       "      <th>INCOME</th>\n",
       "      <th>UDIR</th>\n",
       "      <th>SEG</th>\n",
       "      <th>HOUSE_LOAN_FG</th>\n",
       "      <th>...</th>\n",
       "      <th>LA0000001_1_s9</th>\n",
       "      <th>LA0000020_1_s9</th>\n",
       "      <th>LA0000227_1_s9</th>\n",
       "      <th>P2E000500_1_s9</th>\n",
       "      <th>LA0000001_1_s12</th>\n",
       "      <th>LA0000020_1_s12</th>\n",
       "      <th>LA0000204_1_s12</th>\n",
       "      <th>LA0000227_1_s12</th>\n",
       "      <th>P2O000500_1_s12</th>\n",
       "      <th>AGE</th>\n",
       "    </tr>\n",
       "    <tr>\n",
       "      <th>no</th>\n",
       "      <th></th>\n",
       "      <th></th>\n",
       "      <th></th>\n",
       "      <th></th>\n",
       "      <th></th>\n",
       "      <th></th>\n",
       "      <th></th>\n",
       "      <th></th>\n",
       "      <th></th>\n",
       "      <th></th>\n",
       "      <th></th>\n",
       "      <th></th>\n",
       "      <th></th>\n",
       "      <th></th>\n",
       "      <th></th>\n",
       "      <th></th>\n",
       "      <th></th>\n",
       "      <th></th>\n",
       "      <th></th>\n",
       "      <th></th>\n",
       "      <th></th>\n",
       "    </tr>\n",
       "  </thead>\n",
       "  <tbody>\n",
       "    <tr>\n",
       "      <th>1</th>\n",
       "      <td>201612</td>\n",
       "      <td>F</td>\n",
       "      <td>5.0</td>\n",
       "      <td>2.0</td>\n",
       "      <td>2.0</td>\n",
       "      <td>1</td>\n",
       "      <td>16000</td>\n",
       "      <td>73.94</td>\n",
       "      <td>1</td>\n",
       "      <td>0</td>\n",
       "      <td>...</td>\n",
       "      <td>0.22</td>\n",
       "      <td>0.22</td>\n",
       "      <td>1362.45</td>\n",
       "      <td>0.0</td>\n",
       "      <td>0.14</td>\n",
       "      <td>0.14</td>\n",
       "      <td>870.91</td>\n",
       "      <td>870.91</td>\n",
       "      <td>0.0</td>\n",
       "      <td>2</td>\n",
       "    </tr>\n",
       "    <tr>\n",
       "      <th>3</th>\n",
       "      <td>201612</td>\n",
       "      <td>NaN</td>\n",
       "      <td>5.0</td>\n",
       "      <td>3.0</td>\n",
       "      <td>0.0</td>\n",
       "      <td>1</td>\n",
       "      <td>30000</td>\n",
       "      <td>120.45</td>\n",
       "      <td>1</td>\n",
       "      <td>0</td>\n",
       "      <td>...</td>\n",
       "      <td>0.00</td>\n",
       "      <td>0.00</td>\n",
       "      <td>-55.53</td>\n",
       "      <td>0.0</td>\n",
       "      <td>0.00</td>\n",
       "      <td>0.00</td>\n",
       "      <td>414.60</td>\n",
       "      <td>414.60</td>\n",
       "      <td>0.0</td>\n",
       "      <td>4</td>\n",
       "    </tr>\n",
       "    <tr>\n",
       "      <th>6</th>\n",
       "      <td>201612</td>\n",
       "      <td>NaN</td>\n",
       "      <td>5.0</td>\n",
       "      <td>5.0</td>\n",
       "      <td>5.0</td>\n",
       "      <td>0</td>\n",
       "      <td>15000</td>\n",
       "      <td>61.33</td>\n",
       "      <td>1</td>\n",
       "      <td>0</td>\n",
       "      <td>...</td>\n",
       "      <td>0.05</td>\n",
       "      <td>0.05</td>\n",
       "      <td>163.64</td>\n",
       "      <td>0.0</td>\n",
       "      <td>0.03</td>\n",
       "      <td>0.03</td>\n",
       "      <td>98.90</td>\n",
       "      <td>98.90</td>\n",
       "      <td>0.0</td>\n",
       "      <td>2</td>\n",
       "    </tr>\n",
       "    <tr>\n",
       "      <th>9</th>\n",
       "      <td>201612</td>\n",
       "      <td>D</td>\n",
       "      <td>5.0</td>\n",
       "      <td>2.0</td>\n",
       "      <td>0.0</td>\n",
       "      <td>0</td>\n",
       "      <td>18000</td>\n",
       "      <td>109.44</td>\n",
       "      <td>1</td>\n",
       "      <td>0</td>\n",
       "      <td>...</td>\n",
       "      <td>0.11</td>\n",
       "      <td>0.11</td>\n",
       "      <td>309.49</td>\n",
       "      <td>0.0</td>\n",
       "      <td>0.07</td>\n",
       "      <td>0.07</td>\n",
       "      <td>187.05</td>\n",
       "      <td>187.05</td>\n",
       "      <td>0.0</td>\n",
       "      <td>5</td>\n",
       "    </tr>\n",
       "    <tr>\n",
       "      <th>12</th>\n",
       "      <td>201612</td>\n",
       "      <td>F</td>\n",
       "      <td>5.0</td>\n",
       "      <td>3.0</td>\n",
       "      <td>0.0</td>\n",
       "      <td>1</td>\n",
       "      <td>30000</td>\n",
       "      <td>0.00</td>\n",
       "      <td>1</td>\n",
       "      <td>0</td>\n",
       "      <td>...</td>\n",
       "      <td>0.00</td>\n",
       "      <td>0.00</td>\n",
       "      <td>0.00</td>\n",
       "      <td>0.0</td>\n",
       "      <td>0.00</td>\n",
       "      <td>0.00</td>\n",
       "      <td>0.00</td>\n",
       "      <td>0.00</td>\n",
       "      <td>0.0</td>\n",
       "      <td>2</td>\n",
       "    </tr>\n",
       "  </tbody>\n",
       "</table>\n",
       "<p>5 rows × 1936 columns</p>\n",
       "</div>"
      ],
      "text/plain": [
       "       신청월 직군그룹  근속기간1  웰컴_소득구간  심사원장_소득구간  BAD  INCOME    UDIR  SEG  \\\n",
       "no                                                                     \n",
       "1   201612    F    5.0      2.0        2.0    1   16000   73.94    1   \n",
       "3   201612  NaN    5.0      3.0        0.0    1   30000  120.45    1   \n",
       "6   201612  NaN    5.0      5.0        5.0    0   15000   61.33    1   \n",
       "9   201612    D    5.0      2.0        0.0    0   18000  109.44    1   \n",
       "12  201612    F    5.0      3.0        0.0    1   30000    0.00    1   \n",
       "\n",
       "    HOUSE_LOAN_FG  ...  LA0000001_1_s9  LA0000020_1_s9  LA0000227_1_s9  \\\n",
       "no                 ...                                                   \n",
       "1               0  ...            0.22            0.22         1362.45   \n",
       "3               0  ...            0.00            0.00          -55.53   \n",
       "6               0  ...            0.05            0.05          163.64   \n",
       "9               0  ...            0.11            0.11          309.49   \n",
       "12              0  ...            0.00            0.00            0.00   \n",
       "\n",
       "    P2E000500_1_s9  LA0000001_1_s12  LA0000020_1_s12  LA0000204_1_s12  \\\n",
       "no                                                                      \n",
       "1              0.0             0.14             0.14           870.91   \n",
       "3              0.0             0.00             0.00           414.60   \n",
       "6              0.0             0.03             0.03            98.90   \n",
       "9              0.0             0.07             0.07           187.05   \n",
       "12             0.0             0.00             0.00             0.00   \n",
       "\n",
       "    LA0000227_1_s12  P2O000500_1_s12  AGE  \n",
       "no                                         \n",
       "1            870.91              0.0    2  \n",
       "3            414.60              0.0    4  \n",
       "6             98.90              0.0    2  \n",
       "9            187.05              0.0    5  \n",
       "12             0.00              0.0    2  \n",
       "\n",
       "[5 rows x 1936 columns]"
      ]
     },
     "execution_count": 11,
     "metadata": {},
     "output_type": "execute_result"
    }
   ],
   "source": [
    "CB_trn.head()"
   ]
  },
  {
   "cell_type": "markdown",
   "metadata": {},
   "source": [
    "## load layout"
   ]
  },
  {
   "cell_type": "code",
   "execution_count": 12,
   "metadata": {},
   "outputs": [],
   "source": [
    "# load layout\n",
    "layout_path = r'C:\\Users\\w10\\Desktop\\웰컴\\AS\\8주차(데이터추가추출부터)\\layout'\n",
    "\n",
    "col_df_path = os.path.join(layout_path, '(SD)AS프로젝트_SEG1_CB_레이아웃_200203_v1.0.xlsx')\n",
    "col_df = pd.read_excel(col_df_path,)"
   ]
  },
  {
   "cell_type": "code",
   "execution_count": 13,
   "metadata": {},
   "outputs": [
    {
     "data": {
      "text/html": [
       "<div>\n",
       "<style scoped>\n",
       "    .dataframe tbody tr th:only-of-type {\n",
       "        vertical-align: middle;\n",
       "    }\n",
       "\n",
       "    .dataframe tbody tr th {\n",
       "        vertical-align: top;\n",
       "    }\n",
       "\n",
       "    .dataframe thead th {\n",
       "        text-align: right;\n",
       "    }\n",
       "</style>\n",
       "<table border=\"1\" class=\"dataframe\">\n",
       "  <thead>\n",
       "    <tr style=\"text-align: right;\">\n",
       "      <th></th>\n",
       "      <th>NO</th>\n",
       "      <th>Variable</th>\n",
       "      <th>aggvar_name</th>\n",
       "      <th>group_code1</th>\n",
       "      <th>group_code2</th>\n",
       "      <th>group_2</th>\n",
       "      <th>총 건수</th>\n",
       "      <th>MISSING</th>\n",
       "      <th>결과값 = 0</th>\n",
       "      <th>MISSING(결과값 = 0 포함)</th>\n",
       "      <th>...</th>\n",
       "      <th>mean</th>\n",
       "      <th>min_value</th>\n",
       "      <th>max_value</th>\n",
       "      <th>median</th>\n",
       "      <th>is_na</th>\n",
       "      <th>min_check</th>\n",
       "      <th>max_check</th>\n",
       "      <th>date_var</th>\n",
       "      <th>cate_var</th>\n",
       "      <th>welc_can_use</th>\n",
       "    </tr>\n",
       "  </thead>\n",
       "  <tbody>\n",
       "    <tr>\n",
       "      <th>0</th>\n",
       "      <td>1</td>\n",
       "      <td>no</td>\n",
       "      <td>NaN</td>\n",
       "      <td>NaN</td>\n",
       "      <td>NaN</td>\n",
       "      <td>NaN</td>\n",
       "      <td>72396</td>\n",
       "      <td>0</td>\n",
       "      <td>0</td>\n",
       "      <td>0</td>\n",
       "      <td>...</td>\n",
       "      <td>NaN</td>\n",
       "      <td>NaN</td>\n",
       "      <td>NaN</td>\n",
       "      <td>NaN</td>\n",
       "      <td>0</td>\n",
       "      <td>0</td>\n",
       "      <td>0</td>\n",
       "      <td>0</td>\n",
       "      <td>1</td>\n",
       "      <td>활용 불가</td>\n",
       "    </tr>\n",
       "    <tr>\n",
       "      <th>1</th>\n",
       "      <td>2</td>\n",
       "      <td>신청월</td>\n",
       "      <td>NaN</td>\n",
       "      <td>NaN</td>\n",
       "      <td>NaN</td>\n",
       "      <td>NaN</td>\n",
       "      <td>72396</td>\n",
       "      <td>0</td>\n",
       "      <td>0</td>\n",
       "      <td>0</td>\n",
       "      <td>...</td>\n",
       "      <td>NaN</td>\n",
       "      <td>NaN</td>\n",
       "      <td>NaN</td>\n",
       "      <td>NaN</td>\n",
       "      <td>0</td>\n",
       "      <td>0</td>\n",
       "      <td>0</td>\n",
       "      <td>1</td>\n",
       "      <td>0</td>\n",
       "      <td>활용 불가</td>\n",
       "    </tr>\n",
       "  </tbody>\n",
       "</table>\n",
       "<p>2 rows × 21 columns</p>\n",
       "</div>"
      ],
      "text/plain": [
       "   NO Variable aggvar_name group_code1 group_code2  group_2   총 건수  MISSING  \\\n",
       "0   1       no         NaN         NaN         NaN      NaN  72396        0   \n",
       "1   2      신청월         NaN         NaN         NaN      NaN  72396        0   \n",
       "\n",
       "   결과값 = 0  MISSING(결과값 = 0 포함)  ...  mean  min_value  max_value  median  \\\n",
       "0        0                    0  ...   NaN        NaN        NaN     NaN   \n",
       "1        0                    0  ...   NaN        NaN        NaN     NaN   \n",
       "\n",
       "   is_na  min_check  max_check  date_var  cate_var  welc_can_use  \n",
       "0      0          0          0         0         1         활용 불가  \n",
       "1      0          0          0         1         0         활용 불가  \n",
       "\n",
       "[2 rows x 21 columns]"
      ]
     },
     "execution_count": 13,
     "metadata": {},
     "output_type": "execute_result"
    }
   ],
   "source": [
    "col_df.head(2)"
   ]
  },
  {
   "cell_type": "markdown",
   "metadata": {},
   "source": [
    "# <font color = 'orange'>layout 파악"
   ]
  },
  {
   "cell_type": "markdown",
   "metadata": {},
   "source": [
    "### 레이아웃 수정\n",
    "* 개발데이터 변수와 일치하는 변수 레이아웃 설정"
   ]
  },
  {
   "cell_type": "code",
   "execution_count": 14,
   "metadata": {},
   "outputs": [],
   "source": [
    "dev_cols_df = pd.DataFrame({'Variable':CB_trn.columns.tolist()})"
   ]
  },
  {
   "cell_type": "code",
   "execution_count": 15,
   "metadata": {},
   "outputs": [],
   "source": [
    "# layout과 dataset에 모두 존재하는 항목 레이아웃정보 생성\n",
    "col_df = col_df.merge(dev_cols_df, on = ['Variable'], how = 'inner')"
   ]
  },
  {
   "cell_type": "code",
   "execution_count": 16,
   "metadata": {},
   "outputs": [
    {
     "name": "stdout",
     "output_type": "stream",
     "text": [
      "(1935, 21)\n"
     ]
    },
    {
     "data": {
      "text/html": [
       "<div>\n",
       "<style scoped>\n",
       "    .dataframe tbody tr th:only-of-type {\n",
       "        vertical-align: middle;\n",
       "    }\n",
       "\n",
       "    .dataframe tbody tr th {\n",
       "        vertical-align: top;\n",
       "    }\n",
       "\n",
       "    .dataframe thead th {\n",
       "        text-align: right;\n",
       "    }\n",
       "</style>\n",
       "<table border=\"1\" class=\"dataframe\">\n",
       "  <thead>\n",
       "    <tr style=\"text-align: right;\">\n",
       "      <th></th>\n",
       "      <th>NO</th>\n",
       "      <th>Variable</th>\n",
       "      <th>aggvar_name</th>\n",
       "      <th>group_code1</th>\n",
       "      <th>group_code2</th>\n",
       "      <th>group_2</th>\n",
       "      <th>총 건수</th>\n",
       "      <th>MISSING</th>\n",
       "      <th>결과값 = 0</th>\n",
       "      <th>MISSING(결과값 = 0 포함)</th>\n",
       "      <th>...</th>\n",
       "      <th>mean</th>\n",
       "      <th>min_value</th>\n",
       "      <th>max_value</th>\n",
       "      <th>median</th>\n",
       "      <th>is_na</th>\n",
       "      <th>min_check</th>\n",
       "      <th>max_check</th>\n",
       "      <th>date_var</th>\n",
       "      <th>cate_var</th>\n",
       "      <th>welc_can_use</th>\n",
       "    </tr>\n",
       "  </thead>\n",
       "  <tbody>\n",
       "    <tr>\n",
       "      <th>0</th>\n",
       "      <td>2</td>\n",
       "      <td>신청월</td>\n",
       "      <td>NaN</td>\n",
       "      <td>NaN</td>\n",
       "      <td>NaN</td>\n",
       "      <td>NaN</td>\n",
       "      <td>72396</td>\n",
       "      <td>0</td>\n",
       "      <td>0</td>\n",
       "      <td>0</td>\n",
       "      <td>...</td>\n",
       "      <td>NaN</td>\n",
       "      <td>NaN</td>\n",
       "      <td>NaN</td>\n",
       "      <td>NaN</td>\n",
       "      <td>0</td>\n",
       "      <td>0</td>\n",
       "      <td>0</td>\n",
       "      <td>1</td>\n",
       "      <td>0</td>\n",
       "      <td>활용 불가</td>\n",
       "    </tr>\n",
       "    <tr>\n",
       "      <th>1</th>\n",
       "      <td>3</td>\n",
       "      <td>직군그룹</td>\n",
       "      <td>NaN</td>\n",
       "      <td>내부변수</td>\n",
       "      <td>웰컴정보</td>\n",
       "      <td>6.0</td>\n",
       "      <td>72396</td>\n",
       "      <td>32849</td>\n",
       "      <td>0</td>\n",
       "      <td>32849</td>\n",
       "      <td>...</td>\n",
       "      <td>NaN</td>\n",
       "      <td>NaN</td>\n",
       "      <td>NaN</td>\n",
       "      <td>NaN</td>\n",
       "      <td>1</td>\n",
       "      <td>0</td>\n",
       "      <td>0</td>\n",
       "      <td>0</td>\n",
       "      <td>1</td>\n",
       "      <td>활용 불가</td>\n",
       "    </tr>\n",
       "    <tr>\n",
       "      <th>2</th>\n",
       "      <td>4</td>\n",
       "      <td>근속기간1</td>\n",
       "      <td>근속개월_신청일기준_구간화</td>\n",
       "      <td>내부변수</td>\n",
       "      <td>웰컴정보</td>\n",
       "      <td>6.0</td>\n",
       "      <td>72396</td>\n",
       "      <td>1248</td>\n",
       "      <td>1469</td>\n",
       "      <td>2717</td>\n",
       "      <td>...</td>\n",
       "      <td>4.171797</td>\n",
       "      <td>0.0</td>\n",
       "      <td>5.0</td>\n",
       "      <td>5.0</td>\n",
       "      <td>1</td>\n",
       "      <td>0</td>\n",
       "      <td>0</td>\n",
       "      <td>0</td>\n",
       "      <td>0</td>\n",
       "      <td>활용 불가</td>\n",
       "    </tr>\n",
       "    <tr>\n",
       "      <th>3</th>\n",
       "      <td>5</td>\n",
       "      <td>웰컴_소득구간</td>\n",
       "      <td>웰컴크레디라인대부최종연소득_구간화</td>\n",
       "      <td>내부변수</td>\n",
       "      <td>웰컴정보</td>\n",
       "      <td>6.0</td>\n",
       "      <td>72396</td>\n",
       "      <td>1248</td>\n",
       "      <td>3</td>\n",
       "      <td>1251</td>\n",
       "      <td>...</td>\n",
       "      <td>3.326320</td>\n",
       "      <td>0.0</td>\n",
       "      <td>5.0</td>\n",
       "      <td>3.0</td>\n",
       "      <td>1</td>\n",
       "      <td>0</td>\n",
       "      <td>0</td>\n",
       "      <td>0</td>\n",
       "      <td>0</td>\n",
       "      <td>활용 불가</td>\n",
       "    </tr>\n",
       "    <tr>\n",
       "      <th>4</th>\n",
       "      <td>6</td>\n",
       "      <td>심사원장_소득구간</td>\n",
       "      <td>심사원장_연소득_구간화</td>\n",
       "      <td>내부변수</td>\n",
       "      <td>웰컴정보</td>\n",
       "      <td>6.0</td>\n",
       "      <td>72396</td>\n",
       "      <td>1248</td>\n",
       "      <td>46621</td>\n",
       "      <td>47869</td>\n",
       "      <td>...</td>\n",
       "      <td>1.364044</td>\n",
       "      <td>0.0</td>\n",
       "      <td>5.0</td>\n",
       "      <td>0.0</td>\n",
       "      <td>1</td>\n",
       "      <td>0</td>\n",
       "      <td>0</td>\n",
       "      <td>0</td>\n",
       "      <td>0</td>\n",
       "      <td>활용 불가</td>\n",
       "    </tr>\n",
       "  </tbody>\n",
       "</table>\n",
       "<p>5 rows × 21 columns</p>\n",
       "</div>"
      ],
      "text/plain": [
       "   NO   Variable         aggvar_name group_code1 group_code2  group_2   총 건수  \\\n",
       "0   2        신청월                 NaN         NaN         NaN      NaN  72396   \n",
       "1   3       직군그룹                 NaN        내부변수        웰컴정보      6.0  72396   \n",
       "2   4      근속기간1      근속개월_신청일기준_구간화        내부변수        웰컴정보      6.0  72396   \n",
       "3   5    웰컴_소득구간  웰컴크레디라인대부최종연소득_구간화        내부변수        웰컴정보      6.0  72396   \n",
       "4   6  심사원장_소득구간        심사원장_연소득_구간화        내부변수        웰컴정보      6.0  72396   \n",
       "\n",
       "   MISSING  결과값 = 0  MISSING(결과값 = 0 포함)  ...      mean  min_value  max_value  \\\n",
       "0        0        0                    0  ...       NaN        NaN        NaN   \n",
       "1    32849        0                32849  ...       NaN        NaN        NaN   \n",
       "2     1248     1469                 2717  ...  4.171797        0.0        5.0   \n",
       "3     1248        3                 1251  ...  3.326320        0.0        5.0   \n",
       "4     1248    46621                47869  ...  1.364044        0.0        5.0   \n",
       "\n",
       "   median  is_na  min_check  max_check  date_var  cate_var  welc_can_use  \n",
       "0     NaN      0          0          0         1         0         활용 불가  \n",
       "1     NaN      1          0          0         0         1         활용 불가  \n",
       "2     5.0      1          0          0         0         0         활용 불가  \n",
       "3     3.0      1          0          0         0         0         활용 불가  \n",
       "4     0.0      1          0          0         0         0         활용 불가  \n",
       "\n",
       "[5 rows x 21 columns]"
      ]
     },
     "execution_count": 16,
     "metadata": {},
     "output_type": "execute_result"
    }
   ],
   "source": [
    "print(col_df.shape)\n",
    "col_df.head()"
   ]
  },
  {
   "cell_type": "code",
   "execution_count": 17,
   "metadata": {
    "scrolled": true
   },
   "outputs": [
    {
     "data": {
      "text/plain": [
       "(1935, 21)"
      ]
     },
     "execution_count": 17,
     "metadata": {},
     "output_type": "execute_result"
    }
   ],
   "source": [
    "col_df.shape"
   ]
  },
  {
   "cell_type": "markdown",
   "metadata": {},
   "source": [
    "### 활용 불가 변수 파악"
   ]
  },
  {
   "cell_type": "markdown",
   "metadata": {},
   "source": [
    "* project별 상이"
   ]
  },
  {
   "cell_type": "code",
   "execution_count": 18,
   "metadata": {},
   "outputs": [],
   "source": [
    "not_use_col_df = col_df[col_df['welc_can_use'] == '활용 불가']"
   ]
  },
  {
   "cell_type": "code",
   "execution_count": 19,
   "metadata": {},
   "outputs": [],
   "source": [
    "use_col_df = col_df[col_df['welc_can_use'] == '활용 가능']"
   ]
  },
  {
   "cell_type": "code",
   "execution_count": 20,
   "metadata": {},
   "outputs": [
    {
     "data": {
      "text/plain": [
       "기타정보     31\n",
       "대부정보    313\n",
       "연체정보     15\n",
       "웰컴정보     29\n",
       "채무정보     19\n",
       "Name: group_code2, dtype: int64"
      ]
     },
     "execution_count": 20,
     "metadata": {},
     "output_type": "execute_result"
    }
   ],
   "source": [
    "not_use_col_df['group_code2'].value_counts().sort_index()"
   ]
  },
  {
   "cell_type": "code",
   "execution_count": 21,
   "metadata": {},
   "outputs": [
    {
     "data": {
      "text/plain": [
       "기타정보    110\n",
       "연체정보    424\n",
       "웰컴정보    191\n",
       "채무정보    533\n",
       "카드정보    120\n",
       "Name: group_code2, dtype: int64"
      ]
     },
     "execution_count": 21,
     "metadata": {},
     "output_type": "execute_result"
    }
   ],
   "source": [
    "use_col_df['group_code2'].value_counts().sort_index()"
   ]
  },
  {
   "cell_type": "markdown",
   "metadata": {},
   "source": [
    "### layout 활용불가 변수 제외"
   ]
  },
  {
   "cell_type": "markdown",
   "metadata": {},
   "source": [
    "* 대부정보\n",
    "  * 대부 정보 단변량은 실시\n",
    "* 날짜정보\n",
    "* 등급/스코어/소득 정보\n",
    "* 기타 활용 불가 변수(내부정보, 연체정보 등등)"
   ]
  },
  {
   "cell_type": "code",
   "execution_count": 22,
   "metadata": {},
   "outputs": [],
   "source": [
    "# 대부정보 - 활용 불가로 되어있어 포함\n",
    "## 대부정보에서도 날짜정보 등 애초에 활용불가한 항목 제거 필요\n",
    "group_col_df = col_df[(col_df['group_2'] == 3) | (col_df['welc_can_use'] == '활용 가능')]\n",
    "group_cols = group_col_df['Variable'].tolist()\n",
    "need_cols = ['BAD'] + group_cols"
   ]
  },
  {
   "cell_type": "code",
   "execution_count": 23,
   "metadata": {},
   "outputs": [
    {
     "data": {
      "text/plain": [
       "1692"
      ]
     },
     "execution_count": 23,
     "metadata": {},
     "output_type": "execute_result"
    }
   ],
   "source": [
    "len(need_cols)"
   ]
  },
  {
   "cell_type": "code",
   "execution_count": 24,
   "metadata": {},
   "outputs": [],
   "source": [
    "CB_trn = CB_trn[need_cols]\n",
    "CB_val = CB_val[need_cols]\n",
    "CB_tst = CB_tst[need_cols]\n",
    "CB_model_valid = CB_model_valid[need_cols]"
   ]
  },
  {
   "cell_type": "code",
   "execution_count": 25,
   "metadata": {},
   "outputs": [
    {
     "name": "stdout",
     "output_type": "stream",
     "text": [
      "(73533, 1692)\n",
      "(24728, 1692)\n",
      "(24547, 1692)\n"
     ]
    }
   ],
   "source": [
    "print(CB_trn.shape)\n",
    "print(CB_val.shape)\n",
    "print(CB_tst.shape)"
   ]
  },
  {
   "cell_type": "code",
   "execution_count": 26,
   "metadata": {},
   "outputs": [
    {
     "data": {
      "text/html": [
       "<div>\n",
       "<style scoped>\n",
       "    .dataframe tbody tr th:only-of-type {\n",
       "        vertical-align: middle;\n",
       "    }\n",
       "\n",
       "    .dataframe tbody tr th {\n",
       "        vertical-align: top;\n",
       "    }\n",
       "\n",
       "    .dataframe thead th {\n",
       "        text-align: right;\n",
       "    }\n",
       "</style>\n",
       "<table border=\"1\" class=\"dataframe\">\n",
       "  <thead>\n",
       "    <tr style=\"text-align: right;\">\n",
       "      <th></th>\n",
       "      <th>BAD</th>\n",
       "      <th>AS0000136</th>\n",
       "      <th>AS0000137</th>\n",
       "      <th>AS0000138</th>\n",
       "      <th>AS0000139</th>\n",
       "      <th>B12000100</th>\n",
       "      <th>B12000200</th>\n",
       "      <th>B14000600</th>\n",
       "      <th>B22000100</th>\n",
       "      <th>B22000200</th>\n",
       "      <th>...</th>\n",
       "      <th>P2O000500_1_s6</th>\n",
       "      <th>LA0000001_1_s9</th>\n",
       "      <th>LA0000020_1_s9</th>\n",
       "      <th>LA0000227_1_s9</th>\n",
       "      <th>P2E000500_1_s9</th>\n",
       "      <th>LA0000001_1_s12</th>\n",
       "      <th>LA0000020_1_s12</th>\n",
       "      <th>LA0000204_1_s12</th>\n",
       "      <th>LA0000227_1_s12</th>\n",
       "      <th>P2O000500_1_s12</th>\n",
       "    </tr>\n",
       "    <tr>\n",
       "      <th>no</th>\n",
       "      <th></th>\n",
       "      <th></th>\n",
       "      <th></th>\n",
       "      <th></th>\n",
       "      <th></th>\n",
       "      <th></th>\n",
       "      <th></th>\n",
       "      <th></th>\n",
       "      <th></th>\n",
       "      <th></th>\n",
       "      <th></th>\n",
       "      <th></th>\n",
       "      <th></th>\n",
       "      <th></th>\n",
       "      <th></th>\n",
       "      <th></th>\n",
       "      <th></th>\n",
       "      <th></th>\n",
       "      <th></th>\n",
       "      <th></th>\n",
       "      <th></th>\n",
       "    </tr>\n",
       "  </thead>\n",
       "  <tbody>\n",
       "    <tr>\n",
       "      <th>1</th>\n",
       "      <td>1</td>\n",
       "      <td>27</td>\n",
       "      <td>-1</td>\n",
       "      <td>1</td>\n",
       "      <td>0</td>\n",
       "      <td>0</td>\n",
       "      <td>0</td>\n",
       "      <td>0</td>\n",
       "      <td>0</td>\n",
       "      <td>0</td>\n",
       "      <td>...</td>\n",
       "      <td>0.0</td>\n",
       "      <td>0.22</td>\n",
       "      <td>0.22</td>\n",
       "      <td>1362.45</td>\n",
       "      <td>0.0</td>\n",
       "      <td>0.14</td>\n",
       "      <td>0.14</td>\n",
       "      <td>870.91</td>\n",
       "      <td>870.91</td>\n",
       "      <td>0.0</td>\n",
       "    </tr>\n",
       "    <tr>\n",
       "      <th>3</th>\n",
       "      <td>1</td>\n",
       "      <td>-1</td>\n",
       "      <td>45</td>\n",
       "      <td>1</td>\n",
       "      <td>0</td>\n",
       "      <td>0</td>\n",
       "      <td>0</td>\n",
       "      <td>0</td>\n",
       "      <td>0</td>\n",
       "      <td>0</td>\n",
       "      <td>...</td>\n",
       "      <td>0.0</td>\n",
       "      <td>0.00</td>\n",
       "      <td>0.00</td>\n",
       "      <td>-55.53</td>\n",
       "      <td>0.0</td>\n",
       "      <td>0.00</td>\n",
       "      <td>0.00</td>\n",
       "      <td>414.60</td>\n",
       "      <td>414.60</td>\n",
       "      <td>0.0</td>\n",
       "    </tr>\n",
       "  </tbody>\n",
       "</table>\n",
       "<p>2 rows × 1692 columns</p>\n",
       "</div>"
      ],
      "text/plain": [
       "    BAD  AS0000136  AS0000137  AS0000138  AS0000139  B12000100  B12000200  \\\n",
       "no                                                                          \n",
       "1     1         27         -1          1          0          0          0   \n",
       "3     1         -1         45          1          0          0          0   \n",
       "\n",
       "    B14000600  B22000100  B22000200  ...  P2O000500_1_s6  LA0000001_1_s9  \\\n",
       "no                                   ...                                   \n",
       "1           0          0          0  ...             0.0            0.22   \n",
       "3           0          0          0  ...             0.0            0.00   \n",
       "\n",
       "    LA0000020_1_s9  LA0000227_1_s9  P2E000500_1_s9  LA0000001_1_s12  \\\n",
       "no                                                                    \n",
       "1             0.22         1362.45             0.0             0.14   \n",
       "3             0.00          -55.53             0.0             0.00   \n",
       "\n",
       "    LA0000020_1_s12  LA0000204_1_s12  LA0000227_1_s12  P2O000500_1_s12  \n",
       "no                                                                      \n",
       "1              0.14           870.91           870.91              0.0  \n",
       "3              0.00           414.60           414.60              0.0  \n",
       "\n",
       "[2 rows x 1692 columns]"
      ]
     },
     "execution_count": 26,
     "metadata": {},
     "output_type": "execute_result"
    }
   ],
   "source": [
    "CB_trn.head(2)"
   ]
  },
  {
   "cell_type": "markdown",
   "metadata": {},
   "source": [
    "### layout의 cate_var = 1 변수 string 타입으로 변환"
   ]
  },
  {
   "cell_type": "code",
   "execution_count": 27,
   "metadata": {},
   "outputs": [],
   "source": [
    "cate_cols = group_col_df.loc[group_col_df['cate_var'] == 1, 'Variable'].tolist()"
   ]
  },
  {
   "cell_type": "code",
   "execution_count": 28,
   "metadata": {
    "scrolled": true
   },
   "outputs": [
    {
     "data": {
      "text/plain": [
       "['AS0000138',\n",
       " 'BS0000114',\n",
       " 'BS0000145',\n",
       " 'CA0000801',\n",
       " 'EW0002801',\n",
       " 'PS0000388',\n",
       " 'PS0000392',\n",
       " 'BE0000801',\n",
       " 'BE0000802',\n",
       " 'BS0000113',\n",
       " 'LA0200801',\n",
       " 'PE0000145',\n",
       " 'KC1400010',\n",
       " 'KC1400011',\n",
       " 'KC1400012',\n",
       " 'KC1400013',\n",
       " 'KC1400014',\n",
       " 'KC1400015',\n",
       " 'KC1400016',\n",
       " 'AS0000140',\n",
       " 'BE0000801_1',\n",
       " 'A5RCLSRL025700',\n",
       " 'Thinfile_final',\n",
       " 'S_3323',\n",
       " 'cap2',\n",
       " 'S_3318',\n",
       " 'C_3319',\n",
       " 'cap3',\n",
       " 'S_3317',\n",
       " 'cap1',\n",
       " 'S23',\n",
       " 'S24',\n",
       " 'cap4',\n",
       " 'C_3318',\n",
       " 'S_3319',\n",
       " 'C_3317',\n",
       " 'C_3311',\n",
       " 'A5RCLSRL047500',\n",
       " 'A5RCLSRL047600',\n",
       " 'A5RCLSRL047700']"
      ]
     },
     "execution_count": 28,
     "metadata": {},
     "output_type": "execute_result"
    }
   ],
   "source": [
    "cate_cols"
   ]
  },
  {
   "cell_type": "code",
   "execution_count": 29,
   "metadata": {},
   "outputs": [
    {
     "data": {
      "text/plain": [
       "40"
      ]
     },
     "execution_count": 29,
     "metadata": {},
     "output_type": "execute_result"
    }
   ],
   "source": [
    "len(cate_cols)"
   ]
  },
  {
   "cell_type": "code",
   "execution_count": 30,
   "metadata": {},
   "outputs": [],
   "source": [
    "cate_cols = list(set(CB_trn.columns).intersection(cate_cols))"
   ]
  },
  {
   "cell_type": "code",
   "execution_count": 31,
   "metadata": {
    "scrolled": true
   },
   "outputs": [
    {
     "data": {
      "text/plain": [
       "['PS0000392',\n",
       " 'KC1400016',\n",
       " 'S24',\n",
       " 'BS0000113',\n",
       " 'cap3',\n",
       " 'C_3311',\n",
       " 'CA0000801',\n",
       " 'C_3318',\n",
       " 'A5RCLSRL025700',\n",
       " 'KC1400012',\n",
       " 'LA0200801',\n",
       " 'C_3319',\n",
       " 'S_3318',\n",
       " 'BE0000801',\n",
       " 'KC1400014',\n",
       " 'S_3319',\n",
       " 'BE0000802',\n",
       " 'cap1',\n",
       " 'BS0000145',\n",
       " 'KC1400015',\n",
       " 'Thinfile_final',\n",
       " 'A5RCLSRL047600',\n",
       " 'AS0000138',\n",
       " 'KC1400010',\n",
       " 'cap2',\n",
       " 'PE0000145',\n",
       " 'EW0002801',\n",
       " 'A5RCLSRL047700',\n",
       " 'BE0000801_1',\n",
       " 'KC1400011',\n",
       " 'S_3317',\n",
       " 'A5RCLSRL047500',\n",
       " 'S23',\n",
       " 'cap4',\n",
       " 'C_3317',\n",
       " 'AS0000140',\n",
       " 'BS0000114',\n",
       " 'PS0000388',\n",
       " 'KC1400013',\n",
       " 'S_3323']"
      ]
     },
     "execution_count": 31,
     "metadata": {},
     "output_type": "execute_result"
    }
   ],
   "source": [
    "cate_cols"
   ]
  },
  {
   "cell_type": "markdown",
   "metadata": {},
   "source": [
    "# <font color = 'orange'> preprocessing"
   ]
  },
  {
   "cell_type": "markdown",
   "metadata": {},
   "source": [
    "## 결측 98% 이상 삭제"
   ]
  },
  {
   "cell_type": "markdown",
   "metadata": {},
   "source": [
    "* 결측치 case\n",
    "  * numeric, categorical 변수 모두 적용\n",
    "      1. 기본 Nan값\n",
    "      2. layout에서 min_check == 1의 min_value\n",
    "      3. layout에서 max_check == 1의 max_value\n",
    "\n",
    "\n",
    "\n",
    "\n",
    "\n",
    "* 1, 2, 3의 case를 전부 다 더한 후 98%이상 삭제\n",
    "\n",
    "\n",
    "\n",
    "\n",
    "* layout 기준 min_check/max_check가 1이 아니더라도 결측치가지는 변수 존재\n",
    "  * ex) 항목 A : min_check = 0, min_value = -4442135478621 -> 항목값에 -999,-9999,999999999 등의 결측값 존재 가능\n",
    "  * 결측값은 제한되어있기 때문에 모든 변수에 적용"
   ]
  },
  {
   "cell_type": "markdown",
   "metadata": {},
   "source": [
    "#### 1. 기본 Nan값 확인"
   ]
  },
  {
   "cell_type": "code",
   "execution_count": 32,
   "metadata": {},
   "outputs": [],
   "source": [
    "def na_check(data):\n",
    "    result = np.sum(data.isna())\n",
    "    return result"
   ]
  },
  {
   "cell_type": "code",
   "execution_count": 33,
   "metadata": {},
   "outputs": [],
   "source": [
    "na_df = CB_trn.apply(na_check)"
   ]
  },
  {
   "cell_type": "code",
   "execution_count": 34,
   "metadata": {},
   "outputs": [
    {
     "data": {
      "text/plain": [
       "BAD                0\n",
       "AS0000136          0\n",
       "AS0000137          0\n",
       "AS0000138          0\n",
       "AS0000139          0\n",
       "                  ..\n",
       "LA0000001_1_s12    0\n",
       "LA0000020_1_s12    0\n",
       "LA0000204_1_s12    0\n",
       "LA0000227_1_s12    0\n",
       "P2O000500_1_s12    0\n",
       "Length: 1692, dtype: int64"
      ]
     },
     "execution_count": 34,
     "metadata": {},
     "output_type": "execute_result"
    }
   ],
   "source": [
    "na_df"
   ]
  },
  {
   "cell_type": "markdown",
   "metadata": {},
   "source": [
    "#### 2. min_check == 1의 min_value check"
   ]
  },
  {
   "cell_type": "code",
   "execution_count": 35,
   "metadata": {},
   "outputs": [],
   "source": [
    "need_cols = ['Variable','min_value','min_check']\n",
    "min_check_df = group_col_df[need_cols][group_col_df['min_check'] == 1]"
   ]
  },
  {
   "cell_type": "code",
   "execution_count": 36,
   "metadata": {},
   "outputs": [
    {
     "data": {
      "text/html": [
       "<div>\n",
       "<style scoped>\n",
       "    .dataframe tbody tr th:only-of-type {\n",
       "        vertical-align: middle;\n",
       "    }\n",
       "\n",
       "    .dataframe tbody tr th {\n",
       "        vertical-align: top;\n",
       "    }\n",
       "\n",
       "    .dataframe thead th {\n",
       "        text-align: right;\n",
       "    }\n",
       "</style>\n",
       "<table border=\"1\" class=\"dataframe\">\n",
       "  <thead>\n",
       "    <tr style=\"text-align: right;\">\n",
       "      <th></th>\n",
       "      <th>Variable</th>\n",
       "      <th>min_value</th>\n",
       "      <th>min_check</th>\n",
       "    </tr>\n",
       "  </thead>\n",
       "  <tbody>\n",
       "    <tr>\n",
       "      <th>67</th>\n",
       "      <td>CL1200918</td>\n",
       "      <td>-999.0</td>\n",
       "      <td>1</td>\n",
       "    </tr>\n",
       "    <tr>\n",
       "      <th>68</th>\n",
       "      <td>CL0600919</td>\n",
       "      <td>-999.0</td>\n",
       "      <td>1</td>\n",
       "    </tr>\n",
       "  </tbody>\n",
       "</table>\n",
       "</div>"
      ],
      "text/plain": [
       "     Variable  min_value  min_check\n",
       "67  CL1200918     -999.0          1\n",
       "68  CL0600919     -999.0          1"
      ]
     },
     "execution_count": 36,
     "metadata": {},
     "output_type": "execute_result"
    }
   ],
   "source": [
    "min_check_df.head(2)"
   ]
  },
  {
   "cell_type": "code",
   "execution_count": 37,
   "metadata": {},
   "outputs": [],
   "source": [
    "min_check_var = min_check_df['Variable'].values.tolist()"
   ]
  },
  {
   "cell_type": "code",
   "execution_count": 38,
   "metadata": {},
   "outputs": [],
   "source": [
    "min_check_value = min_check_df['min_value'].values.tolist()"
   ]
  },
  {
   "cell_type": "code",
   "execution_count": 39,
   "metadata": {},
   "outputs": [],
   "source": [
    "# min_check_result = pd.Series(index = CB_trn.columns.tolist())\n",
    "# for min_variable, min_value in zip(min_check_var, min_check_value):\n",
    "#     result = np.sum(CB_trn[min_variable] == min_value)\n",
    "#     min_check_result[min_variable] = result\n",
    "#     min_check_result = min_check_result.fillna(0)"
   ]
  },
  {
   "cell_type": "code",
   "execution_count": 40,
   "metadata": {},
   "outputs": [],
   "source": [
    "for idx, min_value in enumerate(np.unique(min_check_value)):\n",
    "    if idx == 0 :\n",
    "        value1 = np.sum(CB_trn == min_value)\n",
    "        min_check_result = value1\n",
    "    else:\n",
    "        value2 = np.sum(CB_trn == min_value)\n",
    "        min_check_result = value2 + min_check_result"
   ]
  },
  {
   "cell_type": "markdown",
   "metadata": {},
   "source": [
    "#### 2. max_check == 1의 max_value check"
   ]
  },
  {
   "cell_type": "code",
   "execution_count": 41,
   "metadata": {},
   "outputs": [],
   "source": [
    "need_cols = ['Variable','max_value','max_check']\n",
    "max_check_df = group_col_df[need_cols][group_col_df['max_check'] == 1]"
   ]
  },
  {
   "cell_type": "code",
   "execution_count": 42,
   "metadata": {},
   "outputs": [
    {
     "data": {
      "text/html": [
       "<div>\n",
       "<style scoped>\n",
       "    .dataframe tbody tr th:only-of-type {\n",
       "        vertical-align: middle;\n",
       "    }\n",
       "\n",
       "    .dataframe tbody tr th {\n",
       "        vertical-align: top;\n",
       "    }\n",
       "\n",
       "    .dataframe thead th {\n",
       "        text-align: right;\n",
       "    }\n",
       "</style>\n",
       "<table border=\"1\" class=\"dataframe\">\n",
       "  <thead>\n",
       "    <tr style=\"text-align: right;\">\n",
       "      <th></th>\n",
       "      <th>Variable</th>\n",
       "      <th>max_value</th>\n",
       "      <th>max_check</th>\n",
       "    </tr>\n",
       "  </thead>\n",
       "  <tbody>\n",
       "    <tr>\n",
       "      <th>66</th>\n",
       "      <td>CL0000002</td>\n",
       "      <td>999999992.0</td>\n",
       "      <td>1</td>\n",
       "    </tr>\n",
       "    <tr>\n",
       "      <th>67</th>\n",
       "      <td>CL1200918</td>\n",
       "      <td>999999991.0</td>\n",
       "      <td>1</td>\n",
       "    </tr>\n",
       "  </tbody>\n",
       "</table>\n",
       "</div>"
      ],
      "text/plain": [
       "     Variable    max_value  max_check\n",
       "66  CL0000002  999999992.0          1\n",
       "67  CL1200918  999999991.0          1"
      ]
     },
     "execution_count": 42,
     "metadata": {},
     "output_type": "execute_result"
    }
   ],
   "source": [
    "max_check_df.head(2)"
   ]
  },
  {
   "cell_type": "code",
   "execution_count": 43,
   "metadata": {},
   "outputs": [],
   "source": [
    "max_check_var = max_check_df['Variable'].values.tolist()"
   ]
  },
  {
   "cell_type": "code",
   "execution_count": 44,
   "metadata": {},
   "outputs": [],
   "source": [
    "max_check_value = max_check_df['max_value'].values.tolist()"
   ]
  },
  {
   "cell_type": "code",
   "execution_count": 45,
   "metadata": {},
   "outputs": [],
   "source": [
    "# max_check_result = pd.Series(index = CB_trn.columns.tolist())\n",
    "# for max_variable, max_value in zip(max_check_var, max_check_value):\n",
    "#     result = np.sum(CB_trn[max_variable] == max_value)\n",
    "#     max_check_result[max_variable] = result\n",
    "#     max_check_result = max_check_result.fillna(0)"
   ]
  },
  {
   "cell_type": "code",
   "execution_count": 46,
   "metadata": {},
   "outputs": [],
   "source": [
    "for idx, max_value in enumerate(np.unique(max_check_value)):\n",
    "    if idx == 0 :\n",
    "        value1 = np.sum(CB_trn == max_value)\n",
    "        max_check_result = value1\n",
    "    else:\n",
    "        value2 = np.sum(CB_trn == max_value)\n",
    "        max_check_result = value2 + max_check_result"
   ]
  },
  {
   "cell_type": "code",
   "execution_count": 47,
   "metadata": {},
   "outputs": [
    {
     "data": {
      "text/plain": [
       "BAD                0\n",
       "AS0000136          0\n",
       "AS0000137          0\n",
       "AS0000138          0\n",
       "AS0000139          0\n",
       "                  ..\n",
       "LA0000001_1_s12    0\n",
       "LA0000020_1_s12    0\n",
       "LA0000204_1_s12    0\n",
       "LA0000227_1_s12    0\n",
       "P2O000500_1_s12    0\n",
       "Length: 1692, dtype: int64"
      ]
     },
     "execution_count": 47,
     "metadata": {},
     "output_type": "execute_result"
    }
   ],
   "source": [
    "max_check_result"
   ]
  },
  {
   "cell_type": "code",
   "execution_count": 48,
   "metadata": {},
   "outputs": [],
   "source": [
    "total_na_df = na_df + min_check_result + max_check_result"
   ]
  },
  {
   "cell_type": "code",
   "execution_count": 49,
   "metadata": {},
   "outputs": [
    {
     "data": {
      "text/plain": [
       "BAD                0\n",
       "AS0000136          0\n",
       "AS0000137          0\n",
       "AS0000138          0\n",
       "AS0000139          0\n",
       "                  ..\n",
       "LA0000001_1_s12    0\n",
       "LA0000020_1_s12    0\n",
       "LA0000204_1_s12    0\n",
       "LA0000227_1_s12    0\n",
       "P2O000500_1_s12    0\n",
       "Length: 1692, dtype: int64"
      ]
     },
     "execution_count": 49,
     "metadata": {},
     "output_type": "execute_result"
    }
   ],
   "source": [
    "total_na_df"
   ]
  },
  {
   "cell_type": "code",
   "execution_count": 50,
   "metadata": {},
   "outputs": [],
   "source": [
    "total_na_p_df = total_na_df / CB_trn.shape[0]"
   ]
  },
  {
   "cell_type": "code",
   "execution_count": 51,
   "metadata": {},
   "outputs": [
    {
     "data": {
      "text/plain": [
       "BAD                0.0\n",
       "AS0000136          0.0\n",
       "AS0000137          0.0\n",
       "AS0000138          0.0\n",
       "AS0000139          0.0\n",
       "                  ... \n",
       "LA0000001_1_s12    0.0\n",
       "LA0000020_1_s12    0.0\n",
       "LA0000204_1_s12    0.0\n",
       "LA0000227_1_s12    0.0\n",
       "P2O000500_1_s12    0.0\n",
       "Length: 1692, dtype: float64"
      ]
     },
     "execution_count": 51,
     "metadata": {},
     "output_type": "execute_result"
    }
   ],
   "source": [
    "total_na_p_df"
   ]
  },
  {
   "cell_type": "code",
   "execution_count": 52,
   "metadata": {},
   "outputs": [],
   "source": [
    "too_many_na_df = total_na_p_df[total_na_p_df>0.98]"
   ]
  },
  {
   "cell_type": "code",
   "execution_count": 53,
   "metadata": {},
   "outputs": [],
   "source": [
    "too_many_na_cols = too_many_na_df.index"
   ]
  },
  {
   "cell_type": "code",
   "execution_count": 54,
   "metadata": {},
   "outputs": [
    {
     "data": {
      "text/plain": [
       "Index([], dtype='object')"
      ]
     },
     "execution_count": 54,
     "metadata": {},
     "output_type": "execute_result"
    }
   ],
   "source": [
    "too_many_na_cols"
   ]
  },
  {
   "cell_type": "code",
   "execution_count": 55,
   "metadata": {},
   "outputs": [
    {
     "data": {
      "text/plain": [
       "0"
      ]
     },
     "execution_count": 55,
     "metadata": {},
     "output_type": "execute_result"
    }
   ],
   "source": [
    "len(too_many_na_cols)"
   ]
  },
  {
   "cell_type": "code",
   "execution_count": 56,
   "metadata": {
    "scrolled": true
   },
   "outputs": [],
   "source": [
    "na_df = pd.DataFrame({'remove_col' : too_many_na_cols})"
   ]
  },
  {
   "cell_type": "code",
   "execution_count": 57,
   "metadata": {},
   "outputs": [
    {
     "data": {
      "text/html": [
       "<div>\n",
       "<style scoped>\n",
       "    .dataframe tbody tr th:only-of-type {\n",
       "        vertical-align: middle;\n",
       "    }\n",
       "\n",
       "    .dataframe tbody tr th {\n",
       "        vertical-align: top;\n",
       "    }\n",
       "\n",
       "    .dataframe thead th {\n",
       "        text-align: right;\n",
       "    }\n",
       "</style>\n",
       "<table border=\"1\" class=\"dataframe\">\n",
       "  <thead>\n",
       "    <tr style=\"text-align: right;\">\n",
       "      <th></th>\n",
       "      <th>remove_col</th>\n",
       "    </tr>\n",
       "  </thead>\n",
       "  <tbody>\n",
       "  </tbody>\n",
       "</table>\n",
       "</div>"
      ],
      "text/plain": [
       "Empty DataFrame\n",
       "Columns: [remove_col]\n",
       "Index: []"
      ]
     },
     "execution_count": 57,
     "metadata": {},
     "output_type": "execute_result"
    }
   ],
   "source": [
    "na_df"
   ]
  },
  {
   "cell_type": "code",
   "execution_count": 58,
   "metadata": {},
   "outputs": [],
   "source": [
    "CB_trn = CB_trn.drop(too_many_na_cols, axis = 1)\n",
    "CB_val = CB_val.drop(too_many_na_cols, axis = 1)\n",
    "CB_tst = CB_tst.drop(too_many_na_cols, axis = 1)\n",
    "CB_model_valid = CB_model_valid.drop(too_many_na_cols, axis = 1)"
   ]
  },
  {
   "cell_type": "code",
   "execution_count": 59,
   "metadata": {},
   "outputs": [
    {
     "name": "stdout",
     "output_type": "stream",
     "text": [
      "(73533, 1692)\n",
      "(24728, 1692)\n",
      "(24547, 1692)\n",
      "(19936, 1692)\n"
     ]
    }
   ],
   "source": [
    "print(CB_trn.shape)\n",
    "print(CB_val.shape)\n",
    "print(CB_tst.shape)\n",
    "print(CB_model_valid.shape)"
   ]
  },
  {
   "cell_type": "code",
   "execution_count": 60,
   "metadata": {},
   "outputs": [
    {
     "data": {
      "text/plain": [
       "(1691, 21)"
      ]
     },
     "execution_count": 60,
     "metadata": {},
     "output_type": "execute_result"
    }
   ],
   "source": [
    "group_col_df = group_col_df[group_col_df['Variable'].isin(too_many_na_cols) == False]\n",
    "group_col_df.shape"
   ]
  },
  {
   "cell_type": "markdown",
   "metadata": {},
   "source": [
    "## 결측치 value 이면 0으로 변환"
   ]
  },
  {
   "cell_type": "markdown",
   "metadata": {},
   "source": [
    "* numeric 변수\n",
    "  1. Nan -> 0 \n",
    "  2. min_value -> 0\n",
    "  3. max_value -> 0 \n",
    "\n",
    "\n",
    "* categorical 변수\n",
    "  * \"NULL\" string으로 변환"
   ]
  },
  {
   "cell_type": "code",
   "execution_count": 61,
   "metadata": {},
   "outputs": [],
   "source": [
    "cols = CB_trn.columns"
   ]
  },
  {
   "cell_type": "code",
   "execution_count": 62,
   "metadata": {},
   "outputs": [
    {
     "data": {
      "text/plain": [
       "1692"
      ]
     },
     "execution_count": 62,
     "metadata": {},
     "output_type": "execute_result"
    }
   ],
   "source": [
    "len(cols)"
   ]
  },
  {
   "cell_type": "code",
   "execution_count": 63,
   "metadata": {},
   "outputs": [],
   "source": [
    "cate_cols = group_col_df.loc[group_col_df['cate_var'] == 1, 'Variable'].tolist()\n",
    "num_cols = list(set(cols).difference(cate_cols))"
   ]
  },
  {
   "cell_type": "markdown",
   "metadata": {},
   "source": [
    "#### 1. Nan -> 0 변환"
   ]
  },
  {
   "cell_type": "code",
   "execution_count": 64,
   "metadata": {},
   "outputs": [],
   "source": [
    "CB_trn[num_cols] = CB_trn[num_cols].fillna(0)\n",
    "CB_val[num_cols] = CB_val[num_cols].fillna(0)\n",
    "CB_tst[num_cols] = CB_tst[num_cols].fillna(0)\n",
    "CB_model_valid[num_cols] = CB_model_valid[num_cols].fillna(0)"
   ]
  },
  {
   "cell_type": "code",
   "execution_count": 65,
   "metadata": {},
   "outputs": [],
   "source": [
    "CB_trn[cate_cols] = CB_trn[cate_cols].fillna('NULL')\n",
    "CB_val[cate_cols] = CB_val[cate_cols].fillna('NULL')\n",
    "CB_tst[cate_cols] = CB_tst[cate_cols].fillna('NULL')\n",
    "CB_model_valid[cate_cols] = CB_model_valid[cate_cols].fillna('NULL')"
   ]
  },
  {
   "cell_type": "markdown",
   "metadata": {},
   "source": [
    "#### 2. min_value -> 0 변환"
   ]
  },
  {
   "cell_type": "code",
   "execution_count": 66,
   "metadata": {},
   "outputs": [],
   "source": [
    "def na_change(data, value):\n",
    "    data = np.where(data == value, 0 ,data)\n",
    "    return data"
   ]
  },
  {
   "cell_type": "code",
   "execution_count": 67,
   "metadata": {},
   "outputs": [],
   "source": [
    "need_cols = ['Variable','min_value','min_check']\n",
    "min_check_df = group_col_df[need_cols][group_col_df['min_check'] == 1]"
   ]
  },
  {
   "cell_type": "code",
   "execution_count": 68,
   "metadata": {},
   "outputs": [
    {
     "data": {
      "text/html": [
       "<div>\n",
       "<style scoped>\n",
       "    .dataframe tbody tr th:only-of-type {\n",
       "        vertical-align: middle;\n",
       "    }\n",
       "\n",
       "    .dataframe tbody tr th {\n",
       "        vertical-align: top;\n",
       "    }\n",
       "\n",
       "    .dataframe thead th {\n",
       "        text-align: right;\n",
       "    }\n",
       "</style>\n",
       "<table border=\"1\" class=\"dataframe\">\n",
       "  <thead>\n",
       "    <tr style=\"text-align: right;\">\n",
       "      <th></th>\n",
       "      <th>Variable</th>\n",
       "      <th>min_value</th>\n",
       "      <th>min_check</th>\n",
       "    </tr>\n",
       "  </thead>\n",
       "  <tbody>\n",
       "    <tr>\n",
       "      <th>67</th>\n",
       "      <td>CL1200918</td>\n",
       "      <td>-999.0</td>\n",
       "      <td>1</td>\n",
       "    </tr>\n",
       "    <tr>\n",
       "      <th>68</th>\n",
       "      <td>CL0600919</td>\n",
       "      <td>-999.0</td>\n",
       "      <td>1</td>\n",
       "    </tr>\n",
       "  </tbody>\n",
       "</table>\n",
       "</div>"
      ],
      "text/plain": [
       "     Variable  min_value  min_check\n",
       "67  CL1200918     -999.0          1\n",
       "68  CL0600919     -999.0          1"
      ]
     },
     "execution_count": 68,
     "metadata": {},
     "output_type": "execute_result"
    }
   ],
   "source": [
    "min_check_df.head(2)"
   ]
  },
  {
   "cell_type": "code",
   "execution_count": 69,
   "metadata": {},
   "outputs": [],
   "source": [
    "min_check_var = min_check_df['Variable'].values.tolist()"
   ]
  },
  {
   "cell_type": "code",
   "execution_count": 70,
   "metadata": {},
   "outputs": [],
   "source": [
    "min_check_value = min_check_df['min_value'].values.tolist()"
   ]
  },
  {
   "cell_type": "code",
   "execution_count": 71,
   "metadata": {},
   "outputs": [],
   "source": [
    "for min_value in np.unique(min_check_value):\n",
    "    CB_trn = CB_trn.apply(na_change, value = min_value)\n",
    "    CB_val = CB_val.apply(na_change, value = min_value)\n",
    "    CB_tst = CB_tst.apply(na_change, value = min_value)\n",
    "    CB_model_valid = CB_model_valid.apply(na_change, value = min_value)"
   ]
  },
  {
   "cell_type": "code",
   "execution_count": 72,
   "metadata": {},
   "outputs": [],
   "source": [
    "# for variable, min_value in zip(min_check_var, min_check_value):\n",
    "#     CB_trn[variable] = CB_trn[variable].apply(na_change, value = min_value)\n",
    "#     CB_val[variable] = CB_val[variable].apply(na_change, value = min_value)\n",
    "#     CB_tst[variable] = CB_tst[variable].apply(na_change, value = min_value)\n",
    "#     CB_model_valid[variable] = CB_model_valid[variable].apply(na_change, value = min_value)"
   ]
  },
  {
   "cell_type": "markdown",
   "metadata": {},
   "source": [
    "#### 3. max_value -> 0 변환"
   ]
  },
  {
   "cell_type": "code",
   "execution_count": 73,
   "metadata": {},
   "outputs": [],
   "source": [
    "need_cols = ['Variable','max_value','max_check']\n",
    "max_check_df = group_col_df[need_cols][group_col_df['max_check'] == 1]"
   ]
  },
  {
   "cell_type": "code",
   "execution_count": 74,
   "metadata": {},
   "outputs": [
    {
     "data": {
      "text/html": [
       "<div>\n",
       "<style scoped>\n",
       "    .dataframe tbody tr th:only-of-type {\n",
       "        vertical-align: middle;\n",
       "    }\n",
       "\n",
       "    .dataframe tbody tr th {\n",
       "        vertical-align: top;\n",
       "    }\n",
       "\n",
       "    .dataframe thead th {\n",
       "        text-align: right;\n",
       "    }\n",
       "</style>\n",
       "<table border=\"1\" class=\"dataframe\">\n",
       "  <thead>\n",
       "    <tr style=\"text-align: right;\">\n",
       "      <th></th>\n",
       "      <th>Variable</th>\n",
       "      <th>max_value</th>\n",
       "      <th>max_check</th>\n",
       "    </tr>\n",
       "  </thead>\n",
       "  <tbody>\n",
       "    <tr>\n",
       "      <th>66</th>\n",
       "      <td>CL0000002</td>\n",
       "      <td>999999992.0</td>\n",
       "      <td>1</td>\n",
       "    </tr>\n",
       "    <tr>\n",
       "      <th>67</th>\n",
       "      <td>CL1200918</td>\n",
       "      <td>999999991.0</td>\n",
       "      <td>1</td>\n",
       "    </tr>\n",
       "  </tbody>\n",
       "</table>\n",
       "</div>"
      ],
      "text/plain": [
       "     Variable    max_value  max_check\n",
       "66  CL0000002  999999992.0          1\n",
       "67  CL1200918  999999991.0          1"
      ]
     },
     "execution_count": 74,
     "metadata": {},
     "output_type": "execute_result"
    }
   ],
   "source": [
    "max_check_df.head(2)"
   ]
  },
  {
   "cell_type": "code",
   "execution_count": 75,
   "metadata": {},
   "outputs": [],
   "source": [
    "max_check_var = max_check_df['Variable'].values.tolist()"
   ]
  },
  {
   "cell_type": "code",
   "execution_count": 76,
   "metadata": {},
   "outputs": [],
   "source": [
    "max_check_value = max_check_df['max_value'].values.tolist()"
   ]
  },
  {
   "cell_type": "code",
   "execution_count": 77,
   "metadata": {},
   "outputs": [],
   "source": [
    "for max_value in np.unique(max_check_value):\n",
    "    CB_trn = CB_trn.apply(na_change, value = max_value)\n",
    "    CB_val = CB_val.apply(na_change, value = max_value)\n",
    "    CB_tst = CB_tst.apply(na_change, value = max_value)\n",
    "    CB_model_valid = CB_model_valid.apply(na_change, value = max_value)"
   ]
  },
  {
   "cell_type": "markdown",
   "metadata": {},
   "source": [
    "### 변수 타입 재설정"
   ]
  },
  {
   "cell_type": "code",
   "execution_count": 78,
   "metadata": {},
   "outputs": [],
   "source": [
    "CB_trn[cate_cols] = CB_trn[cate_cols].applymap(str)\n",
    "CB_val[cate_cols] = CB_val[cate_cols].applymap(str)\n",
    "CB_tst[cate_cols] = CB_tst[cate_cols].applymap(str)\n",
    "CB_model_valid[cate_cols] = CB_model_valid[cate_cols].applymap(str)"
   ]
  },
  {
   "cell_type": "markdown",
   "metadata": {},
   "source": [
    "### date_var 제거"
   ]
  },
  {
   "cell_type": "code",
   "execution_count": 79,
   "metadata": {},
   "outputs": [],
   "source": [
    "date_var = group_col_df[group_col_df['date_var'] == 1]['Variable'].values.tolist()"
   ]
  },
  {
   "cell_type": "code",
   "execution_count": 80,
   "metadata": {},
   "outputs": [
    {
     "data": {
      "text/plain": [
       "10"
      ]
     },
     "execution_count": 80,
     "metadata": {},
     "output_type": "execute_result"
    }
   ],
   "source": [
    "len(date_var)"
   ]
  },
  {
   "cell_type": "code",
   "execution_count": 81,
   "metadata": {},
   "outputs": [
    {
     "data": {
      "text/plain": [
       "10"
      ]
     },
     "execution_count": 81,
     "metadata": {},
     "output_type": "execute_result"
    }
   ],
   "source": [
    "len(CB_trn.columns[CB_trn.columns.isin(date_var)])"
   ]
  },
  {
   "cell_type": "code",
   "execution_count": 82,
   "metadata": {},
   "outputs": [],
   "source": [
    "CB_trn.drop(date_var, axis=1, inplace=True)\n",
    "CB_val.drop(date_var, axis=1, inplace=True)\n",
    "CB_tst.drop(date_var, axis=1, inplace=True)\n",
    "CB_model_valid.drop(date_var, axis=1, inplace=True)"
   ]
  },
  {
   "cell_type": "code",
   "execution_count": 83,
   "metadata": {},
   "outputs": [
    {
     "data": {
      "text/plain": [
       "(73533, 1682)"
      ]
     },
     "execution_count": 83,
     "metadata": {},
     "output_type": "execute_result"
    }
   ],
   "source": [
    "CB_trn.shape"
   ]
  },
  {
   "cell_type": "code",
   "execution_count": 84,
   "metadata": {},
   "outputs": [],
   "source": [
    "group_col_df = group_col_df[group_col_df['Variable'].isin(date_var) == False]"
   ]
  },
  {
   "cell_type": "code",
   "execution_count": 85,
   "metadata": {},
   "outputs": [
    {
     "data": {
      "text/plain": [
       "(1681, 21)"
      ]
     },
     "execution_count": 85,
     "metadata": {},
     "output_type": "execute_result"
    }
   ],
   "source": [
    "group_col_df.shape"
   ]
  },
  {
   "cell_type": "code",
   "execution_count": 86,
   "metadata": {},
   "outputs": [],
   "source": [
    "# 항목 분류\n",
    "num_cols = CB_trn.columns[CB_trn.dtypes != object].tolist()\n",
    "num_cols.remove('BAD')\n",
    "cate_cols = CB_trn.columns[CB_trn.dtypes == object].tolist()"
   ]
  },
  {
   "cell_type": "markdown",
   "metadata": {},
   "source": [
    "## Numeric 변수에서 분산이 0인 경우 제거"
   ]
  },
  {
   "cell_type": "code",
   "execution_count": 87,
   "metadata": {},
   "outputs": [],
   "source": [
    "# See the variance\n",
    "std = CB_trn[num_cols].apply(np.std)"
   ]
  },
  {
   "cell_type": "code",
   "execution_count": 88,
   "metadata": {},
   "outputs": [
    {
     "data": {
      "text/plain": [
       "B12000200         0.0\n",
       "B22000100         0.0\n",
       "B22000200         0.0\n",
       "B22000300         0.0\n",
       "B24000600         0.0\n",
       "                 ... \n",
       "A5WC0000001900    0.0\n",
       "A5WC0000002300    0.0\n",
       "A5WC0000001300    0.0\n",
       "A5WC0000008400    0.0\n",
       "A5RCLSRL039100    0.0\n",
       "Length: 134, dtype: float64"
      ]
     },
     "execution_count": 88,
     "metadata": {},
     "output_type": "execute_result"
    }
   ],
   "source": [
    "std[std == 0]"
   ]
  },
  {
   "cell_type": "code",
   "execution_count": 89,
   "metadata": {},
   "outputs": [],
   "source": [
    "std = std[std != 0]"
   ]
  },
  {
   "cell_type": "markdown",
   "metadata": {},
   "source": [
    "### Categorical 변수에서 범주 하나인 경우 제거"
   ]
  },
  {
   "cell_type": "code",
   "execution_count": 90,
   "metadata": {},
   "outputs": [],
   "source": [
    "cate_std = CB_trn[cate_cols].apply(lambda x: len(pd.unique(x)))"
   ]
  },
  {
   "cell_type": "code",
   "execution_count": 91,
   "metadata": {},
   "outputs": [
    {
     "name": "stdout",
     "output_type": "stream",
     "text": [
      "5\n"
     ]
    },
    {
     "data": {
      "text/plain": [
       "BS0000145         1\n",
       "PE0000145         1\n",
       "KC1400011         1\n",
       "KC1400016         1\n",
       "A5RCLSRL025700    1\n",
       "dtype: int64"
      ]
     },
     "execution_count": 91,
     "metadata": {},
     "output_type": "execute_result"
    }
   ],
   "source": [
    "print(len(cate_std[cate_std == 1]))\n",
    "cate_std[cate_std == 1]"
   ]
  },
  {
   "cell_type": "code",
   "execution_count": 92,
   "metadata": {},
   "outputs": [],
   "source": [
    "cate_std = cate_std[cate_std != 1]"
   ]
  },
  {
   "cell_type": "code",
   "execution_count": 93,
   "metadata": {},
   "outputs": [
    {
     "name": "stdout",
     "output_type": "stream",
     "text": [
      "1542\n"
     ]
    }
   ],
   "source": [
    "# update\n",
    "num_cols = list(std.keys())\n",
    "cate_cols = list(cate_std.keys())\n",
    "# categoricla + numerical\n",
    "X_cols = cate_cols + num_cols\n",
    "print(len(X_cols))"
   ]
  },
  {
   "cell_type": "code",
   "execution_count": 94,
   "metadata": {},
   "outputs": [
    {
     "data": {
      "text/plain": [
       "1507"
      ]
     },
     "execution_count": 94,
     "metadata": {},
     "output_type": "execute_result"
    }
   ],
   "source": [
    "len(num_cols)"
   ]
  },
  {
   "cell_type": "code",
   "execution_count": 95,
   "metadata": {},
   "outputs": [
    {
     "data": {
      "text/plain": [
       "35"
      ]
     },
     "execution_count": 95,
     "metadata": {},
     "output_type": "execute_result"
    }
   ],
   "source": [
    "len(cate_cols)"
   ]
  },
  {
   "cell_type": "markdown",
   "metadata": {},
   "source": [
    "# <font color = 'orange'> X,y split"
   ]
  },
  {
   "cell_type": "code",
   "execution_count": 96,
   "metadata": {
    "scrolled": true
   },
   "outputs": [
    {
     "name": "stdout",
     "output_type": "stream",
     "text": [
      "(73533, 1)\n",
      "(24728, 1)\n",
      "(24547, 1)\n"
     ]
    }
   ],
   "source": [
    "CB_trn_y = CB_trn[['BAD']]\n",
    "CB_val_y = CB_val[['BAD']]\n",
    "CB_tst_y = CB_tst[['BAD']]\n",
    "CB_model_valid_y = CB_model_valid[['BAD']]\n",
    "\n",
    "print(CB_trn_y.shape)\n",
    "print(CB_val_y.shape)\n",
    "print(CB_tst_y.shape)"
   ]
  },
  {
   "cell_type": "code",
   "execution_count": 97,
   "metadata": {},
   "outputs": [],
   "source": [
    "CB_trn_X = CB_trn[X_cols]\n",
    "CB_val_X = CB_val[X_cols]\n",
    "CB_tst_X = CB_tst[X_cols]\n",
    "CB_model_valid_X = CB_model_valid[X_cols]"
   ]
  },
  {
   "cell_type": "code",
   "execution_count": 98,
   "metadata": {},
   "outputs": [],
   "source": [
    "use_var = CB_trn_X.columns"
   ]
  },
  {
   "cell_type": "code",
   "execution_count": 99,
   "metadata": {},
   "outputs": [],
   "source": [
    "use_var = list(use_var)\n",
    "# use_var = np.sort(use_var)"
   ]
  },
  {
   "cell_type": "code",
   "execution_count": 100,
   "metadata": {},
   "outputs": [
    {
     "name": "stdout",
     "output_type": "stream",
     "text": [
      "(73533, 1542)\n",
      "(24728, 1542)\n",
      "(24547, 1542)\n",
      "(19936, 1542)\n"
     ]
    }
   ],
   "source": [
    "CB_uni_trn_X = CB_trn_X[use_var]\n",
    "CB_uni_val_X = CB_val_X[use_var]\n",
    "CB_uni_tst_X = CB_tst_X[use_var]\n",
    "CB_uni_model_valid_X = CB_model_valid_X[use_var]\n",
    "\n",
    "print(CB_uni_trn_X.shape)\n",
    "print(CB_uni_val_X.shape)\n",
    "print(CB_uni_tst_X.shape)\n",
    "print(CB_uni_model_valid_X.shape)"
   ]
  },
  {
   "cell_type": "code",
   "execution_count": 101,
   "metadata": {
    "scrolled": true
   },
   "outputs": [],
   "source": [
    "cate_cols = CB_trn_X.columns[CB_trn_X.dtypes == object]\n",
    "num_cols = CB_trn_X.columns.drop(cate_cols)"
   ]
  },
  {
   "cell_type": "code",
   "execution_count": 102,
   "metadata": {},
   "outputs": [
    {
     "name": "stdout",
     "output_type": "stream",
     "text": [
      "35\n",
      "1507\n"
     ]
    }
   ],
   "source": [
    "print(len(cate_cols))\n",
    "print(len(num_cols))"
   ]
  },
  {
   "cell_type": "code",
   "execution_count": 103,
   "metadata": {},
   "outputs": [
    {
     "data": {
      "text/html": [
       "<div>\n",
       "<style scoped>\n",
       "    .dataframe tbody tr th:only-of-type {\n",
       "        vertical-align: middle;\n",
       "    }\n",
       "\n",
       "    .dataframe tbody tr th {\n",
       "        vertical-align: top;\n",
       "    }\n",
       "\n",
       "    .dataframe thead th {\n",
       "        text-align: right;\n",
       "    }\n",
       "</style>\n",
       "<table border=\"1\" class=\"dataframe\">\n",
       "  <thead>\n",
       "    <tr style=\"text-align: right;\">\n",
       "      <th></th>\n",
       "      <th>AS0000138</th>\n",
       "      <th>BS0000114</th>\n",
       "      <th>CA0000801</th>\n",
       "      <th>EW0002801</th>\n",
       "      <th>PS0000388</th>\n",
       "      <th>PS0000392</th>\n",
       "      <th>BE0000801</th>\n",
       "      <th>BE0000802</th>\n",
       "      <th>BS0000113</th>\n",
       "      <th>LA0200801</th>\n",
       "      <th>...</th>\n",
       "      <th>P2O000500_1_s6</th>\n",
       "      <th>LA0000001_1_s9</th>\n",
       "      <th>LA0000020_1_s9</th>\n",
       "      <th>LA0000227_1_s9</th>\n",
       "      <th>P2E000500_1_s9</th>\n",
       "      <th>LA0000001_1_s12</th>\n",
       "      <th>LA0000020_1_s12</th>\n",
       "      <th>LA0000204_1_s12</th>\n",
       "      <th>LA0000227_1_s12</th>\n",
       "      <th>P2O000500_1_s12</th>\n",
       "    </tr>\n",
       "    <tr>\n",
       "      <th>no</th>\n",
       "      <th></th>\n",
       "      <th></th>\n",
       "      <th></th>\n",
       "      <th></th>\n",
       "      <th></th>\n",
       "      <th></th>\n",
       "      <th></th>\n",
       "      <th></th>\n",
       "      <th></th>\n",
       "      <th></th>\n",
       "      <th></th>\n",
       "      <th></th>\n",
       "      <th></th>\n",
       "      <th></th>\n",
       "      <th></th>\n",
       "      <th></th>\n",
       "      <th></th>\n",
       "      <th></th>\n",
       "      <th></th>\n",
       "      <th></th>\n",
       "      <th></th>\n",
       "    </tr>\n",
       "  </thead>\n",
       "  <tbody>\n",
       "    <tr>\n",
       "      <th>1</th>\n",
       "      <td>1</td>\n",
       "      <td>0</td>\n",
       "      <td>1</td>\n",
       "      <td>1</td>\n",
       "      <td>1</td>\n",
       "      <td>0</td>\n",
       "      <td>0</td>\n",
       "      <td>0</td>\n",
       "      <td>0</td>\n",
       "      <td>0</td>\n",
       "      <td>...</td>\n",
       "      <td>0.0</td>\n",
       "      <td>0.22</td>\n",
       "      <td>0.22</td>\n",
       "      <td>1362.45</td>\n",
       "      <td>0.0</td>\n",
       "      <td>0.14</td>\n",
       "      <td>0.14</td>\n",
       "      <td>870.91</td>\n",
       "      <td>870.91</td>\n",
       "      <td>0.0</td>\n",
       "    </tr>\n",
       "    <tr>\n",
       "      <th>3</th>\n",
       "      <td>1</td>\n",
       "      <td>0</td>\n",
       "      <td>1</td>\n",
       "      <td>1</td>\n",
       "      <td>0</td>\n",
       "      <td>0</td>\n",
       "      <td>0</td>\n",
       "      <td>0</td>\n",
       "      <td>0</td>\n",
       "      <td>0</td>\n",
       "      <td>...</td>\n",
       "      <td>0.0</td>\n",
       "      <td>0.00</td>\n",
       "      <td>0.00</td>\n",
       "      <td>-55.53</td>\n",
       "      <td>0.0</td>\n",
       "      <td>0.00</td>\n",
       "      <td>0.00</td>\n",
       "      <td>414.60</td>\n",
       "      <td>414.60</td>\n",
       "      <td>0.0</td>\n",
       "    </tr>\n",
       "    <tr>\n",
       "      <th>6</th>\n",
       "      <td>1</td>\n",
       "      <td>0</td>\n",
       "      <td>1</td>\n",
       "      <td>0</td>\n",
       "      <td>0</td>\n",
       "      <td>0</td>\n",
       "      <td>0</td>\n",
       "      <td>0</td>\n",
       "      <td>0</td>\n",
       "      <td>0</td>\n",
       "      <td>...</td>\n",
       "      <td>0.0</td>\n",
       "      <td>0.05</td>\n",
       "      <td>0.05</td>\n",
       "      <td>163.64</td>\n",
       "      <td>0.0</td>\n",
       "      <td>0.03</td>\n",
       "      <td>0.03</td>\n",
       "      <td>98.90</td>\n",
       "      <td>98.90</td>\n",
       "      <td>0.0</td>\n",
       "    </tr>\n",
       "    <tr>\n",
       "      <th>9</th>\n",
       "      <td>1</td>\n",
       "      <td>0</td>\n",
       "      <td>1</td>\n",
       "      <td>0</td>\n",
       "      <td>0</td>\n",
       "      <td>0</td>\n",
       "      <td>0</td>\n",
       "      <td>0</td>\n",
       "      <td>0</td>\n",
       "      <td>0</td>\n",
       "      <td>...</td>\n",
       "      <td>0.0</td>\n",
       "      <td>0.11</td>\n",
       "      <td>0.11</td>\n",
       "      <td>309.49</td>\n",
       "      <td>0.0</td>\n",
       "      <td>0.07</td>\n",
       "      <td>0.07</td>\n",
       "      <td>187.05</td>\n",
       "      <td>187.05</td>\n",
       "      <td>0.0</td>\n",
       "    </tr>\n",
       "    <tr>\n",
       "      <th>12</th>\n",
       "      <td>1</td>\n",
       "      <td>0</td>\n",
       "      <td>1</td>\n",
       "      <td>0</td>\n",
       "      <td>0</td>\n",
       "      <td>0</td>\n",
       "      <td>0</td>\n",
       "      <td>0</td>\n",
       "      <td>0</td>\n",
       "      <td>0</td>\n",
       "      <td>...</td>\n",
       "      <td>0.0</td>\n",
       "      <td>0.00</td>\n",
       "      <td>0.00</td>\n",
       "      <td>0.00</td>\n",
       "      <td>0.0</td>\n",
       "      <td>0.00</td>\n",
       "      <td>0.00</td>\n",
       "      <td>0.00</td>\n",
       "      <td>0.00</td>\n",
       "      <td>0.0</td>\n",
       "    </tr>\n",
       "  </tbody>\n",
       "</table>\n",
       "<p>5 rows × 1542 columns</p>\n",
       "</div>"
      ],
      "text/plain": [
       "   AS0000138 BS0000114 CA0000801 EW0002801 PS0000388 PS0000392 BE0000801  \\\n",
       "no                                                                         \n",
       "1          1         0         1         1         1         0         0   \n",
       "3          1         0         1         1         0         0         0   \n",
       "6          1         0         1         0         0         0         0   \n",
       "9          1         0         1         0         0         0         0   \n",
       "12         1         0         1         0         0         0         0   \n",
       "\n",
       "   BE0000802 BS0000113 LA0200801  ... P2O000500_1_s6 LA0000001_1_s9  \\\n",
       "no                                ...                                 \n",
       "1          0         0         0  ...            0.0           0.22   \n",
       "3          0         0         0  ...            0.0           0.00   \n",
       "6          0         0         0  ...            0.0           0.05   \n",
       "9          0         0         0  ...            0.0           0.11   \n",
       "12         0         0         0  ...            0.0           0.00   \n",
       "\n",
       "   LA0000020_1_s9 LA0000227_1_s9 P2E000500_1_s9 LA0000001_1_s12  \\\n",
       "no                                                                \n",
       "1            0.22        1362.45            0.0            0.14   \n",
       "3            0.00         -55.53            0.0            0.00   \n",
       "6            0.05         163.64            0.0            0.03   \n",
       "9            0.11         309.49            0.0            0.07   \n",
       "12           0.00           0.00            0.0            0.00   \n",
       "\n",
       "   LA0000020_1_s12 LA0000204_1_s12 LA0000227_1_s12 P2O000500_1_s12  \n",
       "no                                                                  \n",
       "1             0.14          870.91          870.91             0.0  \n",
       "3             0.00          414.60          414.60             0.0  \n",
       "6             0.03           98.90           98.90             0.0  \n",
       "9             0.07          187.05          187.05             0.0  \n",
       "12            0.00            0.00            0.00             0.0  \n",
       "\n",
       "[5 rows x 1542 columns]"
      ]
     },
     "execution_count": 103,
     "metadata": {},
     "output_type": "execute_result"
    }
   ],
   "source": [
    "CB_trn_X.head()"
   ]
  },
  {
   "cell_type": "code",
   "execution_count": 104,
   "metadata": {},
   "outputs": [],
   "source": [
    "preprocessing_end = datetime.now()"
   ]
  },
  {
   "cell_type": "code",
   "execution_count": 105,
   "metadata": {},
   "outputs": [
    {
     "name": "stdout",
     "output_type": "stream",
     "text": [
      "단변량 준비과정 수행시간 : 89.714(초)\n"
     ]
    }
   ],
   "source": [
    "preprocessing_time = (preprocessing_end - preprocessing_start).total_seconds()\n",
    "print('단변량 준비과정 수행시간 : {:.3f}(초)'.format(preprocessing_time))"
   ]
  },
  {
   "cell_type": "markdown",
   "metadata": {},
   "source": [
    "# <font color = 'orange'>univariate"
   ]
  },
  {
   "cell_type": "code",
   "execution_count": 106,
   "metadata": {},
   "outputs": [],
   "source": [
    "uni_start = datetime.now()"
   ]
  },
  {
   "cell_type": "code",
   "execution_count": 107,
   "metadata": {},
   "outputs": [],
   "source": [
    "# Making Binned df\n",
    "binned_trn_X = CB_uni_trn_X.copy()\n",
    "binned_val_X = CB_uni_val_X.copy()\n",
    "binned_tst_X = CB_uni_tst_X.copy()\n",
    "binned_model_valid_X = CB_uni_model_valid_X.copy()"
   ]
  },
  {
   "cell_type": "markdown",
   "metadata": {},
   "source": [
    "## 필요 모듈 import"
   ]
  },
  {
   "cell_type": "code",
   "execution_count": 108,
   "metadata": {},
   "outputs": [],
   "source": [
    "from univariate.fine_classing import fine_classing, parallelize_fine_classing\n",
    "from univariate.coarse_classing import coarse_classing, parallelize_coarse_classing\n",
    "from univariate.calc_variable_statistics import calc_variable_stats, parallelize_calc_variable_stats\n",
    "from univariate.performance_table import base_performance_table\n",
    "# from univariate.univariate_analysis import select_candidate_variable\n",
    "from univariate.univariate_analysis_other_psi import select_candidate_variable"
   ]
  },
  {
   "cell_type": "markdown",
   "metadata": {},
   "source": [
    "## fine classing"
   ]
  },
  {
   "cell_type": "code",
   "execution_count": 109,
   "metadata": {},
   "outputs": [
    {
     "data": {
      "text/plain": [
       "\u001b[1;31mSignature:\u001b[0m\n",
       "\u001b[0mparallelize_fine_classing\u001b[0m\u001b[1;33m(\u001b[0m\u001b[1;33m\n",
       "\u001b[0m    \u001b[0mx_train_df\u001b[0m\u001b[1;33m,\u001b[0m\u001b[1;33m\n",
       "\u001b[0m    \u001b[0mx_valid_df\u001b[0m\u001b[1;33m,\u001b[0m\u001b[1;33m\n",
       "\u001b[0m    \u001b[0mx_test_df\u001b[0m\u001b[1;33m,\u001b[0m\u001b[1;33m\n",
       "\u001b[0m    \u001b[0mx_model_valid_df\u001b[0m\u001b[1;33m,\u001b[0m\u001b[1;33m\n",
       "\u001b[0m    \u001b[0mnumeric_columns_list\u001b[0m\u001b[1;33m,\u001b[0m\u001b[1;33m\n",
       "\u001b[0m    \u001b[0mbin_cut\u001b[0m\u001b[1;33m,\u001b[0m\u001b[1;33m\n",
       "\u001b[0m    \u001b[0mfunc\u001b[0m\u001b[1;33m,\u001b[0m\u001b[1;33m\n",
       "\u001b[0m    \u001b[0mprocesses\u001b[0m\u001b[1;33m,\u001b[0m\u001b[1;33m\n",
       "\u001b[0m\u001b[1;33m)\u001b[0m\u001b[1;33m\u001b[0m\u001b[1;33m\u001b[0m\u001b[0m\n",
       "\u001b[1;31mDocstring:\u001b[0m\n",
       ":explain: 병렬처리를 적용하여 fine classing 결과를 반환합니다.\n",
       "\n",
       ":param dataframe x_train_df: 독립변수 train 데이터\n",
       ":param dataframe x_valid_df: 독립변수 valid 데이터\n",
       ":param dataframe x_test_df: 독립변수 test 데이터\n",
       ":param dataframe x_model_valid_df: 독립변수 model valid 데이터\n",
       ":param list numeric_columns_list: 숫자형 변수 리스트\n",
       ":param array bin_cut: binning 기준 배열(numpy.linspace 권장)\n",
       ":param function func: 병렬처리할 fine_classing 함수\n",
       ":param int processes: 병렬처리에 사용할 core 개수\n",
       ":return tuple:  binning 된 train/valid/test/model valid dataframe\n",
       "\u001b[1;31mFile:\u001b[0m      c:\\users\\w10\\desktop\\단변량모듈\\kh\\univariate\\fine_classing.py\n",
       "\u001b[1;31mType:\u001b[0m      function\n"
      ]
     },
     "metadata": {},
     "output_type": "display_data"
    }
   ],
   "source": [
    "?parallelize_fine_classing"
   ]
  },
  {
   "cell_type": "code",
   "execution_count": null,
   "metadata": {},
   "outputs": [],
   "source": [
    "fine_start = datetime.now()\n",
    "q = np.linspace(0,1,51)\n",
    "fine_classing_result = parallelize_fine_classing(x_train_df=binned_trn_X,\n",
    "                                                 x_valid_df=binned_val_X,\n",
    "                                                 x_test_df=binned_tst_X,\n",
    "                                                 x_model_valid_df=binned_model_valid_X,\n",
    "                                                 numeric_columns_list=num_cols,\n",
    "                                                 bin_cut=q,\n",
    "                                                 func=fine_classing,\n",
    "                                                 processes=6,)\n",
    "\n",
    "binned_trn_X = binned_trn_X.drop(num_cols, axis = 1)\n",
    "binned_trn_X[num_cols] = fine_classing_result[0]\n",
    "\n",
    "binned_val_X = binned_val_X.drop(num_cols, axis = 1)\n",
    "binned_val_X[num_cols] = fine_classing_result[1]\n",
    "\n",
    "binned_tst_X = binned_tst_X.drop(num_cols, axis = 1)\n",
    "binned_tst_X[num_cols] = fine_classing_result[2]\n",
    "\n",
    "binned_model_valid_X = binned_model_valid_X.drop(num_cols, axis = 1)\n",
    "binned_model_valid_X[num_cols] = fine_classing_result[3]\n",
    "\n",
    "fine_end = datetime.now()\n",
    "fine_time = (fine_end - fine_start).total_seconds()\n",
    "print('fine classing 수행시간 : {}(분) {}(초)'.format(fine_time//60, fine_time%60))"
   ]
  },
  {
   "cell_type": "code",
   "execution_count": 113,
   "metadata": {},
   "outputs": [
    {
     "name": "stdout",
     "output_type": "stream",
     "text": [
      "(73533, 1542)\n",
      "(73533, 1507)\n"
     ]
    }
   ],
   "source": [
    "print(binned_trn_X.shape)\n",
    "print(fine_classing_result[0].shape)"
   ]
  },
  {
   "cell_type": "markdown",
   "metadata": {},
   "source": [
    "### bin 1개 변수 제거"
   ]
  },
  {
   "cell_type": "code",
   "execution_count": 114,
   "metadata": {},
   "outputs": [],
   "source": [
    "bin_cnt = binned_trn_X.apply(lambda x: len(pd.unique(x)))\n",
    "remove_vars = bin_cnt[bin_cnt == 1].keys().tolist()"
   ]
  },
  {
   "cell_type": "code",
   "execution_count": 115,
   "metadata": {},
   "outputs": [
    {
     "data": {
      "text/plain": [
       "350"
      ]
     },
     "execution_count": 115,
     "metadata": {},
     "output_type": "execute_result"
    }
   ],
   "source": [
    "len(remove_vars)"
   ]
  },
  {
   "cell_type": "code",
   "execution_count": 116,
   "metadata": {},
   "outputs": [],
   "source": [
    "binned_trn_X = binned_trn_X.drop(remove_vars, axis = 1)\n",
    "binned_val_X = binned_val_X.drop(remove_vars, axis = 1)\n",
    "binned_tst_X = binned_tst_X.drop(remove_vars, axis = 1)\n",
    "binned_model_valid_X = binned_model_valid_X.drop(remove_vars, axis = 1)\n",
    "\n",
    "use_var = binned_trn_X.columns.tolist()"
   ]
  },
  {
   "cell_type": "code",
   "execution_count": 117,
   "metadata": {},
   "outputs": [
    {
     "data": {
      "text/html": [
       "<div>\n",
       "<style scoped>\n",
       "    .dataframe tbody tr th:only-of-type {\n",
       "        vertical-align: middle;\n",
       "    }\n",
       "\n",
       "    .dataframe tbody tr th {\n",
       "        vertical-align: top;\n",
       "    }\n",
       "\n",
       "    .dataframe thead th {\n",
       "        text-align: right;\n",
       "    }\n",
       "</style>\n",
       "<table border=\"1\" class=\"dataframe\">\n",
       "  <thead>\n",
       "    <tr style=\"text-align: right;\">\n",
       "      <th></th>\n",
       "      <th>AS0000138</th>\n",
       "      <th>BS0000114</th>\n",
       "      <th>CA0000801</th>\n",
       "      <th>EW0002801</th>\n",
       "      <th>PS0000388</th>\n",
       "      <th>PS0000392</th>\n",
       "      <th>BE0000801</th>\n",
       "      <th>BE0000802</th>\n",
       "      <th>BS0000113</th>\n",
       "      <th>LA0200801</th>\n",
       "      <th>...</th>\n",
       "      <th>P2O000500_1_s6</th>\n",
       "      <th>LA0000001_1_s9</th>\n",
       "      <th>LA0000020_1_s9</th>\n",
       "      <th>LA0000227_1_s9</th>\n",
       "      <th>P2E000500_1_s9</th>\n",
       "      <th>LA0000001_1_s12</th>\n",
       "      <th>LA0000020_1_s12</th>\n",
       "      <th>LA0000204_1_s12</th>\n",
       "      <th>LA0000227_1_s12</th>\n",
       "      <th>P2O000500_1_s12</th>\n",
       "    </tr>\n",
       "    <tr>\n",
       "      <th>no</th>\n",
       "      <th></th>\n",
       "      <th></th>\n",
       "      <th></th>\n",
       "      <th></th>\n",
       "      <th></th>\n",
       "      <th></th>\n",
       "      <th></th>\n",
       "      <th></th>\n",
       "      <th></th>\n",
       "      <th></th>\n",
       "      <th></th>\n",
       "      <th></th>\n",
       "      <th></th>\n",
       "      <th></th>\n",
       "      <th></th>\n",
       "      <th></th>\n",
       "      <th></th>\n",
       "      <th></th>\n",
       "      <th></th>\n",
       "      <th></th>\n",
       "      <th></th>\n",
       "    </tr>\n",
       "  </thead>\n",
       "  <tbody>\n",
       "    <tr>\n",
       "      <th>1</th>\n",
       "      <td>1</td>\n",
       "      <td>0</td>\n",
       "      <td>1</td>\n",
       "      <td>1</td>\n",
       "      <td>1</td>\n",
       "      <td>0</td>\n",
       "      <td>0</td>\n",
       "      <td>0</td>\n",
       "      <td>0</td>\n",
       "      <td>0</td>\n",
       "      <td>...</td>\n",
       "      <td>(-inf, 0.0]</td>\n",
       "      <td>(0.21, 0.24]</td>\n",
       "      <td>(0.21, 0.24]</td>\n",
       "      <td>(1171.662, 1390.351]</td>\n",
       "      <td>(-inf, 0.0]</td>\n",
       "      <td>(0.12, 0.14]</td>\n",
       "      <td>(0.12, 0.14]</td>\n",
       "      <td>(853.843, 986.986]</td>\n",
       "      <td>(841.993, 975.447]</td>\n",
       "      <td>(-inf, 0.0]</td>\n",
       "    </tr>\n",
       "    <tr>\n",
       "      <th>3</th>\n",
       "      <td>1</td>\n",
       "      <td>0</td>\n",
       "      <td>1</td>\n",
       "      <td>1</td>\n",
       "      <td>0</td>\n",
       "      <td>0</td>\n",
       "      <td>0</td>\n",
       "      <td>0</td>\n",
       "      <td>0</td>\n",
       "      <td>0</td>\n",
       "      <td>...</td>\n",
       "      <td>(-inf, 0.0]</td>\n",
       "      <td>(-0.05, 0.0]</td>\n",
       "      <td>(-0.04, 0.0]</td>\n",
       "      <td>(-101.774, -54.382]</td>\n",
       "      <td>(-inf, 0.0]</td>\n",
       "      <td>(-0.02, 0.0]</td>\n",
       "      <td>(-0.02, 0.0]</td>\n",
       "      <td>(409.656, 462.414]</td>\n",
       "      <td>(405.344, 458.644]</td>\n",
       "      <td>(-inf, 0.0]</td>\n",
       "    </tr>\n",
       "    <tr>\n",
       "      <th>6</th>\n",
       "      <td>1</td>\n",
       "      <td>0</td>\n",
       "      <td>1</td>\n",
       "      <td>0</td>\n",
       "      <td>0</td>\n",
       "      <td>0</td>\n",
       "      <td>0</td>\n",
       "      <td>0</td>\n",
       "      <td>0</td>\n",
       "      <td>0</td>\n",
       "      <td>...</td>\n",
       "      <td>(-inf, 0.0]</td>\n",
       "      <td>(0.0, 0.05]</td>\n",
       "      <td>(0.0, 0.05]</td>\n",
       "      <td>(155.065, 163.64]</td>\n",
       "      <td>(-inf, 0.0]</td>\n",
       "      <td>(0.02, 0.03]</td>\n",
       "      <td>(0.02, 0.03]</td>\n",
       "      <td>(78.676, 98.9]</td>\n",
       "      <td>(80.874, 98.9]</td>\n",
       "      <td>(-inf, 0.0]</td>\n",
       "    </tr>\n",
       "    <tr>\n",
       "      <th>9</th>\n",
       "      <td>1</td>\n",
       "      <td>0</td>\n",
       "      <td>1</td>\n",
       "      <td>0</td>\n",
       "      <td>0</td>\n",
       "      <td>0</td>\n",
       "      <td>0</td>\n",
       "      <td>0</td>\n",
       "      <td>0</td>\n",
       "      <td>0</td>\n",
       "      <td>...</td>\n",
       "      <td>(-inf, 0.0]</td>\n",
       "      <td>(0.1, 0.11]</td>\n",
       "      <td>(0.1, 0.11]</td>\n",
       "      <td>(303.03, 357.58]</td>\n",
       "      <td>(-inf, 0.0]</td>\n",
       "      <td>(0.06, 0.07]</td>\n",
       "      <td>(0.06, 0.07]</td>\n",
       "      <td>(174.56, 193.02]</td>\n",
       "      <td>(174.684, 192.848]</td>\n",
       "      <td>(-inf, 0.0]</td>\n",
       "    </tr>\n",
       "    <tr>\n",
       "      <th>12</th>\n",
       "      <td>1</td>\n",
       "      <td>0</td>\n",
       "      <td>1</td>\n",
       "      <td>0</td>\n",
       "      <td>0</td>\n",
       "      <td>0</td>\n",
       "      <td>0</td>\n",
       "      <td>0</td>\n",
       "      <td>0</td>\n",
       "      <td>0</td>\n",
       "      <td>...</td>\n",
       "      <td>(-inf, 0.0]</td>\n",
       "      <td>(-0.05, 0.0]</td>\n",
       "      <td>(-0.04, 0.0]</td>\n",
       "      <td>(-2.42, 0.0]</td>\n",
       "      <td>(-inf, 0.0]</td>\n",
       "      <td>(-0.02, 0.0]</td>\n",
       "      <td>(-0.02, 0.0]</td>\n",
       "      <td>(-1.489, 0.0]</td>\n",
       "      <td>(-0.16, 0.0]</td>\n",
       "      <td>(-inf, 0.0]</td>\n",
       "    </tr>\n",
       "  </tbody>\n",
       "</table>\n",
       "<p>5 rows × 1192 columns</p>\n",
       "</div>"
      ],
      "text/plain": [
       "   AS0000138 BS0000114 CA0000801 EW0002801 PS0000388 PS0000392 BE0000801  \\\n",
       "no                                                                         \n",
       "1          1         0         1         1         1         0         0   \n",
       "3          1         0         1         1         0         0         0   \n",
       "6          1         0         1         0         0         0         0   \n",
       "9          1         0         1         0         0         0         0   \n",
       "12         1         0         1         0         0         0         0   \n",
       "\n",
       "   BE0000802 BS0000113 LA0200801  ... P2O000500_1_s6 LA0000001_1_s9  \\\n",
       "no                                ...                                 \n",
       "1          0         0         0  ...    (-inf, 0.0]   (0.21, 0.24]   \n",
       "3          0         0         0  ...    (-inf, 0.0]   (-0.05, 0.0]   \n",
       "6          0         0         0  ...    (-inf, 0.0]    (0.0, 0.05]   \n",
       "9          0         0         0  ...    (-inf, 0.0]    (0.1, 0.11]   \n",
       "12         0         0         0  ...    (-inf, 0.0]   (-0.05, 0.0]   \n",
       "\n",
       "   LA0000020_1_s9        LA0000227_1_s9 P2E000500_1_s9 LA0000001_1_s12  \\\n",
       "no                                                                       \n",
       "1    (0.21, 0.24]  (1171.662, 1390.351]    (-inf, 0.0]    (0.12, 0.14]   \n",
       "3    (-0.04, 0.0]   (-101.774, -54.382]    (-inf, 0.0]    (-0.02, 0.0]   \n",
       "6     (0.0, 0.05]     (155.065, 163.64]    (-inf, 0.0]    (0.02, 0.03]   \n",
       "9     (0.1, 0.11]      (303.03, 357.58]    (-inf, 0.0]    (0.06, 0.07]   \n",
       "12   (-0.04, 0.0]          (-2.42, 0.0]    (-inf, 0.0]    (-0.02, 0.0]   \n",
       "\n",
       "   LA0000020_1_s12     LA0000204_1_s12     LA0000227_1_s12 P2O000500_1_s12  \n",
       "no                                                                          \n",
       "1     (0.12, 0.14]  (853.843, 986.986]  (841.993, 975.447]     (-inf, 0.0]  \n",
       "3     (-0.02, 0.0]  (409.656, 462.414]  (405.344, 458.644]     (-inf, 0.0]  \n",
       "6     (0.02, 0.03]      (78.676, 98.9]      (80.874, 98.9]     (-inf, 0.0]  \n",
       "9     (0.06, 0.07]    (174.56, 193.02]  (174.684, 192.848]     (-inf, 0.0]  \n",
       "12    (-0.02, 0.0]       (-1.489, 0.0]        (-0.16, 0.0]     (-inf, 0.0]  \n",
       "\n",
       "[5 rows x 1192 columns]"
      ]
     },
     "execution_count": 117,
     "metadata": {},
     "output_type": "execute_result"
    }
   ],
   "source": [
    "binned_trn_X.head()"
   ]
  },
  {
   "cell_type": "code",
   "execution_count": 118,
   "metadata": {},
   "outputs": [],
   "source": [
    "def intersection(lst1, lst2): \n",
    "    lst3 = list(set(lst1).intersection(set(lst2)))\n",
    "    return lst3 "
   ]
  },
  {
   "cell_type": "code",
   "execution_count": 119,
   "metadata": {},
   "outputs": [],
   "source": [
    "num_cols = intersection(use_var, num_cols)"
   ]
  },
  {
   "cell_type": "code",
   "execution_count": 120,
   "metadata": {},
   "outputs": [
    {
     "data": {
      "text/plain": [
       "1157"
      ]
     },
     "execution_count": 120,
     "metadata": {},
     "output_type": "execute_result"
    }
   ],
   "source": [
    "len(num_cols)"
   ]
  },
  {
   "cell_type": "markdown",
   "metadata": {},
   "source": [
    "## coarse classing"
   ]
  },
  {
   "cell_type": "code",
   "execution_count": 121,
   "metadata": {},
   "outputs": [
    {
     "data": {
      "text/plain": [
       "372"
      ]
     },
     "execution_count": 121,
     "metadata": {},
     "output_type": "execute_result"
    }
   ],
   "source": [
    "bin_cnt = binned_trn_X.apply(lambda x: len(pd.unique(x)))\n",
    "coarse_variable_list = bin_cnt[bin_cnt > 10].keys().tolist()\n",
    "len(coarse_variable_list)"
   ]
  },
  {
   "cell_type": "code",
   "execution_count": 122,
   "metadata": {},
   "outputs": [
    {
     "data": {
      "text/plain": [
       "\u001b[1;31mSignature:\u001b[0m\n",
       "\u001b[0mparallelize_coarse_classing\u001b[0m\u001b[1;33m(\u001b[0m\u001b[1;33m\n",
       "\u001b[0m    \u001b[0mx_binned_train_df\u001b[0m\u001b[1;33m,\u001b[0m\u001b[1;33m\n",
       "\u001b[0m    \u001b[0my_train_df\u001b[0m\u001b[1;33m,\u001b[0m\u001b[1;33m\n",
       "\u001b[0m    \u001b[0mx_binned_valid_df\u001b[0m\u001b[1;33m,\u001b[0m\u001b[1;33m\n",
       "\u001b[0m    \u001b[0mx_binned_test_df\u001b[0m\u001b[1;33m,\u001b[0m\u001b[1;33m\n",
       "\u001b[0m    \u001b[0mx_binned_model_valid_df\u001b[0m\u001b[1;33m,\u001b[0m\u001b[1;33m\n",
       "\u001b[0m    \u001b[0my_column_name\u001b[0m\u001b[1;33m,\u001b[0m\u001b[1;33m\n",
       "\u001b[0m    \u001b[0mfunc\u001b[0m\u001b[1;33m,\u001b[0m\u001b[1;33m\n",
       "\u001b[0m    \u001b[0mprocesses\u001b[0m\u001b[1;33m,\u001b[0m\u001b[1;33m\n",
       "\u001b[0m\u001b[1;33m)\u001b[0m\u001b[1;33m\u001b[0m\u001b[1;33m\u001b[0m\u001b[0m\n",
       "\u001b[1;31mDocstring:\u001b[0m\n",
       ":explain: 병렬처리를 적용하여 coarse classing 결과를 반환합니다.\n",
       "\n",
       ":param dataframe x_binned_train_df: fine classing 완료한 train 독립변수 데이터\n",
       ":param dataframe y_train_df: train 종속변수 데이터\n",
       ":param dataframe x_binned_valid_df: fine classing 완료한 valid 독립변수 데이터\n",
       ":param dataframe x_binned_test_df: fine classing 완료한 test 독립변수 데이터\n",
       ":param dataframe x_binned_model_valid_df: fine classing 완료한 model valid 독립변수 데이터\n",
       ":param string y_column_name: 종속변수명\n",
       ":param function func: 병렬처리할 coarse_classing 함수\n",
       ":param int processes: 병렬처리에 사용할 core 개수\n",
       ":return: binning 결합 완료된 train/valid/test/model valid dataframe의 tuple\n",
       "\u001b[1;31mFile:\u001b[0m      c:\\users\\w10\\desktop\\단변량모듈\\kh\\univariate\\coarse_classing.py\n",
       "\u001b[1;31mType:\u001b[0m      function\n"
      ]
     },
     "metadata": {},
     "output_type": "display_data"
    }
   ],
   "source": [
    "?parallelize_coarse_classing"
   ]
  },
  {
   "cell_type": "code",
   "execution_count": 123,
   "metadata": {},
   "outputs": [
    {
     "name": "stdout",
     "output_type": "stream",
     "text": [
      "coarse classing 수행시간 : 1.0(분) 42.780103999999994(초)\n"
     ]
    }
   ],
   "source": [
    "coarse_start = datetime.now()\n",
    "coarse_classing_result = parallelize_coarse_classing(x_binned_train_df = binned_trn_X,\n",
    "                                                     y_train_df = CB_trn_y,\n",
    "                                                     x_binned_valid_df = binned_val_X,\n",
    "                                                     x_binned_test_df = binned_tst_X,\n",
    "                                                     x_binned_model_valid_df = binned_model_valid_X,\n",
    "                                                     y_column_name = 'BAD',\n",
    "                                                     func = coarse_classing,\n",
    "                                                     processes = 6,\n",
    ")\n",
    "\n",
    "binned_trn_X = coarse_classing_result[0]\n",
    "binned_val_X = coarse_classing_result[1]\n",
    "binned_tst_X = coarse_classing_result[2]\n",
    "binned_model_valid_X = coarse_classing_result[3]\n",
    "\n",
    "coarse_end= datetime.now()\n",
    "coarse_time = (coarse_end-coarse_start).total_seconds()\n",
    "print('coarse classing 수행시간 : {}(분) {}(초)'.format(coarse_time//60, coarse_time%60))"
   ]
  },
  {
   "cell_type": "markdown",
   "metadata": {},
   "source": [
    "### save binned data"
   ]
  },
  {
   "cell_type": "code",
   "execution_count": 124,
   "metadata": {},
   "outputs": [],
   "source": [
    "trn_binned_df = pd.concat([CB_trn_y, binned_trn_X], axis = 1)\n",
    "val_binned_df = pd.concat([CB_val_y, binned_val_X], axis = 1)\n",
    "tst_binned_df = pd.concat([CB_tst_y, binned_tst_X], axis = 1)\n",
    "model_valid_binned_df = pd.concat([CB_model_valid_y, binned_model_valid_X], axis = 1)"
   ]
  },
  {
   "cell_type": "code",
   "execution_count": 125,
   "metadata": {},
   "outputs": [],
   "source": [
    "# s1 = datetime.now()\n",
    "# trn_binned_df[use_var] = trn_binned_df[use_var].astype(str)\n",
    "# val_binned_df[use_var] = val_binned_df[use_var].astype(str)\n",
    "# tst_binned_df[use_var] = tst_binned_df[use_var].astype(str)\n",
    "# model_valid_binned_df[use_var] = model_valid_binned_df[use_var].astype(str)\n",
    "# s2 = datetime.now()\n",
    "# oper_sec = (s2-s1).total_seconds()\n",
    "# oper_min = oper_sec / 60\n",
    "# print('수행시간 : {}(초) / {}(분)'.format(oper_sec, oper_min))"
   ]
  },
  {
   "cell_type": "code",
   "execution_count": 126,
   "metadata": {},
   "outputs": [],
   "source": [
    "# save_path = r'########'"
   ]
  },
  {
   "cell_type": "code",
   "execution_count": 127,
   "metadata": {},
   "outputs": [],
   "source": [
    "# trn_binned_df.to_pickle(os.path.join(save_path, 'trn_binned_df.pkl'))\n",
    "# val_binned_df.to_pickle(os.path.join(save_path, 'val_binned_df.pkl'))\n",
    "# tst_binned_df.to_pickle(os.path.join(save_path, 'tst_binned_df.pkl'))\n",
    "# model_valid_binned_df.to_pickle(os.path.join(save_path, 'model_valid_binned_df.pkl'))"
   ]
  },
  {
   "cell_type": "markdown",
   "metadata": {},
   "source": [
    "### calculate variable statistics"
   ]
  },
  {
   "cell_type": "code",
   "execution_count": 128,
   "metadata": {},
   "outputs": [
    {
     "data": {
      "text/plain": [
       "\u001b[1;31mSignature:\u001b[0m\n",
       "\u001b[0mparallelize_calc_variable_stats\u001b[0m\u001b[1;33m(\u001b[0m\u001b[1;33m\n",
       "\u001b[0m    \u001b[0mx_binned_df\u001b[0m\u001b[1;33m,\u001b[0m\u001b[1;33m\n",
       "\u001b[0m    \u001b[0muse_columns_list\u001b[0m\u001b[1;33m,\u001b[0m\u001b[1;33m\n",
       "\u001b[0m    \u001b[0my_df\u001b[0m\u001b[1;33m,\u001b[0m\u001b[1;33m\n",
       "\u001b[0m    \u001b[0my_column_name\u001b[0m\u001b[1;33m,\u001b[0m\u001b[1;33m\n",
       "\u001b[0m    \u001b[0mfunc\u001b[0m\u001b[1;33m,\u001b[0m\u001b[1;33m\n",
       "\u001b[0m    \u001b[0mprocesses\u001b[0m\u001b[1;33m,\u001b[0m\u001b[1;33m\n",
       "\u001b[0m\u001b[1;33m)\u001b[0m\u001b[1;33m\u001b[0m\u001b[1;33m\u001b[0m\u001b[0m\n",
       "\u001b[1;31mDocstring:\u001b[0m\n",
       ":explain: 병렬처리를 적용하여 statistics 결과를 변환합니다.\n",
       "\n",
       ":param dataframe x_binned_df: coarse classing 완료한 독립변수 데이터\n",
       ":param list use_columns_list: 사용할 변수 리스트\n",
       ":param dataframe y_df: 종속변수 데이터\n",
       ":param string y_column_name: 종속변수명\n",
       ":param function func: 병렬처리할 calc_variable_stats 함수\n",
       ":param int processes: 병렬처리에 사용할 core 개수\n",
       ":return: 각각의 변수에 대한 statistics 결과 dictionary\n",
       "\u001b[1;31mFile:\u001b[0m      c:\\users\\w10\\desktop\\단변량모듈\\kh\\univariate\\calc_variable_statistics.py\n",
       "\u001b[1;31mType:\u001b[0m      function\n"
      ]
     },
     "metadata": {},
     "output_type": "display_data"
    }
   ],
   "source": [
    "?parallelize_calc_variable_stats"
   ]
  },
  {
   "cell_type": "code",
   "execution_count": 129,
   "metadata": {},
   "outputs": [
    {
     "name": "stdout",
     "output_type": "stream",
     "text": [
      "수행시간 : 1.0(분) 54.275667(초)\n"
     ]
    }
   ],
   "source": [
    "calc_start = datetime.now()\n",
    "trn_stats_dict = parallelize_calc_variable_stats(x_binned_df = binned_trn_X,\n",
    "                                                 y_df = CB_trn_y,\n",
    "                                                 use_columns_list = use_var,\n",
    "                                                 y_column_name = 'BAD',\n",
    "                                                 processes = 6,\n",
    "                                                 func = calc_variable_stats,)\n",
    "\n",
    "val_stats_dict = parallelize_calc_variable_stats(x_binned_df = binned_val_X,\n",
    "                                                 y_df = CB_val_y,\n",
    "                                                 use_columns_list = use_var,\n",
    "                                                 y_column_name = 'BAD',\n",
    "                                                 processes = 6,\n",
    "                                                 func = calc_variable_stats,)\n",
    "\n",
    "tst_stats_dict = parallelize_calc_variable_stats(x_binned_df = binned_tst_X,\n",
    "                                                 y_df = CB_tst_y,\n",
    "                                                 use_columns_list = use_var,\n",
    "                                                 y_column_name = 'BAD',\n",
    "                                                 processes = 6,\n",
    "                                                 func = calc_variable_stats,)\n",
    "\n",
    "calc_end = datetime.now()\n",
    "calc_time = (calc_end-calc_start).total_seconds()\n",
    "print('수행시간 : {}(분) {}(초)'.format(calc_time//60, calc_time%60))"
   ]
  },
  {
   "cell_type": "markdown",
   "metadata": {},
   "source": [
    "## set basic performance table"
   ]
  },
  {
   "cell_type": "code",
   "execution_count": 130,
   "metadata": {},
   "outputs": [
    {
     "data": {
      "text/plain": [
       "\u001b[1;31mSignature:\u001b[0m\n",
       "\u001b[0mbase_performance_table\u001b[0m\u001b[1;33m(\u001b[0m\u001b[1;33m\n",
       "\u001b[0m    \u001b[0mtrain_calc_stats_dict\u001b[0m\u001b[1;33m,\u001b[0m\u001b[1;33m\n",
       "\u001b[0m    \u001b[0mvalid_calc_stats_dict\u001b[0m\u001b[1;33m,\u001b[0m\u001b[1;33m\n",
       "\u001b[0m    \u001b[0mtest_calc_stats_dict\u001b[0m\u001b[1;33m,\u001b[0m\u001b[1;33m\n",
       "\u001b[0m    \u001b[0mlayout\u001b[0m\u001b[1;33m,\u001b[0m\u001b[1;33m\n",
       "\u001b[0m\u001b[1;33m)\u001b[0m\u001b[1;33m\u001b[0m\u001b[1;33m\u001b[0m\u001b[0m\n",
       "\u001b[1;31mDocstring:\u001b[0m\n",
       ":explain: 입력 받은 train/valid/test의 statistics 계산결과를 layout과 병합하여 항목 정보를 생성하는 함수입니다.\n",
       "\n",
       ":param dictionary train_calc_stats_dict: train 데이터의 독립변수 performance 결과 \n",
       ":param dictionary valid_calc_stats_dict: valid 데이터의 독립변수 performance 결과\n",
       ":param dictionary test_calc_stats_dict: test 데이터의 독립변수 performance 결과\n",
       ":param dataframe layout: layout 데이터\n",
       ":return: 항목별 정보, performance 값을 가지는 dataframe\n",
       "\u001b[1;31mFile:\u001b[0m      c:\\users\\w10\\desktop\\단변량모듈\\kh\\univariate\\performance_table.py\n",
       "\u001b[1;31mType:\u001b[0m      function\n"
      ]
     },
     "metadata": {},
     "output_type": "display_data"
    }
   ],
   "source": [
    "?base_performance_table"
   ]
  },
  {
   "cell_type": "code",
   "execution_count": 131,
   "metadata": {},
   "outputs": [
    {
     "name": "stdout",
     "output_type": "stream",
     "text": [
      "수행시간 : 1.0(분) 57.091136000000006(초)\n"
     ]
    }
   ],
   "source": [
    "perf_start = datetime.now()\n",
    "performance_table = base_performance_table(train_calc_stats_dict = trn_stats_dict, \n",
    "                                            valid_calc_stats_dict = val_stats_dict, \n",
    "                                            test_calc_stats_dict = tst_stats_dict, \n",
    "                                            layout = col_df)\n",
    "perf_end = datetime.now()\n",
    "perf_time = (perf_end-calc_start).total_seconds()\n",
    "print('수행시간 : {}(분) {}(초)'.format(perf_time//60, perf_time%60))"
   ]
  },
  {
   "cell_type": "code",
   "execution_count": 132,
   "metadata": {},
   "outputs": [
    {
     "data": {
      "text/html": [
       "<div>\n",
       "<style scoped>\n",
       "    .dataframe tbody tr th:only-of-type {\n",
       "        vertical-align: middle;\n",
       "    }\n",
       "\n",
       "    .dataframe tbody tr th {\n",
       "        vertical-align: top;\n",
       "    }\n",
       "\n",
       "    .dataframe thead th {\n",
       "        text-align: right;\n",
       "    }\n",
       "</style>\n",
       "<table border=\"1\" class=\"dataframe\">\n",
       "  <thead>\n",
       "    <tr style=\"text-align: right;\">\n",
       "      <th></th>\n",
       "      <th>NO</th>\n",
       "      <th>aggvar_name</th>\n",
       "      <th>group_code1</th>\n",
       "      <th>group_code2</th>\n",
       "      <th>group_2</th>\n",
       "      <th>총 건수</th>\n",
       "      <th>MISSING</th>\n",
       "      <th>결과값 = 0</th>\n",
       "      <th>MISSING(결과값 = 0 포함)</th>\n",
       "      <th>n_unique</th>\n",
       "      <th>...</th>\n",
       "      <th>welc_can_use</th>\n",
       "      <th>ks_trn</th>\n",
       "      <th>ks_val</th>\n",
       "      <th>ks_tst</th>\n",
       "      <th>ar_trn</th>\n",
       "      <th>ar_val</th>\n",
       "      <th>ar_tst</th>\n",
       "      <th>iv_trn</th>\n",
       "      <th>iv_val</th>\n",
       "      <th>iv_tst</th>\n",
       "    </tr>\n",
       "    <tr>\n",
       "      <th>Variable</th>\n",
       "      <th></th>\n",
       "      <th></th>\n",
       "      <th></th>\n",
       "      <th></th>\n",
       "      <th></th>\n",
       "      <th></th>\n",
       "      <th></th>\n",
       "      <th></th>\n",
       "      <th></th>\n",
       "      <th></th>\n",
       "      <th></th>\n",
       "      <th></th>\n",
       "      <th></th>\n",
       "      <th></th>\n",
       "      <th></th>\n",
       "      <th></th>\n",
       "      <th></th>\n",
       "      <th></th>\n",
       "      <th></th>\n",
       "      <th></th>\n",
       "      <th></th>\n",
       "    </tr>\n",
       "  </thead>\n",
       "  <tbody>\n",
       "    <tr>\n",
       "      <th>A5RCLSDT011100</th>\n",
       "      <td>1488</td>\n",
       "      <td>총대출공여</td>\n",
       "      <td>웰컴항목</td>\n",
       "      <td>웰컴정보</td>\n",
       "      <td>6.0</td>\n",
       "      <td>72396</td>\n",
       "      <td>0</td>\n",
       "      <td>0</td>\n",
       "      <td>0</td>\n",
       "      <td>6</td>\n",
       "      <td>...</td>\n",
       "      <td>활용 가능</td>\n",
       "      <td>0.130470</td>\n",
       "      <td>0.060774</td>\n",
       "      <td>0.054224</td>\n",
       "      <td>0.130470</td>\n",
       "      <td>0.060774</td>\n",
       "      <td>0.054224</td>\n",
       "      <td>0.000807</td>\n",
       "      <td>0.000187</td>\n",
       "      <td>0.000124</td>\n",
       "    </tr>\n",
       "    <tr>\n",
       "      <th>A5RCLSDT011300</th>\n",
       "      <td>1514</td>\n",
       "      <td>제2금융기업총대출공여</td>\n",
       "      <td>웰컴항목</td>\n",
       "      <td>웰컴정보</td>\n",
       "      <td>6.0</td>\n",
       "      <td>72396</td>\n",
       "      <td>0</td>\n",
       "      <td>0</td>\n",
       "      <td>0</td>\n",
       "      <td>6</td>\n",
       "      <td>...</td>\n",
       "      <td>활용 가능</td>\n",
       "      <td>0.626956</td>\n",
       "      <td>0.620664</td>\n",
       "      <td>0.637328</td>\n",
       "      <td>0.626956</td>\n",
       "      <td>0.620664</td>\n",
       "      <td>0.637328</td>\n",
       "      <td>0.002012</td>\n",
       "      <td>0.001949</td>\n",
       "      <td>0.002173</td>\n",
       "    </tr>\n",
       "  </tbody>\n",
       "</table>\n",
       "<p>2 rows × 29 columns</p>\n",
       "</div>"
      ],
      "text/plain": [
       "                  NO  aggvar_name group_code1 group_code2  group_2   총 건수  \\\n",
       "Variable                                                                    \n",
       "A5RCLSDT011100  1488        총대출공여        웰컴항목        웰컴정보      6.0  72396   \n",
       "A5RCLSDT011300  1514  제2금융기업총대출공여        웰컴항목        웰컴정보      6.0  72396   \n",
       "\n",
       "                MISSING  결과값 = 0  MISSING(결과값 = 0 포함)  n_unique  ...  \\\n",
       "Variable                                                         ...   \n",
       "A5RCLSDT011100        0        0                    0         6  ...   \n",
       "A5RCLSDT011300        0        0                    0         6  ...   \n",
       "\n",
       "                welc_can_use    ks_trn    ks_val    ks_tst    ar_trn  \\\n",
       "Variable                                                               \n",
       "A5RCLSDT011100         활용 가능  0.130470  0.060774  0.054224  0.130470   \n",
       "A5RCLSDT011300         활용 가능  0.626956  0.620664  0.637328  0.626956   \n",
       "\n",
       "                  ar_val    ar_tst    iv_trn    iv_val    iv_tst  \n",
       "Variable                                                          \n",
       "A5RCLSDT011100  0.060774  0.054224  0.000807  0.000187  0.000124  \n",
       "A5RCLSDT011300  0.620664  0.637328  0.002012  0.001949  0.002173  \n",
       "\n",
       "[2 rows x 29 columns]"
      ]
     },
     "execution_count": 132,
     "metadata": {},
     "output_type": "execute_result"
    }
   ],
   "source": [
    "performance_table.head(2)"
   ]
  },
  {
   "cell_type": "markdown",
   "metadata": {},
   "source": [
    "## 후보변수 선정"
   ]
  },
  {
   "cell_type": "markdown",
   "metadata": {},
   "source": [
    "#### 연령/성별 변수 제외"
   ]
  },
  {
   "cell_type": "code",
   "execution_count": 133,
   "metadata": {},
   "outputs": [],
   "source": [
    "age_cols = ['AS0000136', 'AS0000137', 'AS0000140',]"
   ]
  },
  {
   "cell_type": "code",
   "execution_count": 134,
   "metadata": {},
   "outputs": [],
   "source": [
    "trn_binned_df.drop(age_cols, axis = 1, inplace = True)\n",
    "val_binned_df.drop(age_cols, axis = 1, inplace = True)\n",
    "tst_binned_df.drop(age_cols, axis = 1, inplace = True)\n",
    "model_valid_binned_df.drop(age_cols, axis = 1, inplace = True)"
   ]
  },
  {
   "cell_type": "code",
   "execution_count": 135,
   "metadata": {},
   "outputs": [
    {
     "data": {
      "text/plain": [
       "(73533, 1190)"
      ]
     },
     "execution_count": 135,
     "metadata": {},
     "output_type": "execute_result"
    }
   ],
   "source": [
    "trn_binned_df.shape"
   ]
  },
  {
   "cell_type": "code",
   "execution_count": 136,
   "metadata": {},
   "outputs": [],
   "source": [
    "performance_table.drop(age_cols, axis = 0, inplace = True)"
   ]
  },
  {
   "cell_type": "code",
   "execution_count": 137,
   "metadata": {},
   "outputs": [
    {
     "data": {
      "text/plain": [
       "(1189, 29)"
      ]
     },
     "execution_count": 137,
     "metadata": {},
     "output_type": "execute_result"
    }
   ],
   "source": [
    "performance_table.shape"
   ]
  },
  {
   "cell_type": "code",
   "execution_count": 138,
   "metadata": {},
   "outputs": [],
   "source": [
    "use_var = trn_binned_df.columns.tolist()\n",
    "use_var.remove('BAD')"
   ]
  },
  {
   "cell_type": "code",
   "execution_count": 139,
   "metadata": {},
   "outputs": [
    {
     "data": {
      "text/plain": [
       "34"
      ]
     },
     "execution_count": 139,
     "metadata": {},
     "output_type": "execute_result"
    }
   ],
   "source": [
    "cate_cols = performance_table[performance_table['cate_var'] == 1].index.tolist()\n",
    "len(cate_cols)"
   ]
  },
  {
   "cell_type": "code",
   "execution_count": 140,
   "metadata": {},
   "outputs": [
    {
     "data": {
      "text/html": [
       "<div>\n",
       "<style scoped>\n",
       "    .dataframe tbody tr th:only-of-type {\n",
       "        vertical-align: middle;\n",
       "    }\n",
       "\n",
       "    .dataframe tbody tr th {\n",
       "        vertical-align: top;\n",
       "    }\n",
       "\n",
       "    .dataframe thead th {\n",
       "        text-align: right;\n",
       "    }\n",
       "</style>\n",
       "<table border=\"1\" class=\"dataframe\">\n",
       "  <thead>\n",
       "    <tr style=\"text-align: right;\">\n",
       "      <th></th>\n",
       "      <th>BAD</th>\n",
       "      <th>AS0000138</th>\n",
       "      <th>BS0000114</th>\n",
       "      <th>CA0000801</th>\n",
       "      <th>EW0002801</th>\n",
       "      <th>PS0000388</th>\n",
       "      <th>PS0000392</th>\n",
       "      <th>BE0000801</th>\n",
       "      <th>BE0000802</th>\n",
       "      <th>BS0000113</th>\n",
       "      <th>...</th>\n",
       "      <th>P2O000500_1_s6</th>\n",
       "      <th>LA0000001_1_s9</th>\n",
       "      <th>LA0000020_1_s9</th>\n",
       "      <th>LA0000227_1_s9</th>\n",
       "      <th>P2E000500_1_s9</th>\n",
       "      <th>LA0000001_1_s12</th>\n",
       "      <th>LA0000020_1_s12</th>\n",
       "      <th>LA0000204_1_s12</th>\n",
       "      <th>LA0000227_1_s12</th>\n",
       "      <th>P2O000500_1_s12</th>\n",
       "    </tr>\n",
       "    <tr>\n",
       "      <th>no</th>\n",
       "      <th></th>\n",
       "      <th></th>\n",
       "      <th></th>\n",
       "      <th></th>\n",
       "      <th></th>\n",
       "      <th></th>\n",
       "      <th></th>\n",
       "      <th></th>\n",
       "      <th></th>\n",
       "      <th></th>\n",
       "      <th></th>\n",
       "      <th></th>\n",
       "      <th></th>\n",
       "      <th></th>\n",
       "      <th></th>\n",
       "      <th></th>\n",
       "      <th></th>\n",
       "      <th></th>\n",
       "      <th></th>\n",
       "      <th></th>\n",
       "      <th></th>\n",
       "    </tr>\n",
       "  </thead>\n",
       "  <tbody>\n",
       "    <tr>\n",
       "      <th>1</th>\n",
       "      <td>1</td>\n",
       "      <td>1</td>\n",
       "      <td>0</td>\n",
       "      <td>1</td>\n",
       "      <td>1</td>\n",
       "      <td>1</td>\n",
       "      <td>0</td>\n",
       "      <td>0</td>\n",
       "      <td>0</td>\n",
       "      <td>0</td>\n",
       "      <td>...</td>\n",
       "      <td>(-inf, 0.0]</td>\n",
       "      <td>(0.15, 0.33]</td>\n",
       "      <td>(0.15, 0.24]</td>\n",
       "      <td>(480.73, 1390.351]</td>\n",
       "      <td>(-inf, 0.0]</td>\n",
       "      <td>(0.12, 0.2]</td>\n",
       "      <td>(0.12, 0.21]</td>\n",
       "      <td>(746.292, 1491.66]</td>\n",
       "      <td>(738.152, 1154.473]</td>\n",
       "      <td>(-inf, 0.0]</td>\n",
       "    </tr>\n",
       "  </tbody>\n",
       "</table>\n",
       "<p>1 rows × 1190 columns</p>\n",
       "</div>"
      ],
      "text/plain": [
       "    BAD AS0000138 BS0000114 CA0000801 EW0002801 PS0000388 PS0000392 BE0000801  \\\n",
       "no                                                                              \n",
       "1     1         1         0         1         1         1         0         0   \n",
       "\n",
       "   BE0000802 BS0000113  ... P2O000500_1_s6 LA0000001_1_s9 LA0000020_1_s9  \\\n",
       "no                      ...                                                \n",
       "1          0         0  ...    (-inf, 0.0]   (0.15, 0.33]   (0.15, 0.24]   \n",
       "\n",
       "        LA0000227_1_s9 P2E000500_1_s9 LA0000001_1_s12 LA0000020_1_s12  \\\n",
       "no                                                                      \n",
       "1   (480.73, 1390.351]    (-inf, 0.0]     (0.12, 0.2]    (0.12, 0.21]   \n",
       "\n",
       "       LA0000204_1_s12      LA0000227_1_s12 P2O000500_1_s12  \n",
       "no                                                           \n",
       "1   (746.292, 1491.66]  (738.152, 1154.473]     (-inf, 0.0]  \n",
       "\n",
       "[1 rows x 1190 columns]"
      ]
     },
     "execution_count": 140,
     "metadata": {},
     "output_type": "execute_result"
    }
   ],
   "source": [
    "trn_binned_df.head(1)"
   ]
  },
  {
   "cell_type": "markdown",
   "metadata": {},
   "source": [
    "#### 필터링 항목 제외"
   ]
  },
  {
   "cell_type": "code",
   "execution_count": 141,
   "metadata": {},
   "outputs": [],
   "source": [
    "filter_path = r'C:\\Users\\w10\\Desktop\\웰컴\\AS\\8주차(데이터추가추출부터)\\필터링항목'"
   ]
  },
  {
   "cell_type": "code",
   "execution_count": 142,
   "metadata": {},
   "outputs": [],
   "source": [
    "near_filter = pd.read_excel(os.path.join(filter_path, 'AS필터링항목_최종_레이아웃_200206_v1.0.xlsx'),\n",
    "                           sheet_name = 'Near-Prime 필터링 필요항목 레이아웃')"
   ]
  },
  {
   "cell_type": "code",
   "execution_count": 143,
   "metadata": {},
   "outputs": [],
   "source": [
    "sub_filter = pd.read_excel(os.path.join(filter_path, 'AS필터링항목_최종_레이아웃_200206_v1.0.xlsx'),\n",
    "                           sheet_name = 'Sub-Prime 필터링 필요항목 레이아웃')"
   ]
  },
  {
   "cell_type": "code",
   "execution_count": 144,
   "metadata": {},
   "outputs": [],
   "source": [
    "near_var = near_filter['항목코드'].tolist()\n",
    "sub_var = sub_filter['항목코드'].tolist()\n",
    "total_var = list(set(near_var).union(sub_var))"
   ]
  },
  {
   "cell_type": "code",
   "execution_count": 145,
   "metadata": {},
   "outputs": [
    {
     "name": "stdout",
     "output_type": "stream",
     "text": [
      "82\n",
      "86\n"
     ]
    }
   ],
   "source": [
    "print(len(near_var))\n",
    "print(len(sub_var))"
   ]
  },
  {
   "cell_type": "code",
   "execution_count": 146,
   "metadata": {},
   "outputs": [
    {
     "data": {
      "text/plain": [
       "97"
      ]
     },
     "execution_count": 146,
     "metadata": {},
     "output_type": "execute_result"
    }
   ],
   "source": [
    "len(total_var)"
   ]
  },
  {
   "cell_type": "code",
   "execution_count": 147,
   "metadata": {},
   "outputs": [
    {
     "name": "stdout",
     "output_type": "stream",
     "text": [
      "1190\n",
      "1130\n"
     ]
    }
   ],
   "source": [
    "df_cols = trn_binned_df.columns.tolist()\n",
    "need_var = list(set(df_cols).difference(total_var))\n",
    "print(len(df_cols))\n",
    "print(len(need_var))"
   ]
  },
  {
   "cell_type": "code",
   "execution_count": 148,
   "metadata": {},
   "outputs": [],
   "source": [
    "trn_binned_df = trn_binned_df[need_var]\n",
    "val_binned_df = val_binned_df[need_var]\n",
    "tst_binned_df = tst_binned_df[need_var]\n",
    "model_valid_binned_df = model_valid_binned_df[need_var]"
   ]
  },
  {
   "cell_type": "code",
   "execution_count": 149,
   "metadata": {},
   "outputs": [
    {
     "data": {
      "text/plain": [
       "(73533, 1130)"
      ]
     },
     "execution_count": 149,
     "metadata": {},
     "output_type": "execute_result"
    }
   ],
   "source": [
    "trn_binned_df.shape"
   ]
  },
  {
   "cell_type": "code",
   "execution_count": 150,
   "metadata": {},
   "outputs": [],
   "source": [
    "performance_table = performance_table[performance_table.index.isin(need_var)]"
   ]
  },
  {
   "cell_type": "code",
   "execution_count": 151,
   "metadata": {},
   "outputs": [
    {
     "data": {
      "text/plain": [
       "(1129, 29)"
      ]
     },
     "execution_count": 151,
     "metadata": {},
     "output_type": "execute_result"
    }
   ],
   "source": [
    "performance_table.shape"
   ]
  },
  {
   "cell_type": "code",
   "execution_count": 152,
   "metadata": {},
   "outputs": [],
   "source": [
    "use_var = trn_binned_df.columns.tolist()\n",
    "use_var.remove('BAD')"
   ]
  },
  {
   "cell_type": "code",
   "execution_count": 153,
   "metadata": {},
   "outputs": [
    {
     "data": {
      "text/plain": [
       "32"
      ]
     },
     "execution_count": 153,
     "metadata": {},
     "output_type": "execute_result"
    }
   ],
   "source": [
    "cate_cols = performance_table[performance_table['cate_var'] == 1].index.tolist()\n",
    "len(cate_cols)"
   ]
  },
  {
   "cell_type": "code",
   "execution_count": 154,
   "metadata": {
    "scrolled": true
   },
   "outputs": [
    {
     "data": {
      "text/plain": [
       "\u001b[1;31mSignature:\u001b[0m\n",
       "\u001b[0mselect_candidate_variable\u001b[0m\u001b[1;33m(\u001b[0m\u001b[1;33m\n",
       "\u001b[0m    \u001b[0mbinned_train_df\u001b[0m\u001b[1;33m,\u001b[0m\u001b[1;33m\n",
       "\u001b[0m    \u001b[0mbinned_valid_df\u001b[0m\u001b[1;33m,\u001b[0m\u001b[1;33m\n",
       "\u001b[0m    \u001b[0mbinned_test_df\u001b[0m\u001b[1;33m,\u001b[0m\u001b[1;33m\n",
       "\u001b[0m    \u001b[0mbinned_model_valid_df\u001b[0m\u001b[1;33m,\u001b[0m\u001b[1;33m\n",
       "\u001b[0m    \u001b[0mperformance_table\u001b[0m\u001b[1;33m,\u001b[0m\u001b[1;33m\n",
       "\u001b[0m    \u001b[0muse_columns_list\u001b[0m\u001b[1;33m,\u001b[0m\u001b[1;33m\n",
       "\u001b[0m    \u001b[0mcategory_columns_list\u001b[0m\u001b[1;33m,\u001b[0m\u001b[1;33m\n",
       "\u001b[0m    \u001b[0mother_columns_list\u001b[0m\u001b[1;33m,\u001b[0m\u001b[1;33m\n",
       "\u001b[0m    \u001b[0mother_psi_value\u001b[0m\u001b[1;33m,\u001b[0m\u001b[1;33m\n",
       "\u001b[0m    \u001b[0mperformance_item_list\u001b[0m\u001b[1;33m,\u001b[0m\u001b[1;33m\n",
       "\u001b[0m    \u001b[0mgroup_divide_col_name\u001b[0m\u001b[1;33m,\u001b[0m\u001b[1;33m\n",
       "\u001b[0m    \u001b[0mbase_psi_value\u001b[0m\u001b[1;33m,\u001b[0m\u001b[1;33m\n",
       "\u001b[0m    \u001b[0mtop_value\u001b[0m\u001b[1;33m,\u001b[0m\u001b[1;33m\n",
       "\u001b[0m    \u001b[0mstable_value\u001b[0m\u001b[1;33m,\u001b[0m\u001b[1;33m\n",
       "\u001b[0m    \u001b[0mcorr_value\u001b[0m\u001b[1;33m,\u001b[0m\u001b[1;33m\n",
       "\u001b[0m\u001b[1;33m)\u001b[0m\u001b[1;33m\u001b[0m\u001b[1;33m\u001b[0m\u001b[0m\n",
       "\u001b[1;31mDocstring:\u001b[0m\n",
       ":explain: 단변량 분석을 통한 후보변수 선정 결과 및 상관분석 결과를 반환합니다.\n",
       "\n",
       ":param dataframe binned_train_df: binning 된 train 데이터\n",
       ":param dataframe binned_valid_df: binning 된 valid 데이터\n",
       ":param dataframe binned_test_df: binning 된 test 데이터\n",
       ":param dataframe binned_model_valid_df: binning 된 model valid 데이터\n",
       ":param dataframe performance_table: performance table\n",
       ":param list use_columns_list: 사용 변수 리스트\n",
       ":param list category_columns_list: categorical 변수 리스트\n",
       ":param list other_columns_list: PSI 기준값을 다르게 적용할 변수 리스트\n",
       ":param float other_psi_value: 특정 변수에 적용할 PSI 기준값\n",
       ":param list performance_item_list: iv, ks, ar 리스트 (주로 iv만 사용)\n",
       ":param string group_divide_col_name: 정보그룹분류 항목명\n",
       ":param float base_psi_value: PSI 기준값\n",
       ":param float top_value: 변별력 기준값\n",
       ":param float stable_value: 안정성 기준값\n",
       ":param float corr_value: 상관분석 기준값\n",
       ":return: 후보변수 선정 dataframe, 상관분석 dictionary, 상관성 높은 변수 제거한 상관분석 dictionary의 tuple\n",
       "\u001b[1;31mFile:\u001b[0m      c:\\users\\w10\\desktop\\단변량모듈\\kh\\univariate\\univariate_analysis_other_psi.py\n",
       "\u001b[1;31mType:\u001b[0m      function\n"
      ]
     },
     "metadata": {},
     "output_type": "display_data"
    }
   ],
   "source": [
    "?select_candidate_variable"
   ]
  },
  {
   "cell_type": "code",
   "execution_count": 155,
   "metadata": {},
   "outputs": [
    {
     "data": {
      "text/plain": [
       "172"
      ]
     },
     "execution_count": 155,
     "metadata": {},
     "output_type": "execute_result"
    }
   ],
   "source": [
    "other_columns_list = performance_table[performance_table['group_2'] == 3].index.tolist()\n",
    "len(other_columns_list)"
   ]
  },
  {
   "cell_type": "code",
   "execution_count": 158,
   "metadata": {},
   "outputs": [
    {
     "name": "stdout",
     "output_type": "stream",
     "text": [
      "수행시간 : 1.0(분) 46.493306000000004(초)\n"
     ]
    }
   ],
   "source": [
    "select_start = datetime.now()\n",
    "final_result = select_candidate_variable(\n",
    "                                        binned_train_df = trn_binned_df,\n",
    "                                        binned_valid_df = val_binned_df,\n",
    "                                        binned_test_df = tst_binned_df,\n",
    "                                        binned_model_valid_df = model_valid_binned_df,\n",
    "                                        performance_table = performance_table,\n",
    "                                        use_columns_list = use_var,\n",
    "                                        category_columns_list = cate_cols,\n",
    "                                        other_columns_list = other_columns_list,\n",
    "                                        other_psi_value=0.05,\n",
    "                                        performance_item_list = ['iv'],\n",
    "                                        group_divide_col_name = 'group_2',\n",
    "                                        base_psi_value = 0.1,\n",
    "                                        top_value = 0.1,\n",
    "                                        stable_value = 0.3,\n",
    "                                        corr_value = 0.8\n",
    "                                                   )\n",
    "\n",
    "select_end = datetime.now()\n",
    "select_time = (select_end-select_start).total_seconds()\n",
    "print('수행시간 : {}(분) {}(초)'.format(select_time//60, select_time%60))"
   ]
  },
  {
   "cell_type": "code",
   "execution_count": 159,
   "metadata": {},
   "outputs": [],
   "source": [
    "final_performance_table = final_result[0]\n",
    "corr_result_dict = final_result[1]\n",
    "remove_corr_result_dict = final_result[2]"
   ]
  },
  {
   "cell_type": "code",
   "execution_count": 160,
   "metadata": {},
   "outputs": [],
   "source": [
    "pd.set_option('display.max_columns', 100)"
   ]
  },
  {
   "cell_type": "code",
   "execution_count": 161,
   "metadata": {},
   "outputs": [
    {
     "data": {
      "text/html": [
       "<div>\n",
       "<style scoped>\n",
       "    .dataframe tbody tr th:only-of-type {\n",
       "        vertical-align: middle;\n",
       "    }\n",
       "\n",
       "    .dataframe tbody tr th {\n",
       "        vertical-align: top;\n",
       "    }\n",
       "\n",
       "    .dataframe thead th {\n",
       "        text-align: right;\n",
       "    }\n",
       "</style>\n",
       "<table border=\"1\" class=\"dataframe\">\n",
       "  <thead>\n",
       "    <tr style=\"text-align: right;\">\n",
       "      <th></th>\n",
       "      <th>NO</th>\n",
       "      <th>aggvar_name</th>\n",
       "      <th>group_code1</th>\n",
       "      <th>group_code2</th>\n",
       "      <th>group_2</th>\n",
       "      <th>총 건수</th>\n",
       "      <th>MISSING</th>\n",
       "      <th>결과값 = 0</th>\n",
       "      <th>MISSING(결과값 = 0 포함)</th>\n",
       "      <th>n_unique</th>\n",
       "      <th>mean</th>\n",
       "      <th>min_value</th>\n",
       "      <th>max_value</th>\n",
       "      <th>median</th>\n",
       "      <th>is_na</th>\n",
       "      <th>min_check</th>\n",
       "      <th>max_check</th>\n",
       "      <th>date_var</th>\n",
       "      <th>cate_var</th>\n",
       "      <th>welc_can_use</th>\n",
       "      <th>ks_trn</th>\n",
       "      <th>ks_val</th>\n",
       "      <th>ks_tst</th>\n",
       "      <th>ar_trn</th>\n",
       "      <th>ar_val</th>\n",
       "      <th>ar_tst</th>\n",
       "      <th>iv_trn</th>\n",
       "      <th>iv_val</th>\n",
       "      <th>iv_tst</th>\n",
       "      <th>val_psi</th>\n",
       "      <th>val_psi_안정성</th>\n",
       "      <th>tst_psi</th>\n",
       "      <th>tst_psi_안정성</th>\n",
       "      <th>val_2019_psi</th>\n",
       "      <th>val_2019_psi_안정성</th>\n",
       "      <th>PSI_선정여부</th>\n",
       "      <th>iv_top_YN</th>\n",
       "      <th>변별력</th>\n",
       "      <th>iv_stable_YN</th>\n",
       "      <th>안정성</th>\n",
       "      <th>상관분석</th>\n",
       "    </tr>\n",
       "    <tr>\n",
       "      <th>Variable</th>\n",
       "      <th></th>\n",
       "      <th></th>\n",
       "      <th></th>\n",
       "      <th></th>\n",
       "      <th></th>\n",
       "      <th></th>\n",
       "      <th></th>\n",
       "      <th></th>\n",
       "      <th></th>\n",
       "      <th></th>\n",
       "      <th></th>\n",
       "      <th></th>\n",
       "      <th></th>\n",
       "      <th></th>\n",
       "      <th></th>\n",
       "      <th></th>\n",
       "      <th></th>\n",
       "      <th></th>\n",
       "      <th></th>\n",
       "      <th></th>\n",
       "      <th></th>\n",
       "      <th></th>\n",
       "      <th></th>\n",
       "      <th></th>\n",
       "      <th></th>\n",
       "      <th></th>\n",
       "      <th></th>\n",
       "      <th></th>\n",
       "      <th></th>\n",
       "      <th></th>\n",
       "      <th></th>\n",
       "      <th></th>\n",
       "      <th></th>\n",
       "      <th></th>\n",
       "      <th></th>\n",
       "      <th></th>\n",
       "      <th></th>\n",
       "      <th></th>\n",
       "      <th></th>\n",
       "      <th></th>\n",
       "      <th></th>\n",
       "    </tr>\n",
       "  </thead>\n",
       "  <tbody>\n",
       "    <tr>\n",
       "      <th>A5RCLSDT011100</th>\n",
       "      <td>1488</td>\n",
       "      <td>총대출공여</td>\n",
       "      <td>웰컴항목</td>\n",
       "      <td>웰컴정보</td>\n",
       "      <td>6.0</td>\n",
       "      <td>72396</td>\n",
       "      <td>0</td>\n",
       "      <td>0</td>\n",
       "      <td>0</td>\n",
       "      <td>6</td>\n",
       "      <td>1.041093</td>\n",
       "      <td>1.0</td>\n",
       "      <td>6.0</td>\n",
       "      <td>1.0</td>\n",
       "      <td>0</td>\n",
       "      <td>0</td>\n",
       "      <td>0</td>\n",
       "      <td>0</td>\n",
       "      <td>0</td>\n",
       "      <td>활용 가능</td>\n",
       "      <td>0.130470</td>\n",
       "      <td>0.060774</td>\n",
       "      <td>0.054224</td>\n",
       "      <td>0.130470</td>\n",
       "      <td>0.060774</td>\n",
       "      <td>0.054224</td>\n",
       "      <td>0.000807</td>\n",
       "      <td>0.000187</td>\n",
       "      <td>0.000124</td>\n",
       "      <td>0.000006</td>\n",
       "      <td>Y</td>\n",
       "      <td>0.000068</td>\n",
       "      <td>Y</td>\n",
       "      <td>0.003037</td>\n",
       "      <td>Y</td>\n",
       "      <td>Y</td>\n",
       "      <td>N</td>\n",
       "      <td>N</td>\n",
       "      <td>N</td>\n",
       "      <td>N</td>\n",
       "      <td>N</td>\n",
       "    </tr>\n",
       "    <tr>\n",
       "      <th>A5RCLSDT011300</th>\n",
       "      <td>1514</td>\n",
       "      <td>제2금융기업총대출공여</td>\n",
       "      <td>웰컴항목</td>\n",
       "      <td>웰컴정보</td>\n",
       "      <td>6.0</td>\n",
       "      <td>72396</td>\n",
       "      <td>0</td>\n",
       "      <td>0</td>\n",
       "      <td>0</td>\n",
       "      <td>6</td>\n",
       "      <td>1.050569</td>\n",
       "      <td>1.0</td>\n",
       "      <td>6.0</td>\n",
       "      <td>1.0</td>\n",
       "      <td>0</td>\n",
       "      <td>0</td>\n",
       "      <td>0</td>\n",
       "      <td>0</td>\n",
       "      <td>0</td>\n",
       "      <td>활용 가능</td>\n",
       "      <td>0.626956</td>\n",
       "      <td>0.620664</td>\n",
       "      <td>0.637328</td>\n",
       "      <td>0.626956</td>\n",
       "      <td>0.620664</td>\n",
       "      <td>0.637328</td>\n",
       "      <td>0.002012</td>\n",
       "      <td>0.001949</td>\n",
       "      <td>0.002173</td>\n",
       "      <td>0.000003</td>\n",
       "      <td>Y</td>\n",
       "      <td>0.000041</td>\n",
       "      <td>Y</td>\n",
       "      <td>0.000177</td>\n",
       "      <td>Y</td>\n",
       "      <td>Y</td>\n",
       "      <td>N</td>\n",
       "      <td>N</td>\n",
       "      <td>N</td>\n",
       "      <td>N</td>\n",
       "      <td>N</td>\n",
       "    </tr>\n",
       "  </tbody>\n",
       "</table>\n",
       "</div>"
      ],
      "text/plain": [
       "                  NO  aggvar_name group_code1 group_code2  group_2   총 건수  \\\n",
       "Variable                                                                    \n",
       "A5RCLSDT011100  1488        총대출공여        웰컴항목        웰컴정보      6.0  72396   \n",
       "A5RCLSDT011300  1514  제2금융기업총대출공여        웰컴항목        웰컴정보      6.0  72396   \n",
       "\n",
       "                MISSING  결과값 = 0  MISSING(결과값 = 0 포함)  n_unique      mean  \\\n",
       "Variable                                                                    \n",
       "A5RCLSDT011100        0        0                    0         6  1.041093   \n",
       "A5RCLSDT011300        0        0                    0         6  1.050569   \n",
       "\n",
       "                min_value  max_value  median  is_na  min_check  max_check  \\\n",
       "Variable                                                                    \n",
       "A5RCLSDT011100        1.0        6.0     1.0      0          0          0   \n",
       "A5RCLSDT011300        1.0        6.0     1.0      0          0          0   \n",
       "\n",
       "                date_var  cate_var welc_can_use    ks_trn    ks_val    ks_tst  \\\n",
       "Variable                                                                        \n",
       "A5RCLSDT011100         0         0        활용 가능  0.130470  0.060774  0.054224   \n",
       "A5RCLSDT011300         0         0        활용 가능  0.626956  0.620664  0.637328   \n",
       "\n",
       "                  ar_trn    ar_val    ar_tst    iv_trn    iv_val    iv_tst  \\\n",
       "Variable                                                                     \n",
       "A5RCLSDT011100  0.130470  0.060774  0.054224  0.000807  0.000187  0.000124   \n",
       "A5RCLSDT011300  0.626956  0.620664  0.637328  0.002012  0.001949  0.002173   \n",
       "\n",
       "                 val_psi val_psi_안정성   tst_psi tst_psi_안정성  val_2019_psi  \\\n",
       "Variable                                                                   \n",
       "A5RCLSDT011100  0.000006           Y  0.000068           Y      0.003037   \n",
       "A5RCLSDT011300  0.000003           Y  0.000041           Y      0.000177   \n",
       "\n",
       "               val_2019_psi_안정성 PSI_선정여부 iv_top_YN 변별력 iv_stable_YN 안정성 상관분석  \n",
       "Variable                                                                      \n",
       "A5RCLSDT011100                Y        Y         N   N            N   N    N  \n",
       "A5RCLSDT011300                Y        Y         N   N            N   N    N  "
      ]
     },
     "execution_count": 161,
     "metadata": {},
     "output_type": "execute_result"
    }
   ],
   "source": [
    "final_performance_table.head(2)"
   ]
  },
  {
   "cell_type": "code",
   "execution_count": 162,
   "metadata": {},
   "outputs": [
    {
     "data": {
      "text/html": [
       "<div>\n",
       "<style scoped>\n",
       "    .dataframe tbody tr th:only-of-type {\n",
       "        vertical-align: middle;\n",
       "    }\n",
       "\n",
       "    .dataframe tbody tr th {\n",
       "        vertical-align: top;\n",
       "    }\n",
       "\n",
       "    .dataframe thead th {\n",
       "        text-align: right;\n",
       "    }\n",
       "</style>\n",
       "<table border=\"1\" class=\"dataframe\">\n",
       "  <thead>\n",
       "    <tr style=\"text-align: right;\">\n",
       "      <th>Variable</th>\n",
       "      <th>LA0000604</th>\n",
       "      <th>LU0000902_1</th>\n",
       "      <th>LC0000609</th>\n",
       "      <th>LA0000222_s12</th>\n",
       "      <th>LC0000608</th>\n",
       "      <th>LA0000203_s9</th>\n",
       "      <th>LS0000607</th>\n",
       "      <th>LC0000901</th>\n",
       "      <th>LA0000204_s12</th>\n",
       "      <th>LRZ00124G</th>\n",
       "      <th>LA0000204_s6</th>\n",
       "      <th>LA0000020_s9</th>\n",
       "      <th>LA1200206</th>\n",
       "      <th>LA0000227_s9</th>\n",
       "      <th>LA0000204_s3</th>\n",
       "      <th>LA0000001_s12</th>\n",
       "      <th>LS0000086</th>\n",
       "      <th>LH000000E</th>\n",
       "      <th>LA0000001_s6</th>\n",
       "      <th>LA1200203</th>\n",
       "      <th>LA0600203</th>\n",
       "    </tr>\n",
       "    <tr>\n",
       "      <th>Variable</th>\n",
       "      <th></th>\n",
       "      <th></th>\n",
       "      <th></th>\n",
       "      <th></th>\n",
       "      <th></th>\n",
       "      <th></th>\n",
       "      <th></th>\n",
       "      <th></th>\n",
       "      <th></th>\n",
       "      <th></th>\n",
       "      <th></th>\n",
       "      <th></th>\n",
       "      <th></th>\n",
       "      <th></th>\n",
       "      <th></th>\n",
       "      <th></th>\n",
       "      <th></th>\n",
       "      <th></th>\n",
       "      <th></th>\n",
       "      <th></th>\n",
       "      <th></th>\n",
       "    </tr>\n",
       "  </thead>\n",
       "  <tbody>\n",
       "    <tr>\n",
       "      <th>LA0000604</th>\n",
       "      <td>0.0</td>\n",
       "      <td>0.056064</td>\n",
       "      <td>0.739369</td>\n",
       "      <td>0.032497</td>\n",
       "      <td>0.585906</td>\n",
       "      <td>0.019521</td>\n",
       "      <td>0.438432</td>\n",
       "      <td>0.066343</td>\n",
       "      <td>0.026470</td>\n",
       "      <td>0.387726</td>\n",
       "      <td>0.075394</td>\n",
       "      <td>0.018329</td>\n",
       "      <td>0.011861</td>\n",
       "      <td>0.046902</td>\n",
       "      <td>0.147680</td>\n",
       "      <td>0.014805</td>\n",
       "      <td>0.151690</td>\n",
       "      <td>0.322621</td>\n",
       "      <td>0.025136</td>\n",
       "      <td>0.222834</td>\n",
       "      <td>0.135517</td>\n",
       "    </tr>\n",
       "    <tr>\n",
       "      <th>LU0000902_1</th>\n",
       "      <td>0.0</td>\n",
       "      <td>0.000000</td>\n",
       "      <td>0.063102</td>\n",
       "      <td>0.013178</td>\n",
       "      <td>0.077654</td>\n",
       "      <td>0.045503</td>\n",
       "      <td>0.142591</td>\n",
       "      <td>0.697678</td>\n",
       "      <td>0.052381</td>\n",
       "      <td>0.021710</td>\n",
       "      <td>0.048170</td>\n",
       "      <td>0.019637</td>\n",
       "      <td>0.001601</td>\n",
       "      <td>0.024695</td>\n",
       "      <td>0.026291</td>\n",
       "      <td>0.037282</td>\n",
       "      <td>0.084776</td>\n",
       "      <td>0.157103</td>\n",
       "      <td>0.040389</td>\n",
       "      <td>0.068493</td>\n",
       "      <td>0.072396</td>\n",
       "    </tr>\n",
       "  </tbody>\n",
       "</table>\n",
       "</div>"
      ],
      "text/plain": [
       "Variable     LA0000604  LU0000902_1  LC0000609  LA0000222_s12  LC0000608  \\\n",
       "Variable                                                                   \n",
       "LA0000604          0.0     0.056064   0.739369       0.032497   0.585906   \n",
       "LU0000902_1        0.0     0.000000   0.063102       0.013178   0.077654   \n",
       "\n",
       "Variable     LA0000203_s9  LS0000607  LC0000901  LA0000204_s12  LRZ00124G  \\\n",
       "Variable                                                                    \n",
       "LA0000604        0.019521   0.438432   0.066343       0.026470   0.387726   \n",
       "LU0000902_1      0.045503   0.142591   0.697678       0.052381   0.021710   \n",
       "\n",
       "Variable     LA0000204_s6  LA0000020_s9  LA1200206  LA0000227_s9  \\\n",
       "Variable                                                           \n",
       "LA0000604        0.075394      0.018329   0.011861      0.046902   \n",
       "LU0000902_1      0.048170      0.019637   0.001601      0.024695   \n",
       "\n",
       "Variable     LA0000204_s3  LA0000001_s12  LS0000086  LH000000E  LA0000001_s6  \\\n",
       "Variable                                                                       \n",
       "LA0000604        0.147680       0.014805   0.151690   0.322621      0.025136   \n",
       "LU0000902_1      0.026291       0.037282   0.084776   0.157103      0.040389   \n",
       "\n",
       "Variable     LA1200203  LA0600203  \n",
       "Variable                           \n",
       "LA0000604     0.222834   0.135517  \n",
       "LU0000902_1   0.068493   0.072396  "
      ]
     },
     "execution_count": 162,
     "metadata": {},
     "output_type": "execute_result"
    }
   ],
   "source": [
    "remove_corr_result_dict['1.0'].head(2)"
   ]
  },
  {
   "cell_type": "code",
   "execution_count": 163,
   "metadata": {},
   "outputs": [],
   "source": [
    "end_time = datetime.now()\n",
    "total_execute_time = (end_time - start_time).total_seconds() "
   ]
  },
  {
   "cell_type": "code",
   "execution_count": 164,
   "metadata": {},
   "outputs": [
    {
     "name": "stdout",
     "output_type": "stream",
     "text": [
      "preprocessing execution time : 1분29초\n",
      "fine classing execution time : 1분51초\n",
      "coarse classing execution time : 1분43초\n",
      "calculate statistics execution time : 1분54초\n",
      "set base performance table execution time : 1분57초\n",
      "select candidate variable execution time : 1분46초\n",
      "==============================\n",
      "TOTAL EXECUTION TIME : 9분24초\n",
      "==============================\n"
     ]
    }
   ],
   "source": [
    "print('preprocessing execution time : {:.0f}분{:.0f}초'.format(preprocessing_time//60, preprocessing_time%60))\n",
    "print('fine classing execution time : {:.0f}분{:.0f}초'.format(fine_time//60, fine_time%60))\n",
    "print('coarse classing execution time : {:.0f}분{:.0f}초'.format(coarse_time//60, coarse_time%60))\n",
    "print('calculate statistics execution time : {:.0f}분{:.0f}초'.format(calc_time//60, calc_time%60))\n",
    "print('set base performance table execution time : {:.0f}분{:.0f}초'.format(perf_time//60, perf_time%60))\n",
    "print('select candidate variable execution time : {:.0f}분{:.0f}초'.format(select_time//60, select_time%60))\n",
    "print('=' * 30)\n",
    "print('TOTAL EXECUTION TIME : {:.0f}분{:.0f}초'.format(total_execute_time//60, total_execute_time%60))\n",
    "print('=' * 30)"
   ]
  },
  {
   "cell_type": "code",
   "execution_count": 165,
   "metadata": {},
   "outputs": [
    {
     "data": {
      "text/plain": [
       "(1129, 41)"
      ]
     },
     "execution_count": 165,
     "metadata": {},
     "output_type": "execute_result"
    }
   ],
   "source": [
    "final_performance_table.shape"
   ]
  },
  {
   "cell_type": "code",
   "execution_count": 171,
   "metadata": {},
   "outputs": [
    {
     "data": {
      "text/plain": [
       "(42, 41)"
      ]
     },
     "execution_count": 171,
     "metadata": {},
     "output_type": "execute_result"
    }
   ],
   "source": [
    "final_performance_table[final_performance_table['상관분석']=='Y'].shape"
   ]
  },
  {
   "cell_type": "code",
   "execution_count": 172,
   "metadata": {},
   "outputs": [],
   "source": [
    "save_path = r'C:\\Users\\w10\\Desktop\\단변량모듈\\KH\\result'"
   ]
  },
  {
   "cell_type": "code",
   "execution_count": 173,
   "metadata": {},
   "outputs": [],
   "source": [
    "final_performance_table.to_excel(os.path.join(save_path,'단변량모듈사용_단변량결과.xlsx'))"
   ]
  },
  {
   "cell_type": "code",
   "execution_count": null,
   "metadata": {},
   "outputs": [],
   "source": []
  },
  {
   "cell_type": "code",
   "execution_count": null,
   "metadata": {},
   "outputs": [],
   "source": []
  },
  {
   "cell_type": "code",
   "execution_count": null,
   "metadata": {},
   "outputs": [],
   "source": []
  }
 ],
 "metadata": {
  "kernelspec": {
   "display_name": "Python 3",
   "language": "python",
   "name": "python3"
  },
  "language_info": {
   "codemirror_mode": {
    "name": "ipython",
    "version": 3
   },
   "file_extension": ".py",
   "mimetype": "text/x-python",
   "name": "python",
   "nbconvert_exporter": "python",
   "pygments_lexer": "ipython3",
   "version": "3.7.4"
  }
 },
 "nbformat": 4,
 "nbformat_minor": 4
}
