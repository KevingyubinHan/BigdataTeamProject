{
 "cells": [
  {
   "cell_type": "code",
   "execution_count": 1,
   "metadata": {},
   "outputs": [],
   "source": [
    "import pandas as pd\n",
    "import numpy as np\n",
    "import os\n",
    "from datetime import datetime\n",
    "from scipy import stats\n",
    "import statsmodels as sm\n",
    "from statsmodels.distributions.empirical_distribution import ECDF\n",
    "from sklearn import metrics\n",
    "import sys\n",
    "from sklearn.preprocessing import StandardScaler\n",
    "import warnings\n",
    "warnings.filterwarnings('ignore')\n",
    "\n",
    "import tensorflow as tf"
   ]
  },
  {
   "cell_type": "code",
   "execution_count": 2,
   "metadata": {},
   "outputs": [],
   "source": [
    "pd.set_option('display.max_columns', 100)"
   ]
  },
  {
   "cell_type": "markdown",
   "metadata": {},
   "source": [
    "# load data"
   ]
  },
  {
   "cell_type": "markdown",
   "metadata": {},
   "source": [
    "## seg1"
   ]
  },
  {
   "cell_type": "code",
   "execution_count": 3,
   "metadata": {},
   "outputs": [],
   "source": [
    "data_rootpath = r'C:\\Users\\w10\\Desktop\\웰컴\\AS\\8주차(데이터추가추출부터)\\model_data\\seg1'"
   ]
  },
  {
   "cell_type": "code",
   "execution_count": 4,
   "metadata": {},
   "outputs": [
    {
     "data": {
      "text/plain": [
       "['model_validation_df.csv',\n",
       " 'test_df.csv',\n",
       " 'train_df.csv',\n",
       " 'valid_df.csv',\n",
       " '필터링후']"
      ]
     },
     "execution_count": 4,
     "metadata": {},
     "output_type": "execute_result"
    }
   ],
   "source": [
    "os.listdir(data_rootpath)"
   ]
  },
  {
   "cell_type": "code",
   "execution_count": 5,
   "metadata": {},
   "outputs": [],
   "source": [
    "train_df = pd.read_csv(os.path.join(data_rootpath, 'train_df.csv'))\n",
    "valid_df = pd.read_csv(os.path.join(data_rootpath, 'valid_df.csv'))\n",
    "test_df = pd.read_csv(os.path.join(data_rootpath, 'test_df.csv'))\n",
    "model_valid_df = pd.read_csv(os.path.join(data_rootpath, 'model_validation_df.csv'))"
   ]
  },
  {
   "cell_type": "code",
   "execution_count": 6,
   "metadata": {},
   "outputs": [
    {
     "name": "stdout",
     "output_type": "stream",
     "text": [
      "Train\n",
      "(73533, 45)\n",
      "\n",
      "Valid\n",
      "(24728, 45)\n",
      "\n",
      "Test\n",
      "(24547, 45)\n",
      "\n",
      "model validation\n",
      "(19936, 45)\n"
     ]
    }
   ],
   "source": [
    "print('Train')\n",
    "print(train_df.shape)\n",
    "print('\\nValid')\n",
    "print(valid_df.shape)\n",
    "print('\\nTest')\n",
    "print(test_df.shape)\n",
    "print('\\nmodel validation')\n",
    "print(model_valid_df.shape)"
   ]
  },
  {
   "cell_type": "code",
   "execution_count": 7,
   "metadata": {},
   "outputs": [
    {
     "data": {
      "text/html": [
       "<div>\n",
       "<style scoped>\n",
       "    .dataframe tbody tr th:only-of-type {\n",
       "        vertical-align: middle;\n",
       "    }\n",
       "\n",
       "    .dataframe tbody tr th {\n",
       "        vertical-align: top;\n",
       "    }\n",
       "\n",
       "    .dataframe thead th {\n",
       "        text-align: right;\n",
       "    }\n",
       "</style>\n",
       "<table border=\"1\" class=\"dataframe\">\n",
       "  <thead>\n",
       "    <tr style=\"text-align: right;\">\n",
       "      <th></th>\n",
       "      <th>no</th>\n",
       "      <th>BAD</th>\n",
       "      <th>A5WC0000000200</th>\n",
       "      <th>PE1000011</th>\n",
       "      <th>PE0000025</th>\n",
       "      <th>PS0001728</th>\n",
       "      <th>A5RCLSRL078700</th>\n",
       "      <th>PS0000188</th>\n",
       "      <th>A5RCLSRL091300</th>\n",
       "      <th>A5RCLSRL027400</th>\n",
       "      <th>A5RCLSRL027300</th>\n",
       "      <th>A5RCLSRL027500</th>\n",
       "      <th>IDT000004_1</th>\n",
       "      <th>IDT000003</th>\n",
       "      <th>CA0000601</th>\n",
       "      <th>C00000083</th>\n",
       "      <th>C00060606</th>\n",
       "      <th>LA0000604</th>\n",
       "      <th>LU0000902_1</th>\n",
       "      <th>CF1231601</th>\n",
       "      <th>LC0000609</th>\n",
       "      <th>LA0000222_s12</th>\n",
       "      <th>LC0000608</th>\n",
       "      <th>LA0000203_s9</th>\n",
       "      <th>LS0000607</th>\n",
       "      <th>LC0000901</th>\n",
       "      <th>EW0001601_1</th>\n",
       "      <th>LA0000204_s12</th>\n",
       "      <th>LRZ00124G</th>\n",
       "      <th>LA0000204_s6</th>\n",
       "      <th>LA0000020_s9</th>\n",
       "      <th>LA1200206</th>\n",
       "      <th>LA0000227_s9</th>\n",
       "      <th>LA0000204_s3</th>\n",
       "      <th>AE0000005_1</th>\n",
       "      <th>P11252001_1</th>\n",
       "      <th>LA0000001_s12</th>\n",
       "      <th>EH0001601_1</th>\n",
       "      <th>LS0000086</th>\n",
       "      <th>P2E000500_9_1</th>\n",
       "      <th>LH000000E</th>\n",
       "      <th>LA0000001_s6</th>\n",
       "      <th>LA1200203</th>\n",
       "      <th>LA0600203</th>\n",
       "      <th>EH1201002_1</th>\n",
       "    </tr>\n",
       "  </thead>\n",
       "  <tbody>\n",
       "    <tr>\n",
       "      <td>0</td>\n",
       "      <td>1</td>\n",
       "      <td>1</td>\n",
       "      <td>16000</td>\n",
       "      <td>0</td>\n",
       "      <td>0</td>\n",
       "      <td>0</td>\n",
       "      <td>0</td>\n",
       "      <td>289</td>\n",
       "      <td>11830</td>\n",
       "      <td>73.94</td>\n",
       "      <td>73.94</td>\n",
       "      <td>73.94</td>\n",
       "      <td>84</td>\n",
       "      <td>51</td>\n",
       "      <td>0</td>\n",
       "      <td>692</td>\n",
       "      <td>692</td>\n",
       "      <td>0</td>\n",
       "      <td>10000</td>\n",
       "      <td>0</td>\n",
       "      <td>0</td>\n",
       "      <td>0.00</td>\n",
       "      <td>0</td>\n",
       "      <td>0.00</td>\n",
       "      <td>0</td>\n",
       "      <td>7385</td>\n",
       "      <td>691</td>\n",
       "      <td>0.00</td>\n",
       "      <td>0</td>\n",
       "      <td>0.00</td>\n",
       "      <td>0.00</td>\n",
       "      <td>0</td>\n",
       "      <td>0.00</td>\n",
       "      <td>0.0</td>\n",
       "      <td>0</td>\n",
       "      <td>0</td>\n",
       "      <td>0.00</td>\n",
       "      <td>691</td>\n",
       "      <td>0</td>\n",
       "      <td>0.0</td>\n",
       "      <td>0</td>\n",
       "      <td>0.00</td>\n",
       "      <td>0</td>\n",
       "      <td>0</td>\n",
       "      <td>1</td>\n",
       "    </tr>\n",
       "    <tr>\n",
       "      <td>1</td>\n",
       "      <td>3</td>\n",
       "      <td>1</td>\n",
       "      <td>30000</td>\n",
       "      <td>9</td>\n",
       "      <td>0</td>\n",
       "      <td>11</td>\n",
       "      <td>3</td>\n",
       "      <td>170</td>\n",
       "      <td>29036</td>\n",
       "      <td>73.99</td>\n",
       "      <td>28.95</td>\n",
       "      <td>41.28</td>\n",
       "      <td>263</td>\n",
       "      <td>263</td>\n",
       "      <td>7752</td>\n",
       "      <td>476</td>\n",
       "      <td>3332</td>\n",
       "      <td>4153</td>\n",
       "      <td>4436</td>\n",
       "      <td>12</td>\n",
       "      <td>4153</td>\n",
       "      <td>843.96</td>\n",
       "      <td>833</td>\n",
       "      <td>1527.27</td>\n",
       "      <td>121</td>\n",
       "      <td>3058</td>\n",
       "      <td>274</td>\n",
       "      <td>1177.46</td>\n",
       "      <td>8899</td>\n",
       "      <td>2271.25</td>\n",
       "      <td>0.13</td>\n",
       "      <td>0</td>\n",
       "      <td>1655.59</td>\n",
       "      <td>-574.6</td>\n",
       "      <td>0</td>\n",
       "      <td>0</td>\n",
       "      <td>0.15</td>\n",
       "      <td>274</td>\n",
       "      <td>12649</td>\n",
       "      <td>0.0</td>\n",
       "      <td>121</td>\n",
       "      <td>0.21</td>\n",
       "      <td>18000</td>\n",
       "      <td>13000</td>\n",
       "      <td>1</td>\n",
       "    </tr>\n",
       "  </tbody>\n",
       "</table>\n",
       "</div>"
      ],
      "text/plain": [
       "   no  BAD  A5WC0000000200  PE1000011  PE0000025  PS0001728  A5RCLSRL078700  \\\n",
       "0   1    1           16000          0          0          0               0   \n",
       "1   3    1           30000          9          0         11               3   \n",
       "\n",
       "   PS0000188  A5RCLSRL091300  A5RCLSRL027400  A5RCLSRL027300  A5RCLSRL027500  \\\n",
       "0        289           11830           73.94           73.94           73.94   \n",
       "1        170           29036           73.99           28.95           41.28   \n",
       "\n",
       "   IDT000004_1  IDT000003  CA0000601  C00000083  C00060606  LA0000604  \\\n",
       "0           84         51          0        692        692          0   \n",
       "1          263        263       7752        476       3332       4153   \n",
       "\n",
       "   LU0000902_1  CF1231601  LC0000609  LA0000222_s12  LC0000608  LA0000203_s9  \\\n",
       "0        10000          0          0           0.00          0          0.00   \n",
       "1         4436         12       4153         843.96        833       1527.27   \n",
       "\n",
       "   LS0000607  LC0000901  EW0001601_1  LA0000204_s12  LRZ00124G  LA0000204_s6  \\\n",
       "0          0       7385          691           0.00          0          0.00   \n",
       "1        121       3058          274        1177.46       8899       2271.25   \n",
       "\n",
       "   LA0000020_s9  LA1200206  LA0000227_s9  LA0000204_s3  AE0000005_1  \\\n",
       "0          0.00          0          0.00           0.0            0   \n",
       "1          0.13          0       1655.59        -574.6            0   \n",
       "\n",
       "   P11252001_1  LA0000001_s12  EH0001601_1  LS0000086  P2E000500_9_1  \\\n",
       "0            0           0.00          691          0            0.0   \n",
       "1            0           0.15          274      12649            0.0   \n",
       "\n",
       "   LH000000E  LA0000001_s6  LA1200203  LA0600203  EH1201002_1  \n",
       "0          0          0.00          0          0            1  \n",
       "1        121          0.21      18000      13000            1  "
      ]
     },
     "execution_count": 7,
     "metadata": {},
     "output_type": "execute_result"
    }
   ],
   "source": [
    "train_df.head(2)"
   ]
  },
  {
   "cell_type": "code",
   "execution_count": 8,
   "metadata": {},
   "outputs": [
    {
     "data": {
      "text/html": [
       "<div>\n",
       "<style scoped>\n",
       "    .dataframe tbody tr th:only-of-type {\n",
       "        vertical-align: middle;\n",
       "    }\n",
       "\n",
       "    .dataframe tbody tr th {\n",
       "        vertical-align: top;\n",
       "    }\n",
       "\n",
       "    .dataframe thead th {\n",
       "        text-align: right;\n",
       "    }\n",
       "</style>\n",
       "<table border=\"1\" class=\"dataframe\">\n",
       "  <thead>\n",
       "    <tr style=\"text-align: right;\">\n",
       "      <th></th>\n",
       "      <th>no</th>\n",
       "      <th>BAD</th>\n",
       "      <th>A5WC0000000200</th>\n",
       "      <th>PE1000011</th>\n",
       "      <th>PE0000025</th>\n",
       "      <th>PS0001728</th>\n",
       "      <th>A5RCLSRL078700</th>\n",
       "      <th>PS0000188</th>\n",
       "      <th>A5RCLSRL091300</th>\n",
       "      <th>A5RCLSRL027400</th>\n",
       "      <th>A5RCLSRL027300</th>\n",
       "      <th>A5RCLSRL027500</th>\n",
       "      <th>IDT000004_1</th>\n",
       "      <th>IDT000003</th>\n",
       "      <th>CA0000601</th>\n",
       "      <th>C00000083</th>\n",
       "      <th>C00060606</th>\n",
       "      <th>LA0000604</th>\n",
       "      <th>LU0000902_1</th>\n",
       "      <th>CF1231601</th>\n",
       "      <th>LC0000609</th>\n",
       "      <th>LA0000222_s12</th>\n",
       "      <th>LC0000608</th>\n",
       "      <th>LA0000203_s9</th>\n",
       "      <th>LS0000607</th>\n",
       "      <th>LC0000901</th>\n",
       "      <th>EW0001601_1</th>\n",
       "      <th>LA0000204_s12</th>\n",
       "      <th>LRZ00124G</th>\n",
       "      <th>LA0000204_s6</th>\n",
       "      <th>LA0000020_s9</th>\n",
       "      <th>LA1200206</th>\n",
       "      <th>LA0000227_s9</th>\n",
       "      <th>LA0000204_s3</th>\n",
       "      <th>AE0000005_1</th>\n",
       "      <th>P11252001_1</th>\n",
       "      <th>LA0000001_s12</th>\n",
       "      <th>EH0001601_1</th>\n",
       "      <th>LS0000086</th>\n",
       "      <th>P2E000500_9_1</th>\n",
       "      <th>LH000000E</th>\n",
       "      <th>LA0000001_s6</th>\n",
       "      <th>LA1200203</th>\n",
       "      <th>LA0600203</th>\n",
       "      <th>EH1201002_1</th>\n",
       "    </tr>\n",
       "  </thead>\n",
       "  <tbody>\n",
       "  </tbody>\n",
       "</table>\n",
       "</div>"
      ],
      "text/plain": [
       "Empty DataFrame\n",
       "Columns: [no, BAD, A5WC0000000200, PE1000011, PE0000025, PS0001728, A5RCLSRL078700, PS0000188, A5RCLSRL091300, A5RCLSRL027400, A5RCLSRL027300, A5RCLSRL027500, IDT000004_1, IDT000003, CA0000601, C00000083, C00060606, LA0000604, LU0000902_1, CF1231601, LC0000609, LA0000222_s12, LC0000608, LA0000203_s9, LS0000607, LC0000901, EW0001601_1, LA0000204_s12, LRZ00124G, LA0000204_s6, LA0000020_s9, LA1200206, LA0000227_s9, LA0000204_s3, AE0000005_1, P11252001_1, LA0000001_s12, EH0001601_1, LS0000086, P2E000500_9_1, LH000000E, LA0000001_s6, LA1200203, LA0600203, EH1201002_1]\n",
       "Index: []"
      ]
     },
     "execution_count": 8,
     "metadata": {},
     "output_type": "execute_result"
    }
   ],
   "source": [
    "train_df[train_df.duplicated(['no'], keep = False)]"
   ]
  },
  {
   "cell_type": "markdown",
   "metadata": {},
   "source": [
    "## set index"
   ]
  },
  {
   "cell_type": "code",
   "execution_count": 9,
   "metadata": {},
   "outputs": [],
   "source": [
    "def set_index_and_sort(data, index_col):\n",
    "    data.set_index(index_col, drop = True, inplace = True, verify_integrity = True)\n",
    "    data.sort_index(inplace = True)\n",
    "    return data"
   ]
  },
  {
   "cell_type": "code",
   "execution_count": 10,
   "metadata": {},
   "outputs": [],
   "source": [
    "train_df = set_index_and_sort(train_df, 'no')\n",
    "valid_df = set_index_and_sort(valid_df,'no')\n",
    "test_df = set_index_and_sort(test_df,'no')\n",
    "model_valid_df = set_index_and_sort(model_valid_df, 'no')"
   ]
  },
  {
   "cell_type": "code",
   "execution_count": 11,
   "metadata": {},
   "outputs": [
    {
     "data": {
      "text/html": [
       "<div>\n",
       "<style scoped>\n",
       "    .dataframe tbody tr th:only-of-type {\n",
       "        vertical-align: middle;\n",
       "    }\n",
       "\n",
       "    .dataframe tbody tr th {\n",
       "        vertical-align: top;\n",
       "    }\n",
       "\n",
       "    .dataframe thead th {\n",
       "        text-align: right;\n",
       "    }\n",
       "</style>\n",
       "<table border=\"1\" class=\"dataframe\">\n",
       "  <thead>\n",
       "    <tr style=\"text-align: right;\">\n",
       "      <th></th>\n",
       "      <th>BAD</th>\n",
       "      <th>A5WC0000000200</th>\n",
       "      <th>PE1000011</th>\n",
       "      <th>PE0000025</th>\n",
       "      <th>PS0001728</th>\n",
       "      <th>A5RCLSRL078700</th>\n",
       "      <th>PS0000188</th>\n",
       "      <th>A5RCLSRL091300</th>\n",
       "      <th>A5RCLSRL027400</th>\n",
       "      <th>A5RCLSRL027300</th>\n",
       "      <th>A5RCLSRL027500</th>\n",
       "      <th>IDT000004_1</th>\n",
       "      <th>IDT000003</th>\n",
       "      <th>CA0000601</th>\n",
       "      <th>C00000083</th>\n",
       "      <th>C00060606</th>\n",
       "      <th>LA0000604</th>\n",
       "      <th>LU0000902_1</th>\n",
       "      <th>CF1231601</th>\n",
       "      <th>LC0000609</th>\n",
       "      <th>LA0000222_s12</th>\n",
       "      <th>LC0000608</th>\n",
       "      <th>LA0000203_s9</th>\n",
       "      <th>LS0000607</th>\n",
       "      <th>LC0000901</th>\n",
       "      <th>EW0001601_1</th>\n",
       "      <th>LA0000204_s12</th>\n",
       "      <th>LRZ00124G</th>\n",
       "      <th>LA0000204_s6</th>\n",
       "      <th>LA0000020_s9</th>\n",
       "      <th>LA1200206</th>\n",
       "      <th>LA0000227_s9</th>\n",
       "      <th>LA0000204_s3</th>\n",
       "      <th>AE0000005_1</th>\n",
       "      <th>P11252001_1</th>\n",
       "      <th>LA0000001_s12</th>\n",
       "      <th>EH0001601_1</th>\n",
       "      <th>LS0000086</th>\n",
       "      <th>P2E000500_9_1</th>\n",
       "      <th>LH000000E</th>\n",
       "      <th>LA0000001_s6</th>\n",
       "      <th>LA1200203</th>\n",
       "      <th>LA0600203</th>\n",
       "      <th>EH1201002_1</th>\n",
       "    </tr>\n",
       "    <tr>\n",
       "      <th>no</th>\n",
       "      <th></th>\n",
       "      <th></th>\n",
       "      <th></th>\n",
       "      <th></th>\n",
       "      <th></th>\n",
       "      <th></th>\n",
       "      <th></th>\n",
       "      <th></th>\n",
       "      <th></th>\n",
       "      <th></th>\n",
       "      <th></th>\n",
       "      <th></th>\n",
       "      <th></th>\n",
       "      <th></th>\n",
       "      <th></th>\n",
       "      <th></th>\n",
       "      <th></th>\n",
       "      <th></th>\n",
       "      <th></th>\n",
       "      <th></th>\n",
       "      <th></th>\n",
       "      <th></th>\n",
       "      <th></th>\n",
       "      <th></th>\n",
       "      <th></th>\n",
       "      <th></th>\n",
       "      <th></th>\n",
       "      <th></th>\n",
       "      <th></th>\n",
       "      <th></th>\n",
       "      <th></th>\n",
       "      <th></th>\n",
       "      <th></th>\n",
       "      <th></th>\n",
       "      <th></th>\n",
       "      <th></th>\n",
       "      <th></th>\n",
       "      <th></th>\n",
       "      <th></th>\n",
       "      <th></th>\n",
       "      <th></th>\n",
       "      <th></th>\n",
       "      <th></th>\n",
       "      <th></th>\n",
       "    </tr>\n",
       "  </thead>\n",
       "  <tbody>\n",
       "    <tr>\n",
       "      <td>1</td>\n",
       "      <td>1</td>\n",
       "      <td>16000</td>\n",
       "      <td>0</td>\n",
       "      <td>0</td>\n",
       "      <td>0</td>\n",
       "      <td>0</td>\n",
       "      <td>289</td>\n",
       "      <td>11830</td>\n",
       "      <td>73.94</td>\n",
       "      <td>73.94</td>\n",
       "      <td>73.94</td>\n",
       "      <td>84</td>\n",
       "      <td>51</td>\n",
       "      <td>0</td>\n",
       "      <td>692</td>\n",
       "      <td>692</td>\n",
       "      <td>0</td>\n",
       "      <td>10000</td>\n",
       "      <td>0</td>\n",
       "      <td>0</td>\n",
       "      <td>0.0</td>\n",
       "      <td>0</td>\n",
       "      <td>0.0</td>\n",
       "      <td>0</td>\n",
       "      <td>7385</td>\n",
       "      <td>691</td>\n",
       "      <td>0.0</td>\n",
       "      <td>0</td>\n",
       "      <td>0.0</td>\n",
       "      <td>0.0</td>\n",
       "      <td>0</td>\n",
       "      <td>0.0</td>\n",
       "      <td>0.0</td>\n",
       "      <td>0</td>\n",
       "      <td>0</td>\n",
       "      <td>0.0</td>\n",
       "      <td>691</td>\n",
       "      <td>0</td>\n",
       "      <td>0.0</td>\n",
       "      <td>0</td>\n",
       "      <td>0.0</td>\n",
       "      <td>0</td>\n",
       "      <td>0</td>\n",
       "      <td>1</td>\n",
       "    </tr>\n",
       "  </tbody>\n",
       "</table>\n",
       "</div>"
      ],
      "text/plain": [
       "    BAD  A5WC0000000200  PE1000011  PE0000025  PS0001728  A5RCLSRL078700  \\\n",
       "no                                                                         \n",
       "1     1           16000          0          0          0               0   \n",
       "\n",
       "    PS0000188  A5RCLSRL091300  A5RCLSRL027400  A5RCLSRL027300  A5RCLSRL027500  \\\n",
       "no                                                                              \n",
       "1         289           11830           73.94           73.94           73.94   \n",
       "\n",
       "    IDT000004_1  IDT000003  CA0000601  C00000083  C00060606  LA0000604  \\\n",
       "no                                                                       \n",
       "1            84         51          0        692        692          0   \n",
       "\n",
       "    LU0000902_1  CF1231601  LC0000609  LA0000222_s12  LC0000608  LA0000203_s9  \\\n",
       "no                                                                              \n",
       "1         10000          0          0            0.0          0           0.0   \n",
       "\n",
       "    LS0000607  LC0000901  EW0001601_1  LA0000204_s12  LRZ00124G  LA0000204_s6  \\\n",
       "no                                                                              \n",
       "1           0       7385          691            0.0          0           0.0   \n",
       "\n",
       "    LA0000020_s9  LA1200206  LA0000227_s9  LA0000204_s3  AE0000005_1  \\\n",
       "no                                                                     \n",
       "1            0.0          0           0.0           0.0            0   \n",
       "\n",
       "    P11252001_1  LA0000001_s12  EH0001601_1  LS0000086  P2E000500_9_1  \\\n",
       "no                                                                      \n",
       "1             0            0.0          691          0            0.0   \n",
       "\n",
       "    LH000000E  LA0000001_s6  LA1200203  LA0600203  EH1201002_1  \n",
       "no                                                              \n",
       "1           0           0.0          0          0            1  "
      ]
     },
     "execution_count": 11,
     "metadata": {},
     "output_type": "execute_result"
    }
   ],
   "source": [
    "train_df.head(1)"
   ]
  },
  {
   "cell_type": "markdown",
   "metadata": {},
   "source": [
    "### 소득변수 제외"
   ]
  },
  {
   "cell_type": "code",
   "execution_count": 12,
   "metadata": {},
   "outputs": [],
   "source": [
    "train_df = train_df.drop(['A5WC0000000200'], axis = 1)\n",
    "valid_df = valid_df.drop(['A5WC0000000200'], axis = 1)\n",
    "test_df = test_df.drop(['A5WC0000000200'], axis = 1)\n",
    "model_valid_df = model_valid_df.drop(['A5WC0000000200'], axis = 1)"
   ]
  },
  {
   "cell_type": "markdown",
   "metadata": {},
   "source": [
    "## X,y split"
   ]
  },
  {
   "cell_type": "code",
   "execution_count": 13,
   "metadata": {},
   "outputs": [],
   "source": [
    "X_train = train_df.drop(['BAD'], axis=1)\n",
    "X_valid = valid_df.drop(['BAD'], axis = 1)\n",
    "X_test = test_df.drop(['BAD'], axis=1)\n",
    "X_model_valid = model_valid_df.drop(['BAD'], axis = 1)\n",
    "\n",
    "\n",
    "y_train = train_df[['BAD']]\n",
    "y_valid = valid_df[['BAD']]\n",
    "y_test = test_df[['BAD']]\n",
    "y_model_valid = model_valid_df[['BAD']]"
   ]
  },
  {
   "cell_type": "code",
   "execution_count": 14,
   "metadata": {},
   "outputs": [
    {
     "data": {
      "text/plain": [
       "(73533, 42)"
      ]
     },
     "execution_count": 14,
     "metadata": {},
     "output_type": "execute_result"
    }
   ],
   "source": [
    "X_train.shape"
   ]
  },
  {
   "cell_type": "code",
   "execution_count": 15,
   "metadata": {},
   "outputs": [
    {
     "data": {
      "text/plain": [
       "Index(['PE1000011', 'PE0000025', 'PS0001728', 'A5RCLSRL078700', 'PS0000188',\n",
       "       'A5RCLSRL091300', 'A5RCLSRL027400', 'A5RCLSRL027300', 'A5RCLSRL027500',\n",
       "       'IDT000004_1', 'IDT000003', 'CA0000601', 'C00000083', 'C00060606',\n",
       "       'LA0000604', 'LU0000902_1', 'CF1231601', 'LC0000609', 'LA0000222_s12',\n",
       "       'LC0000608', 'LA0000203_s9', 'LS0000607', 'LC0000901', 'EW0001601_1',\n",
       "       'LA0000204_s12', 'LRZ00124G', 'LA0000204_s6', 'LA0000020_s9',\n",
       "       'LA1200206', 'LA0000227_s9', 'LA0000204_s3', 'AE0000005_1',\n",
       "       'P11252001_1', 'LA0000001_s12', 'EH0001601_1', 'LS0000086',\n",
       "       'P2E000500_9_1', 'LH000000E', 'LA0000001_s6', 'LA1200203', 'LA0600203',\n",
       "       'EH1201002_1'],\n",
       "      dtype='object')"
      ]
     },
     "execution_count": 15,
     "metadata": {},
     "output_type": "execute_result"
    }
   ],
   "source": [
    "X_train.columns"
   ]
  },
  {
   "cell_type": "markdown",
   "metadata": {},
   "source": [
    "# load gbm model"
   ]
  },
  {
   "cell_type": "code",
   "execution_count": 16,
   "metadata": {},
   "outputs": [],
   "source": [
    "from sklearn.externals import joblib"
   ]
  },
  {
   "cell_type": "code",
   "execution_count": 17,
   "metadata": {},
   "outputs": [],
   "source": [
    "model_path = r'C:\\Users\\w10\\Desktop\\웰컴\\AS\\8주차(데이터추가추출부터)\\최종적합\\seg1\\gbm\\final_model'"
   ]
  },
  {
   "cell_type": "code",
   "execution_count": 18,
   "metadata": {},
   "outputs": [
    {
     "data": {
      "text/plain": [
       "['AS_seg1_1000epochs_result_temp4.xlsx',\n",
       " 'AS_seg1_final_model_temp4.joblib',\n",
       " 'AS_seg1_final_result_temp4.xlsx',\n",
       " 'AS_seg1_random_search_result_temp4.xlsx']"
      ]
     },
     "execution_count": 18,
     "metadata": {},
     "output_type": "execute_result"
    }
   ],
   "source": [
    "os.listdir(model_path)"
   ]
  },
  {
   "cell_type": "code",
   "execution_count": 19,
   "metadata": {},
   "outputs": [],
   "source": [
    "gbm = joblib.load(os.path.join(model_path, 'AS_seg1_final_model_temp4.joblib',))"
   ]
  },
  {
   "cell_type": "code",
   "execution_count": 20,
   "metadata": {},
   "outputs": [
    {
     "data": {
      "text/plain": [
       "GradientBoostingClassifier(criterion='friedman_mse', init=None,\n",
       "                           learning_rate=0.009, loss='deviance', max_depth=4,\n",
       "                           max_features=8, max_leaf_nodes=None,\n",
       "                           min_impurity_decrease=0.0, min_impurity_split=None,\n",
       "                           min_samples_leaf=0.02, min_samples_split=0.0255,\n",
       "                           min_weight_fraction_leaf=0.0, n_estimators=2927,\n",
       "                           n_iter_no_change=None, presort='auto',\n",
       "                           random_state=1, subsample=0.89, tol=0.0001,\n",
       "                           validation_fraction=0.1, verbose=0,\n",
       "                           warm_start=False)"
      ]
     },
     "execution_count": 20,
     "metadata": {},
     "output_type": "execute_result"
    }
   ],
   "source": [
    "gbm"
   ]
  },
  {
   "cell_type": "code",
   "execution_count": 21,
   "metadata": {},
   "outputs": [],
   "source": [
    "def get_accuracy(probs, labels, accu_thre=0.5):\n",
    "    pred_labels = np.zeros(probs.shape)\n",
    "    pred_labels[probs >= accu_thre] = 1.0\n",
    "    accuracy = metrics.accuracy_score(labels, pred_labels)\n",
    "    return accuracy\n",
    "\n",
    "def get_ks_statistics(probs, labels):\n",
    "    probs_pos = probs[labels == 1]\n",
    "    probs_neg = probs[labels == 0]\n",
    "    ks, ks_p_value = stats.ks_2samp(probs_pos, probs_neg)\n",
    "    return ks, ks_p_value\n",
    "\n",
    "def get_auc_ar(probs, labels):\n",
    "    auc = metrics.roc_auc_score(labels, probs)\n",
    "    ar = auc * 2 - 1\n",
    "    return auc, ar\n",
    "\n",
    "class Performances:\n",
    "    def __init__(self, probs, labels, accu_thre=0.5):\n",
    "        accuracy = get_accuracy(probs, labels, accu_thre=accu_thre)\n",
    "        ks, ks_p_value = get_ks_statistics(probs, labels)\n",
    "        auc, ar = get_auc_ar(probs, labels)\n",
    "        self.accuracy = accuracy\n",
    "        self.ks = ks * 100  # percent\n",
    "        self.ks_p_value = ks_p_value\n",
    "        self.auc = auc * 100  # percent\n",
    "        self.ar = ar * 100  # percent"
   ]
  },
  {
   "cell_type": "code",
   "execution_count": 22,
   "metadata": {},
   "outputs": [],
   "source": [
    "prob_tr = gbm.predict_proba(X_train)\n",
    "prob_valid = gbm.predict_proba(X_valid)\n",
    "prob_test = gbm.predict_proba(X_test)\n",
    "prob_model_valid = gbm.predict_proba(X_model_valid)"
   ]
  },
  {
   "cell_type": "code",
   "execution_count": 23,
   "metadata": {},
   "outputs": [],
   "source": [
    "#Compute ks/ar\n",
    "result_train = Performances(prob_tr[:, 1], y_train['BAD'])\n",
    "result_valid = Performances(prob_valid[:, 1], y_valid['BAD'])\n",
    "result_test = Performances(prob_test[:, 1], y_test['BAD'])"
   ]
  },
  {
   "cell_type": "code",
   "execution_count": 24,
   "metadata": {},
   "outputs": [
    {
     "name": "stdout",
     "output_type": "stream",
     "text": [
      "\n",
      "Model Report\n",
      "Train KS : 36.93015, / AR : 49.45567\n",
      "Valid KS : 33.49129, / AR : 45.58551\n",
      "Test KS : 36.10840, / AR : 47.68122\n"
     ]
    }
   ],
   "source": [
    "#Print model report:\n",
    "print(\"\\nModel Report\")\n",
    "print(\"Train KS : {:.5f}, / AR : {:.5f}\".format(result_train.ks, result_train.ar))\n",
    "print(\"Valid KS : {:.5f}, / AR : {:.5f}\".format(result_valid.ks, result_valid.ar))\n",
    "print(\"Test KS : {:.5f}, / AR : {:.5f}\".format(result_test.ks, result_test.ar))"
   ]
  },
  {
   "cell_type": "code",
   "execution_count": 25,
   "metadata": {},
   "outputs": [],
   "source": [
    "prob_train_df = pd.DataFrame(prob_tr[:,1], index = X_train.index, columns = ['gbm_phat'])\n",
    "prob_valid_df = pd.DataFrame(prob_valid[:,1], index = X_valid.index, columns = ['gbm_phat'])\n",
    "prob_test_df = pd.DataFrame(prob_test[:,1], index = X_test.index, columns = ['gbm_phat'])\n",
    "prob_model_valid_df = pd.DataFrame(prob_model_valid[:,1], index = X_model_valid.index, columns = ['gbm_phat'])"
   ]
  },
  {
   "cell_type": "code",
   "execution_count": 26,
   "metadata": {},
   "outputs": [],
   "source": [
    "final_prob_train = pd.merge(y_train, prob_train_df, left_index = True, right_index = True, how = 'inner')\n",
    "final_prob_valid = pd.merge(y_valid, prob_valid_df, left_index = True, right_index = True, how = 'inner')\n",
    "final_prob_test = pd.merge(y_test, prob_test_df, left_index = True, right_index = True, how = 'inner')\n",
    "final_prob_model_valid = pd.merge(y_model_valid, prob_model_valid_df, left_index = True, right_index = True, how = 'inner')"
   ]
  },
  {
   "cell_type": "code",
   "execution_count": 27,
   "metadata": {},
   "outputs": [
    {
     "data": {
      "text/html": [
       "<div>\n",
       "<style scoped>\n",
       "    .dataframe tbody tr th:only-of-type {\n",
       "        vertical-align: middle;\n",
       "    }\n",
       "\n",
       "    .dataframe tbody tr th {\n",
       "        vertical-align: top;\n",
       "    }\n",
       "\n",
       "    .dataframe thead th {\n",
       "        text-align: right;\n",
       "    }\n",
       "</style>\n",
       "<table border=\"1\" class=\"dataframe\">\n",
       "  <thead>\n",
       "    <tr style=\"text-align: right;\">\n",
       "      <th></th>\n",
       "      <th>BAD</th>\n",
       "      <th>gbm_phat</th>\n",
       "    </tr>\n",
       "    <tr>\n",
       "      <th>no</th>\n",
       "      <th></th>\n",
       "      <th></th>\n",
       "    </tr>\n",
       "  </thead>\n",
       "  <tbody>\n",
       "    <tr>\n",
       "      <td>1</td>\n",
       "      <td>1</td>\n",
       "      <td>0.447528</td>\n",
       "    </tr>\n",
       "    <tr>\n",
       "      <td>3</td>\n",
       "      <td>1</td>\n",
       "      <td>0.438492</td>\n",
       "    </tr>\n",
       "    <tr>\n",
       "      <td>6</td>\n",
       "      <td>0</td>\n",
       "      <td>0.517598</td>\n",
       "    </tr>\n",
       "    <tr>\n",
       "      <td>9</td>\n",
       "      <td>0</td>\n",
       "      <td>0.344496</td>\n",
       "    </tr>\n",
       "    <tr>\n",
       "      <td>12</td>\n",
       "      <td>1</td>\n",
       "      <td>0.396566</td>\n",
       "    </tr>\n",
       "  </tbody>\n",
       "</table>\n",
       "</div>"
      ],
      "text/plain": [
       "    BAD  gbm_phat\n",
       "no               \n",
       "1     1  0.447528\n",
       "3     1  0.438492\n",
       "6     0  0.517598\n",
       "9     0  0.344496\n",
       "12    1  0.396566"
      ]
     },
     "execution_count": 27,
     "metadata": {},
     "output_type": "execute_result"
    }
   ],
   "source": [
    "final_prob_train.head()"
   ]
  },
  {
   "cell_type": "code",
   "execution_count": 28,
   "metadata": {},
   "outputs": [],
   "source": [
    "save_path = r'C:\\Users\\w10\\Desktop\\웰컴\\AS\\8주차(데이터추가추출부터)\\phat\\seg1\\gbm'"
   ]
  },
  {
   "cell_type": "code",
   "execution_count": 29,
   "metadata": {},
   "outputs": [],
   "source": [
    "final_prob_train.to_csv(os.path.join(save_path, 'GBM_train_phat_df.csv'))\n",
    "final_prob_valid.to_csv(os.path.join(save_path, 'GBM_valid_phat_df.csv'))\n",
    "final_prob_test.to_csv(os.path.join(save_path, 'GBM_test_phat_df.csv'))\n",
    "final_prob_model_valid.to_csv(os.path.join(save_path, 'GBM_model_valid_phat_df.csv'))"
   ]
  },
  {
   "cell_type": "code",
   "execution_count": null,
   "metadata": {},
   "outputs": [],
   "source": []
  },
  {
   "cell_type": "code",
   "execution_count": null,
   "metadata": {},
   "outputs": [],
   "source": []
  }
 ],
 "metadata": {
  "kernelspec": {
   "display_name": "Python 3",
   "language": "python",
   "name": "python3"
  },
  "language_info": {
   "codemirror_mode": {
    "name": "ipython",
    "version": 3
   },
   "file_extension": ".py",
   "mimetype": "text/x-python",
   "name": "python",
   "nbconvert_exporter": "python",
   "pygments_lexer": "ipython3",
   "version": "3.7.4"
  }
 },
 "nbformat": 4,
 "nbformat_minor": 4
}
