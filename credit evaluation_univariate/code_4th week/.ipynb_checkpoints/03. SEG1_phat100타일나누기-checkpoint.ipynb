{
 "cells": [
  {
   "cell_type": "markdown",
   "metadata": {},
   "source": [
    "# import"
   ]
  },
  {
   "cell_type": "code",
   "execution_count": 55,
   "metadata": {},
   "outputs": [],
   "source": [
    "import pandas as pd\n",
    "import numpy as np\n",
    "import os\n",
    "import matplotlib.pyplot as plt\n",
    "import seaborn as sns\n",
    "import warnings\n",
    "warnings.filterwarnings('ignore')\n",
    "\n",
    "import sklearn\n",
    "from sklearn import metrics\n",
    "import scipy\n",
    "from scipy import stats\n",
    "import statsmodels as sm\n",
    "from statsmodels.distributions.empirical_distribution import ECDF\n"
   ]
  },
  {
   "cell_type": "markdown",
   "metadata": {},
   "source": [
    "# load data "
   ]
  },
  {
   "cell_type": "code",
   "execution_count": 56,
   "metadata": {},
   "outputs": [],
   "source": [
    "phat_path = r'C:\\Users\\w10\\Desktop\\웰컴\\AS\\8주차(데이터추가추출부터)\\phat\\seg1\\ensemble'"
   ]
  },
  {
   "cell_type": "code",
   "execution_count": 57,
   "metadata": {},
   "outputs": [
    {
     "data": {
      "text/plain": [
       "['model_valid_phat_df.csv',\n",
       " 'test_phat_df.csv',\n",
       " 'train_phat_df.csv',\n",
       " 'valid_phat_df.csv']"
      ]
     },
     "execution_count": 57,
     "metadata": {},
     "output_type": "execute_result"
    }
   ],
   "source": [
    "os.listdir(phat_path)"
   ]
  },
  {
   "cell_type": "code",
   "execution_count": 58,
   "metadata": {},
   "outputs": [],
   "source": [
    "prob_train_df = pd.read_csv(os.path.join(phat_path, 'train_phat_df.csv'))\n",
    "prob_valid_df = pd.read_csv(os.path.join(phat_path, 'valid_phat_df.csv'))\n",
    "prob_test_df = pd.read_csv(os.path.join(phat_path, 'test_phat_df.csv'))\n",
    "prob_model_valid_df = pd.read_csv(os.path.join(phat_path, 'model_valid_phat_df.csv'))"
   ]
  },
  {
   "cell_type": "code",
   "execution_count": 59,
   "metadata": {},
   "outputs": [
    {
     "data": {
      "text/html": [
       "<div>\n",
       "<style scoped>\n",
       "    .dataframe tbody tr th:only-of-type {\n",
       "        vertical-align: middle;\n",
       "    }\n",
       "\n",
       "    .dataframe tbody tr th {\n",
       "        vertical-align: top;\n",
       "    }\n",
       "\n",
       "    .dataframe thead th {\n",
       "        text-align: right;\n",
       "    }\n",
       "</style>\n",
       "<table border=\"1\" class=\"dataframe\">\n",
       "  <thead>\n",
       "    <tr style=\"text-align: right;\">\n",
       "      <th></th>\n",
       "      <th>no</th>\n",
       "      <th>BAD</th>\n",
       "      <th>ensemble_phat</th>\n",
       "    </tr>\n",
       "  </thead>\n",
       "  <tbody>\n",
       "    <tr>\n",
       "      <th>0</th>\n",
       "      <td>1</td>\n",
       "      <td>1</td>\n",
       "      <td>0.467364</td>\n",
       "    </tr>\n",
       "    <tr>\n",
       "      <th>1</th>\n",
       "      <td>3</td>\n",
       "      <td>1</td>\n",
       "      <td>0.457814</td>\n",
       "    </tr>\n",
       "  </tbody>\n",
       "</table>\n",
       "</div>"
      ],
      "text/plain": [
       "   no  BAD  ensemble_phat\n",
       "0   1    1       0.467364\n",
       "1   3    1       0.457814"
      ]
     },
     "execution_count": 59,
     "metadata": {},
     "output_type": "execute_result"
    }
   ],
   "source": [
    "prob_train_df.head(2)"
   ]
  },
  {
   "cell_type": "markdown",
   "metadata": {},
   "source": [
    "# performance check"
   ]
  },
  {
   "cell_type": "code",
   "execution_count": 60,
   "metadata": {},
   "outputs": [],
   "source": [
    "def get_accuracy(probs, labels, accu_thre=0.5):\n",
    "    pred_labels = np.zeros(probs.shape)\n",
    "    pred_labels[probs >= accu_thre] = 1.0\n",
    "    accuracy = metrics.accuracy_score(labels, pred_labels)\n",
    "    return accuracy\n",
    "\n",
    "def get_ks_statistics(probs, labels):\n",
    "    probs_pos = probs[labels == 1]\n",
    "    probs_neg = probs[labels == 0]\n",
    "    ks, ks_p_value = stats.ks_2samp(probs_pos, probs_neg)\n",
    "    return ks, ks_p_value\n",
    "\n",
    "def get_auc_ar(probs, labels):\n",
    "    auc = metrics.roc_auc_score(labels, probs)\n",
    "    ar = auc * 2 - 1\n",
    "    return auc, ar\n",
    "\n",
    "class Performances:\n",
    "    def __init__(self, probs, labels, accu_thre=0.5):\n",
    "        accuracy = get_accuracy(probs, labels, accu_thre=accu_thre)\n",
    "        ks, ks_p_value = get_ks_statistics(probs, labels)\n",
    "        auc, ar = get_auc_ar(probs, labels)\n",
    "        self.accuracy = accuracy\n",
    "        self.ks = ks * 100  # percent\n",
    "        self.ks_p_value = ks_p_value\n",
    "        self.auc = auc * 100  # percent\n",
    "        self.ar = ar * 100  # percent"
   ]
  },
  {
   "cell_type": "code",
   "execution_count": 61,
   "metadata": {},
   "outputs": [],
   "source": [
    "prob_train = prob_train_df['ensemble_phat'].values\n",
    "prob_valid = prob_valid_df['ensemble_phat'].values\n",
    "prob_test = prob_test_df['ensemble_phat'].values\n",
    "prob_model_valid = prob_model_valid_df['ensemble_phat'].values"
   ]
  },
  {
   "cell_type": "code",
   "execution_count": 62,
   "metadata": {},
   "outputs": [],
   "source": [
    "result_train = Performances(prob_train, prob_train_df['BAD'])\n",
    "result_valid = Performances(prob_valid, prob_valid_df['BAD'])\n",
    "result_test = Performances(prob_test, prob_test_df['BAD'])\n",
    "# result_model_valid = Performances(prob_train, prob_train_df['BAD'])"
   ]
  },
  {
   "cell_type": "code",
   "execution_count": 63,
   "metadata": {},
   "outputs": [
    {
     "name": "stdout",
     "output_type": "stream",
     "text": [
      "Train KS : ==35.431== / AUC : ==73.870== / AR : ==47.740==\n",
      "valid KS : ==32.880== / AUC : ==72.356== / AR : ==44.712==\n",
      "Test KS : ==34.565== / AUC : ==73.191== / AR : ==46.382==\n"
     ]
    }
   ],
   "source": [
    "print('Train KS : {0:=^10.3f} / AUC : {1:=^10.3f} / AR : {2:=^10.3f}'.format(result_train.ks, result_train.auc, result_train.ar))\n",
    "print('valid KS : {0:=^10.3f} / AUC : {1:=^10.3f} / AR : {2:=^10.3f}'.format(result_valid.ks, result_valid.auc, result_valid.ar))\n",
    "print('Test KS : {0:=^10.3f} / AUC : {1:=^10.3f} / AR : {2:=^10.3f}'.format(result_test.ks, result_test.auc, result_test.ar))"
   ]
  },
  {
   "cell_type": "code",
   "execution_count": 64,
   "metadata": {},
   "outputs": [],
   "source": [
    "# KS plotting ftn\n",
    "def KS_compute_with_plot(prob, data_type):\n",
    "\n",
    "    GOOD_p = prob[data_type == 0]\n",
    "    BAD_p = prob[data_type == 1]\n",
    "\n",
    "    ks = stats.ks_2samp(GOOD_p, BAD_p)\n",
    "\n",
    "    ecdf_0 = ECDF(GOOD_p)\n",
    "    ecdf_1 = ECDF(BAD_p)\n",
    "    \n",
    "    good_p_df = pd.DataFrame({'phat' : ecdf_0.x, 'good_cdf' : ecdf_0.y,})\n",
    "    bad_p_df = pd.DataFrame({'phat' : ecdf_1.x, 'bad_cdf' : ecdf_1.y})\n",
    "\n",
    "    p_df = pd.merge(good_p_df, bad_p_df, on = ['phat'], how = 'outer',indicator = True)\n",
    "\n",
    "    p_df.sort_values(by = ['phat'], ascending = True, inplace = True)\n",
    "    p_df = p_df.fillna(method = 'ffill')\n",
    "\n",
    "    p_df['ks'] = np.abs(p_df['good_cdf'] - p_df['bad_cdf'])\n",
    "\n",
    "    plt.plot(p_df['phat'], p_df['ks'], label = 'KS', )\n",
    "    plt.plot(ecdf_0.x, ecdf_0.y, label=\"GOOD\")\n",
    "    plt.plot(ecdf_1.x, ecdf_1.y, label='BAD')\n",
    "    # plt.xlim(0, 0.3)\n",
    "\n",
    "    plt.ylabel('CDF')\n",
    "    plt.xlabel('p')\n",
    "    plt.title('KS : {:.3f}'.format(ks[0] * 100))\n",
    "    plt.legend(bbox_to_anchor=(1.05, 1), loc=2, borderaxespad=0.)\n",
    "    plt.show()\n",
    "\n",
    "    return (ks[0])"
   ]
  },
  {
   "cell_type": "code",
   "execution_count": 65,
   "metadata": {},
   "outputs": [
    {
     "data": {
      "image/png": "[encoded data removed]",
      "text/plain": [
       "<Figure size 432x288 with 1 Axes>"
      ]
     },
     "metadata": {
      "needs_background": "light"
     },
     "output_type": "display_data"
    },
    {
     "data": {
      "image/png": "[encoded data removed]",
      "text/plain": [
       "<Figure size 432x288 with 1 Axes>"
      ]
     },
     "metadata": {
      "needs_background": "light"
     },
     "output_type": "display_data"
    },
    {
     "data": {
      "image/png": "[encoded data removed]",
      "text/plain": [
       "<Figure size 432x288 with 1 Axes>"
      ]
     },
     "metadata": {
      "needs_background": "light"
     },
     "output_type": "display_data"
    },
    {
     "data": {
      "text/plain": [
       "0.34564916447487876"
      ]
     },
     "execution_count": 65,
     "metadata": {},
     "output_type": "execute_result"
    }
   ],
   "source": [
    "KS_compute_with_plot(prob_train, prob_train_df['BAD'])\n",
    "KS_compute_with_plot(prob_valid, prob_valid_df['BAD'])\n",
    "KS_compute_with_plot(prob_test, prob_test_df['BAD'])"
   ]
  },
  {
   "cell_type": "markdown",
   "metadata": {},
   "source": [
    "# 등급화"
   ]
  },
  {
   "cell_type": "markdown",
   "metadata": {},
   "source": [
    "### 100타일"
   ]
  },
  {
   "cell_type": "code",
   "execution_count": 82,
   "metadata": {},
   "outputs": [],
   "source": [
    "q = np.linspace(0,1,101)\n",
    "prob_train_df['bad_phat_interval'] = pd.qcut(x = prob_train_df['ensemble_phat'].values, q = q, duplicates = 'drop', precision = 50)"
   ]
  },
  {
   "cell_type": "code",
   "execution_count": 83,
   "metadata": {},
   "outputs": [],
   "source": [
    "max_interval = np.max(prob_train_df['bad_phat_interval'])\n",
    "min_interval = np.min(prob_train_df['bad_phat_interval'])\n",
    "\n",
    "change_max_interval = pd.Interval(left = max_interval.left, right = 1.0)\n",
    "change_min_interval = pd.Interval(left = -np.inf, right = min_interval.right)\n",
    "\n",
    "prob_train_df['bad_phat_interval'] = np.where(prob_train_df['bad_phat_interval'] == max_interval,\n",
    "                                             change_max_interval,\n",
    "                                             prob_train_df['bad_phat_interval'] )\n",
    "\n",
    "prob_train_df['bad_phat_interval'] = np.where(prob_train_df['bad_phat_interval'] == min_interval,\n",
    "                                             change_min_interval,\n",
    "                                             prob_train_df['bad_phat_interval'] )"
   ]
  },
  {
   "cell_type": "code",
   "execution_count": 84,
   "metadata": {},
   "outputs": [],
   "source": [
    "interval_points = pd.Categorical(prob_train_df['bad_phat_interval']).categories"
   ]
  },
  {
   "cell_type": "code",
   "execution_count": 85,
   "metadata": {},
   "outputs": [
    {
     "data": {
      "text/plain": [
       "IntervalIndex([(-inf, 0.156], (0.156, 0.172], (0.172, 0.183], (0.183, 0.192], (0.192, 0.2] ... (0.643, 0.654], (0.654, 0.668], (0.668, 0.685], (0.685, 0.708], (0.708, 1.0]],\n",
       "              closed='right',\n",
       "              dtype='interval[float64]')"
      ]
     },
     "execution_count": 85,
     "metadata": {},
     "output_type": "execute_result"
    }
   ],
   "source": [
    "len(interval_points)\n",
    "interval_points"
   ]
  },
  {
   "cell_type": "code",
   "execution_count": 86,
   "metadata": {},
   "outputs": [],
   "source": [
    "prob_valid_df['bad_phat_interval'] = pd.cut(x = prob_valid_df['ensemble_phat'].values, bins = interval_points, duplicates = 'drop')"
   ]
  },
  {
   "cell_type": "code",
   "execution_count": 87,
   "metadata": {},
   "outputs": [],
   "source": [
    "prob_test_df['bad_phat_interval'] = pd.cut(x = prob_test_df['ensemble_phat'].values, bins = interval_points, duplicates = 'drop')"
   ]
  },
  {
   "cell_type": "code",
   "execution_count": 88,
   "metadata": {},
   "outputs": [],
   "source": [
    "prob_model_valid_df['bad_phat_interval'] = pd.cut(x = prob_model_valid_df['ensemble_phat'].values, bins = interval_points, duplicates = 'drop')"
   ]
  },
  {
   "cell_type": "code",
   "execution_count": 89,
   "metadata": {},
   "outputs": [],
   "source": [
    "def phat_grade_df(prob_df, bad_interval_col):\n",
    "    grp_grade = prob_df.groupby(by = [bad_interval_col], as_index = False).agg(\n",
    "    {\n",
    "        'BAD' : ['count','sum']\n",
    "    })\n",
    "    grp_grade.columns = ['phat_interval', 'Total', 'Bad']\n",
    "    \n",
    "    grp_grade['Good'] = grp_grade['Total'] - grp_grade['Bad']\n",
    "    grp_grade['Bad_rate'] = grp_grade['Bad'] / grp_grade['Total']\n",
    "    \n",
    "    grp_grade['Distribution Good'] = grp_grade['Good'] / grp_grade['Good'].sum()\n",
    "    grp_grade['Distribution Bad'] = grp_grade['Bad'] / grp_grade['Bad'].sum()\n",
    "    grp_grade['Distribution Total'] = grp_grade['Total'] / grp_grade['Total'].sum()\n",
    "    \n",
    "    grp_grade['Cum Good'] = np.cumsum(grp_grade['Good'])\n",
    "    grp_grade['Cum Bad'] = np.cumsum(grp_grade['Bad'])\n",
    "    grp_grade['Cum Total'] = np.cumsum(grp_grade['Total'])\n",
    "\n",
    "    grp_grade['Cum Dist Good'] = np.cumsum(grp_grade['Good']) / grp_grade['Good'].sum()\n",
    "    grp_grade['Cum Dist Bad'] = np.cumsum(grp_grade['Bad']) / grp_grade['Bad'].sum()\n",
    "    grp_grade['Cum Dist Total'] = np.cumsum(grp_grade['Total']) / grp_grade['Total'].sum()\n",
    "    grp_grade['Cum Bad rate'] = grp_grade['Cum Bad'] / grp_grade['Cum Total']\n",
    "    \n",
    "    grp_grade['WoE'] = np.log(grp_grade['Distribution Good'] / grp_grade['Distribution Bad'])\n",
    "    grp_grade = grp_grade.replace({'WoE' : {np.inf : 0, -np.inf : 0}})\n",
    "    grp_grade['IV'] = (grp_grade['Distribution Good'] - grp_grade['Distribution Bad']) * grp_grade['WoE']\n",
    "    grp_grade['KS'] = np.abs(grp_grade['Cum Dist Good'] - grp_grade['Cum Dist Bad'])*100\n",
    "\n",
    "    grp_grade.reset_index( inplace = True)\n",
    "\n",
    "    grp_grade.rename(columns = {'index' : 'grade'}, inplace = True)\n",
    "    grp_grade['grade'] = grp_grade['grade'] + 1\n",
    "    \n",
    "    return grp_grade"
   ]
  },
  {
   "cell_type": "code",
   "execution_count": 90,
   "metadata": {},
   "outputs": [],
   "source": [
    "train_phat_grade = phat_grade_df(prob_train_df, 'bad_phat_interval')\n",
    "valid_phat_grade = phat_grade_df(prob_valid_df, 'bad_phat_interval')\n",
    "test_phat_grade = phat_grade_df(prob_test_df, 'bad_phat_interval')\n",
    "model_valid_phat_grade = phat_grade_df(prob_model_valid_df, 'bad_phat_interval')"
   ]
  },
  {
   "cell_type": "code",
   "execution_count": 91,
   "metadata": {},
   "outputs": [],
   "source": [
    "train_phat_grade['phat_left'] = train_phat_grade['phat_interval'].apply(lambda x : x.left)\n",
    "train_phat_grade['phat_right'] = train_phat_grade['phat_interval'].apply(lambda x : x.right)"
   ]
  },
  {
   "cell_type": "code",
   "execution_count": 92,
   "metadata": {},
   "outputs": [],
   "source": [
    "valid_phat_grade['phat_left'] = valid_phat_grade['phat_interval'].apply(lambda x : x.left)\n",
    "valid_phat_grade['phat_right'] = valid_phat_grade['phat_interval'].apply(lambda x : x.right)"
   ]
  },
  {
   "cell_type": "code",
   "execution_count": 93,
   "metadata": {},
   "outputs": [],
   "source": [
    "test_phat_grade['phat_left'] = test_phat_grade['phat_interval'].apply(lambda x : x.left)\n",
    "test_phat_grade['phat_right'] = test_phat_grade['phat_interval'].apply(lambda x : x.right)"
   ]
  },
  {
   "cell_type": "code",
   "execution_count": 94,
   "metadata": {},
   "outputs": [],
   "source": [
    "model_valid_phat_grade['phat_left'] = model_valid_phat_grade['phat_interval'].apply(lambda x : x.left)\n",
    "model_valid_phat_grade['phat_right'] = model_valid_phat_grade['phat_interval'].apply(lambda x : x.right)"
   ]
  },
  {
   "cell_type": "code",
   "execution_count": 95,
   "metadata": {},
   "outputs": [
    {
     "data": {
      "text/html": [
       "<div>\n",
       "<style scoped>\n",
       "    .dataframe tbody tr th:only-of-type {\n",
       "        vertical-align: middle;\n",
       "    }\n",
       "\n",
       "    .dataframe tbody tr th {\n",
       "        vertical-align: top;\n",
       "    }\n",
       "\n",
       "    .dataframe thead th {\n",
       "        text-align: right;\n",
       "    }\n",
       "</style>\n",
       "<table border=\"1\" class=\"dataframe\">\n",
       "  <thead>\n",
       "    <tr style=\"text-align: right;\">\n",
       "      <th></th>\n",
       "      <th>grade</th>\n",
       "      <th>phat_interval</th>\n",
       "      <th>Total</th>\n",
       "      <th>Bad</th>\n",
       "      <th>Good</th>\n",
       "      <th>Bad_rate</th>\n",
       "      <th>Distribution Good</th>\n",
       "      <th>Distribution Bad</th>\n",
       "      <th>Distribution Total</th>\n",
       "      <th>Cum Good</th>\n",
       "      <th>...</th>\n",
       "      <th>Cum Total</th>\n",
       "      <th>Cum Dist Good</th>\n",
       "      <th>Cum Dist Bad</th>\n",
       "      <th>Cum Dist Total</th>\n",
       "      <th>Cum Bad rate</th>\n",
       "      <th>WoE</th>\n",
       "      <th>IV</th>\n",
       "      <th>KS</th>\n",
       "      <th>phat_left</th>\n",
       "      <th>phat_right</th>\n",
       "    </tr>\n",
       "  </thead>\n",
       "  <tbody>\n",
       "    <tr>\n",
       "      <th>0</th>\n",
       "      <td>1</td>\n",
       "      <td>(-inf, 0.156]</td>\n",
       "      <td>736</td>\n",
       "      <td>53</td>\n",
       "      <td>683</td>\n",
       "      <td>0.072011</td>\n",
       "      <td>0.015568</td>\n",
       "      <td>0.001787</td>\n",
       "      <td>0.010009</td>\n",
       "      <td>683</td>\n",
       "      <td>...</td>\n",
       "      <td>736</td>\n",
       "      <td>0.015568</td>\n",
       "      <td>0.001787</td>\n",
       "      <td>0.010009</td>\n",
       "      <td>0.072011</td>\n",
       "      <td>2.164816</td>\n",
       "      <td>0.029835</td>\n",
       "      <td>1.378157</td>\n",
       "      <td>-inf</td>\n",
       "      <td>0.156</td>\n",
       "    </tr>\n",
       "    <tr>\n",
       "      <th>1</th>\n",
       "      <td>2</td>\n",
       "      <td>(0.156, 0.172]</td>\n",
       "      <td>735</td>\n",
       "      <td>79</td>\n",
       "      <td>656</td>\n",
       "      <td>0.107483</td>\n",
       "      <td>0.014953</td>\n",
       "      <td>0.002663</td>\n",
       "      <td>0.009996</td>\n",
       "      <td>1339</td>\n",
       "      <td>...</td>\n",
       "      <td>1471</td>\n",
       "      <td>0.030521</td>\n",
       "      <td>0.004450</td>\n",
       "      <td>0.020005</td>\n",
       "      <td>0.089735</td>\n",
       "      <td>1.725326</td>\n",
       "      <td>0.021204</td>\n",
       "      <td>2.607116</td>\n",
       "      <td>0.156</td>\n",
       "      <td>0.172</td>\n",
       "    </tr>\n",
       "    <tr>\n",
       "      <th>2</th>\n",
       "      <td>3</td>\n",
       "      <td>(0.172, 0.183]</td>\n",
       "      <td>735</td>\n",
       "      <td>82</td>\n",
       "      <td>653</td>\n",
       "      <td>0.111565</td>\n",
       "      <td>0.014885</td>\n",
       "      <td>0.002764</td>\n",
       "      <td>0.009996</td>\n",
       "      <td>1992</td>\n",
       "      <td>...</td>\n",
       "      <td>2206</td>\n",
       "      <td>0.045406</td>\n",
       "      <td>0.007215</td>\n",
       "      <td>0.030000</td>\n",
       "      <td>0.097008</td>\n",
       "      <td>1.683471</td>\n",
       "      <td>0.020404</td>\n",
       "      <td>3.819123</td>\n",
       "      <td>0.172</td>\n",
       "      <td>0.183</td>\n",
       "    </tr>\n",
       "    <tr>\n",
       "      <th>3</th>\n",
       "      <td>4</td>\n",
       "      <td>(0.183, 0.192]</td>\n",
       "      <td>736</td>\n",
       "      <td>102</td>\n",
       "      <td>634</td>\n",
       "      <td>0.138587</td>\n",
       "      <td>0.014451</td>\n",
       "      <td>0.003439</td>\n",
       "      <td>0.010009</td>\n",
       "      <td>2626</td>\n",
       "      <td>...</td>\n",
       "      <td>2942</td>\n",
       "      <td>0.059857</td>\n",
       "      <td>0.010653</td>\n",
       "      <td>0.040009</td>\n",
       "      <td>0.107410</td>\n",
       "      <td>1.435689</td>\n",
       "      <td>0.015811</td>\n",
       "      <td>4.920395</td>\n",
       "      <td>0.183</td>\n",
       "      <td>0.192</td>\n",
       "    </tr>\n",
       "    <tr>\n",
       "      <th>4</th>\n",
       "      <td>5</td>\n",
       "      <td>(0.192, 0.2]</td>\n",
       "      <td>735</td>\n",
       "      <td>124</td>\n",
       "      <td>611</td>\n",
       "      <td>0.168707</td>\n",
       "      <td>0.013927</td>\n",
       "      <td>0.004180</td>\n",
       "      <td>0.009996</td>\n",
       "      <td>3237</td>\n",
       "      <td>...</td>\n",
       "      <td>3677</td>\n",
       "      <td>0.073785</td>\n",
       "      <td>0.014834</td>\n",
       "      <td>0.050005</td>\n",
       "      <td>0.119663</td>\n",
       "      <td>1.203429</td>\n",
       "      <td>0.011730</td>\n",
       "      <td>5.895071</td>\n",
       "      <td>0.192</td>\n",
       "      <td>0.200</td>\n",
       "    </tr>\n",
       "    <tr>\n",
       "      <th>...</th>\n",
       "      <td>...</td>\n",
       "      <td>...</td>\n",
       "      <td>...</td>\n",
       "      <td>...</td>\n",
       "      <td>...</td>\n",
       "      <td>...</td>\n",
       "      <td>...</td>\n",
       "      <td>...</td>\n",
       "      <td>...</td>\n",
       "      <td>...</td>\n",
       "      <td>...</td>\n",
       "      <td>...</td>\n",
       "      <td>...</td>\n",
       "      <td>...</td>\n",
       "      <td>...</td>\n",
       "      <td>...</td>\n",
       "      <td>...</td>\n",
       "      <td>...</td>\n",
       "      <td>...</td>\n",
       "      <td>...</td>\n",
       "      <td>...</td>\n",
       "    </tr>\n",
       "    <tr>\n",
       "      <th>95</th>\n",
       "      <td>96</td>\n",
       "      <td>(0.643, 0.654]</td>\n",
       "      <td>735</td>\n",
       "      <td>608</td>\n",
       "      <td>127</td>\n",
       "      <td>0.827211</td>\n",
       "      <td>0.002895</td>\n",
       "      <td>0.020498</td>\n",
       "      <td>0.009996</td>\n",
       "      <td>43549</td>\n",
       "      <td>...</td>\n",
       "      <td>70591</td>\n",
       "      <td>0.992660</td>\n",
       "      <td>0.911671</td>\n",
       "      <td>0.959991</td>\n",
       "      <td>0.383080</td>\n",
       "      <td>-1.957375</td>\n",
       "      <td>0.034455</td>\n",
       "      <td>8.098880</td>\n",
       "      <td>0.643</td>\n",
       "      <td>0.654</td>\n",
       "    </tr>\n",
       "    <tr>\n",
       "      <th>96</th>\n",
       "      <td>97</td>\n",
       "      <td>(0.654, 0.668]</td>\n",
       "      <td>736</td>\n",
       "      <td>635</td>\n",
       "      <td>101</td>\n",
       "      <td>0.862772</td>\n",
       "      <td>0.002302</td>\n",
       "      <td>0.021408</td>\n",
       "      <td>0.010009</td>\n",
       "      <td>43650</td>\n",
       "      <td>...</td>\n",
       "      <td>71327</td>\n",
       "      <td>0.994963</td>\n",
       "      <td>0.933079</td>\n",
       "      <td>0.970000</td>\n",
       "      <td>0.388030</td>\n",
       "      <td>-2.229891</td>\n",
       "      <td>0.042604</td>\n",
       "      <td>6.188314</td>\n",
       "      <td>0.654</td>\n",
       "      <td>0.668</td>\n",
       "    </tr>\n",
       "    <tr>\n",
       "      <th>97</th>\n",
       "      <td>98</td>\n",
       "      <td>(0.668, 0.685]</td>\n",
       "      <td>735</td>\n",
       "      <td>640</td>\n",
       "      <td>95</td>\n",
       "      <td>0.870748</td>\n",
       "      <td>0.002165</td>\n",
       "      <td>0.021576</td>\n",
       "      <td>0.009996</td>\n",
       "      <td>43745</td>\n",
       "      <td>...</td>\n",
       "      <td>72062</td>\n",
       "      <td>0.997128</td>\n",
       "      <td>0.954656</td>\n",
       "      <td>0.979995</td>\n",
       "      <td>0.392953</td>\n",
       "      <td>-2.298978</td>\n",
       "      <td>0.044625</td>\n",
       "      <td>4.247215</td>\n",
       "      <td>0.668</td>\n",
       "      <td>0.685</td>\n",
       "    </tr>\n",
       "    <tr>\n",
       "      <th>98</th>\n",
       "      <td>99</td>\n",
       "      <td>(0.685, 0.708]</td>\n",
       "      <td>735</td>\n",
       "      <td>667</td>\n",
       "      <td>68</td>\n",
       "      <td>0.907483</td>\n",
       "      <td>0.001550</td>\n",
       "      <td>0.022487</td>\n",
       "      <td>0.009996</td>\n",
       "      <td>43813</td>\n",
       "      <td>...</td>\n",
       "      <td>72797</td>\n",
       "      <td>0.998678</td>\n",
       "      <td>0.977142</td>\n",
       "      <td>0.989991</td>\n",
       "      <td>0.398148</td>\n",
       "      <td>-2.674669</td>\n",
       "      <td>0.055999</td>\n",
       "      <td>2.153547</td>\n",
       "      <td>0.685</td>\n",
       "      <td>0.708</td>\n",
       "    </tr>\n",
       "    <tr>\n",
       "      <th>99</th>\n",
       "      <td>100</td>\n",
       "      <td>(0.708, 1.0]</td>\n",
       "      <td>736</td>\n",
       "      <td>678</td>\n",
       "      <td>58</td>\n",
       "      <td>0.921196</td>\n",
       "      <td>0.001322</td>\n",
       "      <td>0.022858</td>\n",
       "      <td>0.010009</td>\n",
       "      <td>43871</td>\n",
       "      <td>...</td>\n",
       "      <td>73533</td>\n",
       "      <td>1.000000</td>\n",
       "      <td>1.000000</td>\n",
       "      <td>1.000000</td>\n",
       "      <td>0.403384</td>\n",
       "      <td>-2.850091</td>\n",
       "      <td>0.061378</td>\n",
       "      <td>0.000000</td>\n",
       "      <td>0.708</td>\n",
       "      <td>1.000</td>\n",
       "    </tr>\n",
       "  </tbody>\n",
       "</table>\n",
       "<p>100 rows × 21 columns</p>\n",
       "</div>"
      ],
      "text/plain": [
       "    grade   phat_interval  Total  Bad  Good  Bad_rate  Distribution Good  \\\n",
       "0       1   (-inf, 0.156]    736   53   683  0.072011           0.015568   \n",
       "1       2  (0.156, 0.172]    735   79   656  0.107483           0.014953   \n",
       "2       3  (0.172, 0.183]    735   82   653  0.111565           0.014885   \n",
       "3       4  (0.183, 0.192]    736  102   634  0.138587           0.014451   \n",
       "4       5    (0.192, 0.2]    735  124   611  0.168707           0.013927   \n",
       "..    ...             ...    ...  ...   ...       ...                ...   \n",
       "95     96  (0.643, 0.654]    735  608   127  0.827211           0.002895   \n",
       "96     97  (0.654, 0.668]    736  635   101  0.862772           0.002302   \n",
       "97     98  (0.668, 0.685]    735  640    95  0.870748           0.002165   \n",
       "98     99  (0.685, 0.708]    735  667    68  0.907483           0.001550   \n",
       "99    100    (0.708, 1.0]    736  678    58  0.921196           0.001322   \n",
       "\n",
       "    Distribution Bad  Distribution Total  Cum Good  ...  Cum Total  \\\n",
       "0           0.001787            0.010009       683  ...        736   \n",
       "1           0.002663            0.009996      1339  ...       1471   \n",
       "2           0.002764            0.009996      1992  ...       2206   \n",
       "3           0.003439            0.010009      2626  ...       2942   \n",
       "4           0.004180            0.009996      3237  ...       3677   \n",
       "..               ...                 ...       ...  ...        ...   \n",
       "95          0.020498            0.009996     43549  ...      70591   \n",
       "96          0.021408            0.010009     43650  ...      71327   \n",
       "97          0.021576            0.009996     43745  ...      72062   \n",
       "98          0.022487            0.009996     43813  ...      72797   \n",
       "99          0.022858            0.010009     43871  ...      73533   \n",
       "\n",
       "    Cum Dist Good  Cum Dist Bad  Cum Dist Total  Cum Bad rate       WoE  \\\n",
       "0        0.015568      0.001787        0.010009      0.072011  2.164816   \n",
       "1        0.030521      0.004450        0.020005      0.089735  1.725326   \n",
       "2        0.045406      0.007215        0.030000      0.097008  1.683471   \n",
       "3        0.059857      0.010653        0.040009      0.107410  1.435689   \n",
       "4        0.073785      0.014834        0.050005      0.119663  1.203429   \n",
       "..            ...           ...             ...           ...       ...   \n",
       "95       0.992660      0.911671        0.959991      0.383080 -1.957375   \n",
       "96       0.994963      0.933079        0.970000      0.388030 -2.229891   \n",
       "97       0.997128      0.954656        0.979995      0.392953 -2.298978   \n",
       "98       0.998678      0.977142        0.989991      0.398148 -2.674669   \n",
       "99       1.000000      1.000000        1.000000      0.403384 -2.850091   \n",
       "\n",
       "          IV        KS  phat_left  phat_right  \n",
       "0   0.029835  1.378157       -inf       0.156  \n",
       "1   0.021204  2.607116      0.156       0.172  \n",
       "2   0.020404  3.819123      0.172       0.183  \n",
       "3   0.015811  4.920395      0.183       0.192  \n",
       "4   0.011730  5.895071      0.192       0.200  \n",
       "..       ...       ...        ...         ...  \n",
       "95  0.034455  8.098880      0.643       0.654  \n",
       "96  0.042604  6.188314      0.654       0.668  \n",
       "97  0.044625  4.247215      0.668       0.685  \n",
       "98  0.055999  2.153547      0.685       0.708  \n",
       "99  0.061378  0.000000      0.708       1.000  \n",
       "\n",
       "[100 rows x 21 columns]"
      ]
     },
     "execution_count": 95,
     "metadata": {},
     "output_type": "execute_result"
    }
   ],
   "source": [
    "# left < x <= right\n",
    "train_phat_grade"
   ]
  },
  {
   "cell_type": "code",
   "execution_count": 54,
   "metadata": {},
   "outputs": [],
   "source": [
    "save_path = os.path.join(r'C:\\Users\\w10\\Desktop\\웰컴\\AS\\8주차(데이터추가추출부터)\\모형등급화\\seg1', 'prob_100tile.xlsx')\n",
    "\n",
    "with pd.ExcelWriter(save_path) as writer:\n",
    "    train_phat_grade.to_excel(writer,sheet_name='train', index = False)\n",
    "    valid_phat_grade.to_excel(writer,sheet_name='valid', index = False)\n",
    "    test_phat_grade.to_excel(writer,sheet_name='test', index = False)\n",
    "    model_valid_phat_grade.to_excel(writer,sheet_name='model_valid', index = False)"
   ]
  },
  {
   "cell_type": "code",
   "execution_count": null,
   "metadata": {},
   "outputs": [],
   "source": []
  },
  {
   "cell_type": "code",
   "execution_count": null,
   "metadata": {},
   "outputs": [],
   "source": []
  },
  {
   "cell_type": "code",
   "execution_count": null,
   "metadata": {},
   "outputs": [],
   "source": []
  },
  {
   "cell_type": "code",
   "execution_count": null,
   "metadata": {},
   "outputs": [],
   "source": []
  },
  {
   "cell_type": "code",
   "execution_count": null,
   "metadata": {},
   "outputs": [],
   "source": []
  }
 ],
 "metadata": {
  "kernelspec": {
   "display_name": "Python 3",
   "language": "python",
   "name": "python3"
  },
  "language_info": {
   "codemirror_mode": {
    "name": "ipython",
    "version": 3
   },
   "file_extension": ".py",
   "mimetype": "text/x-python",
   "name": "python",
   "nbconvert_exporter": "python",
   "pygments_lexer": "ipython3",
   "version": "3.7.4"
  }
 },
 "nbformat": 4,
 "nbformat_minor": 4
}
