{
 "cells": [
  {
   "cell_type": "code",
   "execution_count": 1,
   "metadata": {},
   "outputs": [],
   "source": [
    "import os\n",
    "import pandas as pd\n",
    "import numpy as np\n",
    "from datetime import datetime\n",
    "import warnings\n",
    "\n",
    "warnings.filterwarnings('ignore')\n",
    "\n",
    "pd.set_option('display.max_columns', 100)"
   ]
  },
  {
   "cell_type": "code",
   "execution_count": 2,
   "metadata": {},
   "outputs": [
    {
     "name": "stdout",
     "output_type": "stream",
     "text": [
      "['destruct_17_df.pkl', 'destruct_18_df.pkl', 'destruct_19_df.pkl', 'execute_17_df.pkl', 'execute_18_df.pkl', 'execute_19_df.pkl']\n"
     ]
    }
   ],
   "source": [
    "# load data\n",
    "path = r'D:\\Seminar Documents\\신용평가 세미나\\pickle데이터'\n",
    "filename_list = os.listdir(path)\n",
    "print(filename_list)"
   ]
  },
  {
   "cell_type": "code",
   "execution_count": 3,
   "metadata": {},
   "outputs": [
    {
     "name": "stdout",
     "output_type": "stream",
     "text": [
      "destruct_17_df (69196, 1933)\n",
      "destruct_18_df (57160, 1933)\n",
      "destruct_19_df (72992, 1933)\n",
      "execute_17_df (4920, 1933)\n",
      "execute_18_df (2786, 1933)\n",
      "execute_19_df (2434, 1933)\n"
     ]
    }
   ],
   "source": [
    "data_dict = dict()\n",
    "for file in filename_list:\n",
    "    df = pd.read_pickle(os.path.join(path, file))\n",
    "    keyname = file.replace('.pkl', '')\n",
    "    data_dict[keyname] = df\n",
    "    print(keyname, df.shape)"
   ]
  },
  {
   "cell_type": "code",
   "execution_count": 4,
   "metadata": {},
   "outputs": [],
   "source": [
    "# 내부항목 생성\n",
    "# 실행(execute)/파기(destruct) 구분 column 생성\n",
    "for key, df in data_dict.items():\n",
    "    if key.find('exec') != -1:\n",
    "        df['EXECUTE_FG'] = 1\n",
    "        df['DESTRUCT_FG'] = 0\n",
    "    else:\n",
    "        df['EXECUTE_FG'] = 0\n",
    "        df['DESTRUCT_FG'] = 1"
   ]
  },
  {
   "cell_type": "code",
   "execution_count": 5,
   "metadata": {},
   "outputs": [],
   "source": [
    "# 연도 구분 column 생성\n",
    "for key, df in data_dict.items():\n",
    "    if key.find('17') != -1:\n",
    "        df['Y_2017_FG'] = 1\n",
    "        df['Y_2018_FG'] = 0\n",
    "        df['Y_2019_FG'] = 0\n",
    "    elif key.find('18') != -1:\n",
    "        df['Y_2017_FG'] = 0\n",
    "        df['Y_2018_FG'] = 1\n",
    "        df['Y_2019_FG'] = 0\n",
    "    else:\n",
    "        df['Y_2017_FG'] = 0\n",
    "        df['Y_2018_FG'] = 0\n",
    "        df['Y_2019_FG'] = 1"
   ]
  },
  {
   "cell_type": "code",
   "execution_count": 6,
   "metadata": {},
   "outputs": [],
   "source": [
    "# 고유 no 부여\n",
    "total_df = pd.concat(data_dict.values(), axis=0)\n",
    "total_df = total_df.sort_values(by=['신청월'], ascending=True)\n",
    "total_df['no'] = list(range(1, total_df.shape[0] + 1))"
   ]
  },
  {
   "cell_type": "code",
   "execution_count": 7,
   "metadata": {},
   "outputs": [],
   "source": [
    "data_dict['execute_17_df'] = total_df[(total_df['EXECUTE_FG'] == 1) & (total_df['Y_2017_FG'] == 1)]\n",
    "data_dict['execute_18_df'] = total_df[(total_df['EXECUTE_FG'] == 1) & (total_df['Y_2018_FG'] == 1)]\n",
    "data_dict['execute_19_df'] = total_df[(total_df['EXECUTE_FG'] == 1) & (total_df['Y_2019_FG'] == 1)]\n",
    "data_dict['destruct_17_df'] = total_df[(total_df['DESTRUCT_FG'] == 1) & (total_df['Y_2017_FG'] == 1)]\n",
    "data_dict['destruct_18_df'] = total_df[(total_df['DESTRUCT_FG'] == 1) & (total_df['Y_2018_FG'] == 1)]\n",
    "data_dict['destruct_19_df'] = total_df[(total_df['DESTRUCT_FG'] == 1) & (total_df['Y_2019_FG'] == 1)]\n",
    "del total_df"
   ]
  },
  {
   "cell_type": "code",
   "execution_count": 8,
   "metadata": {},
   "outputs": [
    {
     "name": "stdout",
     "output_type": "stream",
     "text": [
      "destruct_17_df (69196, 1933)\n",
      "destruct_18_df (57160, 1933)\n",
      "destruct_19_df (72992, 1933)\n",
      "execute_17_df (4920, 1933)\n",
      "execute_18_df (2786, 1933)\n",
      "execute_19_df (2434, 1933)\n"
     ]
    }
   ],
   "source": [
    "for key, df in data_dict.items():\n",
    "    print(key, df.shape)"
   ]
  },
  {
   "cell_type": "code",
   "execution_count": 9,
   "metadata": {},
   "outputs": [
    {
     "name": "stdout",
     "output_type": "stream",
     "text": [
      "Index(['no', '신청월', '직군그룹', '근속기간1', '웰컴_소득구간', '심사원장_소득구간', 'AS0000136',\n",
      "       'AS0000137', 'AS0000138', 'AS0000139',\n",
      "       ...\n",
      "       'LA0000001_1_s12', 'LA0000020_1_s12', 'LA0000204_1_s12',\n",
      "       'LA0000227_1_s12', 'P2O000500_1_s12', 'EXECUTE_FG', 'DESTRUCT_FG',\n",
      "       'Y_2017_FG', 'Y_2018_FG', 'Y_2019_FG'],\n",
      "      dtype='object', length=1933)\n"
     ]
    }
   ],
   "source": [
    "# 중복 여부 column 생성\n",
    "print(data_dict['execute_17_df'].columns)"
   ]
  },
  {
   "cell_type": "code",
   "execution_count": 10,
   "metadata": {},
   "outputs": [],
   "source": [
    "duplicate_chk_cols_list = data_dict['execute_17_df'].columns[2:-5].tolist()"
   ]
  },
  {
   "cell_type": "code",
   "execution_count": 11,
   "metadata": {},
   "outputs": [],
   "source": [
    "for df in data_dict.values():\n",
    "    df['DUP_FG_1'] = df.duplicated(duplicate_chk_cols_list, keep='last')  # boolean Series return\n",
    "    df['DUP_FG_1'] = df['DUP_FG_1'].map({True: 1, False: 0})  # map으로 T or F을 0 or 1로 변환"
   ]
  },
  {
   "cell_type": "code",
   "execution_count": 12,
   "metadata": {},
   "outputs": [
    {
     "name": "stdout",
     "output_type": "stream",
     "text": [
      "destruct_17_df dup:  1263\n",
      "destruct_18_df dup:  1833\n",
      "destruct_19_df dup:  7741\n",
      "execute_17_df dup:  0\n",
      "execute_18_df dup:  0\n",
      "execute_19_df dup:  64\n",
      "dup_sum:  10901\n"
     ]
    }
   ],
   "source": [
    "temp_list = list()\n",
    "for key, df in data_dict.items():\n",
    "    value = df['DUP_FG_1'].sum()\n",
    "    temp_list.append(value)\n",
    "    print(key, 'dup: ', value)\n",
    "print('dup_sum: ', np.sum(temp_list))"
   ]
  },
  {
   "cell_type": "code",
   "execution_count": 13,
   "metadata": {},
   "outputs": [],
   "source": [
    "# 전체 데이터 결합\n",
    "total_df = pd.concat(data_dict.values(), axis=0)\n",
    "total_df = total_df.sort_values(by=['EXECUTE_FG', 'DESTRUCT_FG', '신청월'], ascending=True)"
   ]
  },
  {
   "cell_type": "code",
   "execution_count": 14,
   "metadata": {},
   "outputs": [
    {
     "data": {
      "text/html": [
       "<div>\n",
       "<style scoped>\n",
       "    .dataframe tbody tr th:only-of-type {\n",
       "        vertical-align: middle;\n",
       "    }\n",
       "\n",
       "    .dataframe tbody tr th {\n",
       "        vertical-align: top;\n",
       "    }\n",
       "\n",
       "    .dataframe thead th {\n",
       "        text-align: right;\n",
       "    }\n",
       "</style>\n",
       "<table border=\"1\" class=\"dataframe\">\n",
       "  <thead>\n",
       "    <tr style=\"text-align: right;\">\n",
       "      <th></th>\n",
       "      <th>no</th>\n",
       "      <th>신청월</th>\n",
       "      <th>직군그룹</th>\n",
       "      <th>근속기간1</th>\n",
       "      <th>웰컴_소득구간</th>\n",
       "      <th>심사원장_소득구간</th>\n",
       "      <th>AS0000136</th>\n",
       "      <th>AS0000137</th>\n",
       "      <th>AS0000138</th>\n",
       "      <th>AS0000139</th>\n",
       "      <th>B12000100</th>\n",
       "      <th>B12000200</th>\n",
       "      <th>B14000600</th>\n",
       "      <th>B22000100</th>\n",
       "      <th>B22000200</th>\n",
       "      <th>B22000300</th>\n",
       "      <th>B24000600</th>\n",
       "      <th>B28000001</th>\n",
       "      <th>B29000110</th>\n",
       "      <th>B32000200</th>\n",
       "      <th>B34000600</th>\n",
       "      <th>B41090101</th>\n",
       "      <th>B41100100</th>\n",
       "      <th>B41100200</th>\n",
       "      <th>B41100300</th>\n",
       "      <th>B41100400</th>\n",
       "      <th>B41110200</th>\n",
       "      <th>B41110400</th>\n",
       "      <th>B4E000002</th>\n",
       "      <th>BE0000021</th>\n",
       "      <th>BS0000058</th>\n",
       "      <th>BS0000114</th>\n",
       "      <th>BS0000145</th>\n",
       "      <th>BS0000146</th>\n",
       "      <th>BS0000171</th>\n",
       "      <th>BS0000917</th>\n",
       "      <th>C00000029</th>\n",
       "      <th>C11060700</th>\n",
       "      <th>C11060600</th>\n",
       "      <th>C11060400</th>\n",
       "      <th>C11060500</th>\n",
       "      <th>C11060800</th>\n",
       "      <th>CA0000601</th>\n",
       "      <th>CA0000602</th>\n",
       "      <th>CA0000603</th>\n",
       "      <th>CA0000604</th>\n",
       "      <th>CF0300309</th>\n",
       "      <th>CF0600309</th>\n",
       "      <th>CF1200309</th>\n",
       "      <th>CF0200309</th>\n",
       "      <th>...</th>\n",
       "      <th>GU0024201_1_3</th>\n",
       "      <th>GU0024001_1_3</th>\n",
       "      <th>LU0024002_1_4</th>\n",
       "      <th>LU0024202_1_4</th>\n",
       "      <th>LU0024608_1_4</th>\n",
       "      <th>GU0024201_1_4</th>\n",
       "      <th>GU0024001_1_4</th>\n",
       "      <th>P2O000500_1_s9</th>\n",
       "      <th>P2O000500_1_s3</th>\n",
       "      <th>P2E000500_1_s6</th>\n",
       "      <th>P2E000500_1_s3</th>\n",
       "      <th>P2E000500_1_s12</th>\n",
       "      <th>P27000100_1_s9</th>\n",
       "      <th>P27000100_1_s6</th>\n",
       "      <th>P27000100_1_s3</th>\n",
       "      <th>P27000100_1_s12</th>\n",
       "      <th>P21010500_1_s9</th>\n",
       "      <th>P21010500_1_s6</th>\n",
       "      <th>P21010500_1_s12</th>\n",
       "      <th>LA0000227_1_s6</th>\n",
       "      <th>LA0000227_1_s3</th>\n",
       "      <th>LA0000222_1_s9</th>\n",
       "      <th>LA0000222_1_s6</th>\n",
       "      <th>LA0000222_1_s3</th>\n",
       "      <th>LA0000222_1_s12</th>\n",
       "      <th>LA0000204_1_s9</th>\n",
       "      <th>LA0000203_1_s9</th>\n",
       "      <th>LA0000203_1_s6</th>\n",
       "      <th>LA0000001_1_s3</th>\n",
       "      <th>LA0000020_1_s3</th>\n",
       "      <th>LA0000203_1_s3</th>\n",
       "      <th>P21010500_1_s3</th>\n",
       "      <th>LA0000001_1_s6</th>\n",
       "      <th>LA0000204_1_s6</th>\n",
       "      <th>P2O000500_1_s6</th>\n",
       "      <th>LA0000001_1_s9</th>\n",
       "      <th>LA0000020_1_s9</th>\n",
       "      <th>LA0000227_1_s9</th>\n",
       "      <th>P2E000500_1_s9</th>\n",
       "      <th>LA0000001_1_s12</th>\n",
       "      <th>LA0000020_1_s12</th>\n",
       "      <th>LA0000204_1_s12</th>\n",
       "      <th>LA0000227_1_s12</th>\n",
       "      <th>P2O000500_1_s12</th>\n",
       "      <th>EXECUTE_FG</th>\n",
       "      <th>DESTRUCT_FG</th>\n",
       "      <th>Y_2017_FG</th>\n",
       "      <th>Y_2018_FG</th>\n",
       "      <th>Y_2019_FG</th>\n",
       "      <th>DUP_FG_1</th>\n",
       "    </tr>\n",
       "  </thead>\n",
       "  <tbody>\n",
       "    <tr>\n",
       "      <th>0</th>\n",
       "      <td>1</td>\n",
       "      <td>201612</td>\n",
       "      <td>NaN</td>\n",
       "      <td>5.0</td>\n",
       "      <td>5.0</td>\n",
       "      <td>5.0</td>\n",
       "      <td>23</td>\n",
       "      <td>-1</td>\n",
       "      <td>1</td>\n",
       "      <td>0</td>\n",
       "      <td>0</td>\n",
       "      <td>0</td>\n",
       "      <td>0</td>\n",
       "      <td>0</td>\n",
       "      <td>0</td>\n",
       "      <td>0</td>\n",
       "      <td>0</td>\n",
       "      <td>0</td>\n",
       "      <td>0</td>\n",
       "      <td>0</td>\n",
       "      <td>0</td>\n",
       "      <td>0</td>\n",
       "      <td>0</td>\n",
       "      <td>0</td>\n",
       "      <td>0</td>\n",
       "      <td>0</td>\n",
       "      <td>0</td>\n",
       "      <td>0</td>\n",
       "      <td>0</td>\n",
       "      <td>0</td>\n",
       "      <td>0</td>\n",
       "      <td>0</td>\n",
       "      <td>0</td>\n",
       "      <td>0</td>\n",
       "      <td>0</td>\n",
       "      <td>0</td>\n",
       "      <td>0</td>\n",
       "      <td>0</td>\n",
       "      <td>0</td>\n",
       "      <td>0</td>\n",
       "      <td>0</td>\n",
       "      <td>0</td>\n",
       "      <td>0</td>\n",
       "      <td>0</td>\n",
       "      <td>1382</td>\n",
       "      <td>104</td>\n",
       "      <td>0</td>\n",
       "      <td>0</td>\n",
       "      <td>0</td>\n",
       "      <td>0</td>\n",
       "      <td>...</td>\n",
       "      <td>0</td>\n",
       "      <td>0</td>\n",
       "      <td>0</td>\n",
       "      <td>0</td>\n",
       "      <td>113</td>\n",
       "      <td>0</td>\n",
       "      <td>0</td>\n",
       "      <td>0.0</td>\n",
       "      <td>0.0</td>\n",
       "      <td>0.0</td>\n",
       "      <td>0.0</td>\n",
       "      <td>0.0</td>\n",
       "      <td>0.0</td>\n",
       "      <td>0.0</td>\n",
       "      <td>0.0</td>\n",
       "      <td>0.0</td>\n",
       "      <td>0.0</td>\n",
       "      <td>0.0</td>\n",
       "      <td>0.0</td>\n",
       "      <td>-318.640015</td>\n",
       "      <td>0.0</td>\n",
       "      <td>-339.390015</td>\n",
       "      <td>-321.429993</td>\n",
       "      <td>0.000000</td>\n",
       "      <td>-236.259995</td>\n",
       "      <td>-204.740005</td>\n",
       "      <td>-339.390015</td>\n",
       "      <td>-321.429993</td>\n",
       "      <td>0.0</td>\n",
       "      <td>0.0</td>\n",
       "      <td>0.000000</td>\n",
       "      <td>0.0</td>\n",
       "      <td>-0.11</td>\n",
       "      <td>-318.640015</td>\n",
       "      <td>0.0</td>\n",
       "      <td>-0.15</td>\n",
       "      <td>-0.15</td>\n",
       "      <td>-204.740005</td>\n",
       "      <td>0.0</td>\n",
       "      <td>-0.12</td>\n",
       "      <td>-0.12</td>\n",
       "      <td>-166.75</td>\n",
       "      <td>-166.75</td>\n",
       "      <td>0.0</td>\n",
       "      <td>0</td>\n",
       "      <td>1</td>\n",
       "      <td>1</td>\n",
       "      <td>0</td>\n",
       "      <td>0</td>\n",
       "      <td>0</td>\n",
       "    </tr>\n",
       "    <tr>\n",
       "      <th>24</th>\n",
       "      <td>2</td>\n",
       "      <td>201612</td>\n",
       "      <td>NaN</td>\n",
       "      <td>2.0</td>\n",
       "      <td>2.0</td>\n",
       "      <td>0.0</td>\n",
       "      <td>-1</td>\n",
       "      <td>31</td>\n",
       "      <td>1</td>\n",
       "      <td>0</td>\n",
       "      <td>0</td>\n",
       "      <td>0</td>\n",
       "      <td>0</td>\n",
       "      <td>0</td>\n",
       "      <td>0</td>\n",
       "      <td>0</td>\n",
       "      <td>0</td>\n",
       "      <td>0</td>\n",
       "      <td>0</td>\n",
       "      <td>0</td>\n",
       "      <td>0</td>\n",
       "      <td>0</td>\n",
       "      <td>0</td>\n",
       "      <td>0</td>\n",
       "      <td>0</td>\n",
       "      <td>0</td>\n",
       "      <td>0</td>\n",
       "      <td>0</td>\n",
       "      <td>0</td>\n",
       "      <td>0</td>\n",
       "      <td>0</td>\n",
       "      <td>0</td>\n",
       "      <td>0</td>\n",
       "      <td>0</td>\n",
       "      <td>0</td>\n",
       "      <td>0</td>\n",
       "      <td>2814</td>\n",
       "      <td>0</td>\n",
       "      <td>0</td>\n",
       "      <td>0</td>\n",
       "      <td>0</td>\n",
       "      <td>0</td>\n",
       "      <td>3347</td>\n",
       "      <td>2094</td>\n",
       "      <td>3347</td>\n",
       "      <td>742</td>\n",
       "      <td>1856</td>\n",
       "      <td>2825</td>\n",
       "      <td>2253</td>\n",
       "      <td>1502</td>\n",
       "      <td>...</td>\n",
       "      <td>0</td>\n",
       "      <td>0</td>\n",
       "      <td>3</td>\n",
       "      <td>9000</td>\n",
       "      <td>10</td>\n",
       "      <td>0</td>\n",
       "      <td>0</td>\n",
       "      <td>0.0</td>\n",
       "      <td>0.0</td>\n",
       "      <td>0.0</td>\n",
       "      <td>0.0</td>\n",
       "      <td>0.0</td>\n",
       "      <td>0.0</td>\n",
       "      <td>0.0</td>\n",
       "      <td>0.0</td>\n",
       "      <td>0.0</td>\n",
       "      <td>0.0</td>\n",
       "      <td>0.0</td>\n",
       "      <td>0.0</td>\n",
       "      <td>537.609985</td>\n",
       "      <td>-15.3</td>\n",
       "      <td>-548.669983</td>\n",
       "      <td>-6.320000</td>\n",
       "      <td>-17.700001</td>\n",
       "      <td>-375.570007</td>\n",
       "      <td>453.519989</td>\n",
       "      <td>-548.669983</td>\n",
       "      <td>-6.320000</td>\n",
       "      <td>0.0</td>\n",
       "      <td>0.0</td>\n",
       "      <td>-17.700001</td>\n",
       "      <td>0.0</td>\n",
       "      <td>0.25</td>\n",
       "      <td>537.609985</td>\n",
       "      <td>0.0</td>\n",
       "      <td>0.16</td>\n",
       "      <td>0.16</td>\n",
       "      <td>453.519989</td>\n",
       "      <td>0.0</td>\n",
       "      <td>0.10</td>\n",
       "      <td>0.10</td>\n",
       "      <td>447.50</td>\n",
       "      <td>447.50</td>\n",
       "      <td>0.0</td>\n",
       "      <td>0</td>\n",
       "      <td>1</td>\n",
       "      <td>1</td>\n",
       "      <td>0</td>\n",
       "      <td>0</td>\n",
       "      <td>0</td>\n",
       "    </tr>\n",
       "  </tbody>\n",
       "</table>\n",
       "<p>2 rows × 1934 columns</p>\n",
       "</div>"
      ],
      "text/plain": [
       "    no     신청월 직군그룹  근속기간1  웰컴_소득구간  심사원장_소득구간  AS0000136  AS0000137  \\\n",
       "0    1  201612  NaN    5.0      5.0        5.0         23         -1   \n",
       "24   2  201612  NaN    2.0      2.0        0.0         -1         31   \n",
       "\n",
       "    AS0000138  AS0000139  B12000100  B12000200  B14000600  B22000100  \\\n",
       "0           1          0          0          0          0          0   \n",
       "24          1          0          0          0          0          0   \n",
       "\n",
       "    B22000200  B22000300  B24000600  B28000001  B29000110  B32000200  \\\n",
       "0           0          0          0          0          0          0   \n",
       "24          0          0          0          0          0          0   \n",
       "\n",
       "    B34000600  B41090101  B41100100  B41100200  B41100300  B41100400  \\\n",
       "0           0          0          0          0          0          0   \n",
       "24          0          0          0          0          0          0   \n",
       "\n",
       "    B41110200  B41110400  B4E000002  BE0000021  BS0000058  BS0000114  \\\n",
       "0           0          0          0          0          0          0   \n",
       "24          0          0          0          0          0          0   \n",
       "\n",
       "    BS0000145  BS0000146  BS0000171  BS0000917  C00000029  C11060700  \\\n",
       "0           0          0          0          0          0          0   \n",
       "24          0          0          0          0       2814          0   \n",
       "\n",
       "    C11060600  C11060400  C11060500  C11060800  CA0000601  CA0000602  \\\n",
       "0           0          0          0          0          0          0   \n",
       "24          0          0          0          0       3347       2094   \n",
       "\n",
       "    CA0000603  CA0000604  CF0300309  CF0600309  CF1200309  CF0200309  ...  \\\n",
       "0        1382        104          0          0          0          0  ...   \n",
       "24       3347        742       1856       2825       2253       1502  ...   \n",
       "\n",
       "    GU0024201_1_3  GU0024001_1_3  LU0024002_1_4  LU0024202_1_4  LU0024608_1_4  \\\n",
       "0               0              0              0              0            113   \n",
       "24              0              0              3           9000             10   \n",
       "\n",
       "    GU0024201_1_4  GU0024001_1_4  P2O000500_1_s9  P2O000500_1_s3  \\\n",
       "0               0              0             0.0             0.0   \n",
       "24              0              0             0.0             0.0   \n",
       "\n",
       "    P2E000500_1_s6  P2E000500_1_s3  P2E000500_1_s12  P27000100_1_s9  \\\n",
       "0              0.0             0.0              0.0             0.0   \n",
       "24             0.0             0.0              0.0             0.0   \n",
       "\n",
       "    P27000100_1_s6  P27000100_1_s3  P27000100_1_s12  P21010500_1_s9  \\\n",
       "0              0.0             0.0              0.0             0.0   \n",
       "24             0.0             0.0              0.0             0.0   \n",
       "\n",
       "    P21010500_1_s6  P21010500_1_s12  LA0000227_1_s6  LA0000227_1_s3  \\\n",
       "0              0.0              0.0     -318.640015             0.0   \n",
       "24             0.0              0.0      537.609985           -15.3   \n",
       "\n",
       "    LA0000222_1_s9  LA0000222_1_s6  LA0000222_1_s3  LA0000222_1_s12  \\\n",
       "0      -339.390015     -321.429993        0.000000      -236.259995   \n",
       "24     -548.669983       -6.320000      -17.700001      -375.570007   \n",
       "\n",
       "    LA0000204_1_s9  LA0000203_1_s9  LA0000203_1_s6  LA0000001_1_s3  \\\n",
       "0      -204.740005     -339.390015     -321.429993             0.0   \n",
       "24      453.519989     -548.669983       -6.320000             0.0   \n",
       "\n",
       "    LA0000020_1_s3  LA0000203_1_s3  P21010500_1_s3  LA0000001_1_s6  \\\n",
       "0              0.0        0.000000             0.0           -0.11   \n",
       "24             0.0      -17.700001             0.0            0.25   \n",
       "\n",
       "    LA0000204_1_s6  P2O000500_1_s6  LA0000001_1_s9  LA0000020_1_s9  \\\n",
       "0      -318.640015             0.0           -0.15           -0.15   \n",
       "24      537.609985             0.0            0.16            0.16   \n",
       "\n",
       "    LA0000227_1_s9  P2E000500_1_s9  LA0000001_1_s12  LA0000020_1_s12  \\\n",
       "0      -204.740005             0.0            -0.12            -0.12   \n",
       "24      453.519989             0.0             0.10             0.10   \n",
       "\n",
       "    LA0000204_1_s12  LA0000227_1_s12  P2O000500_1_s12  EXECUTE_FG  \\\n",
       "0           -166.75          -166.75              0.0           0   \n",
       "24           447.50           447.50              0.0           0   \n",
       "\n",
       "    DESTRUCT_FG  Y_2017_FG  Y_2018_FG  Y_2019_FG  DUP_FG_1  \n",
       "0             1          1          0          0         0  \n",
       "24            1          1          0          0         0  \n",
       "\n",
       "[2 rows x 1934 columns]"
      ]
     },
     "execution_count": 14,
     "metadata": {},
     "output_type": "execute_result"
    }
   ],
   "source": [
    "total_df.head(2)"
   ]
  },
  {
   "cell_type": "code",
   "execution_count": 15,
   "metadata": {},
   "outputs": [],
   "source": [
    "# 중복 여부 column 생성: 실행/파기\n",
    "temp_df = total_df[total_df['DUP_FG_1'] == 0]\n",
    "duplicate_no_list = temp_df.loc[temp_df.duplicated(duplicate_chk_cols_list, keep='last'), 'no'].tolist()"
   ]
  },
  {
   "cell_type": "code",
   "execution_count": 16,
   "metadata": {},
   "outputs": [],
   "source": [
    "total_df['DUP_FG_2'] = 0\n",
    "total_df.loc[total_df['no'].isin(duplicate_no_list), 'DUP_FG_2'] = 1"
   ]
  },
  {
   "cell_type": "code",
   "execution_count": 17,
   "metadata": {},
   "outputs": [
    {
     "name": "stdout",
     "output_type": "stream",
     "text": [
      "final_dup:  10939\n"
     ]
    }
   ],
   "source": [
    "total_df['FINAL_DUP_FG'] = total_df['DUP_FG_1'] + total_df['DUP_FG_2']\n",
    "total_df['FINAL_DUP_FG'] = total_df['FINAL_DUP_FG'].apply(lambda x: 1 if x > 0 else 0)\n",
    "print('final_dup: ', total_df['FINAL_DUP_FG'].sum())"
   ]
  },
  {
   "cell_type": "code",
   "execution_count": 18,
   "metadata": {},
   "outputs": [],
   "source": [
    "# 저장\n",
    "total_df.sort_values(by=['no'], ascending=True, inplace=True)\n",
    "total_df.reset_index(drop=True, inplace=True)"
   ]
  },
  {
   "cell_type": "code",
   "execution_count": 19,
   "metadata": {},
   "outputs": [
    {
     "name": "stdout",
     "output_type": "stream",
     "text": [
      "['no', '신청월', '직군그룹', '근속기간1', '웰컴_소득구간', '심사원장_소득구간', 'EXECUTE_FG', 'DESTRUCT_FG', 'Y_2017_FG', 'Y_2018_FG', 'Y_2019_FG', 'DUP_FG_1', 'DUP_FG_2', 'FINAL_DUP_FG']\n"
     ]
    }
   ],
   "source": [
    "need_cols = total_df.columns[:6].tolist()\n",
    "fg_cols = total_df.columns[total_df.columns.str.contains('FG')].tolist()\n",
    "final_need_cols = need_cols + fg_cols\n",
    "print(final_need_cols)"
   ]
  },
  {
   "cell_type": "code",
   "execution_count": 20,
   "metadata": {},
   "outputs": [],
   "source": [
    "inner_total_df = total_df[final_need_cols]\n",
    "inner_total_df.sort_values(by=['no'], ascending=True, inplace=True)"
   ]
  },
  {
   "cell_type": "code",
   "execution_count": null,
   "metadata": {},
   "outputs": [],
   "source": [
    "save_dir = r'D:\\Seminar Documents\\신용평가 세미나\\복습'\n",
    "inner_total_df.to_csv(os.path.join(save_dir, 'temp1_inner_total_df.csv'), index=False)\n",
    "total_df = total_df.drop(fg_cols, axis=1)\n",
    "total_df.to_pickle(os.path.join(save_dir, 'total_df.pkl'))"
   ]
  },
  {
   "cell_type": "code",
   "execution_count": 22,
   "metadata": {},
   "outputs": [],
   "source": [
    "# 내부항목 생성\n",
    "# 0등급(CB,SP) column 생성\n",
    "def grade_zero(cb, sp):\n",
    "    result = 0\n",
    "    if cb == 0 or sp == 0:\n",
    "        result = 1\n",
    "    return result"
   ]
  },
  {
   "cell_type": "code",
   "execution_count": 23,
   "metadata": {},
   "outputs": [
    {
     "name": "stdout",
     "output_type": "stream",
     "text": [
      "total_grade_0:  36\n"
     ]
    }
   ],
   "source": [
    "input_cols = ['Grd_RK0400_000', 'Grd_RK0400_700']\n",
    "total_df['GRADE_ZERO_FG'] = total_df[input_cols].apply(lambda x: grade_zero(x['Grd_RK0400_000'], x['Grd_RK0400_700']), axis=1)\n",
    "print('total_grade_0: ', total_df['GRADE_ZERO_FG'].sum())"
   ]
  },
  {
   "cell_type": "code",
   "execution_count": 24,
   "metadata": {},
   "outputs": [
    {
     "name": "stdout",
     "output_type": "stream",
     "text": [
      "grade_0:  36\n"
     ]
    }
   ],
   "source": [
    "inner_total_df['GRADE_ZERO_FG'] = total_df['GRADE_ZERO_FG']\n",
    "print('grade_0: ', inner_total_df['GRADE_ZERO_FG'].sum())"
   ]
  },
  {
   "cell_type": "code",
   "execution_count": 25,
   "metadata": {},
   "outputs": [],
   "source": [
    "# 기부도 column 생성\n",
    "def pre_bad(col):\n",
    "    result = 0\n",
    "    if col > 0:\n",
    "        result = 1\n",
    "    return result"
   ]
  },
  {
   "cell_type": "code",
   "execution_count": 26,
   "metadata": {},
   "outputs": [
    {
     "name": "stdout",
     "output_type": "stream",
     "text": [
      "PRE_BAD_FG_1     3192\n",
      "PRE_BAD_FG_2      752\n",
      "PRE_BAD_FG_3     1521\n",
      "PRE_BAD_FG_4      922\n",
      "PRE_BAD_FG_5    15426\n",
      "PRE_BAD_FG_6     4042\n",
      "PRE_BAD_FG_7     4596\n",
      "PRE_BAD_FG_8    19875\n",
      "dtype: int64\n"
     ]
    }
   ],
   "source": [
    "need_cols = ['BS0000145', 'BS0000172', 'BS0000169', 'BS0000171', 'B12000200', 'B22000200', 'PS0000296_1', 'P27000100']\n",
    "result_cols = ['PRE_BAD_FG_1', 'PRE_BAD_FG_2', 'PRE_BAD_FG_3', 'PRE_BAD_FG_4', 'PRE_BAD_FG_5', 'PRE_BAD_FG_6','PRE_BAD_FG_7', 'PRE_BAD_FG_8']\n",
    "\n",
    "for in_col, out_col in zip(need_cols, result_cols):\n",
    "    total_df[out_col] = total_df[in_col].apply(lambda x: pre_bad(x))\n",
    "print(total_df[result_cols].sum())\n",
    "inner_total_df[result_cols] = total_df[result_cols]"
   ]
  },
  {
   "cell_type": "code",
   "execution_count": 27,
   "metadata": {},
   "outputs": [
    {
     "name": "stdout",
     "output_type": "stream",
     "text": [
      "total_pre_bad:  32681\n"
     ]
    }
   ],
   "source": [
    "need_cols = ['PRE_BAD_FG_1', 'PRE_BAD_FG_2', 'PRE_BAD_FG_3', 'PRE_BAD_FG_4', 'PRE_BAD_FG_5', 'PRE_BAD_FG_6','PRE_BAD_FG_7', 'PRE_BAD_FG_8']\n",
    "\n",
    "total_df['TOTAL_PRE_BAD_FG'] = total_df[need_cols].sum(axis=1)\n",
    "total_df['TOTAL_PRE_BAD_FG'] = total_df['TOTAL_PRE_BAD_FG'].apply(lambda x: 1 if x > 0 else 0)\n",
    "print('total_pre_bad: ', total_df['TOTAL_PRE_BAD_FG'].sum())"
   ]
  },
  {
   "cell_type": "code",
   "execution_count": 28,
   "metadata": {},
   "outputs": [],
   "source": [
    "inner_total_df['TOTAL_PRE_BAD_FG'] = total_df['TOTAL_PRE_BAD_FG']"
   ]
  },
  {
   "cell_type": "code",
   "execution_count": null,
   "metadata": {},
   "outputs": [],
   "source": [
    "# 저장\n",
    "save_dir = r'D:\\Seminar Documents\\신용평가 세미나\\복습'\n",
    "inner_total_df.to_csv(os.path.join(save_dir, 'temp2_inner_total_df.csv'), index=False)"
   ]
  },
  {
   "cell_type": "code",
   "execution_count": 30,
   "metadata": {},
   "outputs": [],
   "source": [
    "# 주택담보대출 column 생성\n",
    "house_cols = ['LA0000126', 'L23001001', 'A5WC0000008500', 'A5WC0000008400', 'LA0001016', 'LA0005008',\n",
    "              'LA0006011', 'LA0007201', 'LA0008008', 'LA0012005', 'LA0012208', 'LA0014008', 'LA0029203',\n",
    "              'LA0099252', 'LU0021006_1', 'LU0024013_1', 'LU0025004_1']\n",
    "house_cols_name = ['TOTAL_HOUSE_FG_1', 'TOTAL_HOUSE_FG_2', 'TOTAL_HOUSE_FG_3', 'TOTAL_HOUSE_FG_4',\n",
    "                   'BANK_HOUSE_FG', 'INS_HOUSE_FG', 'CARD_HOUSE_FG', 'LEASE_HOUSE_FG', 'SB_HOUSE_FG',\n",
    "                   'COOP_HOUSE_FG', 'CREDUNION_HOUSE_FG', 'CAP_HOUSE_FG', 'MG_HOUSE_FG', 'ETC_HOUSE_FG',\n",
    "                   'ACC_SB_HOUSE_FG', 'ACC_ML_HOUSE_FG', 'ACC_P2P_HOUSE_FG']"
   ]
  },
  {
   "cell_type": "code",
   "execution_count": 31,
   "metadata": {},
   "outputs": [
    {
     "name": "stdout",
     "output_type": "stream",
     "text": [
      "TOTAL_HOUSE_FG_3    209488\n",
      "TOTAL_HOUSE_FG_4    209488\n",
      "dtype: int64\n"
     ]
    }
   ],
   "source": [
    "for house_col, col_name in zip(house_cols, house_cols_name):\n",
    "    total_df[col_name] = total_df[house_col].apply(lambda x: 1 if x > 0 else 0)\n",
    "    \n",
    "print(total_df[['TOTAL_HOUSE_FG_3', 'TOTAL_HOUSE_FG_4']].sum())"
   ]
  },
  {
   "cell_type": "code",
   "execution_count": 32,
   "metadata": {},
   "outputs": [],
   "source": [
    "def welc_house_fg(welc_house_col):\n",
    "    result = 0\n",
    "    if welc_house_col == 1:\n",
    "        result = 1\n",
    "    return result"
   ]
  },
  {
   "cell_type": "code",
   "execution_count": 33,
   "metadata": {},
   "outputs": [],
   "source": [
    "need_cols = ['A5WC0000008500', 'A5WC0000008400']\n",
    "result_cols = ['TOTAL_HOUSE_FG_3', 'TOTAL_HOUSE_FG_4']\n",
    "for in_col, out_col in zip(need_cols, result_cols):\n",
    "    total_df[out_col] = total_df[in_col].apply(lambda x: welc_house_fg(x))"
   ]
  },
  {
   "cell_type": "code",
   "execution_count": 34,
   "metadata": {},
   "outputs": [],
   "source": [
    "inner_total_df[house_cols_name] = total_df[house_cols_name]"
   ]
  },
  {
   "cell_type": "code",
   "execution_count": 35,
   "metadata": {},
   "outputs": [
    {
     "name": "stdout",
     "output_type": "stream",
     "text": [
      "total_house:  16557\n"
     ]
    }
   ],
   "source": [
    "need_cols = ['TOTAL_HOUSE_FG_1', 'TOTAL_HOUSE_FG_2', 'TOTAL_HOUSE_FG_3', 'TOTAL_HOUSE_FG_4']\n",
    "total_df['TOTAL_HOUSE_FG'] = total_df[need_cols].sum(axis=1)\n",
    "total_df['TOTAL_HOUSE_FG'] = total_df['TOTAL_HOUSE_FG'].apply(lambda x: 1 if x > 0 else 0)\n",
    "print('total_house: ', total_df['TOTAL_HOUSE_FG'].sum())"
   ]
  },
  {
   "cell_type": "code",
   "execution_count": 36,
   "metadata": {},
   "outputs": [],
   "source": [
    "inner_total_df['TOTAL_HOUSE_FG'] = total_df['TOTAL_HOUSE_FG']"
   ]
  },
  {
   "cell_type": "code",
   "execution_count": null,
   "metadata": {},
   "outputs": [],
   "source": [
    "# 저장\n",
    "save_dir = r'D:\\Seminar Documents\\신용평가 세미나\\복습'\n",
    "inner_total_df.to_csv(os.path.join(save_dir, 'temp3_inner_total_df.csv'), index=False)"
   ]
  },
  {
   "cell_type": "code",
   "execution_count": 38,
   "metadata": {},
   "outputs": [],
   "source": [
    "# 내부항목 생성\n",
    "# 연소득 column 생성\n",
    "def _get_year_income(A5WC0000008000, A5WC0000000200, IE0300007):\n",
    "    year_income = 0\n",
    "    if A5WC0000008000 > 0:\n",
    "        year_income = A5WC0000008000\n",
    "    elif A5WC0000000200 > 0:\n",
    "        year_income = A5WC0000000200\n",
    "    elif IE0300007 > 0:\n",
    "        year_income = IE0300007 * 10\n",
    "    else:\n",
    "        year_income = 0\n",
    "    return year_income"
   ]
  },
  {
   "cell_type": "code",
   "execution_count": 39,
   "metadata": {},
   "outputs": [],
   "source": [
    "need_cols = ['A5WC0000008000', 'A5WC0000000200', 'IE0300007']\n",
    "total_df['INCOME'] = total_df[need_cols].apply(\n",
    "    lambda x: _get_year_income(x['A5WC0000008000'], x['A5WC0000000200'], x['IE0300007']), axis=1)"
   ]
  },
  {
   "cell_type": "code",
   "execution_count": 40,
   "metadata": {},
   "outputs": [],
   "source": [
    "inner_total_df['INCOME'] = total_df['INCOME']"
   ]
  },
  {
   "cell_type": "code",
   "execution_count": 41,
   "metadata": {},
   "outputs": [],
   "source": [
    "# 연소득 구간 column 생성\n",
    "income_edge_list = [0, 12000, 16000, 20000, 24000, 27000, 30000, 33000, 35000, 40000, 45000, 50000, 55000, 60000, np.inf]\n",
    "income_interval = pd.cut(total_df['INCOME'], bins=income_edge_list, right=False)"
   ]
  },
  {
   "cell_type": "code",
   "execution_count": 42,
   "metadata": {},
   "outputs": [],
   "source": [
    "income_interval_categories = income_interval.cat.categories.values\n",
    "income_interval_codes = income_interval.cat.codes.values\n",
    "income_interval_codes = income_interval_codes + 1\n",
    "total_df['INCOME_INTERVAL'] = income_interval_codes"
   ]
  },
  {
   "cell_type": "code",
   "execution_count": 43,
   "metadata": {},
   "outputs": [],
   "source": [
    "inner_total_df['INCOME_INTERVAL'] = total_df['INCOME_INTERVAL']"
   ]
  },
  {
   "cell_type": "code",
   "execution_count": 44,
   "metadata": {},
   "outputs": [],
   "source": [
    "# UDIR column 생성\n",
    "def _get_udir_interval(A5RCLSRL013400):\n",
    "    udir_interval = 0\n",
    "\n",
    "    if 0 <= A5RCLSRL013400 < 50:\n",
    "        udir_interval = 1\n",
    "    elif 50 <= A5RCLSRL013400 < 100:\n",
    "        udir_interval = 2\n",
    "    elif 100 <= A5RCLSRL013400 < 150:\n",
    "        udir_interval = 3\n",
    "    elif 150 <= A5RCLSRL013400 < 200:\n",
    "        udir_interval = 4\n",
    "    elif 200 <= A5RCLSRL013400 < 250:\n",
    "        udir_interval = 5\n",
    "    elif 250 <= A5RCLSRL013400 <= 300:\n",
    "        udir_interval = 6\n",
    "    elif 300 < A5RCLSRL013400:\n",
    "        udir_interval = 7\n",
    "\n",
    "    return udir_interval"
   ]
  },
  {
   "cell_type": "code",
   "execution_count": 45,
   "metadata": {},
   "outputs": [],
   "source": [
    "total_df['UDIR_INTERVAL'] = total_df['A5RCLSRL013400'].apply(lambda x: _get_udir_interval(x))\n",
    "inner_total_df['UDIR'] = total_df['A5RCLSRL013400']"
   ]
  },
  {
   "cell_type": "code",
   "execution_count": 46,
   "metadata": {},
   "outputs": [],
   "source": [
    "inner_total_df['UDIR_INTERVAL'] = total_df['UDIR_INTERVAL']"
   ]
  },
  {
   "cell_type": "code",
   "execution_count": 47,
   "metadata": {},
   "outputs": [],
   "source": [
    "# SEG column 생성\n",
    "def _get_seg(year_income_interval, udir_interval):\n",
    "    seg = 0\n",
    "    if (year_income_interval in [1, 2, 3, 4]) and (udir_interval in [1, 2, 3, 4]):\n",
    "        seg = 1\n",
    "    elif (year_income_interval in [5, 6, 7, 8]) and (udir_interval in [1, 2, 3, 4, 5]):\n",
    "        seg = 2\n",
    "    elif (year_income_interval in [9, 10, 11, 12, 13, 14]) and (udir_interval in [1, 2, 3, 4, 5, 6]):\n",
    "        seg = 3\n",
    "\n",
    "    return seg"
   ]
  },
  {
   "cell_type": "code",
   "execution_count": 48,
   "metadata": {},
   "outputs": [],
   "source": [
    "need_cols = ['INCOME_INTERVAL', 'UDIR_INTERVAL']\n",
    "total_df['SEG'] = total_df[need_cols].apply(lambda x: _get_seg(x['INCOME_INTERVAL'], x['UDIR_INTERVAL']), axis=1)"
   ]
  },
  {
   "cell_type": "code",
   "execution_count": 49,
   "metadata": {},
   "outputs": [],
   "source": [
    "inner_total_df['SEG'] = total_df['SEG']"
   ]
  },
  {
   "cell_type": "code",
   "execution_count": 50,
   "metadata": {},
   "outputs": [],
   "source": [
    "def _get_final_seg(seg):\n",
    "    final_seg = 0\n",
    "\n",
    "    if seg == 1 or seg == 2:\n",
    "        final_seg = 1\n",
    "    elif seg == 3:\n",
    "        final_seg = 2\n",
    "    return final_seg"
   ]
  },
  {
   "cell_type": "code",
   "execution_count": 51,
   "metadata": {},
   "outputs": [],
   "source": [
    "total_df['FINAL_SEG'] = total_df['SEG'].apply(lambda x: _get_final_seg(x))"
   ]
  },
  {
   "cell_type": "code",
   "execution_count": 52,
   "metadata": {},
   "outputs": [],
   "source": [
    "inner_total_df['FINAL_SEG'] = total_df['FINAL_SEG']"
   ]
  },
  {
   "cell_type": "code",
   "execution_count": null,
   "metadata": {},
   "outputs": [],
   "source": [
    "# 저장\n",
    "save_dir = r'D:\\Seminar Documents\\신용평가 세미나\\복습'\n",
    "inner_total_df.to_csv(os.path.join(save_dir, 'temp4_inner_total_df.csv'), index=False)"
   ]
  },
  {
   "cell_type": "code",
   "execution_count": 54,
   "metadata": {},
   "outputs": [],
   "source": [
    "# 최저생계비(CAP_34) column 생성\n",
    "def cap34(job, income):\n",
    "    result = 0\n",
    "    if job != 'D' and income <= 12288:\n",
    "        result = 1\n",
    "    return result"
   ]
  },
  {
   "cell_type": "code",
   "execution_count": 55,
   "metadata": {},
   "outputs": [
    {
     "name": "stdout",
     "output_type": "stream",
     "text": [
      "cap34:  14900\n"
     ]
    }
   ],
   "source": [
    "input_cols = ['직군그룹', 'INCOME']\n",
    "inner_total_df['CAP_34'] = inner_total_df[input_cols].apply(lambda x: cap34(x['직군그룹'], x['INCOME']), axis=1)\n",
    "print('cap34: ', inner_total_df['CAP_34'].sum())"
   ]
  },
  {
   "cell_type": "code",
   "execution_count": 56,
   "metadata": {},
   "outputs": [
    {
     "name": "stdout",
     "output_type": "stream",
     "text": [
      "dead:  1\n"
     ]
    }
   ],
   "source": [
    "# 사망자 column 생성\n",
    "inner_total_df['THE_DEAD'] = total_df['LIVESTAT2']\n",
    "print('dead: ', inner_total_df['THE_DEAD'].sum())"
   ]
  },
  {
   "cell_type": "code",
   "execution_count": 57,
   "metadata": {},
   "outputs": [],
   "source": [
    "# 개발기간 column 생성\n",
    "def not_dev_date(ym):\n",
    "    result = 0\n",
    "    if ym >= 201811 and ym <= 201907:\n",
    "        result = 1\n",
    "    elif ym >= 201911:\n",
    "        result = 1\n",
    "\n",
    "    return result"
   ]
  },
  {
   "cell_type": "code",
   "execution_count": 58,
   "metadata": {},
   "outputs": [
    {
     "name": "stdout",
     "output_type": "stream",
     "text": [
      "dev_date:  58332\n"
     ]
    }
   ],
   "source": [
    "inner_total_df['NOT_DEV_DATE_FG'] = inner_total_df['신청월'].apply(lambda x: not_dev_date(x))\n",
    "print('dev_date: ', inner_total_df['NOT_DEV_DATE_FG'].sum())"
   ]
  },
  {
   "cell_type": "code",
   "execution_count": 59,
   "metadata": {},
   "outputs": [],
   "source": [
    "# 개발대상 column 생성\n",
    "def final_dev_fg(dup, grade_zero, pre_bad, house, seg, cap, dead, date):\n",
    "    result = 0\n",
    "    if dup == 0 and grade_zero == 0 and pre_bad == 0 and house == 0 and seg != 0 and cap == 0 and dead == 0 and date == 0:\n",
    "        result = 1\n",
    "    return result"
   ]
  },
  {
   "cell_type": "code",
   "execution_count": 60,
   "metadata": {},
   "outputs": [
    {
     "name": "stdout",
     "output_type": "stream",
     "text": [
      "dev_target:  98669\n"
     ]
    }
   ],
   "source": [
    "input_cols = ['FINAL_DUP_FG', 'GRADE_ZERO_FG', 'TOTAL_PRE_BAD_FG', 'TOTAL_HOUSE_FG', 'FINAL_SEG', 'CAP_34', 'THE_DEAD', 'NOT_DEV_DATE_FG']\n",
    "\n",
    "inner_total_df['DEV_TARGET_FG'] = inner_total_df[input_cols].apply(\n",
    "    lambda x: final_dev_fg(x['FINAL_DUP_FG'], x['GRADE_ZERO_FG'], x['TOTAL_PRE_BAD_FG'], x['TOTAL_HOUSE_FG'],\n",
    "                           x['FINAL_SEG'], x['CAP_34'], x['THE_DEAD'], x['NOT_DEV_DATE_FG'],), axis=1)\n",
    "\n",
    "print('dev_target: ', inner_total_df['DEV_TARGET_FG'].sum())"
   ]
  },
  {
   "cell_type": "code",
   "execution_count": null,
   "metadata": {},
   "outputs": [],
   "source": [
    "# 저장\n",
    "save_dir = r'D:\\Seminar Documents\\신용평가 세미나\\복습'\n",
    "inner_total_df.to_csv(os.path.join(save_dir, 'temp5_inner_total_df.csv'), index=False)"
   ]
  },
  {
   "cell_type": "code",
   "execution_count": 62,
   "metadata": {},
   "outputs": [],
   "source": [
    "# 부도 정의\n",
    "def _get_bad_common(TPERF0003, TPERF0005):\n",
    "    bad_common = 0\n",
    "    if TPERF0003 > 0 or TPERF0005 > 0:\n",
    "        bad_common = 1\n",
    "    else:\n",
    "        bad_common = 0\n",
    "    return bad_common"
   ]
  },
  {
   "cell_type": "code",
   "execution_count": 64,
   "metadata": {},
   "outputs": [
    {
     "name": "stdout",
     "output_type": "stream",
     "text": [
      "BAD_공공:  39220\n"
     ]
    }
   ],
   "source": [
    "bad_need_cols = ['TPERF0003', 'TPERF0005']\n",
    "total_df['BAD_공공'] = total_df[bad_need_cols].apply(lambda x: _get_bad_common(x['TPERF0003'], x['TPERF0005']), axis=1)\n",
    "print('BAD_공공: ', total_df['BAD_공공'].sum())"
   ]
  },
  {
   "cell_type": "code",
   "execution_count": 65,
   "metadata": {},
   "outputs": [],
   "source": [
    "inner_total_df['BAD_공공'] = total_df['BAD_공공']"
   ]
  },
  {
   "cell_type": "code",
   "execution_count": 66,
   "metadata": {},
   "outputs": [],
   "source": [
    "def _get_bad_finan(TPERF0013, DQ_BANK_12, DQ_LEASE_12, DQ_CARD_12, DQ_CAPITAL_12, DQ_SB_12):\n",
    "    bad_finan = 0\n",
    "    if (TPERF0013 >= 60 or DQ_BANK_12 >= 60 or DQ_LEASE_12 >= 60 or DQ_CARD_12 >= 30 or DQ_CAPITAL_12 >= 30 or DQ_SB_12 >= 30):\n",
    "        bad_finan = 1\n",
    "    else:\n",
    "        bad_finan = 0\n",
    "    return bad_finan"
   ]
  },
  {
   "cell_type": "code",
   "execution_count": 67,
   "metadata": {},
   "outputs": [
    {
     "name": "stdout",
     "output_type": "stream",
     "text": [
      "BAD_금융_12:  58075\n"
     ]
    }
   ],
   "source": [
    "bad_need_cols = ['TPERF0013', 'DQ_BANK_12', 'DQ_LEASE_12', 'DQ_CARD_12','DQ_CAPITAL_12', 'DQ_SB_12']\n",
    "\n",
    "total_df['BAD_금융_12'] = total_df[bad_need_cols].apply(\n",
    "    lambda x: _get_bad_finan(x['TPERF0013'], x['DQ_BANK_12'], x['DQ_LEASE_12'], x['DQ_CARD_12'],  x['DQ_CAPITAL_12'], x['DQ_SB_12']), axis=1)\n",
    "\n",
    "print('BAD_금융_12: ', total_df['BAD_금융_12'].sum())"
   ]
  },
  {
   "cell_type": "code",
   "execution_count": 68,
   "metadata": {},
   "outputs": [],
   "source": [
    "inner_total_df['BAD_금융_12'] = total_df['BAD_금융_12']"
   ]
  },
  {
   "cell_type": "code",
   "execution_count": 69,
   "metadata": {},
   "outputs": [],
   "source": [
    "def _get_bad_busi(TPERF0013, DQ_BANK_12, DQ_LEASE_12, DQ_CARD_12, DQ_CAPITAL_12, DQ_SB_12):\n",
    "    bad_short = 0\n",
    "    bad_bank = 0\n",
    "    bad_lease = 0\n",
    "    bad_card = 0\n",
    "    bad_capital = 0\n",
    "    bad_sb = 0\n",
    "    if TPERF0013 >= 60:\n",
    "        bad_short = 1\n",
    "    if DQ_BANK_12 >= 60:\n",
    "        bad_bank = 1\n",
    "    if DQ_LEASE_12 >= 60:\n",
    "        bad_card = 1\n",
    "    if DQ_CARD_12 >= 30:\n",
    "        bad_lease = 1\n",
    "    if DQ_CAPITAL_12 >= 30:\n",
    "        bad_capital = 1\n",
    "    if DQ_SB_12 >= 30:\n",
    "        bad_sb = 1\n",
    "    return bad_short, bad_bank, bad_lease, bad_card, bad_capital, bad_sb"
   ]
  },
  {
   "cell_type": "code",
   "execution_count": 70,
   "metadata": {},
   "outputs": [
    {
     "name": "stdout",
     "output_type": "stream",
     "text": [
      "BAD_금융_단기_12 :  48555\n",
      "BAD_금융_은행_12 :  14183\n",
      "BAD_금융_리스_12 :  38436\n",
      "BAD_금융_카드_12 :  903\n",
      "BAD_금융_캐피탈_12 :  16868\n",
      "BAD_금융_저축은행_12 :  26423\n"
     ]
    }
   ],
   "source": [
    "bad_need_cols = ['TPERF0013', 'DQ_BANK_12', 'DQ_LEASE_12', 'DQ_CARD_12', 'DQ_CAPITAL_12', 'DQ_SB_12']\n",
    "result_cols = ['BAD_금융_단기_12','BAD_금융_은행_12','BAD_금융_리스_12', 'BAD_금융_카드_12','BAD_금융_캐피탈_12','BAD_금융_저축은행_12']\n",
    "\n",
    "total_df[result_cols] = total_df[bad_need_cols].apply(\n",
    "    lambda x: _get_bad_busi(x['TPERF0013'], x['DQ_BANK_12'], x['DQ_LEASE_12'], x['DQ_CARD_12'], x['DQ_CAPITAL_12'], x['DQ_SB_12']), axis=1, result_type='expand')\n",
    "\n",
    "for col in result_cols:\n",
    "    print(col, ': ', total_df[col].sum())"
   ]
  },
  {
   "cell_type": "code",
   "execution_count": 71,
   "metadata": {},
   "outputs": [],
   "source": [
    "inner_total_df[result_cols] = total_df[result_cols]"
   ]
  },
  {
   "cell_type": "code",
   "execution_count": 72,
   "metadata": {},
   "outputs": [],
   "source": [
    "def _get_bad_ml(DQ_DB_12):\n",
    "    bad_ml = 0\n",
    "    if DQ_DB_12 >= 30:\n",
    "        bad_ml = 1\n",
    "    return bad_ml"
   ]
  },
  {
   "cell_type": "code",
   "execution_count": 73,
   "metadata": {},
   "outputs": [
    {
     "name": "stdout",
     "output_type": "stream",
     "text": [
      "BAD_대부_12:  26528\n"
     ]
    }
   ],
   "source": [
    "total_df['BAD_대부_12'] = total_df['DQ_DB_12'].apply(lambda x: _get_bad_ml(x))\n",
    "print('BAD_대부_12: ', total_df['BAD_대부_12'].sum())"
   ]
  },
  {
   "cell_type": "code",
   "execution_count": 74,
   "metadata": {},
   "outputs": [],
   "source": [
    "inner_total_df['BAD_대부_12'] = total_df['BAD_대부_12']"
   ]
  },
  {
   "cell_type": "code",
   "execution_count": 75,
   "metadata": {},
   "outputs": [],
   "source": [
    "def _get_bad_finan2(DQ_CARD_6, DQ_CAPITAL_6, DQ_SB_6):\n",
    "    bad_finan = 0\n",
    "    if (DQ_CARD_6 > 10 or DQ_CAPITAL_6 > 10 or DQ_SB_6 > 10):\n",
    "        bad_finan = 1\n",
    "    else:\n",
    "        bad_finan = 0\n",
    "    return bad_finan"
   ]
  },
  {
   "cell_type": "code",
   "execution_count": 76,
   "metadata": {},
   "outputs": [
    {
     "name": "stdout",
     "output_type": "stream",
     "text": [
      "BAD_금융_6:  57947\n"
     ]
    }
   ],
   "source": [
    "bad_need_cols = ['DQ_CARD_6', 'DQ_CAPITAL_6', 'DQ_SB_6']\n",
    "\n",
    "total_df['BAD_금융_6'] = total_df[bad_need_cols].apply(\n",
    "    lambda x: _get_bad_finan2(x['DQ_CARD_6'], x['DQ_CAPITAL_6'], x['DQ_SB_6']), axis=1)\n",
    "\n",
    "print('BAD_금융_6: ', total_df['BAD_금융_6'].sum())"
   ]
  },
  {
   "cell_type": "code",
   "execution_count": 77,
   "metadata": {},
   "outputs": [],
   "source": [
    "inner_total_df['BAD_금융_6'] = total_df['BAD_금융_6']"
   ]
  },
  {
   "cell_type": "code",
   "execution_count": 78,
   "metadata": {},
   "outputs": [],
   "source": [
    "def _get_bad_busi2(DQ_CARD_6, DQ_CAPITAL_6, DQ_SB_6):\n",
    "    bad_card = 0\n",
    "    bad_capital = 0\n",
    "    bad_sb = 0\n",
    "    if DQ_CARD_6 > 10:\n",
    "        bad_card = 1\n",
    "    if DQ_CAPITAL_6 > 10:\n",
    "        bad_capital = 1\n",
    "    if DQ_SB_6 > 10:\n",
    "        bad_sb = 1\n",
    "    return bad_card, bad_capital, bad_sb"
   ]
  },
  {
   "cell_type": "code",
   "execution_count": 79,
   "metadata": {},
   "outputs": [
    {
     "name": "stdout",
     "output_type": "stream",
     "text": [
      "BAD_금융_카드_6 :  42651\n",
      "BAD_금융_캐피탈_6 :  17089\n",
      "BAD_금융_저축은행_6 :  26871\n"
     ]
    }
   ],
   "source": [
    "bad_need_cols = ['DQ_CARD_6', 'DQ_CAPITAL_6', 'DQ_SB_6']\n",
    "result_cols = ['BAD_금융_카드_6', 'BAD_금융_캐피탈_6', 'BAD_금융_저축은행_6']\n",
    "\n",
    "total_df[result_cols] = total_df[bad_need_cols].apply(lambda x: _get_bad_busi2(x['DQ_CARD_6'], x['DQ_CAPITAL_6'], x['DQ_SB_6']), axis=1, result_type='expand')\n",
    "\n",
    "for col in result_cols:\n",
    "    print(col, ': ', total_df[col].sum())"
   ]
  },
  {
   "cell_type": "code",
   "execution_count": 80,
   "metadata": {},
   "outputs": [],
   "source": [
    "inner_total_df[result_cols] = total_df[result_cols]"
   ]
  },
  {
   "cell_type": "code",
   "execution_count": 81,
   "metadata": {},
   "outputs": [],
   "source": [
    "def _get_bad_ml2(DQ_DB_6):\n",
    "    bad_ml = 0\n",
    "    if DQ_DB_6 > 10:\n",
    "        bad_ml = 1\n",
    "    return bad_ml"
   ]
  },
  {
   "cell_type": "code",
   "execution_count": 82,
   "metadata": {},
   "outputs": [
    {
     "name": "stdout",
     "output_type": "stream",
     "text": [
      "BAD_대부_6:  22811\n"
     ]
    }
   ],
   "source": [
    "total_df['BAD_대부_6'] = total_df['DQ_DB_6'].apply(lambda x: _get_bad_ml2(x))\n",
    "print('BAD_대부_6: ', total_df['BAD_대부_6'].sum())"
   ]
  },
  {
   "cell_type": "code",
   "execution_count": 83,
   "metadata": {},
   "outputs": [],
   "source": [
    "inner_total_df['BAD_대부_6'] = total_df['BAD_대부_6']"
   ]
  },
  {
   "cell_type": "code",
   "execution_count": 84,
   "metadata": {},
   "outputs": [],
   "source": [
    "def _get_bad(bad_common, bad_finan_12, bad_ml_12, bad_finan_6, bad_ml_6):\n",
    "    bad = 0\n",
    "    if (bad_common > 0 or bad_finan_12 > 0 or bad_ml_12 > 0 or bad_finan_6 > 0 or bad_ml_6 > 0):\n",
    "        bad = 1\n",
    "    return bad"
   ]
  },
  {
   "cell_type": "code",
   "execution_count": 85,
   "metadata": {},
   "outputs": [
    {
     "name": "stdout",
     "output_type": "stream",
     "text": [
      "bad:  79933\n"
     ]
    }
   ],
   "source": [
    "bad_need_cols = ['BAD_공공', 'BAD_금융_12', 'BAD_대부_12', 'BAD_금융_6','BAD_대부_6']\n",
    "total_df['BAD'] = total_df[bad_need_cols].apply(lambda x: _get_bad(x['BAD_공공'], x['BAD_금융_12'], x['BAD_대부_12'], x['BAD_금융_6'], x['BAD_대부_6']), axis=1)\n",
    "print('bad: ', total_df['BAD'].sum())"
   ]
  },
  {
   "cell_type": "code",
   "execution_count": 86,
   "metadata": {},
   "outputs": [],
   "source": [
    "inner_total_df['BAD'] = total_df['BAD']"
   ]
  },
  {
   "cell_type": "code",
   "execution_count": null,
   "metadata": {},
   "outputs": [],
   "source": [
    "# 저장\n",
    "save_dir = r'D:\\Seminar Documents\\신용평가 세미나\\복습'\n",
    "inner_total_df.to_csv(os.path.join(save_dir, 'final_inner_total_df.csv'), index=False)"
   ]
  },
  {
   "cell_type": "code",
   "execution_count": 87,
   "metadata": {},
   "outputs": [
    {
     "name": "stdout",
     "output_type": "stream",
     "text": [
      "inner_total:  (209488, 67)\n",
      "total:  (209488, 1984)\n"
     ]
    }
   ],
   "source": [
    "print('inner_total: ', inner_total_df.shape)\n",
    "print('total: ', total_df.shape)"
   ]
  },
  {
   "cell_type": "code",
   "execution_count": 88,
   "metadata": {},
   "outputs": [
    {
     "name": "stdout",
     "output_type": "stream",
     "text": [
      "dev_inner:  (198513, 67)\n"
     ]
    }
   ],
   "source": [
    "# 개발/검증 data 분리\n",
    "dev_inner_df = inner_total_df[(inner_total_df['FINAL_DUP_FG'] == 0) & (inner_total_df['GRADE_ZERO_FG'] == 0)]\n",
    "print('dev_inner: ', dev_inner_df.shape)"
   ]
  },
  {
   "cell_type": "code",
   "execution_count": 89,
   "metadata": {},
   "outputs": [
    {
     "name": "stdout",
     "output_type": "stream",
     "text": [
      "dev_cb:  (198513, 1984)\n"
     ]
    }
   ],
   "source": [
    "dev_no_list = dev_inner_df['no'].tolist()\n",
    "dev_cb_df = total_df[total_df['no'].isin(dev_no_list)]\n",
    "print('dev_cb: ', dev_cb_df.shape)"
   ]
  },
  {
   "cell_type": "code",
   "execution_count": 90,
   "metadata": {},
   "outputs": [],
   "source": [
    "model_dev_inner_df = dev_inner_df[dev_inner_df['신청월'] < 201811]\n",
    "model_valid_inner_df = dev_inner_df[(dev_inner_df['신청월'].isin([201908, 201909, 201910]))]"
   ]
  },
  {
   "cell_type": "code",
   "execution_count": 91,
   "metadata": {},
   "outputs": [],
   "source": [
    "model_dev_cb_df = dev_cb_df[dev_cb_df['신청월'] < 201811]\n",
    "model_valid_cb_df = dev_cb_df[(dev_cb_df['신청월'].isin([201908, 201909, 201910]))]"
   ]
  },
  {
   "cell_type": "code",
   "execution_count": null,
   "metadata": {},
   "outputs": [],
   "source": [
    "# 저장\n",
    "model_dev_inner_df.to_csv(os.path.join(save_dir, 'model_dev_inner_df.csv'), index=False)\n",
    "model_valid_inner_df.to_csv(os.path.join(save_dir, 'model_valid_inner_df.csv'), index=False)\n",
    "model_dev_cb_df.to_csv(os.path.join(save_dir, 'model_dev_cb_df.csv'), index=False)\n",
    "model_valid_cb_df.to_csv(os.path.join(save_dir, 'model_valid_cb_df.csv'), index=False)"
   ]
  },
  {
   "cell_type": "code",
   "execution_count": null,
   "metadata": {},
   "outputs": [],
   "source": []
  }
 ],
 "metadata": {
  "kernelspec": {
   "display_name": "Python 3",
   "language": "python",
   "name": "python3"
  },
  "language_info": {
   "codemirror_mode": {
    "name": "ipython",
    "version": 3
   },
   "file_extension": ".py",
   "mimetype": "text/x-python",
   "name": "python",
   "nbconvert_exporter": "python",
   "pygments_lexer": "ipython3",
   "version": "3.7.7"
  }
 },
 "nbformat": 4,
 "nbformat_minor": 4
}
