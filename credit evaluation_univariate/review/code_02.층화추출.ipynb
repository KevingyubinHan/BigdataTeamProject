{
 "cells": [
  {
   "cell_type": "code",
   "execution_count": 1,
   "metadata": {},
   "outputs": [],
   "source": [
    "import pandas as pd\n",
    "import numpy as np\n",
    "import os\n",
    "import sys\n",
    "from datetime import datetime\n",
    "import warnings\n",
    "\n",
    "warnings.filterwarnings('ignore')"
   ]
  },
  {
   "cell_type": "code",
   "execution_count": 2,
   "metadata": {},
   "outputs": [],
   "source": [
    "# load data\n",
    "save_dir = r'D:\\Seminar Documents\\신용평가 세미나\\복습'\n",
    "inner_total_df = pd.read_csv(os.path.join(save_dir, 'final_inner_total_df.csv'))\n",
    "total_df = pd.read_pickle(os.path.join(save_dir, 'total_df.pkl'))"
   ]
  },
  {
   "cell_type": "code",
   "execution_count": 3,
   "metadata": {},
   "outputs": [
    {
     "name": "stdout",
     "output_type": "stream",
     "text": [
      "inner_total:  (209488, 67)\n",
      "total:  (209488, 1928)\n"
     ]
    }
   ],
   "source": [
    "print('inner_total: ', inner_total_df.shape)\n",
    "print('total: ', total_df.shape)"
   ]
  },
  {
   "cell_type": "code",
   "execution_count": 4,
   "metadata": {},
   "outputs": [
    {
     "name": "stdout",
     "output_type": "stream",
     "text": [
      "target:  (98669, 67)\n"
     ]
    }
   ],
   "source": [
    "# 대상자 선정\n",
    "target_df = inner_total_df[inner_total_df['DEV_TARGET_FG'] == 1]\n",
    "print('target: ', target_df.shape)"
   ]
  },
  {
   "cell_type": "code",
   "execution_count": 5,
   "metadata": {},
   "outputs": [
    {
     "name": "stdout",
     "output_type": "stream",
     "text": [
      "[201612 201701 201702 201703 201704 201705 201706 201707 201708 201709\n",
      " 201710 201711 201712 201801 201802 201803 201804 201805 201806 201807\n",
      " 201808 201809 201810 201908 201909 201910]\n",
      "seg1:  (74012, 67)\n"
     ]
    }
   ],
   "source": [
    "# 모형 검증 data 분리\n",
    "print(target_df['신청월'].unique())\n",
    "seg1_df = target_df[target_df['FINAL_SEG'] == 1]\n",
    "print('seg1: ', seg1_df.shape)"
   ]
  },
  {
   "cell_type": "code",
   "execution_count": 6,
   "metadata": {},
   "outputs": [],
   "source": [
    "seg1_model_valid_df = seg1_df[seg1_df['신청월'].isin([201908, 201909, 201910])]\n",
    "seg1_dev_df = seg1_df[~(seg1_df['신청월'].isin([201908, 201909, 201910]))]"
   ]
  },
  {
   "cell_type": "code",
   "execution_count": 7,
   "metadata": {},
   "outputs": [],
   "source": [
    "seg1_dev_df = seg1_dev_df[['no', 'BAD']].merge(total_df, on=['no'], how='left')\n",
    "seg1_model_valid_df = seg1_model_valid_df[['no', 'BAD']].merge(total_df, on=['no'], how='left')"
   ]
  },
  {
   "cell_type": "code",
   "execution_count": 8,
   "metadata": {},
   "outputs": [
    {
     "name": "stdout",
     "output_type": "stream",
     "text": [
      "dev:  (62857, 1929)\n",
      "model_valid:  (11155, 1929)\n"
     ]
    }
   ],
   "source": [
    "print('dev: ', seg1_dev_df.shape)\n",
    "print('model_valid: ', seg1_model_valid_df.shape)"
   ]
  },
  {
   "cell_type": "code",
   "execution_count": 9,
   "metadata": {},
   "outputs": [
    {
     "name": "stdout",
     "output_type": "stream",
     "text": [
      "     BAD  Grd_NK0200_000  Grd_RK0400_000  Grd_RK0400_700  cnt  \\\n",
      "0      0               2               1               1    3   \n",
      "1      0               2               1               2    9   \n",
      "2      0               2               1               3    1   \n",
      "3      0               2               2               1    7   \n",
      "4      0               2               2               2   68   \n",
      "..   ...             ...             ...             ...  ...   \n",
      "421    1               7               8               7   18   \n",
      "422    1               7               8               8    5   \n",
      "423    1               7               8               9    1   \n",
      "424    1               7               9               7    1   \n",
      "425    1               7               9               8    1   \n",
      "\n",
      "                                                    no  \n",
      "0                                [27209, 31866, 79298]  \n",
      "1    [14560, 21041, 24233, 30474, 43774, 50749, 779...  \n",
      "2                                               [1685]  \n",
      "3    [19983, 25093, 39881, 57762, 64301, 72225, 93683]  \n",
      "4    [1897, 3689, 5010, 5809, 10017, 11090, 11530, ...  \n",
      "..                                                 ...  \n",
      "421  [10154, 11481, 11791, 12001, 18613, 26346, 414...  \n",
      "422               [3581, 53388, 62281, 102552, 109889]  \n",
      "423                                            [63057]  \n",
      "424                                              [674]  \n",
      "425                                            [65287]  \n",
      "\n",
      "[426 rows x 6 columns]\n"
     ]
    }
   ],
   "source": [
    "# 층화추출\n",
    "need_cols = ['BAD', 'Grd_NK0200_000', 'Grd_RK0400_000', 'Grd_RK0400_700']\n",
    "seg1_grp = seg1_dev_df.groupby(by=need_cols, as_index=False).agg({'no': ('count', 'unique')})\n",
    "seg1_grp.columns = need_cols + ['cnt', 'no']\n",
    "\n",
    "print(seg1_grp)"
   ]
  },
  {
   "cell_type": "code",
   "execution_count": 10,
   "metadata": {},
   "outputs": [],
   "source": [
    "def _sampling(no, sample_pct):\n",
    "    N = len(no)\n",
    "    vv = np.random.choice(no, replace=False, size=int(N * sample_pct))\n",
    "    return vv\n",
    "\n",
    "\n",
    "def _drop(total, selected):\n",
    "    rest = np.setdiff1d(total, selected)\n",
    "    return rest"
   ]
  },
  {
   "cell_type": "code",
   "execution_count": 11,
   "metadata": {},
   "outputs": [
    {
     "name": "stdout",
     "output_type": "stream",
     "text": [
      "     BAD  Grd_NK0200_000  Grd_RK0400_000  Grd_RK0400_700  cnt  \\\n",
      "0      0               2               1               1    3   \n",
      "1      0               2               1               2    9   \n",
      "2      0               2               1               3    1   \n",
      "3      0               2               2               1    7   \n",
      "4      0               2               2               2   68   \n",
      "..   ...             ...             ...             ...  ...   \n",
      "421    1               7               8               7   18   \n",
      "422    1               7               8               8    5   \n",
      "423    1               7               8               9    1   \n",
      "424    1               7               9               7    1   \n",
      "425    1               7               9               8    1   \n",
      "\n",
      "                                                    no  \\\n",
      "0                                [27209, 31866, 79298]   \n",
      "1    [14560, 21041, 24233, 30474, 43774, 50749, 779...   \n",
      "2                                               [1685]   \n",
      "3    [19983, 25093, 39881, 57762, 64301, 72225, 93683]   \n",
      "4    [1897, 3689, 5010, 5809, 10017, 11090, 11530, ...   \n",
      "..                                                 ...   \n",
      "421  [10154, 11481, 11791, 12001, 18613, 26346, 414...   \n",
      "422               [3581, 53388, 62281, 102552, 109889]   \n",
      "423                                            [63057]   \n",
      "424                                              [674]   \n",
      "425                                            [65287]   \n",
      "\n",
      "                                                 tr_no  \\\n",
      "0                                              [31866]   \n",
      "1                  [85333, 14560, 50749, 24233, 21041]   \n",
      "2                                                   []   \n",
      "3                         [57762, 93683, 72225, 39881]   \n",
      "4    [43343, 122891, 73232, 28716, 117679, 31756, 4...   \n",
      "..                                                 ...   \n",
      "421  [51339, 119775, 26346, 87784, 11791, 70935, 11...   \n",
      "422                            [53388, 109889, 102552]   \n",
      "423                                                 []   \n",
      "424                                                 []   \n",
      "425                                                 []   \n",
      "\n",
      "                                            val_tst_no  \\\n",
      "0                                       [27209, 79298]   \n",
      "1                        [30474, 43774, 77982, 116931]   \n",
      "2                                               [1685]   \n",
      "3                                [19983, 25093, 64301]   \n",
      "4    [10017, 11090, 11530, 16650, 16770, 18854, 203...   \n",
      "..                                                 ...   \n",
      "421  [10154, 12001, 18613, 41471, 53314, 63857, 842...   \n",
      "422                                      [3581, 62281]   \n",
      "423                                            [63057]   \n",
      "424                                              [674]   \n",
      "425                                            [65287]   \n",
      "\n",
      "                                                val_no  \\\n",
      "0                                              [79298]   \n",
      "1                                       [43774, 77982]   \n",
      "2                                                   []   \n",
      "3                                              [19983]   \n",
      "4    [16770, 97201, 10017, 76125, 16650, 47742, 123...   \n",
      "..                                                 ...   \n",
      "421                      [124563, 63857, 53314, 10154]   \n",
      "422                                            [62281]   \n",
      "423                                                 []   \n",
      "424                                                 []   \n",
      "425                                                 []   \n",
      "\n",
      "                                                tst_no  \n",
      "0                                              [27209]  \n",
      "1                                      [30474, 116931]  \n",
      "2                                               [1685]  \n",
      "3                                       [25093, 64301]  \n",
      "4    [11090, 11530, 18854, 22079, 30425, 35839, 362...  \n",
      "..                                                 ...  \n",
      "421                       [12001, 18613, 41471, 84267]  \n",
      "422                                             [3581]  \n",
      "423                                            [63057]  \n",
      "424                                              [674]  \n",
      "425                                            [65287]  \n",
      "\n",
      "[426 rows x 10 columns]\n"
     ]
    }
   ],
   "source": [
    "np.random.seed(111)\n",
    "seg1_grp['tr_no'] = seg1_grp['no'].apply(lambda x: _sampling(x, sample_pct=0.6))\n",
    "seg1_grp['val_tst_no'] = seg1_grp[['no', 'tr_no']].apply(lambda x: _drop(x['no'], x['tr_no']), axis=1)\n",
    "np.random.seed(111)\n",
    "seg1_grp['val_no'] = seg1_grp['val_tst_no'].apply(lambda x: _sampling(x, sample_pct=0.5))\n",
    "seg1_grp['tst_no'] = seg1_grp[['val_tst_no', 'val_no']].apply(lambda x: _drop(x['val_tst_no'], x['val_no']), axis=1)\n",
    "\n",
    "print(seg1_grp)"
   ]
  },
  {
   "cell_type": "code",
   "execution_count": 12,
   "metadata": {},
   "outputs": [],
   "source": [
    "def unique_one_to_train(tr_no, val_no, tst_no):\n",
    "    if len(tr_no) == 0:\n",
    "        a = tr_no.copy()\n",
    "        b = tst_no.copy()\n",
    "        tr_no = b\n",
    "        tst_no = a\n",
    "\n",
    "    return tr_no, val_no, tst_no"
   ]
  },
  {
   "cell_type": "code",
   "execution_count": 13,
   "metadata": {},
   "outputs": [
    {
     "data": {
      "text/html": [
       "<div>\n",
       "<style scoped>\n",
       "    .dataframe tbody tr th:only-of-type {\n",
       "        vertical-align: middle;\n",
       "    }\n",
       "\n",
       "    .dataframe tbody tr th {\n",
       "        vertical-align: top;\n",
       "    }\n",
       "\n",
       "    .dataframe thead th {\n",
       "        text-align: right;\n",
       "    }\n",
       "</style>\n",
       "<table border=\"1\" class=\"dataframe\">\n",
       "  <thead>\n",
       "    <tr style=\"text-align: right;\">\n",
       "      <th></th>\n",
       "      <th>BAD</th>\n",
       "      <th>Grd_NK0200_000</th>\n",
       "      <th>Grd_RK0400_000</th>\n",
       "      <th>Grd_RK0400_700</th>\n",
       "      <th>cnt</th>\n",
       "      <th>no</th>\n",
       "      <th>tr_no</th>\n",
       "      <th>val_tst_no</th>\n",
       "      <th>val_no</th>\n",
       "      <th>tst_no</th>\n",
       "    </tr>\n",
       "  </thead>\n",
       "  <tbody>\n",
       "    <tr>\n",
       "      <th>0</th>\n",
       "      <td>0</td>\n",
       "      <td>2</td>\n",
       "      <td>1</td>\n",
       "      <td>1</td>\n",
       "      <td>3</td>\n",
       "      <td>[27209, 31866, 79298]</td>\n",
       "      <td>[31866]</td>\n",
       "      <td>[27209, 79298]</td>\n",
       "      <td>[79298]</td>\n",
       "      <td>[27209]</td>\n",
       "    </tr>\n",
       "    <tr>\n",
       "      <th>1</th>\n",
       "      <td>0</td>\n",
       "      <td>2</td>\n",
       "      <td>1</td>\n",
       "      <td>2</td>\n",
       "      <td>9</td>\n",
       "      <td>[14560, 21041, 24233, 30474, 43774, 50749, 779...</td>\n",
       "      <td>[85333, 14560, 50749, 24233, 21041]</td>\n",
       "      <td>[30474, 43774, 77982, 116931]</td>\n",
       "      <td>[43774, 77982]</td>\n",
       "      <td>[30474, 116931]</td>\n",
       "    </tr>\n",
       "    <tr>\n",
       "      <th>2</th>\n",
       "      <td>0</td>\n",
       "      <td>2</td>\n",
       "      <td>1</td>\n",
       "      <td>3</td>\n",
       "      <td>1</td>\n",
       "      <td>[1685]</td>\n",
       "      <td>[]</td>\n",
       "      <td>[1685]</td>\n",
       "      <td>[]</td>\n",
       "      <td>[1685]</td>\n",
       "    </tr>\n",
       "    <tr>\n",
       "      <th>3</th>\n",
       "      <td>0</td>\n",
       "      <td>2</td>\n",
       "      <td>2</td>\n",
       "      <td>1</td>\n",
       "      <td>7</td>\n",
       "      <td>[19983, 25093, 39881, 57762, 64301, 72225, 93683]</td>\n",
       "      <td>[57762, 93683, 72225, 39881]</td>\n",
       "      <td>[19983, 25093, 64301]</td>\n",
       "      <td>[19983]</td>\n",
       "      <td>[25093, 64301]</td>\n",
       "    </tr>\n",
       "    <tr>\n",
       "      <th>4</th>\n",
       "      <td>0</td>\n",
       "      <td>2</td>\n",
       "      <td>2</td>\n",
       "      <td>2</td>\n",
       "      <td>68</td>\n",
       "      <td>[1897, 3689, 5010, 5809, 10017, 11090, 11530, ...</td>\n",
       "      <td>[43343, 122891, 73232, 28716, 117679, 31756, 4...</td>\n",
       "      <td>[10017, 11090, 11530, 16650, 16770, 18854, 203...</td>\n",
       "      <td>[16770, 97201, 10017, 76125, 16650, 47742, 123...</td>\n",
       "      <td>[11090, 11530, 18854, 22079, 30425, 35839, 362...</td>\n",
       "    </tr>\n",
       "  </tbody>\n",
       "</table>\n",
       "</div>"
      ],
      "text/plain": [
       "   BAD  Grd_NK0200_000  Grd_RK0400_000  Grd_RK0400_700  cnt  \\\n",
       "0    0               2               1               1    3   \n",
       "1    0               2               1               2    9   \n",
       "2    0               2               1               3    1   \n",
       "3    0               2               2               1    7   \n",
       "4    0               2               2               2   68   \n",
       "\n",
       "                                                  no  \\\n",
       "0                              [27209, 31866, 79298]   \n",
       "1  [14560, 21041, 24233, 30474, 43774, 50749, 779...   \n",
       "2                                             [1685]   \n",
       "3  [19983, 25093, 39881, 57762, 64301, 72225, 93683]   \n",
       "4  [1897, 3689, 5010, 5809, 10017, 11090, 11530, ...   \n",
       "\n",
       "                                               tr_no  \\\n",
       "0                                            [31866]   \n",
       "1                [85333, 14560, 50749, 24233, 21041]   \n",
       "2                                                 []   \n",
       "3                       [57762, 93683, 72225, 39881]   \n",
       "4  [43343, 122891, 73232, 28716, 117679, 31756, 4...   \n",
       "\n",
       "                                          val_tst_no  \\\n",
       "0                                     [27209, 79298]   \n",
       "1                      [30474, 43774, 77982, 116931]   \n",
       "2                                             [1685]   \n",
       "3                              [19983, 25093, 64301]   \n",
       "4  [10017, 11090, 11530, 16650, 16770, 18854, 203...   \n",
       "\n",
       "                                              val_no  \\\n",
       "0                                            [79298]   \n",
       "1                                     [43774, 77982]   \n",
       "2                                                 []   \n",
       "3                                            [19983]   \n",
       "4  [16770, 97201, 10017, 76125, 16650, 47742, 123...   \n",
       "\n",
       "                                              tst_no  \n",
       "0                                            [27209]  \n",
       "1                                    [30474, 116931]  \n",
       "2                                             [1685]  \n",
       "3                                     [25093, 64301]  \n",
       "4  [11090, 11530, 18854, 22079, 30425, 35839, 362...  "
      ]
     },
     "execution_count": 13,
     "metadata": {},
     "output_type": "execute_result"
    }
   ],
   "source": [
    "seg1_grp.head()"
   ]
  },
  {
   "cell_type": "code",
   "execution_count": 14,
   "metadata": {},
   "outputs": [],
   "source": [
    "tr_no_arr = np.concatenate(seg1_grp['tr_no'])\n",
    "val_no_arr = np.concatenate(seg1_grp['val_no'])\n",
    "tst_no_arr = np.concatenate(seg1_grp['tst_no'])\n",
    "\n",
    "tr = seg1_dev_df[seg1_dev_df['no'].isin(tr_no_arr)]\n",
    "val = seg1_dev_df[seg1_dev_df['no'].isin(val_no_arr)]\n",
    "tst = seg1_dev_df[seg1_dev_df['no'].isin(tst_no_arr)]"
   ]
  },
  {
   "cell_type": "code",
   "execution_count": 15,
   "metadata": {},
   "outputs": [
    {
     "name": "stdout",
     "output_type": "stream",
     "text": [
      "train:  (37539, 1929)\n",
      "valid:  (12566, 1929)\n",
      "test:  (12752, 1929)\n",
      "0\n",
      "0\n",
      "0\n"
     ]
    }
   ],
   "source": [
    "print('train: ', tr.shape)\n",
    "print('valid: ', val.shape)\n",
    "print('test: ', tst.shape)\n",
    "\n",
    "print(len(set(tr['no']).intersection(val['no'])))\n",
    "print(len(set(tr['no']).intersection(tst['no'])))\n",
    "print(len(set(val['no']).intersection(tst['no'])))"
   ]
  },
  {
   "cell_type": "code",
   "execution_count": 16,
   "metadata": {},
   "outputs": [
    {
     "data": {
      "text/html": [
       "<div>\n",
       "<style scoped>\n",
       "    .dataframe tbody tr th:only-of-type {\n",
       "        vertical-align: middle;\n",
       "    }\n",
       "\n",
       "    .dataframe tbody tr th {\n",
       "        vertical-align: top;\n",
       "    }\n",
       "\n",
       "    .dataframe thead th {\n",
       "        text-align: right;\n",
       "    }\n",
       "</style>\n",
       "<table border=\"1\" class=\"dataframe\">\n",
       "  <thead>\n",
       "    <tr style=\"text-align: right;\">\n",
       "      <th></th>\n",
       "      <th>no</th>\n",
       "      <th>BAD</th>\n",
       "      <th>신청월</th>\n",
       "      <th>직군그룹</th>\n",
       "      <th>근속기간1</th>\n",
       "      <th>웰컴_소득구간</th>\n",
       "      <th>심사원장_소득구간</th>\n",
       "      <th>AS0000136</th>\n",
       "      <th>AS0000137</th>\n",
       "      <th>AS0000138</th>\n",
       "      <th>...</th>\n",
       "      <th>P2O000500_1_s6</th>\n",
       "      <th>LA0000001_1_s9</th>\n",
       "      <th>LA0000020_1_s9</th>\n",
       "      <th>LA0000227_1_s9</th>\n",
       "      <th>P2E000500_1_s9</th>\n",
       "      <th>LA0000001_1_s12</th>\n",
       "      <th>LA0000020_1_s12</th>\n",
       "      <th>LA0000204_1_s12</th>\n",
       "      <th>LA0000227_1_s12</th>\n",
       "      <th>P2O000500_1_s12</th>\n",
       "    </tr>\n",
       "  </thead>\n",
       "  <tbody>\n",
       "    <tr>\n",
       "      <th>1</th>\n",
       "      <td>2</td>\n",
       "      <td>0</td>\n",
       "      <td>201612</td>\n",
       "      <td>NaN</td>\n",
       "      <td>2.0</td>\n",
       "      <td>2.0</td>\n",
       "      <td>0.0</td>\n",
       "      <td>-1</td>\n",
       "      <td>31</td>\n",
       "      <td>1</td>\n",
       "      <td>...</td>\n",
       "      <td>0.0</td>\n",
       "      <td>0.16</td>\n",
       "      <td>0.16</td>\n",
       "      <td>453.519989</td>\n",
       "      <td>0.0</td>\n",
       "      <td>0.1</td>\n",
       "      <td>0.1</td>\n",
       "      <td>447.5</td>\n",
       "      <td>447.5</td>\n",
       "      <td>0.0</td>\n",
       "    </tr>\n",
       "    <tr>\n",
       "      <th>2</th>\n",
       "      <td>3</td>\n",
       "      <td>0</td>\n",
       "      <td>201612</td>\n",
       "      <td>NaN</td>\n",
       "      <td>5.0</td>\n",
       "      <td>3.0</td>\n",
       "      <td>0.0</td>\n",
       "      <td>-1</td>\n",
       "      <td>47</td>\n",
       "      <td>1</td>\n",
       "      <td>...</td>\n",
       "      <td>0.0</td>\n",
       "      <td>0.00</td>\n",
       "      <td>0.00</td>\n",
       "      <td>0.000000</td>\n",
       "      <td>0.0</td>\n",
       "      <td>0.0</td>\n",
       "      <td>0.0</td>\n",
       "      <td>0.0</td>\n",
       "      <td>0.0</td>\n",
       "      <td>0.0</td>\n",
       "    </tr>\n",
       "  </tbody>\n",
       "</table>\n",
       "<p>2 rows × 1929 columns</p>\n",
       "</div>"
      ],
      "text/plain": [
       "   no  BAD     신청월 직군그룹  근속기간1  웰컴_소득구간  심사원장_소득구간  AS0000136  AS0000137  \\\n",
       "1   2    0  201612  NaN    2.0      2.0        0.0         -1         31   \n",
       "2   3    0  201612  NaN    5.0      3.0        0.0         -1         47   \n",
       "\n",
       "   AS0000138  ...  P2O000500_1_s6  LA0000001_1_s9  LA0000020_1_s9  \\\n",
       "1          1  ...             0.0            0.16            0.16   \n",
       "2          1  ...             0.0            0.00            0.00   \n",
       "\n",
       "   LA0000227_1_s9  P2E000500_1_s9  LA0000001_1_s12  LA0000020_1_s12  \\\n",
       "1      453.519989             0.0              0.1              0.1   \n",
       "2        0.000000             0.0              0.0              0.0   \n",
       "\n",
       "   LA0000204_1_s12  LA0000227_1_s12  P2O000500_1_s12  \n",
       "1            447.5            447.5              0.0  \n",
       "2              0.0              0.0              0.0  \n",
       "\n",
       "[2 rows x 1929 columns]"
      ]
     },
     "execution_count": 16,
     "metadata": {},
     "output_type": "execute_result"
    }
   ],
   "source": [
    "tr.head(2)"
   ]
  },
  {
   "cell_type": "code",
   "execution_count": 17,
   "metadata": {},
   "outputs": [
    {
     "name": "stdout",
     "output_type": "stream",
     "text": [
      "0    0.597592\n",
      "1    0.402408\n",
      "Name: BAD, dtype: float64\n",
      "0    0.597087\n",
      "1    0.402913\n",
      "Name: BAD, dtype: float64\n",
      "0    0.595514\n",
      "1    0.404486\n",
      "Name: BAD, dtype: float64\n"
     ]
    }
   ],
   "source": [
    "print(tr['BAD'].value_counts(normalize=True))\n",
    "print(val['BAD'].value_counts(normalize=True))\n",
    "print(tst['BAD'].value_counts(normalize=True))"
   ]
  },
  {
   "cell_type": "code",
   "execution_count": null,
   "metadata": {},
   "outputs": [],
   "source": [
    "# 저장\n",
    "save_dir = r'D:\\Seminar Documents\\신용평가 세미나\\복습'\n",
    "seg1_model_valid_df.to_csv(os.path.join(save_dir, 'model_valid_df.csv'), index=False, encoding='utf-8')\n",
    "tr.to_csv(os.path.join(save_dir, 'seg1_train_df.csv'), index=False, encoding='utf-8')\n",
    "val.to_csv(os.path.join(save_dir, 'seg1_valid_df.csv'), index=False, encoding='utf-8')\n",
    "tst.to_csv(os.path.join(save_dir, 'seg1_test_df.csv'), index=False, encoding='utf-8')"
   ]
  },
  {
   "cell_type": "code",
   "execution_count": null,
   "metadata": {},
   "outputs": [],
   "source": []
  }
 ],
 "metadata": {
  "kernelspec": {
   "display_name": "Python 3",
   "language": "python",
   "name": "python3"
  },
  "language_info": {
   "codemirror_mode": {
    "name": "ipython",
    "version": 3
   },
   "file_extension": ".py",
   "mimetype": "text/x-python",
   "name": "python",
   "nbconvert_exporter": "python",
   "pygments_lexer": "ipython3",
   "version": "3.7.7"
  }
 },
 "nbformat": 4,
 "nbformat_minor": 4
}
