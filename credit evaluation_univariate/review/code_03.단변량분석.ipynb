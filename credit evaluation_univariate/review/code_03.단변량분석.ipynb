{
 "cells": [
  {
   "cell_type": "code",
   "execution_count": 1,
   "metadata": {},
   "outputs": [],
   "source": [
    "import pandas as pd\n",
    "import numpy as np\n",
    "import os\n",
    "import sys\n",
    "from datetime import datetime\n",
    "import warnings\n",
    "\n",
    "warnings.filterwarnings('ignore')"
   ]
  },
  {
   "cell_type": "code",
   "execution_count": 2,
   "metadata": {},
   "outputs": [],
   "source": [
    "# load data\n",
    "save_dir = r'D:\\Seminar Documents\\신용평가 세미나\\복습'\n",
    "CB_trn = pd.read_csv(os.path.join(save_dir, 'seg1_train_df.csv'))\n",
    "CB_val = pd.read_csv(os.path.join(save_dir, 'seg1_valid_df.csv'))\n",
    "CB_tst = pd.read_csv(os.path.join(save_dir, 'seg1_test_df.csv'))\n",
    "CB_model_valid = pd.read_csv(os.path.join(save_dir, 'model_valid_df.csv'))"
   ]
  },
  {
   "cell_type": "code",
   "execution_count": 3,
   "metadata": {},
   "outputs": [
    {
     "name": "stdout",
     "output_type": "stream",
     "text": [
      "CB_trn:  (37539, 1929)\n",
      "CB_val:  (12566, 1929)\n",
      "CB_tst:  (12752, 1929)\n",
      "CB_model_valid:  (11155, 1929)\n"
     ]
    }
   ],
   "source": [
    "print('CB_trn: ', CB_trn.shape)\n",
    "print('CB_val: ', CB_val.shape)\n",
    "print('CB_tst: ', CB_tst.shape)\n",
    "print('CB_model_valid: ', CB_model_valid.shape)"
   ]
  },
  {
   "cell_type": "code",
   "execution_count": 4,
   "metadata": {},
   "outputs": [
    {
     "name": "stdout",
     "output_type": "stream",
     "text": [
      "   no  BAD     신청월 직군그룹  근속기간1  웰컴_소득구간  심사원장_소득구간  AS0000136  AS0000137  \\\n",
      "0   2    0  201612  NaN    2.0      2.0        0.0         -1         31   \n",
      "1   3    0  201612  NaN    5.0      3.0        0.0         -1         47   \n",
      "\n",
      "   AS0000138  ...  P2O000500_1_s6  LA0000001_1_s9  LA0000020_1_s9  \\\n",
      "0          1  ...             0.0            0.16            0.16   \n",
      "1          1  ...             0.0            0.00            0.00   \n",
      "\n",
      "   LA0000227_1_s9  P2E000500_1_s9  LA0000001_1_s12  LA0000020_1_s12  \\\n",
      "0          453.52             0.0              0.1              0.1   \n",
      "1            0.00             0.0              0.0              0.0   \n",
      "\n",
      "   LA0000204_1_s12  LA0000227_1_s12  P2O000500_1_s12  \n",
      "0            447.5            447.5              0.0  \n",
      "1              0.0              0.0              0.0  \n",
      "\n",
      "[2 rows x 1929 columns]\n"
     ]
    }
   ],
   "source": [
    "print(CB_trn.head(2))"
   ]
  },
  {
   "cell_type": "code",
   "execution_count": 5,
   "metadata": {},
   "outputs": [],
   "source": [
    "def set_index_and_sort(df, index_col):\n",
    "    df.set_index(index_col, inplace=True, drop=True, verify_integrity=True)\n",
    "    df.sort_index(inplace=True)\n",
    "\n",
    "    return df"
   ]
  },
  {
   "cell_type": "code",
   "execution_count": 6,
   "metadata": {},
   "outputs": [],
   "source": [
    "CB_trn = set_index_and_sort(CB_trn, 'no')\n",
    "CB_val = set_index_and_sort(CB_val, 'no')\n",
    "CB_tst = set_index_and_sort(CB_tst, 'no')\n",
    "CB_model_valid = set_index_and_sort(CB_model_valid, 'no')"
   ]
  },
  {
   "cell_type": "code",
   "execution_count": 7,
   "metadata": {},
   "outputs": [
    {
     "name": "stdout",
     "output_type": "stream",
     "text": [
      "    BAD     신청월 직군그룹  근속기간1  웰컴_소득구간  심사원장_소득구간  AS0000136  AS0000137  \\\n",
      "no                                                                      \n",
      "2     0  201612  NaN    2.0      2.0        0.0         -1         31   \n",
      "3     0  201612  NaN    5.0      3.0        0.0         -1         47   \n",
      "\n",
      "    AS0000138  AS0000139  ...  P2O000500_1_s6  LA0000001_1_s9  LA0000020_1_s9  \\\n",
      "no                        ...                                                   \n",
      "2           1          0  ...             0.0            0.16            0.16   \n",
      "3           1          0  ...             0.0            0.00            0.00   \n",
      "\n",
      "    LA0000227_1_s9  P2E000500_1_s9  LA0000001_1_s12  LA0000020_1_s12  \\\n",
      "no                                                                     \n",
      "2           453.52             0.0              0.1              0.1   \n",
      "3             0.00             0.0              0.0              0.0   \n",
      "\n",
      "    LA0000204_1_s12  LA0000227_1_s12  P2O000500_1_s12  \n",
      "no                                                     \n",
      "2             447.5            447.5              0.0  \n",
      "3               0.0              0.0              0.0  \n",
      "\n",
      "[2 rows x 1928 columns]\n"
     ]
    }
   ],
   "source": [
    "print(CB_trn.head(2))"
   ]
  },
  {
   "cell_type": "code",
   "execution_count": 8,
   "metadata": {},
   "outputs": [],
   "source": [
    "# load layout\n",
    "layout_path = r'D:\\Seminar Documents\\신용평가 세미나\\설명자료'\n",
    "col_df = pd.read_excel(os.path.join(layout_path, '(SD)AS프로젝트_SEG1_CB_레이아웃_200211_v2.0.xlsx'))"
   ]
  },
  {
   "cell_type": "code",
   "execution_count": 9,
   "metadata": {},
   "outputs": [
    {
     "name": "stdout",
     "output_type": "stream",
     "text": [
      "   NO Variable aggvar_name group_code1 group_code2  group_2  min_value  \\\n",
      "0   1       no         NaN         NaN         NaN      NaN        NaN   \n",
      "1   2      신청월         NaN         NaN         NaN      NaN        NaN   \n",
      "\n",
      "   max_value  median  is_na  min_check  max_check  date_var  cate_var  \\\n",
      "0        NaN     NaN      0          0          0         0         1   \n",
      "1        NaN     NaN      0          0          0         1         0   \n",
      "\n",
      "  welc_can_use  \n",
      "0        활용 불가  \n",
      "1        활용 불가  \n"
     ]
    }
   ],
   "source": [
    "print(col_df.head(2))"
   ]
  },
  {
   "cell_type": "code",
   "execution_count": 10,
   "metadata": {},
   "outputs": [],
   "source": [
    "# layout 수정\n",
    "dev_cols_df = pd.DataFrame({'Variable': CB_trn.columns.tolist()})\n",
    "col_df = col_df.merge(dev_cols_df, on=['Variable'], how='inner')"
   ]
  },
  {
   "cell_type": "code",
   "execution_count": 11,
   "metadata": {},
   "outputs": [
    {
     "name": "stdout",
     "output_type": "stream",
     "text": [
      "(1928, 15)\n",
      "   NO Variable aggvar_name group_code1 group_code2  group_2  min_value  \\\n",
      "0   2      신청월         NaN         NaN         NaN      NaN        NaN   \n",
      "1   3     직군그룹         NaN        내부변수        웰컴정보      6.0        NaN   \n",
      "\n",
      "   max_value  median  is_na  min_check  max_check  date_var  cate_var  \\\n",
      "0        NaN     NaN      0          0          0         1         0   \n",
      "1        NaN     NaN      1          0          0         0         1   \n",
      "\n",
      "  welc_can_use  \n",
      "0        활용 불가  \n",
      "1        활용 불가  \n"
     ]
    }
   ],
   "source": [
    "print(col_df.shape)\n",
    "print(col_df.head(2))"
   ]
  },
  {
   "cell_type": "code",
   "execution_count": 12,
   "metadata": {},
   "outputs": [],
   "source": [
    "# 활용 불가 변수 제외\n",
    "not_use_col_df = col_df[col_df['welc_can_use'] == '활용 불가']\n",
    "use_col_df = col_df[col_df['welc_can_use'] == '활용 가능']\n",
    "\n",
    "not_use_col_df['group_code2'].value_counts().sort_index()\n",
    "use_col_df['group_code2'].value_counts().sort_index()\n",
    "\n",
    "group_col_df = col_df[(col_df['group_2'] == 3) | (col_df['welc_can_use'] == '활용 가능')]\n",
    "group_cols = group_col_df['Variable'].tolist()\n",
    "need_cols = ['BAD'] + group_cols\n",
    "\n",
    "CB_trn = CB_trn[need_cols]\n",
    "CB_val = CB_val[need_cols]\n",
    "CB_tst = CB_tst[need_cols]\n",
    "CB_model_valid = CB_model_valid[need_cols]"
   ]
  },
  {
   "cell_type": "code",
   "execution_count": 13,
   "metadata": {},
   "outputs": [
    {
     "name": "stdout",
     "output_type": "stream",
     "text": [
      "CB_trn:  (37539, 1692)\n",
      "CB_val:  (12566, 1692)\n",
      "CB_tst:  (12752, 1692)\n"
     ]
    }
   ],
   "source": [
    "print('CB_trn: ', CB_trn.shape)\n",
    "print('CB_val: ', CB_val.shape)\n",
    "print('CB_tst: ', CB_tst.shape)"
   ]
  },
  {
   "cell_type": "code",
   "execution_count": 14,
   "metadata": {},
   "outputs": [
    {
     "name": "stdout",
     "output_type": "stream",
     "text": [
      "    BAD  AS0000136  AS0000137  AS0000138  AS0000139  B12000100  B12000200  \\\n",
      "no                                                                          \n",
      "2     0         -1         31          1          0          0          0   \n",
      "3     0         -1         47          1          0          0          0   \n",
      "\n",
      "    B14000600  B22000100  B22000200  ...  P2O000500_1_s6  LA0000001_1_s9  \\\n",
      "no                                   ...                                   \n",
      "2           0          0          0  ...             0.0            0.16   \n",
      "3           0          0          0  ...             0.0            0.00   \n",
      "\n",
      "    LA0000020_1_s9  LA0000227_1_s9  P2E000500_1_s9  LA0000001_1_s12  \\\n",
      "no                                                                    \n",
      "2             0.16          453.52             0.0              0.1   \n",
      "3             0.00            0.00             0.0              0.0   \n",
      "\n",
      "    LA0000020_1_s12  LA0000204_1_s12  LA0000227_1_s12  P2O000500_1_s12  \n",
      "no                                                                      \n",
      "2               0.1            447.5            447.5              0.0  \n",
      "3               0.0              0.0              0.0              0.0  \n",
      "\n",
      "[2 rows x 1692 columns]\n"
     ]
    }
   ],
   "source": [
    "print(CB_trn.head(2))"
   ]
  },
  {
   "cell_type": "code",
   "execution_count": 15,
   "metadata": {},
   "outputs": [
    {
     "name": "stdout",
     "output_type": "stream",
     "text": [
      "['AS0000138', 'BS0000114', 'BS0000145', 'CA0000801', 'EW0002801', 'PS0000388', 'PS0000392', 'BE0000801', 'BE0000802', 'BS0000113', 'LA0200801', 'PE0000145', 'KC1400010', 'KC1400011', 'KC1400012', 'KC1400013', 'KC1400014', 'KC1400015', 'KC1400016', 'AS0000140', 'BE0000801_1', 'A5RCLSRL025700', 'Thinfile_final', 'S_3323', 'cap2', 'S_3318', 'C_3319', 'cap3', 'S_3317', 'cap1', 'S23', 'S24', 'cap4', 'C_3318', 'S_3319', 'C_3317', 'C_3311', 'A5RCLSRL047500', 'A5RCLSRL047600', 'A5RCLSRL047700']\n"
     ]
    }
   ],
   "source": [
    "# 범주형(categorical) 변수 column\n",
    "cate_cols = group_col_df.loc[group_col_df['cate_var'] == 1, 'Variable'].tolist()\n",
    "print(cate_cols)"
   ]
  },
  {
   "cell_type": "code",
   "execution_count": 16,
   "metadata": {},
   "outputs": [
    {
     "name": "stdout",
     "output_type": "stream",
     "text": [
      "['cap4', 'A5RCLSRL047600', 'AS0000140', 'BE0000801_1', 'cap1', 'PE0000145', 'BS0000114', 'A5RCLSRL047500', 'S_3323', 'C_3318', 'KC1400011', 'BS0000145', 'BE0000802', 'A5RCLSRL025700', 'PS0000388', 'AS0000138', 'cap3', 'KC1400010', 'EW0002801', 'C_3319', 'KC1400015', 'A5RCLSRL047700', 'CA0000801', 'S24', 'KC1400016', 'BS0000113', 'KC1400013', 'LA0200801', 'S_3317', 'C_3311', 'S_3318', 'S_3319', 'KC1400012', 'PS0000392', 'KC1400014', 'cap2', 'S23', 'C_3317', 'BE0000801', 'Thinfile_final']\n"
     ]
    }
   ],
   "source": [
    "cate_cols = list(set(CB_trn.columns).intersection(cate_cols))\n",
    "print(cate_cols)"
   ]
  },
  {
   "cell_type": "code",
   "execution_count": 17,
   "metadata": {},
   "outputs": [],
   "source": [
    "# 전처리\n",
    "def na_check(data):\n",
    "    result = np.sum(data.isna())\n",
    "\n",
    "    return result"
   ]
  },
  {
   "cell_type": "code",
   "execution_count": 18,
   "metadata": {},
   "outputs": [
    {
     "name": "stdout",
     "output_type": "stream",
     "text": [
      "BAD                0\n",
      "AS0000136          0\n",
      "AS0000137          0\n",
      "AS0000138          0\n",
      "AS0000139          0\n",
      "                  ..\n",
      "LA0000001_1_s12    0\n",
      "LA0000020_1_s12    0\n",
      "LA0000204_1_s12    0\n",
      "LA0000227_1_s12    0\n",
      "P2O000500_1_s12    0\n",
      "Length: 1692, dtype: int64\n"
     ]
    }
   ],
   "source": [
    "na_df = CB_trn.apply(na_check)\n",
    "print(na_df)"
   ]
  },
  {
   "cell_type": "code",
   "execution_count": 19,
   "metadata": {},
   "outputs": [
    {
     "name": "stdout",
     "output_type": "stream",
     "text": [
      "     Variable  min_value  min_check\n",
      "60  CL1200918     -999.0          1\n",
      "61  CL0600919     -999.0          1\n"
     ]
    }
   ],
   "source": [
    "# min_value check\n",
    "need_cols = ['Variable', 'min_value', 'min_check']\n",
    "min_check_df = group_col_df[need_cols][group_col_df['min_check'] == 1]\n",
    "print(min_check_df.head(2))"
   ]
  },
  {
   "cell_type": "code",
   "execution_count": 20,
   "metadata": {},
   "outputs": [
    {
     "name": "stdout",
     "output_type": "stream",
     "text": [
      "BAD                0\n",
      "AS0000136          0\n",
      "AS0000137          0\n",
      "AS0000138          0\n",
      "AS0000139          0\n",
      "                  ..\n",
      "LA0000001_1_s12    0\n",
      "LA0000020_1_s12    0\n",
      "LA0000204_1_s12    0\n",
      "LA0000227_1_s12    0\n",
      "P2O000500_1_s12    0\n",
      "Length: 1692, dtype: int64\n"
     ]
    }
   ],
   "source": [
    "min_check_var = min_check_df['Variable'].values.tolist()\n",
    "min_check_value = min_check_df['min_value'].values.tolist()\n",
    "\n",
    "for idx, min_value in enumerate(np.unique(min_check_value)):\n",
    "    if idx == 0:\n",
    "        value1 = np.sum(CB_trn == min_value)\n",
    "        min_check_result = value1\n",
    "    else:\n",
    "        value2 = np.sum(CB_trn == min_value)\n",
    "        min_check_result = value2 + min_check_result\n",
    "\n",
    "print(min_check_result)"
   ]
  },
  {
   "cell_type": "code",
   "execution_count": 21,
   "metadata": {},
   "outputs": [
    {
     "name": "stdout",
     "output_type": "stream",
     "text": [
      "     Variable    max_value  max_check\n",
      "59  CL0000002  999999992.0          1\n",
      "60  CL1200918  999999991.0          1\n"
     ]
    }
   ],
   "source": [
    "# max_value check\n",
    "need_cols = ['Variable', 'max_value', 'max_check']\n",
    "max_check_df = group_col_df[need_cols][group_col_df['max_check'] == 1]\n",
    "print(max_check_df.head(2))"
   ]
  },
  {
   "cell_type": "code",
   "execution_count": 22,
   "metadata": {},
   "outputs": [
    {
     "name": "stdout",
     "output_type": "stream",
     "text": [
      "BAD                0\n",
      "AS0000136          0\n",
      "AS0000137          0\n",
      "AS0000138          0\n",
      "AS0000139          0\n",
      "                  ..\n",
      "LA0000001_1_s12    0\n",
      "LA0000020_1_s12    0\n",
      "LA0000204_1_s12    0\n",
      "LA0000227_1_s12    0\n",
      "P2O000500_1_s12    0\n",
      "Length: 1692, dtype: int64\n"
     ]
    }
   ],
   "source": [
    "max_check_var = max_check_df['Variable'].values.tolist()\n",
    "max_check_value = max_check_df['max_value'].values.tolist()\n",
    "\n",
    "for idx, max_value in enumerate(np.unique(max_check_value)):\n",
    "    if idx == 0:\n",
    "        value1 = np.sum(CB_trn == max_value)\n",
    "        max_check_result = value1\n",
    "    else:\n",
    "        value2 = np.sum(CB_trn == max_value)\n",
    "        max_check_result = value2 + max_check_result\n",
    "\n",
    "print(max_check_result)"
   ]
  },
  {
   "cell_type": "code",
   "execution_count": 23,
   "metadata": {},
   "outputs": [
    {
     "name": "stdout",
     "output_type": "stream",
     "text": [
      "BAD                0\n",
      "AS0000136          0\n",
      "AS0000137          0\n",
      "AS0000138          0\n",
      "AS0000139          0\n",
      "                  ..\n",
      "LA0000001_1_s12    0\n",
      "LA0000020_1_s12    0\n",
      "LA0000204_1_s12    0\n",
      "LA0000227_1_s12    0\n",
      "P2O000500_1_s12    0\n",
      "Length: 1692, dtype: int64\n"
     ]
    }
   ],
   "source": [
    "# NaN >= 98% check\n",
    "total_na_df = na_df + min_check_result + max_check_result\n",
    "print(total_na_df)"
   ]
  },
  {
   "cell_type": "code",
   "execution_count": 24,
   "metadata": {},
   "outputs": [
    {
     "name": "stdout",
     "output_type": "stream",
     "text": [
      "BAD                0.0\n",
      "AS0000136          0.0\n",
      "AS0000137          0.0\n",
      "AS0000138          0.0\n",
      "AS0000139          0.0\n",
      "                  ... \n",
      "LA0000001_1_s12    0.0\n",
      "LA0000020_1_s12    0.0\n",
      "LA0000204_1_s12    0.0\n",
      "LA0000227_1_s12    0.0\n",
      "P2O000500_1_s12    0.0\n",
      "Length: 1692, dtype: float64\n"
     ]
    }
   ],
   "source": [
    "total_na_p_df = total_na_df / CB_trn.shape[0]\n",
    "print(total_na_p_df)"
   ]
  },
  {
   "cell_type": "code",
   "execution_count": 25,
   "metadata": {},
   "outputs": [
    {
     "name": "stdout",
     "output_type": "stream",
     "text": [
      "Index([], dtype='object')\n"
     ]
    }
   ],
   "source": [
    "too_many_na_df = total_na_p_df[total_na_p_df > 0.98]\n",
    "\n",
    "too_many_na_cols = too_many_na_df.index\n",
    "print(too_many_na_cols)"
   ]
  },
  {
   "cell_type": "code",
   "execution_count": 26,
   "metadata": {},
   "outputs": [
    {
     "name": "stdout",
     "output_type": "stream",
     "text": [
      "Empty DataFrame\n",
      "Columns: [remove_col]\n",
      "Index: []\n"
     ]
    }
   ],
   "source": [
    "na_df = pd.DataFrame({'remove_col': too_many_na_cols})\n",
    "print(na_df)"
   ]
  },
  {
   "cell_type": "code",
   "execution_count": 27,
   "metadata": {},
   "outputs": [],
   "source": [
    "CB_trn = CB_trn.drop(too_many_na_cols, axis=1)\n",
    "CB_val = CB_val.drop(too_many_na_cols, axis=1)\n",
    "CB_tst = CB_tst.drop(too_many_na_cols, axis=1)\n",
    "CB_model_valid = CB_model_valid.drop(too_many_na_cols, axis=1)"
   ]
  },
  {
   "cell_type": "code",
   "execution_count": 28,
   "metadata": {},
   "outputs": [
    {
     "name": "stdout",
     "output_type": "stream",
     "text": [
      "CB_trn:  (37539, 1692)\n",
      "CB_val:  (12566, 1692)\n",
      "CB_tst:  (12752, 1692)\n",
      "CB_model_valid:  (11155, 1692)\n"
     ]
    }
   ],
   "source": [
    "print('CB_trn: ', CB_trn.shape)\n",
    "print('CB_val: ', CB_val.shape)\n",
    "print('CB_tst: ', CB_tst.shape)\n",
    "print('CB_model_valid: ', CB_model_valid.shape)"
   ]
  },
  {
   "cell_type": "code",
   "execution_count": 29,
   "metadata": {},
   "outputs": [
    {
     "name": "stdout",
     "output_type": "stream",
     "text": [
      "(1691, 15)\n"
     ]
    }
   ],
   "source": [
    "group_col_df = group_col_df[group_col_df['Variable'].isin(too_many_na_cols) == False]\n",
    "print(group_col_df.shape)"
   ]
  },
  {
   "cell_type": "code",
   "execution_count": 30,
   "metadata": {},
   "outputs": [],
   "source": [
    "# NaN 변환\n",
    "# column 정의\n",
    "cols = CB_trn.columns\n",
    "cate_cols = group_col_df.loc[group_col_df['cate_var'] == 1, 'Variable'].tolist()\n",
    "num_cols = list(set(cols).difference(cate_cols))"
   ]
  },
  {
   "cell_type": "code",
   "execution_count": 31,
   "metadata": {},
   "outputs": [],
   "source": [
    "# NaN 0 변환\n",
    "CB_trn[num_cols] = CB_trn[num_cols].fillna(0)\n",
    "CB_val[num_cols] = CB_val[num_cols].fillna(0)\n",
    "CB_tst[num_cols] = CB_tst[num_cols].fillna(0)\n",
    "CB_model_valid[num_cols] = CB_model_valid[num_cols].fillna(0)"
   ]
  },
  {
   "cell_type": "code",
   "execution_count": 32,
   "metadata": {},
   "outputs": [],
   "source": [
    "# NaN NULL 변환\n",
    "CB_trn[cate_cols] = CB_trn[cate_cols].fillna('NULL')\n",
    "CB_val[cate_cols] = CB_val[cate_cols].fillna('NULL')\n",
    "CB_tst[cate_cols] = CB_tst[cate_cols].fillna('NULL')\n",
    "CB_model_valid[cate_cols] = CB_model_valid[cate_cols].fillna('NULL')"
   ]
  },
  {
   "cell_type": "code",
   "execution_count": 33,
   "metadata": {},
   "outputs": [],
   "source": [
    "# min_value 0 변환\n",
    "def na_change(data, value):\n",
    "    data = np.where(data == value, 0, data)\n",
    "\n",
    "    return data"
   ]
  },
  {
   "cell_type": "code",
   "execution_count": 34,
   "metadata": {},
   "outputs": [
    {
     "name": "stdout",
     "output_type": "stream",
     "text": [
      "     Variable  min_value  min_check\n",
      "60  CL1200918     -999.0          1\n",
      "61  CL0600919     -999.0          1\n"
     ]
    }
   ],
   "source": [
    "need_cols = ['Variable', 'min_value', 'min_check']\n",
    "min_check_df = group_col_df[need_cols][group_col_df['min_check'] == 1]\n",
    "print(min_check_df.head(2))"
   ]
  },
  {
   "cell_type": "code",
   "execution_count": 35,
   "metadata": {},
   "outputs": [],
   "source": [
    "min_check_var = min_check_df['Variable'].values.tolist()\n",
    "min_check_value = min_check_df['min_value'].values.tolist()\n",
    "\n",
    "for min_value in np.unique(min_check_value):\n",
    "    CB_trn = CB_trn.apply(na_change, value=min_value)\n",
    "    CB_val = CB_val.apply(na_change, value=min_value)\n",
    "    CB_tst = CB_tst.apply(na_change, value=min_value)\n",
    "    CB_model_valid = CB_model_valid.apply(na_change, value=min_value)"
   ]
  },
  {
   "cell_type": "code",
   "execution_count": 36,
   "metadata": {},
   "outputs": [
    {
     "name": "stdout",
     "output_type": "stream",
     "text": [
      "     Variable    max_value  max_check\n",
      "59  CL0000002  999999992.0          1\n",
      "60  CL1200918  999999991.0          1\n"
     ]
    }
   ],
   "source": [
    "# max_value 0 변환\n",
    "need_cols = ['Variable', 'max_value', 'max_check']\n",
    "max_check_df = group_col_df[need_cols][group_col_df['max_check'] == 1]\n",
    "print(max_check_df.head(2))"
   ]
  },
  {
   "cell_type": "code",
   "execution_count": 37,
   "metadata": {},
   "outputs": [],
   "source": [
    "max_check_var = max_check_df['Variable'].values.tolist()\n",
    "max_check_value = max_check_df['max_value'].values.tolist()\n",
    "\n",
    "for max_value in np.unique(max_check_value):\n",
    "    CB_trn = CB_trn.apply(na_change, value=max_value)\n",
    "    CB_val = CB_val.apply(na_change, value=max_value)\n",
    "    CB_tst = CB_tst.apply(na_change, value=max_value)\n",
    "    CB_model_valid = CB_model_valid.apply(na_change, value=max_value)"
   ]
  },
  {
   "cell_type": "code",
   "execution_count": 38,
   "metadata": {},
   "outputs": [],
   "source": [
    "# 변수 type\n",
    "CB_trn[cate_cols] = CB_trn[cate_cols].applymap(str)\n",
    "CB_val[cate_cols] = CB_val[cate_cols].applymap(str)\n",
    "CB_tst[cate_cols] = CB_tst[cate_cols].applymap(str)\n",
    "CB_model_valid[cate_cols] = CB_model_valid[cate_cols].applymap(str)"
   ]
  },
  {
   "cell_type": "code",
   "execution_count": 39,
   "metadata": {},
   "outputs": [
    {
     "name": "stdout",
     "output_type": "stream",
     "text": [
      "date_var:  10\n",
      "cols:  10\n"
     ]
    }
   ],
   "source": [
    "# date_var drop\n",
    "date_var = group_col_df[group_col_df['date_var'] == 1]['Variable'].values.tolist()\n",
    "print('date_var: ', len(date_var))\n",
    "print('cols: ', len(CB_trn.columns[CB_trn.columns.isin(date_var)]))"
   ]
  },
  {
   "cell_type": "code",
   "execution_count": 40,
   "metadata": {},
   "outputs": [],
   "source": [
    "CB_trn.drop(date_var, axis=1, inplace=True)\n",
    "CB_val.drop(date_var, axis=1, inplace=True)\n",
    "CB_tst.drop(date_var, axis=1, inplace=True)\n",
    "CB_model_valid.drop(date_var, axis=1, inplace=True)"
   ]
  },
  {
   "cell_type": "code",
   "execution_count": 41,
   "metadata": {},
   "outputs": [
    {
     "name": "stdout",
     "output_type": "stream",
     "text": [
      "CB_trn:  (37539, 1682)\n"
     ]
    }
   ],
   "source": [
    "print('CB_trn: ', CB_trn.shape)"
   ]
  },
  {
   "cell_type": "code",
   "execution_count": 42,
   "metadata": {},
   "outputs": [
    {
     "name": "stdout",
     "output_type": "stream",
     "text": [
      "(1681, 15)\n"
     ]
    }
   ],
   "source": [
    "group_col_df = group_col_df[group_col_df['Variable'].isin(date_var) == False]\n",
    "print(group_col_df.shape)"
   ]
  },
  {
   "cell_type": "code",
   "execution_count": 43,
   "metadata": {},
   "outputs": [],
   "source": [
    "# column 분류\n",
    "num_cols = CB_trn.columns[CB_trn.dtypes != object].tolist()\n",
    "num_cols.remove('BAD')\n",
    "cate_cols = CB_trn.columns[CB_trn.dtypes == object].tolist()"
   ]
  },
  {
   "cell_type": "code",
   "execution_count": 44,
   "metadata": {},
   "outputs": [
    {
     "name": "stdout",
     "output_type": "stream",
     "text": [
      "B12000200         0.0\n",
      "B22000100         0.0\n",
      "B22000200         0.0\n",
      "B22000300         0.0\n",
      "B24000600         0.0\n",
      "                 ... \n",
      "A5WC0000001300    0.0\n",
      "A5WC0000001200    0.0\n",
      "A5WC0000004400    0.0\n",
      "A5WC0000008400    0.0\n",
      "A5RCLSRL039100    0.0\n",
      "Length: 156, dtype: float64\n"
     ]
    }
   ],
   "source": [
    "# 분산이 0인 column drop\n",
    "std = CB_trn[num_cols].apply(np.std)\n",
    "print(std[std == 0])\n",
    "std = std[std != 0]"
   ]
  },
  {
   "cell_type": "code",
   "execution_count": 45,
   "metadata": {},
   "outputs": [
    {
     "name": "stdout",
     "output_type": "stream",
     "text": [
      "6\n",
      "BS0000145         1\n",
      "PE0000145         1\n",
      "KC1400011         1\n",
      "KC1400015         1\n",
      "KC1400016         1\n",
      "A5RCLSRL025700    1\n",
      "dtype: int64\n"
     ]
    }
   ],
   "source": [
    "# 범주가 1개인 column drop\n",
    "cate_std = CB_trn[cate_cols].apply(lambda x: len(pd.unique(x)))\n",
    "print(len(cate_std[cate_std == 1]))\n",
    "print(cate_std[cate_std == 1])\n",
    "cate_std = cate_std[cate_std != 1]"
   ]
  },
  {
   "cell_type": "code",
   "execution_count": 46,
   "metadata": {},
   "outputs": [],
   "source": [
    "# column 분류 update\n",
    "num_cols = list(std.keys())\n",
    "cate_cols = list(cate_std.keys())"
   ]
  },
  {
   "cell_type": "code",
   "execution_count": 47,
   "metadata": {},
   "outputs": [
    {
     "name": "stdout",
     "output_type": "stream",
     "text": [
      "x_cols:  1519\n",
      "num_cols:  1485\n",
      "cate_cols:  34\n"
     ]
    }
   ],
   "source": [
    "X_cols = cate_cols + num_cols\n",
    "print('x_cols: ', len(X_cols))\n",
    "print('num_cols: ', len(num_cols))\n",
    "print('cate_cols: ', len(cate_cols))"
   ]
  },
  {
   "cell_type": "code",
   "execution_count": 48,
   "metadata": {},
   "outputs": [],
   "source": [
    "# X,Y 분리\n",
    "CB_trn_y = CB_trn[['BAD']]\n",
    "CB_val_y = CB_val[['BAD']]\n",
    "CB_tst_y = CB_tst[['BAD']]\n",
    "CB_model_valid_y = CB_model_valid[['BAD']]"
   ]
  },
  {
   "cell_type": "code",
   "execution_count": 49,
   "metadata": {},
   "outputs": [
    {
     "name": "stdout",
     "output_type": "stream",
     "text": [
      "CB_trn_y:  (37539, 1)\n",
      "CB_val_y:  (12566, 1)\n",
      "CB_tst_y:  (12752, 1)\n"
     ]
    }
   ],
   "source": [
    "print('CB_trn_y: ', CB_trn_y.shape)\n",
    "print('CB_val_y: ', CB_val_y.shape)\n",
    "print('CB_tst_y: ', CB_tst_y.shape)"
   ]
  },
  {
   "cell_type": "code",
   "execution_count": 50,
   "metadata": {},
   "outputs": [],
   "source": [
    "CB_trn_X = CB_trn[X_cols]\n",
    "CB_val_X = CB_val[X_cols]\n",
    "CB_tst_X = CB_tst[X_cols]\n",
    "CB_model_valid_X = CB_model_valid[X_cols]"
   ]
  },
  {
   "cell_type": "code",
   "execution_count": 51,
   "metadata": {},
   "outputs": [],
   "source": [
    "use_var = CB_trn_X.columns\n",
    "use_var = list(use_var)"
   ]
  },
  {
   "cell_type": "code",
   "execution_count": 52,
   "metadata": {},
   "outputs": [],
   "source": [
    "CB_uni_trn_X = CB_trn_X[use_var]\n",
    "CB_uni_val_X = CB_val_X[use_var]\n",
    "CB_uni_tst_X = CB_tst_X[use_var]\n",
    "CB_uni_model_valid_X = CB_model_valid_X[use_var]"
   ]
  },
  {
   "cell_type": "code",
   "execution_count": 53,
   "metadata": {},
   "outputs": [
    {
     "name": "stdout",
     "output_type": "stream",
     "text": [
      "CB_uni_trn_X:  (37539, 1519)\n",
      "CB_uni_val_X:  (12566, 1519)\n",
      "CB_uni_tst_X:  (12752, 1519)\n"
     ]
    }
   ],
   "source": [
    "print('CB_uni_trn_X: ', CB_uni_trn_X.shape)\n",
    "print('CB_uni_val_X: ', CB_uni_val_X.shape)\n",
    "print('CB_uni_tst_X: ', CB_uni_tst_X.shape)"
   ]
  },
  {
   "cell_type": "code",
   "execution_count": 54,
   "metadata": {},
   "outputs": [],
   "source": [
    "cate_cols = CB_trn_X.columns[CB_trn_X.dtypes == object]\n",
    "num_cols = CB_trn_X.columns.drop(cate_cols)"
   ]
  },
  {
   "cell_type": "code",
   "execution_count": 55,
   "metadata": {},
   "outputs": [
    {
     "name": "stdout",
     "output_type": "stream",
     "text": [
      "num_cols:  1485\n",
      "cate_cols:  34\n"
     ]
    }
   ],
   "source": [
    "print('num_cols: ', len(num_cols))\n",
    "print('cate_cols: ', len(cate_cols))"
   ]
  },
  {
   "cell_type": "code",
   "execution_count": 56,
   "metadata": {},
   "outputs": [
    {
     "name": "stdout",
     "output_type": "stream",
     "text": [
      "   AS0000138 BS0000114 CA0000801 EW0002801 PS0000388 PS0000392 BE0000801  \\\n",
      "no                                                                         \n",
      "2          1         0         1         1         0         0         0   \n",
      "3          1         0         1         8         0         0         0   \n",
      "\n",
      "   BE0000802 BS0000113 LA0200801  ... P2O000500_1_s6 LA0000001_1_s9  \\\n",
      "no                                ...                                 \n",
      "2          0         0         0  ...            0.0           0.16   \n",
      "3          0         0         0  ...            0.0           0.00   \n",
      "\n",
      "   LA0000020_1_s9 LA0000227_1_s9 P2E000500_1_s9 LA0000001_1_s12  \\\n",
      "no                                                                \n",
      "2            0.16         453.52            0.0             0.1   \n",
      "3            0.00           0.00            0.0             0.0   \n",
      "\n",
      "   LA0000020_1_s12 LA0000204_1_s12 LA0000227_1_s12 P2O000500_1_s12  \n",
      "no                                                                  \n",
      "2              0.1           447.5           447.5             0.0  \n",
      "3              0.0             0.0             0.0             0.0  \n",
      "\n",
      "[2 rows x 1519 columns]\n"
     ]
    }
   ],
   "source": [
    "print(CB_trn_X.head(2))"
   ]
  },
  {
   "cell_type": "code",
   "execution_count": 57,
   "metadata": {},
   "outputs": [],
   "source": [
    "# 단변량 분석\n",
    "# binned df 생성\n",
    "binned_trn_X = CB_uni_trn_X.copy()\n",
    "binned_val_X = CB_uni_val_X.copy()\n",
    "binned_tst_X = CB_uni_tst_X.copy()\n",
    "binned_model_valid_X = CB_uni_model_valid_X.copy()"
   ]
  },
  {
   "cell_type": "code",
   "execution_count": 58,
   "metadata": {},
   "outputs": [],
   "source": [
    "# import modules(univariate)\n",
    "from univariate.fine_classing import fine_classing, parallelize_fine_classing\n",
    "from univariate.coarse_classing import coarse_classing, parallelize_coarse_classing\n",
    "from univariate.calc_variable_statistics import calc_variable_stats, parallelize_calc_variable_stats\n",
    "from univariate.performance_table import base_performance_table\n",
    "from univariate.univariate_analysis_other_psi import select_candidate_variable"
   ]
  },
  {
   "cell_type": "code",
   "execution_count": 59,
   "metadata": {},
   "outputs": [
    {
     "name": "stdout",
     "output_type": "stream",
     "text": [
      "fine classing time: 1.0분 26.771994000000007초\n"
     ]
    }
   ],
   "source": [
    "# fine classing\n",
    "fine_start = datetime.now()\n",
    "q = np.linspace(0, 1, 51)\n",
    "fine_classing_result = parallelize_fine_classing(x_train_df=binned_trn_X,\n",
    "                                                 x_valid_df=binned_val_X,\n",
    "                                                 x_test_df=binned_tst_X,\n",
    "                                                 x_model_valid_df=binned_model_valid_X,\n",
    "                                                 numeric_columns_list=num_cols,\n",
    "                                                 bin_cut=q,\n",
    "                                                 func=fine_classing,\n",
    "                                                 processes=6)\n",
    "\n",
    "binned_trn_X = binned_trn_X.drop(num_cols, axis=1)\n",
    "binned_trn_X[num_cols] = fine_classing_result[0]\n",
    "\n",
    "binned_val_X = binned_val_X.drop(num_cols, axis=1)\n",
    "binned_val_X[num_cols] = fine_classing_result[1]\n",
    "\n",
    "binned_tst_X = binned_tst_X.drop(num_cols, axis=1)\n",
    "binned_tst_X[num_cols] = fine_classing_result[2]\n",
    "\n",
    "binned_model_valid_X = binned_model_valid_X.drop(num_cols, axis=1)\n",
    "binned_model_valid_X[num_cols] = fine_classing_result[3]\n",
    "\n",
    "fine_end = datetime.now()\n",
    "fine_time = (fine_end - fine_start).total_seconds()\n",
    "print(f'fine classing time: {fine_time // 60}분 {fine_time % 60}초')"
   ]
  },
  {
   "cell_type": "code",
   "execution_count": 60,
   "metadata": {},
   "outputs": [
    {
     "name": "stdout",
     "output_type": "stream",
     "text": [
      "binned_trn_X:  (37539, 1519)\n",
      "fine_classing_result 0:  (37539, 1485)\n"
     ]
    }
   ],
   "source": [
    "print('binned_trn_X: ', binned_trn_X.shape)\n",
    "print('fine_classing_result 0: ', fine_classing_result[0].shape)"
   ]
  },
  {
   "cell_type": "code",
   "execution_count": 61,
   "metadata": {},
   "outputs": [
    {
     "name": "stdout",
     "output_type": "stream",
     "text": [
      "remove_vars:  326\n"
     ]
    }
   ],
   "source": [
    "# bin==1 변수 drop\n",
    "bin_cnt = binned_trn_X.apply(lambda x: len(pd.unique(x)))\n",
    "remove_vars = bin_cnt[bin_cnt == 1].keys().tolist()\n",
    "print('remove_vars: ', len(remove_vars))"
   ]
  },
  {
   "cell_type": "code",
   "execution_count": 62,
   "metadata": {},
   "outputs": [],
   "source": [
    "binned_trn_X = binned_trn_X.drop(remove_vars, axis=1)\n",
    "binned_val_X = binned_val_X.drop(remove_vars, axis=1)\n",
    "binned_tst_X = binned_tst_X.drop(remove_vars, axis=1)\n",
    "binned_model_valid_X = binned_model_valid_X.drop(remove_vars, axis=1)\n",
    "\n",
    "use_var = binned_trn_X.columns.tolist()"
   ]
  },
  {
   "cell_type": "code",
   "execution_count": 63,
   "metadata": {},
   "outputs": [
    {
     "name": "stdout",
     "output_type": "stream",
     "text": [
      "   AS0000138 BS0000114 CA0000801 EW0002801 PS0000388 PS0000392 BE0000801  \\\n",
      "no                                                                         \n",
      "2          1         0         1         1         0         0         0   \n",
      "3          1         0         1         8         0         0         0   \n",
      "5          1         0         1         0         0         0         0   \n",
      "6          1         0         1         1         0         0         0   \n",
      "7          1         1         1         0         0         0         0   \n",
      "\n",
      "   BE0000802 BS0000113 LA0200801  ... P2O000500_1_s6 LA0000001_1_s9  \\\n",
      "no                                ...                                 \n",
      "2          0         0         0  ...    (-inf, 0.0]   (0.15, 0.19]   \n",
      "3          0         0         0  ...    (-inf, 0.0]   (-0.05, 0.0]   \n",
      "5          0         0         0  ...    (-inf, 0.0]    (0.0, 0.05]   \n",
      "6          0         0         0  ...    (-inf, 0.0]   (-0.05, 0.0]   \n",
      "7          0         0         0  ...    (-inf, 0.0]   (0.13, 0.15]   \n",
      "\n",
      "   LA0000020_1_s9      LA0000227_1_s9 P2E000500_1_s9 LA0000001_1_s12  \\\n",
      "no                                                                     \n",
      "2    (0.15, 0.18]  (435.556, 479.304]    (-inf, 0.0]     (0.08, 0.1]   \n",
      "3    (-0.04, 0.0]        (-1.96, 0.0]    (-inf, 0.0]    (-0.02, 0.0]   \n",
      "5    (0.01, 0.05]    (151.52, 163.64]    (-inf, 0.0]    (0.02, 0.03]   \n",
      "6    (-0.04, 0.0]        (-1.96, 0.0]    (-inf, 0.0]    (-0.02, 0.0]   \n",
      "7    (0.13, 0.15]    (109.09, 151.52]    (-inf, 0.0]     (0.08, 0.1]   \n",
      "\n",
      "   LA0000020_1_s12     LA0000204_1_s12     LA0000227_1_s12 P2O000500_1_s12  \n",
      "no                                                                          \n",
      "2      (0.08, 0.1]  (409.298, 464.479]  (403.984, 458.631]     (-inf, 0.0]  \n",
      "3     (-0.01, 0.0]       (-1.149, 0.0]       (-11.67, 0.0]     (-inf, 0.0]  \n",
      "5     (0.02, 0.03]      (75.493, 98.9]      (77.312, 98.9]     (-inf, 0.0]  \n",
      "6     (-0.01, 0.0]       (-1.149, 0.0]       (-11.67, 0.0]     (-inf, 0.0]  \n",
      "7      (0.08, 0.1]      (75.493, 98.9]      (77.312, 98.9]     (-inf, 0.0]  \n",
      "\n",
      "[5 rows x 1193 columns]\n"
     ]
    }
   ],
   "source": [
    "print(binned_trn_X.head())"
   ]
  },
  {
   "cell_type": "code",
   "execution_count": 64,
   "metadata": {},
   "outputs": [],
   "source": [
    "def intersection(lst1, lst2): \n",
    "    lst3 = list(set(lst1).intersection(set(lst2)))\n",
    "    return lst3 "
   ]
  },
  {
   "cell_type": "code",
   "execution_count": 65,
   "metadata": {},
   "outputs": [
    {
     "name": "stdout",
     "output_type": "stream",
     "text": [
      "num_cols:  1159\n"
     ]
    }
   ],
   "source": [
    "num_cols = intersection(use_var, num_cols)\n",
    "print('num_cols: ', len(num_cols))"
   ]
  },
  {
   "cell_type": "code",
   "execution_count": 66,
   "metadata": {},
   "outputs": [
    {
     "name": "stdout",
     "output_type": "stream",
     "text": [
      "coarse_variable:  369\n"
     ]
    }
   ],
   "source": [
    "# coarse classing\n",
    "bin_cnt = binned_trn_X.apply(lambda x: len(pd.unique(x)))\n",
    "coarse_variable_list = bin_cnt[bin_cnt > 10].keys().tolist()\n",
    "print('coarse_variable: ', len(coarse_variable_list))"
   ]
  },
  {
   "cell_type": "code",
   "execution_count": 67,
   "metadata": {},
   "outputs": [
    {
     "name": "stdout",
     "output_type": "stream",
     "text": [
      "coarse classing 수행시간 : 2.0분 49.443659999999994초\n"
     ]
    }
   ],
   "source": [
    "coarse_start = datetime.now()\n",
    "coarse_classing_result = parallelize_coarse_classing(x_binned_train_df = binned_trn_X,\n",
    "                                                     y_train_df = CB_trn_y,\n",
    "                                                     x_binned_valid_df = binned_val_X,\n",
    "                                                     x_binned_test_df = binned_tst_X,\n",
    "                                                     x_binned_model_valid_df = binned_model_valid_X,\n",
    "                                                     y_column_name = 'BAD',\n",
    "                                                     func = coarse_classing,\n",
    "                                                     processes = 6,\n",
    ")\n",
    "\n",
    "binned_trn_X = coarse_classing_result[0]\n",
    "binned_val_X = coarse_classing_result[1]\n",
    "binned_tst_X = coarse_classing_result[2]\n",
    "binned_model_valid_X = coarse_classing_result[3]\n",
    "\n",
    "coarse_end= datetime.now()\n",
    "coarse_time = (coarse_end-coarse_start).total_seconds()\n",
    "print(f'coarse classing 수행시간 : {coarse_time // 60}분 {coarse_time % 60}초')"
   ]
  },
  {
   "cell_type": "code",
   "execution_count": 68,
   "metadata": {},
   "outputs": [],
   "source": [
    "# concatenate binned_df\n",
    "trn_binned_df = pd.concat([CB_trn_y, binned_trn_X], axis=1)\n",
    "val_binned_df = pd.concat([CB_val_y, binned_val_X], axis=1)\n",
    "tst_binned_df = pd.concat([CB_tst_y, binned_tst_X], axis=1)\n",
    "model_valid_binned_df = pd.concat([CB_model_valid_y, binned_model_valid_X], axis=1)"
   ]
  },
  {
   "cell_type": "code",
   "execution_count": 70,
   "metadata": {},
   "outputs": [
    {
     "name": "stdout",
     "output_type": "stream",
     "text": [
      "calculate variable statistics 수행시간 : 2.0분 32.005255000000005초\n"
     ]
    }
   ],
   "source": [
    "# calculate variable statistics\n",
    "calc_start = datetime.now()\n",
    "trn_stats_dict = parallelize_calc_variable_stats(x_binned_df = binned_trn_X,\n",
    "                                                 y_df = CB_trn_y,\n",
    "                                                 use_columns_list = use_var,\n",
    "                                                 y_column_name = 'BAD',\n",
    "                                                 processes = 6,\n",
    "                                                 func = calc_variable_stats,)\n",
    "\n",
    "val_stats_dict = parallelize_calc_variable_stats(x_binned_df = binned_val_X,\n",
    "                                                 y_df = CB_val_y,\n",
    "                                                 use_columns_list = use_var,\n",
    "                                                 y_column_name = 'BAD',\n",
    "                                                 processes = 6,\n",
    "                                                 func = calc_variable_stats,)\n",
    "\n",
    "tst_stats_dict = parallelize_calc_variable_stats(x_binned_df = binned_tst_X,\n",
    "                                                 y_df = CB_tst_y,\n",
    "                                                 use_columns_list = use_var,\n",
    "                                                 y_column_name = 'BAD',\n",
    "                                                 processes = 6,\n",
    "                                                 func = calc_variable_stats,)\n",
    "\n",
    "calc_end = datetime.now()\n",
    "calc_time = (calc_end-calc_start).total_seconds()\n",
    "print(f'calculate variable statistics 수행시간 : {calc_time // 60}분 {calc_time % 60}초')"
   ]
  },
  {
   "cell_type": "code",
   "execution_count": 71,
   "metadata": {},
   "outputs": [
    {
     "name": "stdout",
     "output_type": "stream",
     "text": [
      "basic performance table 수행시간 : 2.0분 37.114667초\n"
     ]
    }
   ],
   "source": [
    "# basic performance table\n",
    "perf_start = datetime.now()\n",
    "performance_table = base_performance_table(train_calc_stats_dict = trn_stats_dict, \n",
    "                                            valid_calc_stats_dict = val_stats_dict, \n",
    "                                            test_calc_stats_dict = tst_stats_dict, \n",
    "                                            layout = col_df)\n",
    "perf_end = datetime.now()\n",
    "perf_time = (perf_end-calc_start).total_seconds()\n",
    "print(f'basic performance table 수행시간 : {perf_time // 60}분 {perf_time % 60}초')"
   ]
  },
  {
   "cell_type": "code",
   "execution_count": 72,
   "metadata": {},
   "outputs": [
    {
     "name": "stdout",
     "output_type": "stream",
     "text": [
      "                  NO  aggvar_name group_code1 group_code2  group_2  min_value  \\\n",
      "Variable                                                                        \n",
      "A5RCLSDT011100  1488        총대출공여        웰컴항목        웰컴정보      6.0        1.0   \n",
      "A5RCLSDT011300  1514  제2금융기업총대출공여        웰컴항목        웰컴정보      6.0        1.0   \n",
      "\n",
      "                max_value  median  is_na  min_check  ...  welc_can_use  \\\n",
      "Variable                                             ...                 \n",
      "A5RCLSDT011100        6.0     1.0      0          0  ...         활용 가능   \n",
      "A5RCLSDT011300        6.0     1.0      0          0  ...         활용 가능   \n",
      "\n",
      "                  ks_trn    ks_val    ks_tst    ar_trn    ar_val    ar_tst  \\\n",
      "Variable                                                                     \n",
      "A5RCLSDT011100  0.133226  0.043998  0.152178  0.133226  0.043998  0.152178   \n",
      "A5RCLSDT011300  0.527653  1.027541  0.771895  0.527653  1.027541  0.771895   \n",
      "\n",
      "                  iv_trn    iv_val    iv_tst  \n",
      "Variable                                      \n",
      "A5RCLSDT011100  0.000901  0.000100  0.001029  \n",
      "A5RCLSDT011300  0.001424  0.005207  0.003110  \n",
      "\n",
      "[2 rows x 23 columns]\n"
     ]
    }
   ],
   "source": [
    "print(performance_table.head(2))"
   ]
  },
  {
   "cell_type": "code",
   "execution_count": 73,
   "metadata": {},
   "outputs": [],
   "source": [
    "# 후보변수 선정\n",
    "age_cols = ['AS0000136', 'AS0000137', 'AS0000140']\n",
    "\n",
    "trn_binned_df.drop(age_cols, axis=1, inplace=True)\n",
    "val_binned_df.drop(age_cols, axis=1, inplace=True)\n",
    "tst_binned_df.drop(age_cols, axis=1, inplace=True)\n",
    "model_valid_binned_df.drop(age_cols, axis=1, inplace=True)"
   ]
  },
  {
   "cell_type": "code",
   "execution_count": 75,
   "metadata": {},
   "outputs": [
    {
     "name": "stdout",
     "output_type": "stream",
     "text": [
      "trn_binned_df:  (37539, 1191)\n"
     ]
    }
   ],
   "source": [
    "print('trn_binned_df: ', trn_binned_df.shape)"
   ]
  },
  {
   "cell_type": "code",
   "execution_count": 76,
   "metadata": {},
   "outputs": [
    {
     "name": "stdout",
     "output_type": "stream",
     "text": [
      "performance_table:  (1190, 23)\n"
     ]
    }
   ],
   "source": [
    "performance_table.drop(age_cols, axis=0, inplace=True)\n",
    "print('performance_table: ', performance_table.shape)"
   ]
  },
  {
   "cell_type": "code",
   "execution_count": 77,
   "metadata": {},
   "outputs": [],
   "source": [
    "use_var = trn_binned_df.columns.tolist()\n",
    "use_var.remove('BAD')"
   ]
  },
  {
   "cell_type": "code",
   "execution_count": 78,
   "metadata": {},
   "outputs": [
    {
     "name": "stdout",
     "output_type": "stream",
     "text": [
      "cate_cols:  33\n"
     ]
    }
   ],
   "source": [
    "cate_cols = performance_table[performance_table['cate_var'] == 1].index.tolist()\n",
    "print('cate_cols: ', len(cate_cols))"
   ]
  },
  {
   "cell_type": "code",
   "execution_count": 79,
   "metadata": {},
   "outputs": [
    {
     "name": "stdout",
     "output_type": "stream",
     "text": [
      "    BAD AS0000138 BS0000114 CA0000801 EW0002801 PS0000388 PS0000392 BE0000801  \\\n",
      "no                                                                              \n",
      "2     0         1         0         1         1         0         0         0   \n",
      "3     0         1         0         1         8         0         0         0   \n",
      "\n",
      "   BE0000802 BS0000113  ... P2O000500_1_s6 LA0000001_1_s9 LA0000020_1_s9  \\\n",
      "no                      ...                                                \n",
      "2          0         0  ...    (-inf, 0.0]   (0.15, 0.33]   (0.15, 0.21]   \n",
      "3          0         0  ...    (-inf, 0.0]   (-0.05, 0.0]   (-0.04, 0.0]   \n",
      "\n",
      "       LA0000227_1_s9 P2E000500_1_s9 LA0000001_1_s12 LA0000020_1_s12  \\\n",
      "no                                                                     \n",
      "2   (435.556, 545.45]    (-inf, 0.0]    (0.07, 0.11]    (0.07, 0.11]   \n",
      "3    (-16.58, 22.454]    (-inf, 0.0]    (-0.02, 0.0]    (-0.01, 0.0]   \n",
      "\n",
      "       LA0000204_1_s12      LA0000227_1_s12 P2O000500_1_s12  \n",
      "no                                                           \n",
      "2   (357.083, 854.574]  (350.373, 1157.111]     (-inf, 0.0]  \n",
      "3       (-55.676, 0.0]       (-44.604, 0.0]     (-inf, 0.0]  \n",
      "\n",
      "[2 rows x 1191 columns]\n"
     ]
    }
   ],
   "source": [
    "print(trn_binned_df.head(2))"
   ]
  },
  {
   "cell_type": "code",
   "execution_count": 80,
   "metadata": {},
   "outputs": [],
   "source": [
    "# 필터링 항목 drop\n",
    "filter_path = r'D:\\Seminar Documents\\신용평가 세미나'\n",
    "near_filter = pd.read_excel(os.path.join(filter_path, 'AS필터링항목_최종_레이아웃_200206_v1.0.xlsx'),\n",
    "                           sheet_name = 'Near-Prime 필터링 필요항목 레이아웃')\n",
    "sub_filter = pd.read_excel(os.path.join(filter_path, 'AS필터링항목_최종_레이아웃_200206_v1.0.xlsx'),\n",
    "                           sheet_name = 'Sub-Prime 필터링 필요항목 레이아웃')"
   ]
  },
  {
   "cell_type": "code",
   "execution_count": 81,
   "metadata": {},
   "outputs": [],
   "source": [
    "near_var = near_filter['항목코드'].tolist()\n",
    "sub_var = sub_filter['항목코드'].tolist()\n",
    "total_var = list(set(near_var).union(sub_var))"
   ]
  },
  {
   "cell_type": "code",
   "execution_count": 83,
   "metadata": {},
   "outputs": [
    {
     "name": "stdout",
     "output_type": "stream",
     "text": [
      "near_var:  82\n",
      "sub_var:  86\n",
      "total_var:  97\n"
     ]
    }
   ],
   "source": [
    "print('near_var: ', len(near_var))\n",
    "print('sub_var: ', len(sub_var))\n",
    "print('total_var: ', len(total_var))"
   ]
  },
  {
   "cell_type": "code",
   "execution_count": 84,
   "metadata": {},
   "outputs": [
    {
     "name": "stdout",
     "output_type": "stream",
     "text": [
      "df_cols:  1191\n",
      "need_var:  1130\n"
     ]
    }
   ],
   "source": [
    "df_cols = trn_binned_df.columns.tolist()\n",
    "need_var = list(set(df_cols).difference(total_var))\n",
    "print('df_cols: ', len(df_cols))\n",
    "print('need_var: ', len(need_var))"
   ]
  },
  {
   "cell_type": "code",
   "execution_count": 85,
   "metadata": {},
   "outputs": [],
   "source": [
    "trn_binned_df = trn_binned_df[need_var]\n",
    "val_binned_df = val_binned_df[need_var]\n",
    "tst_binned_df = tst_binned_df[need_var]\n",
    "model_valid_binned_df = model_valid_binned_df[need_var]"
   ]
  },
  {
   "cell_type": "code",
   "execution_count": 86,
   "metadata": {},
   "outputs": [
    {
     "name": "stdout",
     "output_type": "stream",
     "text": [
      "trn_binned_df:  (37539, 1130)\n"
     ]
    }
   ],
   "source": [
    "print('trn_binned_df: ', trn_binned_df.shape)"
   ]
  },
  {
   "cell_type": "code",
   "execution_count": 87,
   "metadata": {},
   "outputs": [
    {
     "name": "stdout",
     "output_type": "stream",
     "text": [
      "performance_table:  (1190, 23)\n"
     ]
    }
   ],
   "source": [
    "print('performance_table: ', performance_table.shape)"
   ]
  },
  {
   "cell_type": "code",
   "execution_count": 88,
   "metadata": {},
   "outputs": [],
   "source": [
    "use_var = trn_binned_df.columns.tolist()\n",
    "use_var.remove('BAD')"
   ]
  },
  {
   "cell_type": "code",
   "execution_count": 89,
   "metadata": {},
   "outputs": [
    {
     "name": "stdout",
     "output_type": "stream",
     "text": [
      "cate_cols:  33\n"
     ]
    }
   ],
   "source": [
    "cate_cols = performance_table[performance_table['cate_var'] == 1].index.tolist()\n",
    "print('cate_cols: ', len(cate_cols))"
   ]
  },
  {
   "cell_type": "code",
   "execution_count": 90,
   "metadata": {},
   "outputs": [
    {
     "name": "stdout",
     "output_type": "stream",
     "text": [
      "other_columns:  188\n"
     ]
    }
   ],
   "source": [
    "other_columns_list = performance_table[performance_table['group_2'] == 3].index.tolist()\n",
    "print('other_columns: ', len(other_columns_list))"
   ]
  },
  {
   "cell_type": "code",
   "execution_count": 91,
   "metadata": {},
   "outputs": [
    {
     "name": "stdout",
     "output_type": "stream",
     "text": [
      "select candidate variable 수행시간 : 1.0(분) 51.474988999999994(초)\n"
     ]
    }
   ],
   "source": [
    "# select candidate variable\n",
    "select_start = datetime.now()\n",
    "final_result = select_candidate_variable(\n",
    "                                        binned_train_df = trn_binned_df,\n",
    "                                        binned_valid_df = val_binned_df,\n",
    "                                        binned_test_df = tst_binned_df,\n",
    "                                        binned_model_valid_df = model_valid_binned_df,\n",
    "                                        performance_table = performance_table,\n",
    "                                        use_columns_list = use_var,\n",
    "                                        category_columns_list = cate_cols,\n",
    "                                        other_columns_list = other_columns_list,\n",
    "                                        other_psi_value=0.05,\n",
    "                                        performance_item_list = ['iv'],\n",
    "                                        group_divide_col_name = 'group_2',\n",
    "                                        base_psi_value = 0.1,\n",
    "                                        top_value = 0.1,\n",
    "                                        stable_value = 0.3,\n",
    "                                        corr_value = 0.8\n",
    "                                                   )\n",
    "\n",
    "select_end = datetime.now()\n",
    "select_time = (select_end-select_start).total_seconds()\n",
    "print(f'select candidate variable 수행시간 : {select_time//60}(분) {select_time%60}(초)')"
   ]
  },
  {
   "cell_type": "code",
   "execution_count": 92,
   "metadata": {},
   "outputs": [],
   "source": [
    "final_performance_table = final_result[0]\n",
    "corr_result_dict = final_result[1]\n",
    "remove_corr_result_dict = final_result[2]"
   ]
  },
  {
   "cell_type": "code",
   "execution_count": 93,
   "metadata": {},
   "outputs": [],
   "source": [
    "pd.set_option('display.max_columns', 100)"
   ]
  },
  {
   "cell_type": "code",
   "execution_count": 94,
   "metadata": {},
   "outputs": [
    {
     "data": {
      "text/html": [
       "<div>\n",
       "<style scoped>\n",
       "    .dataframe tbody tr th:only-of-type {\n",
       "        vertical-align: middle;\n",
       "    }\n",
       "\n",
       "    .dataframe tbody tr th {\n",
       "        vertical-align: top;\n",
       "    }\n",
       "\n",
       "    .dataframe thead th {\n",
       "        text-align: right;\n",
       "    }\n",
       "</style>\n",
       "<table border=\"1\" class=\"dataframe\">\n",
       "  <thead>\n",
       "    <tr style=\"text-align: right;\">\n",
       "      <th></th>\n",
       "      <th>NO</th>\n",
       "      <th>aggvar_name</th>\n",
       "      <th>group_code1</th>\n",
       "      <th>group_code2</th>\n",
       "      <th>group_2</th>\n",
       "      <th>min_value</th>\n",
       "      <th>max_value</th>\n",
       "      <th>median</th>\n",
       "      <th>is_na</th>\n",
       "      <th>min_check</th>\n",
       "      <th>max_check</th>\n",
       "      <th>date_var</th>\n",
       "      <th>cate_var</th>\n",
       "      <th>welc_can_use</th>\n",
       "      <th>ks_trn</th>\n",
       "      <th>ks_val</th>\n",
       "      <th>ks_tst</th>\n",
       "      <th>ar_trn</th>\n",
       "      <th>ar_val</th>\n",
       "      <th>ar_tst</th>\n",
       "      <th>iv_trn</th>\n",
       "      <th>iv_val</th>\n",
       "      <th>iv_tst</th>\n",
       "      <th>val_psi</th>\n",
       "      <th>val_psi_안정성</th>\n",
       "      <th>tst_psi</th>\n",
       "      <th>tst_psi_안정성</th>\n",
       "      <th>val_2019_psi</th>\n",
       "      <th>val_2019_psi_안정성</th>\n",
       "      <th>PSI_선정여부</th>\n",
       "      <th>iv_top_YN</th>\n",
       "      <th>변별력</th>\n",
       "      <th>iv_stable_YN</th>\n",
       "      <th>안정성</th>\n",
       "      <th>상관분석</th>\n",
       "    </tr>\n",
       "    <tr>\n",
       "      <th>Variable</th>\n",
       "      <th></th>\n",
       "      <th></th>\n",
       "      <th></th>\n",
       "      <th></th>\n",
       "      <th></th>\n",
       "      <th></th>\n",
       "      <th></th>\n",
       "      <th></th>\n",
       "      <th></th>\n",
       "      <th></th>\n",
       "      <th></th>\n",
       "      <th></th>\n",
       "      <th></th>\n",
       "      <th></th>\n",
       "      <th></th>\n",
       "      <th></th>\n",
       "      <th></th>\n",
       "      <th></th>\n",
       "      <th></th>\n",
       "      <th></th>\n",
       "      <th></th>\n",
       "      <th></th>\n",
       "      <th></th>\n",
       "      <th></th>\n",
       "      <th></th>\n",
       "      <th></th>\n",
       "      <th></th>\n",
       "      <th></th>\n",
       "      <th></th>\n",
       "      <th></th>\n",
       "      <th></th>\n",
       "      <th></th>\n",
       "      <th></th>\n",
       "      <th></th>\n",
       "      <th></th>\n",
       "    </tr>\n",
       "  </thead>\n",
       "  <tbody>\n",
       "    <tr>\n",
       "      <th>A5RCLSDT011100</th>\n",
       "      <td>1488</td>\n",
       "      <td>총대출공여</td>\n",
       "      <td>웰컴항목</td>\n",
       "      <td>웰컴정보</td>\n",
       "      <td>6.0</td>\n",
       "      <td>1.0</td>\n",
       "      <td>6.0</td>\n",
       "      <td>1.0</td>\n",
       "      <td>0</td>\n",
       "      <td>0</td>\n",
       "      <td>0</td>\n",
       "      <td>0</td>\n",
       "      <td>0</td>\n",
       "      <td>활용 가능</td>\n",
       "      <td>0.133226</td>\n",
       "      <td>0.043998</td>\n",
       "      <td>0.152178</td>\n",
       "      <td>0.133226</td>\n",
       "      <td>0.043998</td>\n",
       "      <td>0.152178</td>\n",
       "      <td>0.000901</td>\n",
       "      <td>0.000100</td>\n",
       "      <td>0.001029</td>\n",
       "      <td>3.425760e-08</td>\n",
       "      <td>Y</td>\n",
       "      <td>0.000038</td>\n",
       "      <td>Y</td>\n",
       "      <td>0.002853</td>\n",
       "      <td>Y</td>\n",
       "      <td>Y</td>\n",
       "      <td>N</td>\n",
       "      <td>N</td>\n",
       "      <td>N</td>\n",
       "      <td>N</td>\n",
       "      <td>N</td>\n",
       "    </tr>\n",
       "    <tr>\n",
       "      <th>A5RCLSDT011300</th>\n",
       "      <td>1514</td>\n",
       "      <td>제2금융기업총대출공여</td>\n",
       "      <td>웰컴항목</td>\n",
       "      <td>웰컴정보</td>\n",
       "      <td>6.0</td>\n",
       "      <td>1.0</td>\n",
       "      <td>6.0</td>\n",
       "      <td>1.0</td>\n",
       "      <td>0</td>\n",
       "      <td>0</td>\n",
       "      <td>0</td>\n",
       "      <td>0</td>\n",
       "      <td>0</td>\n",
       "      <td>활용 가능</td>\n",
       "      <td>0.527653</td>\n",
       "      <td>1.027541</td>\n",
       "      <td>0.771895</td>\n",
       "      <td>0.527653</td>\n",
       "      <td>1.027541</td>\n",
       "      <td>0.771895</td>\n",
       "      <td>0.001424</td>\n",
       "      <td>0.005207</td>\n",
       "      <td>0.003110</td>\n",
       "      <td>1.733874e-05</td>\n",
       "      <td>Y</td>\n",
       "      <td>0.000013</td>\n",
       "      <td>Y</td>\n",
       "      <td>0.000129</td>\n",
       "      <td>Y</td>\n",
       "      <td>Y</td>\n",
       "      <td>N</td>\n",
       "      <td>N</td>\n",
       "      <td>N</td>\n",
       "      <td>N</td>\n",
       "      <td>N</td>\n",
       "    </tr>\n",
       "  </tbody>\n",
       "</table>\n",
       "</div>"
      ],
      "text/plain": [
       "                  NO  aggvar_name group_code1 group_code2  group_2  min_value  \\\n",
       "Variable                                                                        \n",
       "A5RCLSDT011100  1488        총대출공여        웰컴항목        웰컴정보      6.0        1.0   \n",
       "A5RCLSDT011300  1514  제2금융기업총대출공여        웰컴항목        웰컴정보      6.0        1.0   \n",
       "\n",
       "                max_value  median  is_na  min_check  max_check  date_var  \\\n",
       "Variable                                                                   \n",
       "A5RCLSDT011100        6.0     1.0      0          0          0         0   \n",
       "A5RCLSDT011300        6.0     1.0      0          0          0         0   \n",
       "\n",
       "                cate_var welc_can_use    ks_trn    ks_val    ks_tst    ar_trn  \\\n",
       "Variable                                                                        \n",
       "A5RCLSDT011100         0        활용 가능  0.133226  0.043998  0.152178  0.133226   \n",
       "A5RCLSDT011300         0        활용 가능  0.527653  1.027541  0.771895  0.527653   \n",
       "\n",
       "                  ar_val    ar_tst    iv_trn    iv_val    iv_tst  \\\n",
       "Variable                                                           \n",
       "A5RCLSDT011100  0.043998  0.152178  0.000901  0.000100  0.001029   \n",
       "A5RCLSDT011300  1.027541  0.771895  0.001424  0.005207  0.003110   \n",
       "\n",
       "                     val_psi val_psi_안정성   tst_psi tst_psi_안정성  val_2019_psi  \\\n",
       "Variable                                                                       \n",
       "A5RCLSDT011100  3.425760e-08           Y  0.000038           Y      0.002853   \n",
       "A5RCLSDT011300  1.733874e-05           Y  0.000013           Y      0.000129   \n",
       "\n",
       "               val_2019_psi_안정성 PSI_선정여부 iv_top_YN 변별력 iv_stable_YN 안정성 상관분석  \n",
       "Variable                                                                      \n",
       "A5RCLSDT011100                Y        Y         N   N            N   N    N  \n",
       "A5RCLSDT011300                Y        Y         N   N            N   N    N  "
      ]
     },
     "execution_count": 94,
     "metadata": {},
     "output_type": "execute_result"
    }
   ],
   "source": [
    "final_performance_table.head(2)"
   ]
  },
  {
   "cell_type": "code",
   "execution_count": 95,
   "metadata": {},
   "outputs": [
    {
     "data": {
      "text/html": [
       "<div>\n",
       "<style scoped>\n",
       "    .dataframe tbody tr th:only-of-type {\n",
       "        vertical-align: middle;\n",
       "    }\n",
       "\n",
       "    .dataframe tbody tr th {\n",
       "        vertical-align: top;\n",
       "    }\n",
       "\n",
       "    .dataframe thead th {\n",
       "        text-align: right;\n",
       "    }\n",
       "</style>\n",
       "<table border=\"1\" class=\"dataframe\">\n",
       "  <thead>\n",
       "    <tr style=\"text-align: right;\">\n",
       "      <th>Variable</th>\n",
       "      <th>LU0000902_1</th>\n",
       "      <th>LA0000203_s12</th>\n",
       "      <th>LA0000222_s12</th>\n",
       "      <th>LA0000203_s6</th>\n",
       "      <th>LA0000204_s3</th>\n",
       "      <th>LS0000058</th>\n",
       "      <th>LA0000020_s12</th>\n",
       "      <th>LS0000607</th>\n",
       "      <th>LA0000001_s9</th>\n",
       "      <th>LH000000E</th>\n",
       "      <th>LA0000227_s9</th>\n",
       "      <th>LC0000901</th>\n",
       "      <th>LA2400901</th>\n",
       "      <th>LC009920E</th>\n",
       "      <th>LA1214204</th>\n",
       "      <th>LA1200203</th>\n",
       "      <th>LA0600203</th>\n",
       "      <th>LA1299203</th>\n",
       "    </tr>\n",
       "    <tr>\n",
       "      <th>Variable</th>\n",
       "      <th></th>\n",
       "      <th></th>\n",
       "      <th></th>\n",
       "      <th></th>\n",
       "      <th></th>\n",
       "      <th></th>\n",
       "      <th></th>\n",
       "      <th></th>\n",
       "      <th></th>\n",
       "      <th></th>\n",
       "      <th></th>\n",
       "      <th></th>\n",
       "      <th></th>\n",
       "      <th></th>\n",
       "      <th></th>\n",
       "      <th></th>\n",
       "      <th></th>\n",
       "      <th></th>\n",
       "    </tr>\n",
       "  </thead>\n",
       "  <tbody>\n",
       "    <tr>\n",
       "      <th>LU0000902_1</th>\n",
       "      <td>0.0</td>\n",
       "      <td>0.048265</td>\n",
       "      <td>0.024924</td>\n",
       "      <td>0.048588</td>\n",
       "      <td>0.013481</td>\n",
       "      <td>0.031327</td>\n",
       "      <td>0.030783</td>\n",
       "      <td>0.146632</td>\n",
       "      <td>0.047194</td>\n",
       "      <td>0.158563</td>\n",
       "      <td>0.041847</td>\n",
       "      <td>0.697336</td>\n",
       "      <td>0.124474</td>\n",
       "      <td>0.090916</td>\n",
       "      <td>0.068714</td>\n",
       "      <td>0.071207</td>\n",
       "      <td>0.073225</td>\n",
       "      <td>0.015429</td>\n",
       "    </tr>\n",
       "    <tr>\n",
       "      <th>LA0000203_s12</th>\n",
       "      <td>0.0</td>\n",
       "      <td>0.000000</td>\n",
       "      <td>0.799158</td>\n",
       "      <td>0.666606</td>\n",
       "      <td>0.082623</td>\n",
       "      <td>0.578902</td>\n",
       "      <td>0.649058</td>\n",
       "      <td>0.083408</td>\n",
       "      <td>0.688541</td>\n",
       "      <td>0.128725</td>\n",
       "      <td>0.579385</td>\n",
       "      <td>0.135710</td>\n",
       "      <td>0.187969</td>\n",
       "      <td>0.252428</td>\n",
       "      <td>0.300048</td>\n",
       "      <td>0.725277</td>\n",
       "      <td>0.595849</td>\n",
       "      <td>0.479285</td>\n",
       "    </tr>\n",
       "  </tbody>\n",
       "</table>\n",
       "</div>"
      ],
      "text/plain": [
       "Variable       LU0000902_1  LA0000203_s12  LA0000222_s12  LA0000203_s6  \\\n",
       "Variable                                                                 \n",
       "LU0000902_1            0.0       0.048265       0.024924      0.048588   \n",
       "LA0000203_s12          0.0       0.000000       0.799158      0.666606   \n",
       "\n",
       "Variable       LA0000204_s3  LS0000058  LA0000020_s12  LS0000607  \\\n",
       "Variable                                                           \n",
       "LU0000902_1        0.013481   0.031327       0.030783   0.146632   \n",
       "LA0000203_s12      0.082623   0.578902       0.649058   0.083408   \n",
       "\n",
       "Variable       LA0000001_s9  LH000000E  LA0000227_s9  LC0000901  LA2400901  \\\n",
       "Variable                                                                     \n",
       "LU0000902_1        0.047194   0.158563      0.041847   0.697336   0.124474   \n",
       "LA0000203_s12      0.688541   0.128725      0.579385   0.135710   0.187969   \n",
       "\n",
       "Variable       LC009920E  LA1214204  LA1200203  LA0600203  LA1299203  \n",
       "Variable                                                              \n",
       "LU0000902_1     0.090916   0.068714   0.071207   0.073225   0.015429  \n",
       "LA0000203_s12   0.252428   0.300048   0.725277   0.595849   0.479285  "
      ]
     },
     "execution_count": 95,
     "metadata": {},
     "output_type": "execute_result"
    }
   ],
   "source": [
    "remove_corr_result_dict['1.0'].head(2)"
   ]
  },
  {
   "cell_type": "code",
   "execution_count": 96,
   "metadata": {},
   "outputs": [],
   "source": [
    "# 저장\n",
    "save_dir = r'D:\\Seminar Documents\\신용평가 세미나\\복습'\n",
    "final_performance_table.to_excel(os.path.join(save_dir,'단변량모듈사용_단변량결과.xlsx'))"
   ]
  },
  {
   "cell_type": "code",
   "execution_count": null,
   "metadata": {},
   "outputs": [],
   "source": []
  }
 ],
 "metadata": {
  "kernelspec": {
   "display_name": "Python 3",
   "language": "python",
   "name": "python3"
  },
  "language_info": {
   "codemirror_mode": {
    "name": "ipython",
    "version": 3
   },
   "file_extension": ".py",
   "mimetype": "text/x-python",
   "name": "python",
   "nbconvert_exporter": "python",
   "pygments_lexer": "ipython3",
   "version": "3.7.7"
  }
 },
 "nbformat": 4,
 "nbformat_minor": 4
}
