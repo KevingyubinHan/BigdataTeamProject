{
 "cells": [
  {
   "cell_type": "code",
   "execution_count": 1,
   "metadata": {},
   "outputs": [],
   "source": [
    "# 숫자야구게임 구현\n",
    "import random"
   ]
  },
  {
   "cell_type": "code",
   "execution_count": 3,
   "metadata": {},
   "outputs": [
    {
     "name": "stdout",
     "output_type": "stream",
     "text": [
      "자릿수를 입력하세요.3\n"
     ]
    }
   ],
   "source": [
    "# 게임할 digit을 사용자가 입력\n",
    "while True:  # 무한 loop\n",
    "    try:\n",
    "        input_digit = int(input(\"자릿수를 입력하세요.\"))  # digit 사용자입력(int)\n",
    "        if input_digit <= 0:  # 음수나 0 입력한 경우 예외처리\n",
    "            print(\"1 이상의 수를 입력하세요.\")\n",
    "            continue\n",
    "    except ValueError:  # 숫자 아닌 걸 입력한 경우 예외처리\n",
    "        print(\"숫자만 입력할 수 있습니다.\")\n",
    "        continue\n",
    "    break"
   ]
  },
  {
   "cell_type": "code",
   "execution_count": 4,
   "metadata": {},
   "outputs": [
    {
     "name": "stdout",
     "output_type": "stream",
     "text": [
      "3자리의 숫자야구를 시작합니다.\n"
     ]
    }
   ],
   "source": [
    "number_list = list(range(0, 10))  # 0~9 list\n",
    "answer_list = list()  # 정답(int) list\n",
    "\n",
    "#입력한 digit과 정답의 digit이 같아질 때까지 반복 \n",
    "while len(answer_list) < input_digit:\n",
    "    zerotonine_int = int(random.random() * 10) #0~9 int\n",
    "    if number_list[zerotonine_int] not in answer_list:\n",
    "        answer_list.append(number_list[zerotonine_int]) #0~9 list에서 무작위 index를 골라 정답 list에 넣음\n",
    "        #연산 횟수가 많아질 수 있다는 문제가 있음(pop을 활용하면 len이 달라져서 index 참조 불가능)\n",
    "        \n",
    "print(f\"{input_digit}자리의 숫자야구를 시작합니다.\")"
   ]
  },
  {
   "cell_type": "code",
   "execution_count": null,
   "metadata": {},
   "outputs": [],
   "source": [
    "def numbb_start():\n",
    "    while True:  # 무한 loop\n",
    "        try:\n",
    "            input_digit = int(input(\"자릿수를 입력하세요.\"))  # digit 사용자입력(int)\n",
    "            if input_digit <= 0:  # 음수나 0 입력한 경우 예외처리\n",
    "                print(\"1 이상의 수를 입력하세요.\")\n",
    "                continue\n",
    "        except ValueError:  # 숫자 아닌 걸 입력한 경우 예외처리\n",
    "            print(\"숫자만 입력할 수 있습니다.\")\n",
    "            continue\n",
    "        \n",
    "        break"
   ]
  },
  {
   "cell_type": "code",
   "execution_count": 5,
   "metadata": {},
   "outputs": [
    {
     "name": "stdout",
     "output_type": "stream",
     "text": [
      "[6, 7, 3]\n"
     ]
    }
   ],
   "source": [
    "print(answer_list)"
   ]
  },
  {
   "cell_type": "code",
   "execution_count": null,
   "metadata": {},
   "outputs": [],
   "source": [
    "trial_count = 0  # 시도 횟수(int) 생성\n",
    "\n",
    "#승리할 때까지 반복하는 결과 입력과 판정\n",
    "while True:  # 무한 loop\n",
    "    trial_count += 1  # 시도 횟수(int) 증가\n",
    "    print(f\"{trial_count}번째 시도입니다.\")\n",
    "    trial_answer = input(\"답안을 입력하세요.\")  # 답안 사용자입력\n",
    "    \n",
    "    if len(trial_answer) != input_digit:  # digit을 다르게 입력했을 때\n",
    "        print(f\"{input_digit}자리의 답안이 아닙니다.\")\n",
    "        continue\n",
    "    try:\n",
    "        int(trial_answer)\n",
    "    except ValueError: # 숫자 아닌 걸 입력한 경우 예외처리\n",
    "        print(\"숫자만 입력할 수 있습니다.\")\n",
    "        continue\n",
    "    \n",
    "    trial_answer_list = [int(digit) for digit in trial_answer]\n",
    "    strike_count = 0\n",
    "    ball_count = 0\n",
    "    numbb_result()"
   ]
  },
  {
   "cell_type": "code",
   "execution_count": null,
   "metadata": {},
   "outputs": [],
   "source": [
    "# 답안 판정\n",
    "for digit in range(len(answer_list)):\n",
    "    trial_answer_list = [int(digit) for digit in trial_answer]\n",
    "    strike_count = 0\n",
    "    ball_count = 0\n",
    "    if trial_answer_list[digit] == answer_list[digit]:\n",
    "        strike_count += 1\n",
    "    elif trial_answer_list[digit] in answer_list:\n",
    "        ball_count += 1\n",
    "if strike_count == input_digit:\n",
    "    print(f\"승리. 시도 횟수: {trial_count}. 정답: {answer_list} 게임을 종료합니다.\")\n",
    "elif strike_count != 0 and ball_count != 0:\n",
    "    print(f\"S: {strike_count} B: {ball_count}\")\n",
    "else:\n",
    "    print(\"OUT\")"
   ]
  },
  {
   "cell_type": "code",
   "execution_count": 1,
   "metadata": {},
   "outputs": [
    {
     "name": "stdout",
     "output_type": "stream",
     "text": [
      "3\n"
     ]
    }
   ],
   "source": [
    "class Calculator:\n",
    "    def __init__(self):\n",
    "        self.value = 0\n",
    "\n",
    "    def add(self, val):\n",
    "        self.value += val\n",
    "\n",
    "class UpgradeCalculator(Calculator):\n",
    "    def minus(self, val):\n",
    "        self.value -= val\n",
    "\n",
    "cal = UpgradeCalculator()\n",
    "cal.add(10)\n",
    "cal.minus(7)\n",
    "print(cal.value)"
   ]
  },
  {
   "cell_type": "code",
   "execution_count": 2,
   "metadata": {},
   "outputs": [
    {
     "name": "stdout",
     "output_type": "stream",
     "text": [
      "100\n"
     ]
    }
   ],
   "source": [
    "class MaxLimitCalculator(Calculator):\n",
    "    def add(self, val):\n",
    "        self.value += val\n",
    "        if self.value > 100:\n",
    "            self.value = 100\n",
    "\n",
    "cal = MaxLimitCalculator()\n",
    "cal.add(50)\n",
    "cal.add(60)\n",
    "print(cal.value)"
   ]
  },
  {
   "cell_type": "code",
   "execution_count": 3,
   "metadata": {},
   "outputs": [
    {
     "name": "stdout",
     "output_type": "stream",
     "text": [
      "542.4 210.3 38\n",
      "베기\n"
     ]
    }
   ],
   "source": [
    "class Knight():\n",
    "    def __init__(self, health, mana, armor):\n",
    "        self.health = health\n",
    "        self.mana = mana\n",
    "        self.armor = armor\n",
    "    def slash(self):\n",
    "        print('베기')\n",
    "\n",
    "x = Knight(health=542.4, mana=210.3, armor=38)\n",
    "print(x.health, x.mana, x.armor)\n",
    "x.slash()"
   ]
  },
  {
   "cell_type": "code",
   "execution_count": 1,
   "metadata": {},
   "outputs": [],
   "source": [
    "import module_test"
   ]
  },
  {
   "cell_type": "code",
   "execution_count": 2,
   "metadata": {},
   "outputs": [
    {
     "name": "stdout",
     "output_type": "stream",
     "text": [
      "I'm with you till the end of the line.\n"
     ]
    }
   ],
   "source": [
    "module_test.tilltheendoftheline()"
   ]
  },
  {
   "cell_type": "code",
   "execution_count": 1,
   "metadata": {},
   "outputs": [],
   "source": [
    "list_a = ['avenger', 'avengers']"
   ]
  },
  {
   "cell_type": "code",
   "execution_count": 2,
   "metadata": {},
   "outputs": [
    {
     "data": {
      "text/plain": [
       "str"
      ]
     },
     "execution_count": 2,
     "metadata": {},
     "output_type": "execute_result"
    }
   ],
   "source": [
    "type(list_a[0])"
   ]
  },
  {
   "cell_type": "code",
   "execution_count": 3,
   "metadata": {},
   "outputs": [],
   "source": [
    "list_b = ['avenger', 'first avenger']"
   ]
  },
  {
   "cell_type": "code",
   "execution_count": 11,
   "metadata": {},
   "outputs": [
    {
     "data": {
      "text/plain": [
       "['avengers']"
      ]
     },
     "execution_count": 11,
     "metadata": {},
     "output_type": "execute_result"
    }
   ],
   "source": [
    "bool_ab = []\n",
    "for i in list_a:\n",
    "    if i in list_b:\n",
    "        pass\n",
    "    else:\n",
    "        bool_ab.append(i)\n",
    "bool_ab"
   ]
  },
  {
   "cell_type": "code",
   "execution_count": 21,
   "metadata": {},
   "outputs": [
    {
     "data": {
      "text/plain": [
       "3.0"
      ]
     },
     "execution_count": 21,
     "metadata": {},
     "output_type": "execute_result"
    }
   ],
   "source": [
    "import mymath\n",
    "mymath.mean([1,2,3,4,5])"
   ]
  },
  {
   "cell_type": "code",
   "execution_count": 7,
   "metadata": {},
   "outputs": [],
   "source": [
    "import random\n",
    "\n",
    "def choice_pop(data):\n",
    "    num = random.choice(data)\n",
    "    data.remove(num)\n",
    "    return num\n",
    "\n",
    "def lotto_pop():\n",
    "    lotto_list = []\n",
    "    num_list = list(range(1, 46))\n",
    "    while len(lotto_list) < 6:\n",
    "        lotto_list.append(choice_pop(num_list))\n",
    "    return sorted(lotto_list)\n",
    "\n",
    "def n_lotto(n):\n",
    "    n_lotto_list = []\n",
    "    while len(n_lotto_list) < n:\n",
    "        if len(n_lotto_list) == 0:\n",
    "            n_lotto_list.append(lotto_pop())\n",
    "        else:\n",
    "            for i in n_lotto_list:\n",
    "                lotto_list = lotto_pop()\n",
    "                if lotto_list != i:\n",
    "                    n_lotto_list.append(lotto_list)\n",
    "    return n_lotto_list"
   ]
  }
 ],
 "metadata": {
  "kernelspec": {
   "display_name": "Python 3",
   "language": "python",
   "name": "python3"
  },
  "language_info": {
   "codemirror_mode": {
    "name": "ipython",
    "version": 3
   },
   "file_extension": ".py",
   "mimetype": "text/x-python",
   "name": "python",
   "nbconvert_exporter": "python",
   "pygments_lexer": "ipython3",
   "version": "3.7.7"
  }
 },
 "nbformat": 4,
 "nbformat_minor": 2
}
